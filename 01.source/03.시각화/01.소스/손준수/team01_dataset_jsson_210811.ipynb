{
 "cells": [
  {
   "cell_type": "code",
   "execution_count": 34,
   "source": [
    "# 지하철데이터 가공\r\n",
    "import pandas as pd \r\n",
    "import numpy as np"
   ],
   "outputs": [],
   "metadata": {}
  },
  {
   "cell_type": "code",
   "execution_count": 35,
   "source": [
    "# 현재 작업중인 폴더 위치 확인 \r\n",
    "import os\r\n",
    "os.getcwd()"
   ],
   "outputs": [
    {
     "output_type": "execute_result",
     "data": {
      "text/plain": [
       "'c:\\\\Users\\\\JSSON\\\\JS_Python'"
      ]
     },
     "metadata": {},
     "execution_count": 35
    }
   ],
   "metadata": {}
  },
  {
   "cell_type": "code",
   "execution_count": 36,
   "source": [
    "# 컬럼 정의 \r\n",
    "df1_2019 = pd.read_excel(\"./02.team_project_data/도시철도여객수송/철도통계_서울도시철도공사_2019.xls\", skiprows=3, skipfooter=2)\r\n",
    "columns = [\"연도\",\"기관\",\"역명\",\"호선\",\"합계_승차인원\",\"합계_하차인원\",\"1월_승차인원\",\"1월_하차인원\",\"2월_승차인원\",\"2월_하차인원\",\"3월_승차인원\",\"3월_하차인원\",\"4월_승차인원\",\"4월_하차인원\",\"5월_승차인원\",\"5월_하차인원\",\"6월_승차인원\",\"6월_하차인원\",\"7월_승차인원\",\"7월_하차인원\",\"8월_승차인원\",\"8월_하차인원\",\"9월_승차인원\",\"9월_하차인원\",\"10월_승차인원\",\"10월_하차인원\",\"11월_승차인원\",\"11월_하차인원\",\"12월_승차인원\",\"12월_하차인원\"]\r\n"
   ],
   "outputs": [],
   "metadata": {}
  },
  {
   "cell_type": "code",
   "execution_count": 38,
   "source": [
    "df1.columns = columns"
   ],
   "outputs": [],
   "metadata": {}
  },
  {
   "cell_type": "code",
   "execution_count": 48,
   "source": [
    "# 서울도시철도 공사 데이터 읽어오기\r\n",
    "df1_2019 = pd.read_excel(\"./02.team_project_data/도시철도여객수송/철도통계_서울도시철도공사_2019.xls\", skiprows=3, skipfooter=2)\r\n",
    "df1_2020 = pd.read_excel(\"./02.team_project_data/도시철도여객수송/철도통계_서울도시철도공사_2020.xls\", skiprows=3, skipfooter=2)\r\n",
    "df1_2021 = pd.read_excel(\"./02.team_project_data/도시철도여객수송/철도통계_서울도시철도공사_2021.xls\", skiprows=3, skipfooter=2)\r\n"
   ],
   "outputs": [],
   "metadata": {}
  },
  {
   "cell_type": "code",
   "execution_count": null,
   "source": [
    "# df1_2019.columns = columns\r\n",
    "# 아름답게 함수로 생성하고 싶었으나 마음이 급했으므로 걍 코딩 ....."
   ],
   "outputs": [],
   "metadata": {}
  },
  {
   "cell_type": "code",
   "execution_count": 49,
   "source": [
    "# 서울메트로 데이터 읽어오기\r\n",
    "df2_2019 = pd.read_excel(\"./02.team_project_data/도시철도여객수송/철도통계_서울메트로_2019.xls\", skiprows=3, skipfooter=2)\r\n",
    "df2_2020 = pd.read_excel(\"./02.team_project_data/도시철도여객수송/철도통계_서울메트로_2020.xls\", skiprows=3, skipfooter=2)\r\n",
    "df2_2021 = pd.read_excel(\"./02.team_project_data/도시철도여객수송/철도통계_서울메트로_2021.xls\", skiprows=3, skipfooter=2)"
   ],
   "outputs": [],
   "metadata": {}
  },
  {
   "cell_type": "code",
   "execution_count": 50,
   "source": [
    "# 9호선 데이터 읽어오기\r\n",
    "df3_2019 = pd.read_excel(\"./02.team_project_data/도시철도여객수송/철도통계_9호선_2019.xls\", skiprows=3, skipfooter=2)\r\n",
    "df3_2020 = pd.read_excel(\"./02.team_project_data/도시철도여객수송/철도통계_9호선_2020.xls\", skiprows=3, skipfooter=2)\r\n",
    "df3_2021 = pd.read_excel(\"./02.team_project_data/도시철도여객수송/철도통계_9호선_2021.xls\", skiprows=3, skipfooter=2)"
   ],
   "outputs": [],
   "metadata": {}
  },
  {
   "cell_type": "code",
   "execution_count": 51,
   "source": [
    "# 공항철도 데이터 읽어오기\r\n",
    "df4_2019 = pd.read_excel(\"./02.team_project_data/도시철도여객수송/철도통계(공항철도)_2019.xls\", skiprows=3, skipfooter=2)\r\n",
    "df4_2020 = pd.read_excel(\"./02.team_project_data/도시철도여객수송/철도통계(공항철도)_2020.xls\", skiprows=3, skipfooter=2)\r\n",
    "df4_2021 = pd.read_excel(\"./02.team_project_data/도시철도여객수송/철도통계(공항철도)_2021.xls\", skiprows=3, skipfooter=2)"
   ],
   "outputs": [],
   "metadata": {}
  },
  {
   "cell_type": "code",
   "execution_count": 52,
   "source": [
    "df1_2019.columns = columns\r\n",
    "df1_2020.columns = columns\r\n",
    "df1_2021.columns = columns\r\n",
    "\r\n",
    "df2_2019.columns = columns\r\n",
    "df2_2020.columns = columns\r\n",
    "df2_2021.columns = columns\r\n",
    "\r\n",
    "df3_2019.columns = columns\r\n",
    "df3_2020.columns = columns\r\n",
    "df3_2021.columns = columns\r\n",
    "\r\n",
    "df4_2019.columns = columns\r\n",
    "df4_2020.columns = columns\r\n",
    "df4_2021.columns = columns"
   ],
   "outputs": [],
   "metadata": {}
  },
  {
   "cell_type": "code",
   "execution_count": 78,
   "source": [
    "# df1_2019.info() # 157\r\n",
    "# df1_2020.info() # 157\r\n",
    "# df1_2021.info() # 156,  470\r\n",
    "# df2_2020.info() # 120 120 120 360\r\n",
    "# df3_2021.info() # 25, 25, 25 75\r\n",
    "# df4_2021.info() # 11, 11, 11 33"
   ],
   "outputs": [],
   "metadata": {}
  },
  {
   "cell_type": "code",
   "execution_count": 64,
   "source": [
    "df1_dts = pd.concat([df1_2019, df1_2020, df1_2021], ignore_index=True)\r\n",
    "df2_dts = pd.concat([df2_2019, df2_2020, df2_2021], ignore_index=True)\r\n",
    "df3_dts = pd.concat([df3_2019, df3_2020, df3_2021], ignore_index=True)\r\n",
    "df4_dts = pd.concat([df4_2019, df4_2020, df4_2021], ignore_index=True)"
   ],
   "outputs": [],
   "metadata": {}
  },
  {
   "cell_type": "code",
   "execution_count": 81,
   "source": [
    "df_total_dts = pd.concat([df1_dts, df2_dts, df3_dts, df4_dts], ignore_index=True)"
   ],
   "outputs": [],
   "metadata": {}
  },
  {
   "cell_type": "code",
   "execution_count": 84,
   "source": [
    "# df_total_dts.info()\r\n",
    "df_total_dts.to_excel(\"metro_data_set.xlsx\")"
   ],
   "outputs": [],
   "metadata": {}
  },
  {
   "cell_type": "code",
   "execution_count": 106,
   "source": [
    "df_total_dts.info()"
   ],
   "outputs": [
    {
     "output_type": "stream",
     "name": "stdout",
     "text": [
      "<class 'pandas.core.frame.DataFrame'>\n",
      "RangeIndex: 938 entries, 0 to 937\n",
      "Data columns (total 30 columns):\n",
      " #   Column    Non-Null Count  Dtype  \n",
      "---  ------    --------------  -----  \n",
      " 0   연도        938 non-null    int64  \n",
      " 1   기관        938 non-null    object \n",
      " 2   역명        938 non-null    object \n",
      " 3   호선        938 non-null    object \n",
      " 4   합계_승차인원   938 non-null    int64  \n",
      " 5   합계_하차인원   938 non-null    int64  \n",
      " 6   1월_승차인원   937 non-null    float64\n",
      " 7   1월_하차인원   905 non-null    float64\n",
      " 8   2월_승차인원   937 non-null    float64\n",
      " 9   2월_하차인원   905 non-null    float64\n",
      " 10  3월_승차인원   937 non-null    float64\n",
      " 11  3월_하차인원   905 non-null    float64\n",
      " 12  4월_승차인원   937 non-null    float64\n",
      " 13  4월_하차인원   905 non-null    float64\n",
      " 14  5월_승차인원   937 non-null    float64\n",
      " 15  5월_하차인원   905 non-null    float64\n",
      " 16  6월_승차인원   937 non-null    float64\n",
      " 17  6월_하차인원   905 non-null    float64\n",
      " 18  7월_승차인원   937 non-null    float64\n",
      " 19  7월_하차인원   905 non-null    float64\n",
      " 20  8월_승차인원   937 non-null    float64\n",
      " 21  8월_하차인원   905 non-null    float64\n",
      " 22  9월_승차인원   937 non-null    float64\n",
      " 23  9월_하차인원   905 non-null    float64\n",
      " 24  10월_승차인원  937 non-null    float64\n",
      " 25  10월_하차인원  905 non-null    float64\n",
      " 26  11월_승차인원  937 non-null    float64\n",
      " 27  11월_하차인원  905 non-null    float64\n",
      " 28  12월_승차인원  937 non-null    float64\n",
      " 29  12월_하차인원  905 non-null    float64\n",
      "dtypes: float64(24), int64(3), object(3)\n",
      "memory usage: 220.0+ KB\n"
     ]
    }
   ],
   "metadata": {}
  },
  {
   "cell_type": "code",
   "execution_count": 85,
   "source": [
    "df_total_dts.columns"
   ],
   "outputs": [
    {
     "output_type": "execute_result",
     "data": {
      "text/plain": [
       "Index(['연도', '기관', '역명', '호선', '합계_승차인원', '합계_하차인원', '1월_승차인원', '1월_하차인원',\n",
       "       '2월_승차인원', '2월_하차인원', '3월_승차인원', '3월_하차인원', '4월_승차인원', '4월_하차인원',\n",
       "       '5월_승차인원', '5월_하차인원', '6월_승차인원', '6월_하차인원', '7월_승차인원', '7월_하차인원',\n",
       "       '8월_승차인원', '8월_하차인원', '9월_승차인원', '9월_하차인원', '10월_승차인원', '10월_하차인원',\n",
       "       '11월_승차인원', '11월_하차인원', '12월_승차인원', '12월_하차인원'],\n",
       "      dtype='object')"
      ]
     },
     "metadata": {},
     "execution_count": 85
    }
   ],
   "metadata": {}
  },
  {
   "cell_type": "code",
   "execution_count": 93,
   "source": [
    "df_total_dts2=df_total_dts[['연도', '역명', '호선', '합계_승차인원', '합계_하차인원', '1월_승차인원', '1월_하차인원',\r\n",
    "       '2월_승차인원', '2월_하차인원', '3월_승차인원', '3월_하차인원', '4월_승차인원', '4월_하차인원',\r\n",
    "       '5월_승차인원', '5월_하차인원', '6월_승차인원', '6월_하차인원', '7월_승차인원', '7월_하차인원',\r\n",
    "       '8월_승차인원', '8월_하차인원', '9월_승차인원', '9월_하차인원', '10월_승차인원', '10월_하차인원',\r\n",
    "       '11월_승차인원', '11월_하차인원', '12월_승차인원', '12월_하차인원']]"
   ],
   "outputs": [],
   "metadata": {}
  },
  {
   "cell_type": "code",
   "execution_count": 94,
   "source": [
    "df_total_dts2.columns"
   ],
   "outputs": [
    {
     "output_type": "execute_result",
     "data": {
      "text/plain": [
       "Index(['연도', '역명', '호선', '합계_승차인원', '합계_하차인원', '1월_승차인원', '1월_하차인원', '2월_승차인원',\n",
       "       '2월_하차인원', '3월_승차인원', '3월_하차인원', '4월_승차인원', '4월_하차인원', '5월_승차인원',\n",
       "       '5월_하차인원', '6월_승차인원', '6월_하차인원', '7월_승차인원', '7월_하차인원', '8월_승차인원',\n",
       "       '8월_하차인원', '9월_승차인원', '9월_하차인원', '10월_승차인원', '10월_하차인원', '11월_승차인원',\n",
       "       '11월_하차인원', '12월_승차인원', '12월_하차인원'],\n",
       "      dtype='object')"
      ]
     },
     "metadata": {},
     "execution_count": 94
    }
   ],
   "metadata": {}
  },
  {
   "cell_type": "code",
   "execution_count": 100,
   "source": [
    "df_total_dts2=df_total_dts2.sort_values(['연도', '호선', '역명'])"
   ],
   "outputs": [],
   "metadata": {}
  },
  {
   "cell_type": "code",
   "execution_count": 102,
   "source": [
    "# df_total_dts2.to_excel(\"metro_data_set2.xlsx\")"
   ],
   "outputs": [],
   "metadata": {}
  },
  {
   "cell_type": "code",
   "execution_count": 1,
   "source": [
    "# df_total_dts2.info()"
   ],
   "outputs": [],
   "metadata": {}
  },
  {
   "cell_type": "code",
   "execution_count": 126,
   "source": [
    "year_2019 = df_total_dts2.loc[df_total_dts2['연도'] == 2019]"
   ],
   "outputs": [],
   "metadata": {}
  },
  {
   "cell_type": "code",
   "execution_count": 131,
   "source": [
    "subway_name_count = year_2019['역명'].value_counts()"
   ],
   "outputs": [],
   "metadata": {}
  },
  {
   "cell_type": "code",
   "execution_count": 132,
   "source": [
    "subway_name_count.to_excel('subway_name_count.xlsx')"
   ],
   "outputs": [],
   "metadata": {}
  },
  {
   "cell_type": "code",
   "execution_count": 133,
   "source": [
    "# 2019년 데이터로 TEST 진행.... 정규표현식 사용 테스트\r\n",
    "year_2019.columns"
   ],
   "outputs": [
    {
     "output_type": "execute_result",
     "data": {
      "text/plain": [
       "Index(['연도', '역명', '호선', '합계_승차인원', '합계_하차인원', '1월_승차인원', '1월_하차인원', '2월_승차인원',\n",
       "       '2월_하차인원', '3월_승차인원', '3월_하차인원', '4월_승차인원', '4월_하차인원', '5월_승차인원',\n",
       "       '5월_하차인원', '6월_승차인원', '6월_하차인원', '7월_승차인원', '7월_하차인원', '8월_승차인원',\n",
       "       '8월_하차인원', '9월_승차인원', '9월_하차인원', '10월_승차인원', '10월_하차인원', '11월_승차인원',\n",
       "       '11월_하차인원', '12월_승차인원', '12월_하차인원'],\n",
       "      dtype='object')"
      ]
     },
     "metadata": {},
     "execution_count": 133
    }
   ],
   "metadata": {}
  },
  {
   "cell_type": "code",
   "execution_count": 134,
   "source": [
    "import re"
   ],
   "outputs": [],
   "metadata": {}
  },
  {
   "cell_type": "code",
   "execution_count": 137,
   "source": [
    "with open('./02.team_project_data/역명_test.txt', mode='r', encoding='utf-8') as file:\r\n",
    "    dt_txt=file.read()"
   ],
   "outputs": [],
   "metadata": {}
  },
  {
   "cell_type": "code",
   "execution_count": 149,
   "source": [
    "# pt = re.compile(r\"[(]+\\w+[)]\")"
   ],
   "outputs": [],
   "metadata": {}
  },
  {
   "cell_type": "code",
   "execution_count": 139,
   "source": [
    "dt_list=dt_txt.split(\"\\n\")"
   ],
   "outputs": [],
   "metadata": {}
  },
  {
   "cell_type": "code",
   "execution_count": 142,
   "source": [
    "\" \".join(dt_list)"
   ],
   "outputs": [
    {
     "output_type": "execute_result",
     "data": {
      "text/plain": [
       "'김포공항 동대문역사문화공원 을지로3가 충무로 사당 가락시장 동작 동대문 고속터미널 동묘앞 당산 교대 종로3가 신설동 서울역 시청 오금 여의도 대림 혜화 을지로4가 발산 역촌 강동 논현 상월곡 선유도 효창공원앞 디지털미디어시티(공항철도) 수락산 잠실(8) 이대 명일 삼각지 공항시장 이수 대림(7) 거여 검암 국회의사당 중화 흑석 동대입구 한성대입구 영등포구청(5) 남성 디지털미디어시티 새절 신용산 구의 공덕(6) 염창 명동 공항화물청사 까치산(5) 광화문 서대문 신촌 태릉입구(7) 신사 복정(8) 약수(6) 영등포시장 산성 태릉입구(6) 대청 홍제 행당 선릉 망원 성수 보문 뚝섬유원지 인천국제공항 암사 고속터미널(7) 한강진 안암 용답 수진 사평 숙대입구 모란(8) 연신내 길음 상봉 문정 개롱 신목동 불광(6) 양천향교 석계(6) 왕십리(5) 까치울 서초 신길(5) 창동 쌍문 구산 돌곶이 일원 운서 내방 송파 매봉 삼성 상도 미아삼거리 이촌 뚝섬 장지 회현 낙성대 하계 경찰병원 약수 천호(8) 장한평 청담 천호(5) 부천종합운동장 합정 강남 독바위 계양 월드컵경기장 가산디지털단지(7) 양천구청 광명사거리 버티고개 금호 종로5가 응암 홍대입구(공항철도) 봉천 숭실대입구 부천시청 청량리(지하) 먹골 목동 도곡 제기동 합정(6) 굴포천 대치 몽촌토성 천왕 창신 종합운동장 노원(7) 총신대입구 성신여대입구 양재 어린이대공원 남구로 공덕(5) 마들 불광 삼각지(6) 종각 신대방 마곡나루 상수 오목교 녹번 잠원 미아 옥수 영등포구청 한양대 가양 사가정 보라매 건대입구 건대입구(7) 올림픽공원 신풍 군자(5) 장승배기 상일동 마장 왕십리 신흥 남태령 여의나루 아차산 우장산 연신내(6) 마포구청 신방화 당고개 증미 삼산체육관 신도림 신천 독립문 구로디지털단지 군자(7) 지축 둔촌동 상왕십리 방화 안국 대흥 반포 도봉산(7) 마곡 신림 구반포 수유 구파발 강동구청 청라국제도시 노원 잠실 강변 수서 학동 공릉 신대방삼거리 송정 남한산성입구 답십리 노량진 신답 홍대입구 을지로입구 방이 종로3가(5) 온수(7) 석촌 중계 월곡 충정로(5) 굽은다리 문래 고려대 단대오거리 개화 중곡 부평구청 면목 녹사평 등촌 방배 신금호 역삼 아현 서울역(공항철도) 길동 광나루 신정 신당(6) 경복궁 이태원 신정네거리 강남구청 공덕(공항철도) 충정로 압구정 샛강 신논현 봉화산 노들 동대문역사문화공원역(5) 애오개 철산 청구(6) 고덕 무악재 신중동 증산 학여울 개화산 상동 서울대입구 용두 청구(5) 양평 남부터미널 신당 마천 용마산 화랑대 을지로4가(5) 화곡 장암 마포 광흥창 상계 도림천 춘의 잠실나루 신반포 '"
      ]
     },
     "metadata": {},
     "execution_count": 142
    }
   ],
   "metadata": {}
  },
  {
   "cell_type": "code",
   "execution_count": 157,
   "source": [
    "test_dt=year_2019[['역명', '호선']][1:20]"
   ],
   "outputs": [],
   "metadata": {}
  },
  {
   "cell_type": "code",
   "execution_count": 160,
   "source": [
    "# 정규표현식을 사용해서 종로3가(5) 괄호 내용을 제외하고 역만 추출\r\n",
    "test_dt['test']=test_dt['역명'].str.replace(r\"[(]+\\w+[)]\", '')"
   ],
   "outputs": [
    {
     "output_type": "stream",
     "name": "stderr",
     "text": [
      "<ipython-input-160-368e39de5497>:1: FutureWarning: The default value of regex will change from True to False in a future version.\n",
      "  test_dt['test']=test_dt['역명'].str.replace(r\"[(]+\\w+[)]\", '')\n"
     ]
    }
   ],
   "metadata": {}
  },
  {
   "cell_type": "code",
   "execution_count": 162,
   "source": [
    "df_total_dts2.columns"
   ],
   "outputs": [
    {
     "output_type": "execute_result",
     "data": {
      "text/plain": [
       "Index(['연도', '역명', '호선', '합계_승차인원', '합계_하차인원', '1월_승차인원', '1월_하차인원', '2월_승차인원',\n",
       "       '2월_하차인원', '3월_승차인원', '3월_하차인원', '4월_승차인원', '4월_하차인원', '5월_승차인원',\n",
       "       '5월_하차인원', '6월_승차인원', '6월_하차인원', '7월_승차인원', '7월_하차인원', '8월_승차인원',\n",
       "       '8월_하차인원', '9월_승차인원', '9월_하차인원', '10월_승차인원', '10월_하차인원', '11월_승차인원',\n",
       "       '11월_하차인원', '12월_승차인원', '12월_하차인원'],\n",
       "      dtype='object')"
      ]
     },
     "metadata": {},
     "execution_count": 162
    }
   ],
   "metadata": {}
  },
  {
   "cell_type": "code",
   "execution_count": 163,
   "source": [
    "df_total_dts2['역명']=df_total_dts2['역명'].str.replace(r\"[(]+\\w+[)]\", '')"
   ],
   "outputs": [
    {
     "output_type": "stream",
     "name": "stderr",
     "text": [
      "<ipython-input-163-282d7a2dd5c4>:1: FutureWarning: The default value of regex will change from True to False in a future version.\n",
      "  df_total_dts2['역명']=df_total_dts2['역명'].str.replace(r\"[(]+\\w+[)]\", '')\n"
     ]
    }
   ],
   "metadata": {}
  },
  {
   "cell_type": "code",
   "execution_count": 166,
   "source": [
    "# df_total_dts2.to_excel('metro_data_set3.xlsx')"
   ],
   "outputs": [],
   "metadata": {}
  },
  {
   "cell_type": "code",
   "execution_count": 168,
   "source": [
    "df_total_dts2['역명'].value_counts()"
   ],
   "outputs": [
    {
     "output_type": "execute_result",
     "data": {
      "text/plain": [
       "종로3가     9\n",
       "김포공항     9\n",
       "고속터미널    9\n",
       "공덕       9\n",
       "서울역      9\n",
       "        ..\n",
       "마포       3\n",
       "광흥창      3\n",
       "상계       3\n",
       "모란       3\n",
       "신반포      3\n",
       "Name: 역명, Length: 269, dtype: int64"
      ]
     },
     "metadata": {},
     "execution_count": 168
    }
   ],
   "metadata": {}
  },
  {
   "cell_type": "code",
   "execution_count": 169,
   "source": [
    "df_total_dts2[df_total_dts2['역명'] == '종로3가']"
   ],
   "outputs": [
    {
     "output_type": "execute_result",
     "data": {
      "text/plain": [
       "       연도    역명   호선   합계_승차인원   합계_하차인원    1월_승차인원    1월_하차인원   2월_승차인원  \\\n",
       "473  2019  종로3가  1호선  11867717  11184463  1061531.0  1009208.0  897965.0   \n",
       "540  2019  종로3가  3호선   3802442   4880524   341239.0   448981.0  284839.0   \n",
       "24   2019  종로3가  5호선   6060074   5901053   566409.0   539925.0  425680.0   \n",
       "593  2020  종로3가  1호선   7973503   7490908   992092.0   943002.0  728589.0   \n",
       "660  2020  종로3가  3호선   2857562   3460175   317846.0   396718.0  261828.0   \n",
       "181  2020  종로3가  5호선   3070740   3055407   313651.0   297501.0  206382.0   \n",
       "713  2021  종로3가  1호선   2455317   2249212   498006.0   454655.0  573743.0   \n",
       "780  2021  종로3가  3호선    916303   1082425   194226.0   225014.0  210905.0   \n",
       "338  2021  종로3가  5호선    439242    429240   232975.0   227835.0  206267.0   \n",
       "\n",
       "      2월_하차인원    3월_승차인원  ...   8월_승차인원   8월_하차인원   9월_승차인원   9월_하차인원  \\\n",
       "473  852361.0  1085108.0  ...  461761.0  441933.0  917113.0  857743.0   \n",
       "540  381763.0   344919.0  ...  143180.0  187053.0  292550.0  369947.0   \n",
       "24   409474.0   527312.0  ...  502535.0  488117.0  449466.0  439669.0   \n",
       "593  692788.0   562310.0  ...  576319.0  552178.0  548712.0  506907.0   \n",
       "660  312210.0   223886.0  ...  217895.0  264920.0  204733.0  244907.0   \n",
       "181  198380.0   246912.0  ...  213723.0  212727.0  246630.0  250238.0   \n",
       "713  525567.0   699977.0  ...       0.0       0.0       0.0       0.0   \n",
       "780  253039.0   257271.0  ...       0.0       0.0       0.0       0.0   \n",
       "338  201405.0        0.0  ...       0.0       0.0       0.0       0.0   \n",
       "\n",
       "      10월_승차인원   10월_하차인원   11월_승차인원  11월_하차인원   12월_승차인원   12월_하차인원  \n",
       "473  1079746.0  1002525.0  1029058.0  966289.0  1096445.0  1036667.0  \n",
       "540   343136.0   430268.0   335689.0  419187.0   347001.0   448466.0  \n",
       "24    530511.0   530081.0   505041.0  482805.0   540478.0   516948.0  \n",
       "593   674362.0   624300.0   674691.0  622990.0   498149.0   455737.0  \n",
       "660   231422.0   294043.0   244211.0  296325.0   200175.0   229136.0  \n",
       "181   284146.0   288856.0   257191.0  248756.0   211393.0   209770.0  \n",
       "713        0.0        0.0        0.0       0.0        0.0        0.0  \n",
       "780        0.0        0.0        0.0       0.0        0.0        0.0  \n",
       "338        0.0        0.0        0.0       0.0        0.0        0.0  \n",
       "\n",
       "[9 rows x 29 columns]"
      ],
      "text/html": [
       "<div>\n",
       "<style scoped>\n",
       "    .dataframe tbody tr th:only-of-type {\n",
       "        vertical-align: middle;\n",
       "    }\n",
       "\n",
       "    .dataframe tbody tr th {\n",
       "        vertical-align: top;\n",
       "    }\n",
       "\n",
       "    .dataframe thead th {\n",
       "        text-align: right;\n",
       "    }\n",
       "</style>\n",
       "<table border=\"1\" class=\"dataframe\">\n",
       "  <thead>\n",
       "    <tr style=\"text-align: right;\">\n",
       "      <th></th>\n",
       "      <th>연도</th>\n",
       "      <th>역명</th>\n",
       "      <th>호선</th>\n",
       "      <th>합계_승차인원</th>\n",
       "      <th>합계_하차인원</th>\n",
       "      <th>1월_승차인원</th>\n",
       "      <th>1월_하차인원</th>\n",
       "      <th>2월_승차인원</th>\n",
       "      <th>2월_하차인원</th>\n",
       "      <th>3월_승차인원</th>\n",
       "      <th>...</th>\n",
       "      <th>8월_승차인원</th>\n",
       "      <th>8월_하차인원</th>\n",
       "      <th>9월_승차인원</th>\n",
       "      <th>9월_하차인원</th>\n",
       "      <th>10월_승차인원</th>\n",
       "      <th>10월_하차인원</th>\n",
       "      <th>11월_승차인원</th>\n",
       "      <th>11월_하차인원</th>\n",
       "      <th>12월_승차인원</th>\n",
       "      <th>12월_하차인원</th>\n",
       "    </tr>\n",
       "  </thead>\n",
       "  <tbody>\n",
       "    <tr>\n",
       "      <th>473</th>\n",
       "      <td>2019</td>\n",
       "      <td>종로3가</td>\n",
       "      <td>1호선</td>\n",
       "      <td>11867717</td>\n",
       "      <td>11184463</td>\n",
       "      <td>1061531.0</td>\n",
       "      <td>1009208.0</td>\n",
       "      <td>897965.0</td>\n",
       "      <td>852361.0</td>\n",
       "      <td>1085108.0</td>\n",
       "      <td>...</td>\n",
       "      <td>461761.0</td>\n",
       "      <td>441933.0</td>\n",
       "      <td>917113.0</td>\n",
       "      <td>857743.0</td>\n",
       "      <td>1079746.0</td>\n",
       "      <td>1002525.0</td>\n",
       "      <td>1029058.0</td>\n",
       "      <td>966289.0</td>\n",
       "      <td>1096445.0</td>\n",
       "      <td>1036667.0</td>\n",
       "    </tr>\n",
       "    <tr>\n",
       "      <th>540</th>\n",
       "      <td>2019</td>\n",
       "      <td>종로3가</td>\n",
       "      <td>3호선</td>\n",
       "      <td>3802442</td>\n",
       "      <td>4880524</td>\n",
       "      <td>341239.0</td>\n",
       "      <td>448981.0</td>\n",
       "      <td>284839.0</td>\n",
       "      <td>381763.0</td>\n",
       "      <td>344919.0</td>\n",
       "      <td>...</td>\n",
       "      <td>143180.0</td>\n",
       "      <td>187053.0</td>\n",
       "      <td>292550.0</td>\n",
       "      <td>369947.0</td>\n",
       "      <td>343136.0</td>\n",
       "      <td>430268.0</td>\n",
       "      <td>335689.0</td>\n",
       "      <td>419187.0</td>\n",
       "      <td>347001.0</td>\n",
       "      <td>448466.0</td>\n",
       "    </tr>\n",
       "    <tr>\n",
       "      <th>24</th>\n",
       "      <td>2019</td>\n",
       "      <td>종로3가</td>\n",
       "      <td>5호선</td>\n",
       "      <td>6060074</td>\n",
       "      <td>5901053</td>\n",
       "      <td>566409.0</td>\n",
       "      <td>539925.0</td>\n",
       "      <td>425680.0</td>\n",
       "      <td>409474.0</td>\n",
       "      <td>527312.0</td>\n",
       "      <td>...</td>\n",
       "      <td>502535.0</td>\n",
       "      <td>488117.0</td>\n",
       "      <td>449466.0</td>\n",
       "      <td>439669.0</td>\n",
       "      <td>530511.0</td>\n",
       "      <td>530081.0</td>\n",
       "      <td>505041.0</td>\n",
       "      <td>482805.0</td>\n",
       "      <td>540478.0</td>\n",
       "      <td>516948.0</td>\n",
       "    </tr>\n",
       "    <tr>\n",
       "      <th>593</th>\n",
       "      <td>2020</td>\n",
       "      <td>종로3가</td>\n",
       "      <td>1호선</td>\n",
       "      <td>7973503</td>\n",
       "      <td>7490908</td>\n",
       "      <td>992092.0</td>\n",
       "      <td>943002.0</td>\n",
       "      <td>728589.0</td>\n",
       "      <td>692788.0</td>\n",
       "      <td>562310.0</td>\n",
       "      <td>...</td>\n",
       "      <td>576319.0</td>\n",
       "      <td>552178.0</td>\n",
       "      <td>548712.0</td>\n",
       "      <td>506907.0</td>\n",
       "      <td>674362.0</td>\n",
       "      <td>624300.0</td>\n",
       "      <td>674691.0</td>\n",
       "      <td>622990.0</td>\n",
       "      <td>498149.0</td>\n",
       "      <td>455737.0</td>\n",
       "    </tr>\n",
       "    <tr>\n",
       "      <th>660</th>\n",
       "      <td>2020</td>\n",
       "      <td>종로3가</td>\n",
       "      <td>3호선</td>\n",
       "      <td>2857562</td>\n",
       "      <td>3460175</td>\n",
       "      <td>317846.0</td>\n",
       "      <td>396718.0</td>\n",
       "      <td>261828.0</td>\n",
       "      <td>312210.0</td>\n",
       "      <td>223886.0</td>\n",
       "      <td>...</td>\n",
       "      <td>217895.0</td>\n",
       "      <td>264920.0</td>\n",
       "      <td>204733.0</td>\n",
       "      <td>244907.0</td>\n",
       "      <td>231422.0</td>\n",
       "      <td>294043.0</td>\n",
       "      <td>244211.0</td>\n",
       "      <td>296325.0</td>\n",
       "      <td>200175.0</td>\n",
       "      <td>229136.0</td>\n",
       "    </tr>\n",
       "    <tr>\n",
       "      <th>181</th>\n",
       "      <td>2020</td>\n",
       "      <td>종로3가</td>\n",
       "      <td>5호선</td>\n",
       "      <td>3070740</td>\n",
       "      <td>3055407</td>\n",
       "      <td>313651.0</td>\n",
       "      <td>297501.0</td>\n",
       "      <td>206382.0</td>\n",
       "      <td>198380.0</td>\n",
       "      <td>246912.0</td>\n",
       "      <td>...</td>\n",
       "      <td>213723.0</td>\n",
       "      <td>212727.0</td>\n",
       "      <td>246630.0</td>\n",
       "      <td>250238.0</td>\n",
       "      <td>284146.0</td>\n",
       "      <td>288856.0</td>\n",
       "      <td>257191.0</td>\n",
       "      <td>248756.0</td>\n",
       "      <td>211393.0</td>\n",
       "      <td>209770.0</td>\n",
       "    </tr>\n",
       "    <tr>\n",
       "      <th>713</th>\n",
       "      <td>2021</td>\n",
       "      <td>종로3가</td>\n",
       "      <td>1호선</td>\n",
       "      <td>2455317</td>\n",
       "      <td>2249212</td>\n",
       "      <td>498006.0</td>\n",
       "      <td>454655.0</td>\n",
       "      <td>573743.0</td>\n",
       "      <td>525567.0</td>\n",
       "      <td>699977.0</td>\n",
       "      <td>...</td>\n",
       "      <td>0.0</td>\n",
       "      <td>0.0</td>\n",
       "      <td>0.0</td>\n",
       "      <td>0.0</td>\n",
       "      <td>0.0</td>\n",
       "      <td>0.0</td>\n",
       "      <td>0.0</td>\n",
       "      <td>0.0</td>\n",
       "      <td>0.0</td>\n",
       "      <td>0.0</td>\n",
       "    </tr>\n",
       "    <tr>\n",
       "      <th>780</th>\n",
       "      <td>2021</td>\n",
       "      <td>종로3가</td>\n",
       "      <td>3호선</td>\n",
       "      <td>916303</td>\n",
       "      <td>1082425</td>\n",
       "      <td>194226.0</td>\n",
       "      <td>225014.0</td>\n",
       "      <td>210905.0</td>\n",
       "      <td>253039.0</td>\n",
       "      <td>257271.0</td>\n",
       "      <td>...</td>\n",
       "      <td>0.0</td>\n",
       "      <td>0.0</td>\n",
       "      <td>0.0</td>\n",
       "      <td>0.0</td>\n",
       "      <td>0.0</td>\n",
       "      <td>0.0</td>\n",
       "      <td>0.0</td>\n",
       "      <td>0.0</td>\n",
       "      <td>0.0</td>\n",
       "      <td>0.0</td>\n",
       "    </tr>\n",
       "    <tr>\n",
       "      <th>338</th>\n",
       "      <td>2021</td>\n",
       "      <td>종로3가</td>\n",
       "      <td>5호선</td>\n",
       "      <td>439242</td>\n",
       "      <td>429240</td>\n",
       "      <td>232975.0</td>\n",
       "      <td>227835.0</td>\n",
       "      <td>206267.0</td>\n",
       "      <td>201405.0</td>\n",
       "      <td>0.0</td>\n",
       "      <td>...</td>\n",
       "      <td>0.0</td>\n",
       "      <td>0.0</td>\n",
       "      <td>0.0</td>\n",
       "      <td>0.0</td>\n",
       "      <td>0.0</td>\n",
       "      <td>0.0</td>\n",
       "      <td>0.0</td>\n",
       "      <td>0.0</td>\n",
       "      <td>0.0</td>\n",
       "      <td>0.0</td>\n",
       "    </tr>\n",
       "  </tbody>\n",
       "</table>\n",
       "<p>9 rows × 29 columns</p>\n",
       "</div>"
      ]
     },
     "metadata": {},
     "execution_count": 169
    }
   ],
   "metadata": {}
  },
  {
   "cell_type": "code",
   "execution_count": 170,
   "source": [
    "df_total_dts2"
   ],
   "outputs": [
    {
     "output_type": "execute_result",
     "data": {
      "text/plain": [
       "       연도      역명    호선   합계_승차인원   합계_하차인원    1월_승차인원    1월_하차인원    2월_승차인원  \\\n",
       "475  2019     동대문   1호선   5169093   5706235   430681.0   468883.0   390754.0   \n",
       "479  2019     동묘앞   1호선   3848084   4073455   315909.0   331312.0   302401.0   \n",
       "470  2019     서울역   1호선  19745539  18722104  1685377.0  1565402.0  1501880.0   \n",
       "471  2019      시청   1호선   8974415   9123130   752881.0   750975.0   612726.0   \n",
       "476  2019     신설동   1호선   5543510   5404401   472874.0   460741.0   400714.0   \n",
       "..    ...     ...   ...       ...       ...        ...        ...        ...   \n",
       "927  2021     서울역  공항철도   2126750         0   456701.0        NaN   481869.0   \n",
       "935  2021      운서  공항철도    639392         0   142810.0        NaN   143561.0   \n",
       "937  2021  인천국제공항  공항철도    360219         0    91114.0        NaN    86837.0   \n",
       "934  2021  청라국제도시  공항철도    667704         0   149031.0        NaN   148177.0   \n",
       "929  2021    홍대입구  공항철도   2541698         0   527741.0        NaN   602094.0   \n",
       "\n",
       "       2월_하차인원    3월_승차인원  ...   8월_승차인원   8월_하차인원    9월_승차인원    9월_하차인원  \\\n",
       "475   434399.0   485481.0  ...  193213.0  214166.0   423164.0   468057.0   \n",
       "479   326324.0   373033.0  ...  141289.0  146383.0   312715.0   328893.0   \n",
       "470  1406839.0  1775410.0  ...  774806.0  753977.0  1581363.0  1506704.0   \n",
       "471   606426.0   791485.0  ...  349943.0  356141.0   696110.0   706568.0   \n",
       "476   391034.0   515401.0  ...  202826.0  196577.0   442906.0   430461.0   \n",
       "..         ...        ...  ...       ...       ...        ...        ...   \n",
       "927        NaN   596753.0  ...       0.0       NaN        0.0        NaN   \n",
       "935        NaN   175596.0  ...       0.0       NaN        0.0        NaN   \n",
       "937        NaN    93488.0  ...       0.0       NaN        0.0        NaN   \n",
       "934        NaN   185996.0  ...       0.0       NaN        0.0        NaN   \n",
       "929        NaN   711011.0  ...       0.0       NaN        0.0        NaN   \n",
       "\n",
       "      10월_승차인원   10월_하차인원   11월_승차인원   11월_하차인원   12월_승차인원   12월_하차인원  \n",
       "475   460523.0   508093.0   449462.0   491955.0   472332.0   522171.0  \n",
       "479   350241.0   371252.0   337823.0   356654.0   332755.0   349433.0  \n",
       "470  1790088.0  1704534.0  1791702.0  1704479.0  1825036.0  1718629.0  \n",
       "471   899630.0   946290.0   835339.0   856441.0   867880.0   876500.0  \n",
       "476   505124.0   491931.0   497770.0   483721.0   501868.0   485077.0  \n",
       "..         ...        ...        ...        ...        ...        ...  \n",
       "927        0.0        NaN        0.0        NaN        0.0        NaN  \n",
       "935        0.0        NaN        0.0        NaN        0.0        NaN  \n",
       "937        0.0        NaN        0.0        NaN        0.0        NaN  \n",
       "934        0.0        NaN        0.0        NaN        0.0        NaN  \n",
       "929        0.0        NaN        0.0        NaN        0.0        NaN  \n",
       "\n",
       "[938 rows x 29 columns]"
      ],
      "text/html": [
       "<div>\n",
       "<style scoped>\n",
       "    .dataframe tbody tr th:only-of-type {\n",
       "        vertical-align: middle;\n",
       "    }\n",
       "\n",
       "    .dataframe tbody tr th {\n",
       "        vertical-align: top;\n",
       "    }\n",
       "\n",
       "    .dataframe thead th {\n",
       "        text-align: right;\n",
       "    }\n",
       "</style>\n",
       "<table border=\"1\" class=\"dataframe\">\n",
       "  <thead>\n",
       "    <tr style=\"text-align: right;\">\n",
       "      <th></th>\n",
       "      <th>연도</th>\n",
       "      <th>역명</th>\n",
       "      <th>호선</th>\n",
       "      <th>합계_승차인원</th>\n",
       "      <th>합계_하차인원</th>\n",
       "      <th>1월_승차인원</th>\n",
       "      <th>1월_하차인원</th>\n",
       "      <th>2월_승차인원</th>\n",
       "      <th>2월_하차인원</th>\n",
       "      <th>3월_승차인원</th>\n",
       "      <th>...</th>\n",
       "      <th>8월_승차인원</th>\n",
       "      <th>8월_하차인원</th>\n",
       "      <th>9월_승차인원</th>\n",
       "      <th>9월_하차인원</th>\n",
       "      <th>10월_승차인원</th>\n",
       "      <th>10월_하차인원</th>\n",
       "      <th>11월_승차인원</th>\n",
       "      <th>11월_하차인원</th>\n",
       "      <th>12월_승차인원</th>\n",
       "      <th>12월_하차인원</th>\n",
       "    </tr>\n",
       "  </thead>\n",
       "  <tbody>\n",
       "    <tr>\n",
       "      <th>475</th>\n",
       "      <td>2019</td>\n",
       "      <td>동대문</td>\n",
       "      <td>1호선</td>\n",
       "      <td>5169093</td>\n",
       "      <td>5706235</td>\n",
       "      <td>430681.0</td>\n",
       "      <td>468883.0</td>\n",
       "      <td>390754.0</td>\n",
       "      <td>434399.0</td>\n",
       "      <td>485481.0</td>\n",
       "      <td>...</td>\n",
       "      <td>193213.0</td>\n",
       "      <td>214166.0</td>\n",
       "      <td>423164.0</td>\n",
       "      <td>468057.0</td>\n",
       "      <td>460523.0</td>\n",
       "      <td>508093.0</td>\n",
       "      <td>449462.0</td>\n",
       "      <td>491955.0</td>\n",
       "      <td>472332.0</td>\n",
       "      <td>522171.0</td>\n",
       "    </tr>\n",
       "    <tr>\n",
       "      <th>479</th>\n",
       "      <td>2019</td>\n",
       "      <td>동묘앞</td>\n",
       "      <td>1호선</td>\n",
       "      <td>3848084</td>\n",
       "      <td>4073455</td>\n",
       "      <td>315909.0</td>\n",
       "      <td>331312.0</td>\n",
       "      <td>302401.0</td>\n",
       "      <td>326324.0</td>\n",
       "      <td>373033.0</td>\n",
       "      <td>...</td>\n",
       "      <td>141289.0</td>\n",
       "      <td>146383.0</td>\n",
       "      <td>312715.0</td>\n",
       "      <td>328893.0</td>\n",
       "      <td>350241.0</td>\n",
       "      <td>371252.0</td>\n",
       "      <td>337823.0</td>\n",
       "      <td>356654.0</td>\n",
       "      <td>332755.0</td>\n",
       "      <td>349433.0</td>\n",
       "    </tr>\n",
       "    <tr>\n",
       "      <th>470</th>\n",
       "      <td>2019</td>\n",
       "      <td>서울역</td>\n",
       "      <td>1호선</td>\n",
       "      <td>19745539</td>\n",
       "      <td>18722104</td>\n",
       "      <td>1685377.0</td>\n",
       "      <td>1565402.0</td>\n",
       "      <td>1501880.0</td>\n",
       "      <td>1406839.0</td>\n",
       "      <td>1775410.0</td>\n",
       "      <td>...</td>\n",
       "      <td>774806.0</td>\n",
       "      <td>753977.0</td>\n",
       "      <td>1581363.0</td>\n",
       "      <td>1506704.0</td>\n",
       "      <td>1790088.0</td>\n",
       "      <td>1704534.0</td>\n",
       "      <td>1791702.0</td>\n",
       "      <td>1704479.0</td>\n",
       "      <td>1825036.0</td>\n",
       "      <td>1718629.0</td>\n",
       "    </tr>\n",
       "    <tr>\n",
       "      <th>471</th>\n",
       "      <td>2019</td>\n",
       "      <td>시청</td>\n",
       "      <td>1호선</td>\n",
       "      <td>8974415</td>\n",
       "      <td>9123130</td>\n",
       "      <td>752881.0</td>\n",
       "      <td>750975.0</td>\n",
       "      <td>612726.0</td>\n",
       "      <td>606426.0</td>\n",
       "      <td>791485.0</td>\n",
       "      <td>...</td>\n",
       "      <td>349943.0</td>\n",
       "      <td>356141.0</td>\n",
       "      <td>696110.0</td>\n",
       "      <td>706568.0</td>\n",
       "      <td>899630.0</td>\n",
       "      <td>946290.0</td>\n",
       "      <td>835339.0</td>\n",
       "      <td>856441.0</td>\n",
       "      <td>867880.0</td>\n",
       "      <td>876500.0</td>\n",
       "    </tr>\n",
       "    <tr>\n",
       "      <th>476</th>\n",
       "      <td>2019</td>\n",
       "      <td>신설동</td>\n",
       "      <td>1호선</td>\n",
       "      <td>5543510</td>\n",
       "      <td>5404401</td>\n",
       "      <td>472874.0</td>\n",
       "      <td>460741.0</td>\n",
       "      <td>400714.0</td>\n",
       "      <td>391034.0</td>\n",
       "      <td>515401.0</td>\n",
       "      <td>...</td>\n",
       "      <td>202826.0</td>\n",
       "      <td>196577.0</td>\n",
       "      <td>442906.0</td>\n",
       "      <td>430461.0</td>\n",
       "      <td>505124.0</td>\n",
       "      <td>491931.0</td>\n",
       "      <td>497770.0</td>\n",
       "      <td>483721.0</td>\n",
       "      <td>501868.0</td>\n",
       "      <td>485077.0</td>\n",
       "    </tr>\n",
       "    <tr>\n",
       "      <th>...</th>\n",
       "      <td>...</td>\n",
       "      <td>...</td>\n",
       "      <td>...</td>\n",
       "      <td>...</td>\n",
       "      <td>...</td>\n",
       "      <td>...</td>\n",
       "      <td>...</td>\n",
       "      <td>...</td>\n",
       "      <td>...</td>\n",
       "      <td>...</td>\n",
       "      <td>...</td>\n",
       "      <td>...</td>\n",
       "      <td>...</td>\n",
       "      <td>...</td>\n",
       "      <td>...</td>\n",
       "      <td>...</td>\n",
       "      <td>...</td>\n",
       "      <td>...</td>\n",
       "      <td>...</td>\n",
       "      <td>...</td>\n",
       "      <td>...</td>\n",
       "    </tr>\n",
       "    <tr>\n",
       "      <th>927</th>\n",
       "      <td>2021</td>\n",
       "      <td>서울역</td>\n",
       "      <td>공항철도</td>\n",
       "      <td>2126750</td>\n",
       "      <td>0</td>\n",
       "      <td>456701.0</td>\n",
       "      <td>NaN</td>\n",
       "      <td>481869.0</td>\n",
       "      <td>NaN</td>\n",
       "      <td>596753.0</td>\n",
       "      <td>...</td>\n",
       "      <td>0.0</td>\n",
       "      <td>NaN</td>\n",
       "      <td>0.0</td>\n",
       "      <td>NaN</td>\n",
       "      <td>0.0</td>\n",
       "      <td>NaN</td>\n",
       "      <td>0.0</td>\n",
       "      <td>NaN</td>\n",
       "      <td>0.0</td>\n",
       "      <td>NaN</td>\n",
       "    </tr>\n",
       "    <tr>\n",
       "      <th>935</th>\n",
       "      <td>2021</td>\n",
       "      <td>운서</td>\n",
       "      <td>공항철도</td>\n",
       "      <td>639392</td>\n",
       "      <td>0</td>\n",
       "      <td>142810.0</td>\n",
       "      <td>NaN</td>\n",
       "      <td>143561.0</td>\n",
       "      <td>NaN</td>\n",
       "      <td>175596.0</td>\n",
       "      <td>...</td>\n",
       "      <td>0.0</td>\n",
       "      <td>NaN</td>\n",
       "      <td>0.0</td>\n",
       "      <td>NaN</td>\n",
       "      <td>0.0</td>\n",
       "      <td>NaN</td>\n",
       "      <td>0.0</td>\n",
       "      <td>NaN</td>\n",
       "      <td>0.0</td>\n",
       "      <td>NaN</td>\n",
       "    </tr>\n",
       "    <tr>\n",
       "      <th>937</th>\n",
       "      <td>2021</td>\n",
       "      <td>인천국제공항</td>\n",
       "      <td>공항철도</td>\n",
       "      <td>360219</td>\n",
       "      <td>0</td>\n",
       "      <td>91114.0</td>\n",
       "      <td>NaN</td>\n",
       "      <td>86837.0</td>\n",
       "      <td>NaN</td>\n",
       "      <td>93488.0</td>\n",
       "      <td>...</td>\n",
       "      <td>0.0</td>\n",
       "      <td>NaN</td>\n",
       "      <td>0.0</td>\n",
       "      <td>NaN</td>\n",
       "      <td>0.0</td>\n",
       "      <td>NaN</td>\n",
       "      <td>0.0</td>\n",
       "      <td>NaN</td>\n",
       "      <td>0.0</td>\n",
       "      <td>NaN</td>\n",
       "    </tr>\n",
       "    <tr>\n",
       "      <th>934</th>\n",
       "      <td>2021</td>\n",
       "      <td>청라국제도시</td>\n",
       "      <td>공항철도</td>\n",
       "      <td>667704</td>\n",
       "      <td>0</td>\n",
       "      <td>149031.0</td>\n",
       "      <td>NaN</td>\n",
       "      <td>148177.0</td>\n",
       "      <td>NaN</td>\n",
       "      <td>185996.0</td>\n",
       "      <td>...</td>\n",
       "      <td>0.0</td>\n",
       "      <td>NaN</td>\n",
       "      <td>0.0</td>\n",
       "      <td>NaN</td>\n",
       "      <td>0.0</td>\n",
       "      <td>NaN</td>\n",
       "      <td>0.0</td>\n",
       "      <td>NaN</td>\n",
       "      <td>0.0</td>\n",
       "      <td>NaN</td>\n",
       "    </tr>\n",
       "    <tr>\n",
       "      <th>929</th>\n",
       "      <td>2021</td>\n",
       "      <td>홍대입구</td>\n",
       "      <td>공항철도</td>\n",
       "      <td>2541698</td>\n",
       "      <td>0</td>\n",
       "      <td>527741.0</td>\n",
       "      <td>NaN</td>\n",
       "      <td>602094.0</td>\n",
       "      <td>NaN</td>\n",
       "      <td>711011.0</td>\n",
       "      <td>...</td>\n",
       "      <td>0.0</td>\n",
       "      <td>NaN</td>\n",
       "      <td>0.0</td>\n",
       "      <td>NaN</td>\n",
       "      <td>0.0</td>\n",
       "      <td>NaN</td>\n",
       "      <td>0.0</td>\n",
       "      <td>NaN</td>\n",
       "      <td>0.0</td>\n",
       "      <td>NaN</td>\n",
       "    </tr>\n",
       "  </tbody>\n",
       "</table>\n",
       "<p>938 rows × 29 columns</p>\n",
       "</div>"
      ]
     },
     "metadata": {},
     "execution_count": 170
    }
   ],
   "metadata": {}
  },
  {
   "cell_type": "code",
   "execution_count": 171,
   "source": [
    "df_total_dts2.info()"
   ],
   "outputs": [
    {
     "output_type": "stream",
     "name": "stdout",
     "text": [
      "<class 'pandas.core.frame.DataFrame'>\n",
      "Int64Index: 938 entries, 475 to 929\n",
      "Data columns (total 29 columns):\n",
      " #   Column    Non-Null Count  Dtype  \n",
      "---  ------    --------------  -----  \n",
      " 0   연도        938 non-null    int64  \n",
      " 1   역명        938 non-null    object \n",
      " 2   호선        938 non-null    object \n",
      " 3   합계_승차인원   938 non-null    int64  \n",
      " 4   합계_하차인원   938 non-null    int64  \n",
      " 5   1월_승차인원   937 non-null    float64\n",
      " 6   1월_하차인원   905 non-null    float64\n",
      " 7   2월_승차인원   937 non-null    float64\n",
      " 8   2월_하차인원   905 non-null    float64\n",
      " 9   3월_승차인원   937 non-null    float64\n",
      " 10  3월_하차인원   905 non-null    float64\n",
      " 11  4월_승차인원   937 non-null    float64\n",
      " 12  4월_하차인원   905 non-null    float64\n",
      " 13  5월_승차인원   937 non-null    float64\n",
      " 14  5월_하차인원   905 non-null    float64\n",
      " 15  6월_승차인원   937 non-null    float64\n",
      " 16  6월_하차인원   905 non-null    float64\n",
      " 17  7월_승차인원   937 non-null    float64\n",
      " 18  7월_하차인원   905 non-null    float64\n",
      " 19  8월_승차인원   937 non-null    float64\n",
      " 20  8월_하차인원   905 non-null    float64\n",
      " 21  9월_승차인원   937 non-null    float64\n",
      " 22  9월_하차인원   905 non-null    float64\n",
      " 23  10월_승차인원  937 non-null    float64\n",
      " 24  10월_하차인원  905 non-null    float64\n",
      " 25  11월_승차인원  937 non-null    float64\n",
      " 26  11월_하차인원  905 non-null    float64\n",
      " 27  12월_승차인원  937 non-null    float64\n",
      " 28  12월_하차인원  905 non-null    float64\n",
      "dtypes: float64(24), int64(3), object(2)\n",
      "memory usage: 252.1+ KB\n"
     ]
    }
   ],
   "metadata": {}
  },
  {
   "cell_type": "code",
   "execution_count": 172,
   "source": [
    "# 결측값 NaN 데이터 처리 모두 0으로 변경\r\n",
    "df_total_dts2.fillna(0, inplace=True)"
   ],
   "outputs": [],
   "metadata": {}
  },
  {
   "cell_type": "code",
   "execution_count": 173,
   "source": [
    "df_total_dts2.info()"
   ],
   "outputs": [
    {
     "output_type": "stream",
     "name": "stdout",
     "text": [
      "<class 'pandas.core.frame.DataFrame'>\n",
      "Int64Index: 938 entries, 475 to 929\n",
      "Data columns (total 29 columns):\n",
      " #   Column    Non-Null Count  Dtype  \n",
      "---  ------    --------------  -----  \n",
      " 0   연도        938 non-null    int64  \n",
      " 1   역명        938 non-null    object \n",
      " 2   호선        938 non-null    object \n",
      " 3   합계_승차인원   938 non-null    int64  \n",
      " 4   합계_하차인원   938 non-null    int64  \n",
      " 5   1월_승차인원   938 non-null    float64\n",
      " 6   1월_하차인원   938 non-null    float64\n",
      " 7   2월_승차인원   938 non-null    float64\n",
      " 8   2월_하차인원   938 non-null    float64\n",
      " 9   3월_승차인원   938 non-null    float64\n",
      " 10  3월_하차인원   938 non-null    float64\n",
      " 11  4월_승차인원   938 non-null    float64\n",
      " 12  4월_하차인원   938 non-null    float64\n",
      " 13  5월_승차인원   938 non-null    float64\n",
      " 14  5월_하차인원   938 non-null    float64\n",
      " 15  6월_승차인원   938 non-null    float64\n",
      " 16  6월_하차인원   938 non-null    float64\n",
      " 17  7월_승차인원   938 non-null    float64\n",
      " 18  7월_하차인원   938 non-null    float64\n",
      " 19  8월_승차인원   938 non-null    float64\n",
      " 20  8월_하차인원   938 non-null    float64\n",
      " 21  9월_승차인원   938 non-null    float64\n",
      " 22  9월_하차인원   938 non-null    float64\n",
      " 23  10월_승차인원  938 non-null    float64\n",
      " 24  10월_하차인원  938 non-null    float64\n",
      " 25  11월_승차인원  938 non-null    float64\n",
      " 26  11월_하차인원  938 non-null    float64\n",
      " 27  12월_승차인원  938 non-null    float64\n",
      " 28  12월_하차인원  938 non-null    float64\n",
      "dtypes: float64(24), int64(3), object(2)\n",
      "memory usage: 252.1+ KB\n"
     ]
    }
   ],
   "metadata": {}
  },
  {
   "cell_type": "code",
   "execution_count": 179,
   "source": [
    "# 최종\r\n",
    "df_total_dts2.to_csv(\"metro_total_v01_210812.csv\", encoding=\"utf-8\", index=None)"
   ],
   "outputs": [],
   "metadata": {}
  }
 ],
 "metadata": {
  "orig_nbformat": 4,
  "language_info": {
   "name": "python",
   "version": "3.8.8",
   "mimetype": "text/x-python",
   "codemirror_mode": {
    "name": "ipython",
    "version": 3
   },
   "pygments_lexer": "ipython3",
   "nbconvert_exporter": "python",
   "file_extension": ".py"
  },
  "kernelspec": {
   "name": "python3",
   "display_name": "Python 3.8.8 64-bit ('base': conda)"
  },
  "interpreter": {
   "hash": "74ac2c347abb782a3d2f694c8d9341193b1005c179381ae3abf4a67743d7a946"
  }
 },
 "nbformat": 4,
 "nbformat_minor": 2
}