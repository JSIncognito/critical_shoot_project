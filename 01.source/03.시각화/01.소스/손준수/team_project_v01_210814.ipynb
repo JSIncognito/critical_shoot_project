{
 "cells": [
  {
   "cell_type": "markdown",
   "metadata": {},
   "source": [
    "### 코로나가 서울시 대중교통에 미친영향\n",
    "\n",
    "- 버스 vs 지하철 vs 공공자전거 증감률 비교\n",
    "- 코로나 연령별/성별, 감염자 수/사망자수/치명율 현황 (월별)\n",
    "\n",
    "### * 작업순서\n",
    " * 버스 /지하철/공공자전거 이용 증감률 계산\n",
    " * 연도별/월별 버스/지하철/공공자전거 이용 인원 합계\n",
    " * 코로나 전,후 월별  버스/지하철/공공자전거 이용 증감률\n",
    " * 2019년 대비 2020/2021(7월)년 증감율 구하기\n",
    " * 거리두기 단계별 버스/지하철/공공자전거 증감율 계산"
   ]
  },
  {
   "cell_type": "code",
   "execution_count": 3,
   "metadata": {},
   "outputs": [],
   "source": [
    "import pandas as pd\n",
    "import numpy as np \n",
    "import matplotlib.pyplot as plt\n",
    "import seaborn as sns \n",
    "\n",
    "# plotly\n",
    "import plotly as pl\n",
    "\n",
    "import os \n",
    "import folium "
   ]
  },
  {
   "cell_type": "code",
   "execution_count": 2,
   "metadata": {},
   "outputs": [
    {
     "name": "stdout",
     "output_type": "stream",
     "text": [
      "Collecting plotly\n",
      "  Downloading plotly-5.2.1-py2.py3-none-any.whl (21.8 MB)\n",
      "Collecting tenacity>=6.2.0\n",
      "  Downloading tenacity-8.0.1-py3-none-any.whl (24 kB)\n",
      "Requirement already satisfied: six in c:\\users\\naeunsu\\anaconda3\\lib\\site-packages (from plotly) (1.15.0)\n",
      "Installing collected packages: tenacity, plotly\n",
      "Successfully installed plotly-5.2.1 tenacity-8.0.1\n",
      "Note: you may need to restart the kernel to use updated packages.\n"
     ]
    }
   ],
   "source": [
    "pip install plotly"
   ]
  },
  {
   "cell_type": "code",
   "execution_count": 6,
   "metadata": {},
   "outputs": [
    {
     "data": {
      "text/plain": [
       "'c:\\\\Users\\\\JSSON\\\\JS_Python\\\\02.team_project_data\\\\01.source'"
      ]
     },
     "execution_count": 6,
     "metadata": {},
     "output_type": "execute_result"
    }
   ],
   "source": [
    "# pip install cufflinks\n",
    "os.getcwd()"
   ]
  },
  {
   "cell_type": "code",
   "execution_count": 6,
   "metadata": {},
   "outputs": [
    {
     "data": {
      "text/html": [
       "<div>\n",
       "<style scoped>\n",
       "    .dataframe tbody tr th:only-of-type {\n",
       "        vertical-align: middle;\n",
       "    }\n",
       "\n",
       "    .dataframe tbody tr th {\n",
       "        vertical-align: top;\n",
       "    }\n",
       "\n",
       "    .dataframe thead th {\n",
       "        text-align: right;\n",
       "    }\n",
       "</style>\n",
       "<table border=\"1\" class=\"dataframe\">\n",
       "  <thead>\n",
       "    <tr style=\"text-align: right;\">\n",
       "      <th></th>\n",
       "      <th>year</th>\n",
       "      <th>승하객</th>\n",
       "      <th>하차객</th>\n",
       "    </tr>\n",
       "  </thead>\n",
       "  <tbody>\n",
       "    <tr>\n",
       "      <th>0</th>\n",
       "      <td>201901</td>\n",
       "      <td>128937436</td>\n",
       "      <td>132780532</td>\n",
       "    </tr>\n",
       "    <tr>\n",
       "      <th>1</th>\n",
       "      <td>201902</td>\n",
       "      <td>124789738</td>\n",
       "      <td>128547850</td>\n",
       "    </tr>\n",
       "    <tr>\n",
       "      <th>2</th>\n",
       "      <td>201903</td>\n",
       "      <td>140433878</td>\n",
       "      <td>144709644</td>\n",
       "    </tr>\n",
       "    <tr>\n",
       "      <th>3</th>\n",
       "      <td>201904</td>\n",
       "      <td>143084559</td>\n",
       "      <td>147452704</td>\n",
       "    </tr>\n",
       "    <tr>\n",
       "      <th>4</th>\n",
       "      <td>201905</td>\n",
       "      <td>139996976</td>\n",
       "      <td>144202984</td>\n",
       "    </tr>\n",
       "    <tr>\n",
       "      <th>5</th>\n",
       "      <td>201906</td>\n",
       "      <td>138784006</td>\n",
       "      <td>142926564</td>\n",
       "    </tr>\n",
       "    <tr>\n",
       "      <th>6</th>\n",
       "      <td>201907</td>\n",
       "      <td>140962485</td>\n",
       "      <td>145053974</td>\n",
       "    </tr>\n",
       "    <tr>\n",
       "      <th>7</th>\n",
       "      <td>201908</td>\n",
       "      <td>133809814</td>\n",
       "      <td>137576840</td>\n",
       "    </tr>\n",
       "    <tr>\n",
       "      <th>8</th>\n",
       "      <td>201909</td>\n",
       "      <td>134382556</td>\n",
       "      <td>138184213</td>\n",
       "    </tr>\n",
       "    <tr>\n",
       "      <th>9</th>\n",
       "      <td>201910</td>\n",
       "      <td>138805578</td>\n",
       "      <td>142636150</td>\n",
       "    </tr>\n",
       "    <tr>\n",
       "      <th>10</th>\n",
       "      <td>201911</td>\n",
       "      <td>141290807</td>\n",
       "      <td>145116580</td>\n",
       "    </tr>\n",
       "    <tr>\n",
       "      <th>11</th>\n",
       "      <td>201912</td>\n",
       "      <td>139903037</td>\n",
       "      <td>143630056</td>\n",
       "    </tr>\n",
       "    <tr>\n",
       "      <th>12</th>\n",
       "      <td>202001</td>\n",
       "      <td>120658305</td>\n",
       "      <td>123776126</td>\n",
       "    </tr>\n",
       "    <tr>\n",
       "      <th>13</th>\n",
       "      <td>202002</td>\n",
       "      <td>114794874</td>\n",
       "      <td>117758688</td>\n",
       "    </tr>\n",
       "    <tr>\n",
       "      <th>14</th>\n",
       "      <td>202003</td>\n",
       "      <td>90881049</td>\n",
       "      <td>93144356</td>\n",
       "    </tr>\n",
       "    <tr>\n",
       "      <th>15</th>\n",
       "      <td>202004</td>\n",
       "      <td>96551432</td>\n",
       "      <td>98917468</td>\n",
       "    </tr>\n",
       "    <tr>\n",
       "      <th>16</th>\n",
       "      <td>202005</td>\n",
       "      <td>103948571</td>\n",
       "      <td>106563164</td>\n",
       "    </tr>\n",
       "    <tr>\n",
       "      <th>17</th>\n",
       "      <td>202006</td>\n",
       "      <td>113911015</td>\n",
       "      <td>116823215</td>\n",
       "    </tr>\n",
       "    <tr>\n",
       "      <th>18</th>\n",
       "      <td>202007</td>\n",
       "      <td>114836544</td>\n",
       "      <td>117780597</td>\n",
       "    </tr>\n",
       "    <tr>\n",
       "      <th>19</th>\n",
       "      <td>202008</td>\n",
       "      <td>102935206</td>\n",
       "      <td>105552259</td>\n",
       "    </tr>\n",
       "    <tr>\n",
       "      <th>20</th>\n",
       "      <td>202009</td>\n",
       "      <td>97673528</td>\n",
       "      <td>100019472</td>\n",
       "    </tr>\n",
       "    <tr>\n",
       "      <th>21</th>\n",
       "      <td>202010</td>\n",
       "      <td>103222672</td>\n",
       "      <td>105720064</td>\n",
       "    </tr>\n",
       "    <tr>\n",
       "      <th>22</th>\n",
       "      <td>202011</td>\n",
       "      <td>112339942</td>\n",
       "      <td>115030193</td>\n",
       "    </tr>\n",
       "    <tr>\n",
       "      <th>23</th>\n",
       "      <td>202012</td>\n",
       "      <td>86469438</td>\n",
       "      <td>88401790</td>\n",
       "    </tr>\n",
       "    <tr>\n",
       "      <th>24</th>\n",
       "      <td>202101</td>\n",
       "      <td>87287800</td>\n",
       "      <td>89287476</td>\n",
       "    </tr>\n",
       "    <tr>\n",
       "      <th>25</th>\n",
       "      <td>202102</td>\n",
       "      <td>97238840</td>\n",
       "      <td>99454170</td>\n",
       "    </tr>\n",
       "    <tr>\n",
       "      <th>26</th>\n",
       "      <td>202103</td>\n",
       "      <td>107180452</td>\n",
       "      <td>109707542</td>\n",
       "    </tr>\n",
       "    <tr>\n",
       "      <th>27</th>\n",
       "      <td>202104</td>\n",
       "      <td>108038145</td>\n",
       "      <td>110561739</td>\n",
       "    </tr>\n",
       "    <tr>\n",
       "      <th>28</th>\n",
       "      <td>202105</td>\n",
       "      <td>105440442</td>\n",
       "      <td>107932852</td>\n",
       "    </tr>\n",
       "    <tr>\n",
       "      <th>29</th>\n",
       "      <td>202106</td>\n",
       "      <td>110997447</td>\n",
       "      <td>113607481</td>\n",
       "    </tr>\n",
       "    <tr>\n",
       "      <th>30</th>\n",
       "      <td>202107</td>\n",
       "      <td>102624338</td>\n",
       "      <td>104953936</td>\n",
       "    </tr>\n",
       "  </tbody>\n",
       "</table>\n",
       "</div>"
      ],
      "text/plain": [
       "      year        승하객        하차객\n",
       "0   201901  128937436  132780532\n",
       "1   201902  124789738  128547850\n",
       "2   201903  140433878  144709644\n",
       "3   201904  143084559  147452704\n",
       "4   201905  139996976  144202984\n",
       "5   201906  138784006  142926564\n",
       "6   201907  140962485  145053974\n",
       "7   201908  133809814  137576840\n",
       "8   201909  134382556  138184213\n",
       "9   201910  138805578  142636150\n",
       "10  201911  141290807  145116580\n",
       "11  201912  139903037  143630056\n",
       "12  202001  120658305  123776126\n",
       "13  202002  114794874  117758688\n",
       "14  202003   90881049   93144356\n",
       "15  202004   96551432   98917468\n",
       "16  202005  103948571  106563164\n",
       "17  202006  113911015  116823215\n",
       "18  202007  114836544  117780597\n",
       "19  202008  102935206  105552259\n",
       "20  202009   97673528  100019472\n",
       "21  202010  103222672  105720064\n",
       "22  202011  112339942  115030193\n",
       "23  202012   86469438   88401790\n",
       "24  202101   87287800   89287476\n",
       "25  202102   97238840   99454170\n",
       "26  202103  107180452  109707542\n",
       "27  202104  108038145  110561739\n",
       "28  202105  105440442  107932852\n",
       "29  202106  110997447  113607481\n",
       "30  202107  102624338  104953936"
      ]
     },
     "execution_count": 6,
     "metadata": {},
     "output_type": "execute_result"
    }
   ],
   "source": [
    "# 불러올 폴더 위치 지정\n",
    "dt_path = \"C:/Users/NaEunSu/critical_shoot_project/01.source/01.데이터가공/02.데이터/\"\n",
    "\n",
    "# 버스 이용현황 불러오기\n",
    "pd.read_csv(dt_path + \"월별 버스이용객수.csv\",encoding=\"cp949\"  )"
   ]
  },
  {
   "cell_type": "code",
   "execution_count": 8,
   "metadata": {},
   "outputs": [
    {
     "data": {
      "text/plain": [
       "['metro_total_v01_210812.csv',\n",
       " 'people_data5.csv',\n",
       " '버스_이용자현황_2019_2021.csv',\n",
       " '서울 공공 자전거 대여소별 이용건수(월별).csv',\n",
       " '서울버스정류소좌표.csv',\n",
       " '서울지하철역좌표.csv',\n",
       " '월별 버스이용객수.csv']"
      ]
     },
     "execution_count": 8,
     "metadata": {},
     "output_type": "execute_result"
    }
   ],
   "source": [
    "# 데이터 생성 및 검증 \n",
    "# 해당 위치의 모든 파일명을 list 형태로 가져옴 \n",
    "fd_filenm = os.listdir(\"C:/Users/NaEunSu/critical_shoot_project/01.source/01.데이터가공/02.데이터/\")\n",
    "\n",
    "# 확장자가 csv인 경우에만 리스트에 담도록 하는 구문\n",
    "fd_filenm=[filenm for filenm in fd_filenm if filenm[-3:]=='csv']\n",
    "fd_filenm"
   ]
  },
  {
   "cell_type": "code",
   "execution_count": 9,
   "metadata": {},
   "outputs": [],
   "source": [
    "\n",
    "def mergeReadCsv(arg_fnm_list):\n",
    "# 버스 이용현황 데이터 폴더\n",
    "    fd_path = '../02.data/서울시버스_이용현황/'\n",
    "    df_column = ['사용일자', '노선번호', '역명', '승차총승객수', '하차총승객수', '등록일자']\n",
    "\n",
    "    err_li=[]\n",
    "    dfs = pd.DataFrame()\n",
    "\n",
    "    for fnm in arg_fnm_list:\n",
    "        print(fnm)\n",
    "        # f=open(fd_path+fnm, \"r\")\n",
    "        # print(type(f), f)\n",
    "        # print()\n",
    "        # f.close()\n",
    "\n",
    "        # try 문을 사용한 것은 read_csv 로 파일을 열었을때 파일의 정보는 cp949 인코딩으로 나와 있지만 실제 열리지 않는 이슈가 있음.\n",
    "        # 노트패드로 해당 파일을 열었을때, 컬럼 열은 6열 데이터의 열은 7열로 되어 있었으며 \"\" 빈값이 작성되어 있었음.\n",
    "        try:\n",
    "            df = pd.read_csv(fd_path+fnm, encoding='cp949', skiprows=1)\n",
    "        # 오류가 발생된 경우 \n",
    "        except:\n",
    "            print(\"오류발생:\", fnm)\n",
    "            err_li.append(fnm)\n",
    "            df = pd.read_csv(fd_path+fnm, encoding='utf-8', skiprows=1)\n",
    "            if df.shape[1] == 7:\n",
    "                df = df.iloc[:, :-1]\n",
    "            df.columns = df_column            \n",
    "            dfs = pd.concat([dfs, df])\n",
    "        # 정상적으로 read_csv 가 수행된 경우 \n",
    "        else:\n",
    "            # 파일을 합치는 중에 컬럼 열은 6열, 데이터는 7열인 파일이 있어서 변경하기 위해 반영\n",
    "            if df.shape[1] == 7:\n",
    "                df = df.iloc[:, :-1]\n",
    "            df.columns = df_column\n",
    "            dfs = pd.concat([dfs, df])\n",
    "    print(err_li)\n",
    "    return dfs    \n"
   ]
  },
  {
   "cell_type": "code",
   "execution_count": 11,
   "metadata": {},
   "outputs": [
    {
     "name": "stdout",
     "output_type": "stream",
     "text": [
      "BUS_STATION_BOARDING_MONTH_201901.csv\n",
      "BUS_STATION_BOARDING_MONTH_201902.csv\n",
      "BUS_STATION_BOARDING_MONTH_201903.csv\n",
      "BUS_STATION_BOARDING_MONTH_201904.csv\n",
      "BUS_STATION_BOARDING_MONTH_201905.csv\n",
      "BUS_STATION_BOARDING_MONTH_201906.csv\n",
      "BUS_STATION_BOARDING_MONTH_201907.csv\n",
      "BUS_STATION_BOARDING_MONTH_201908.csv\n",
      "BUS_STATION_BOARDING_MONTH_201909.csv\n",
      "BUS_STATION_BOARDING_MONTH_201910.csv\n",
      "BUS_STATION_BOARDING_MONTH_201911.csv\n",
      "BUS_STATION_BOARDING_MONTH_201912.csv\n",
      "BUS_STATION_BOARDING_MONTH_202001.csv\n",
      "BUS_STATION_BOARDING_MONTH_202002.csv\n",
      "BUS_STATION_BOARDING_MONTH_202003.csv\n",
      "BUS_STATION_BOARDING_MONTH_202004.csv\n",
      "BUS_STATION_BOARDING_MONTH_202005.csv\n",
      "BUS_STATION_BOARDING_MONTH_202006.csv\n",
      "BUS_STATION_BOARDING_MONTH_202007.csv\n",
      "BUS_STATION_BOARDING_MONTH_202008.csv\n",
      "BUS_STATION_BOARDING_MONTH_202009.csv\n",
      "BUS_STATION_BOARDING_MONTH_202010.csv\n",
      "BUS_STATION_BOARDING_MONTH_202011.csv\n",
      "BUS_STATION_BOARDING_MONTH_202012.csv\n",
      "BUS_STATION_BOARDING_MONTH_202101.csv\n",
      "BUS_STATION_BOARDING_MONTH_202102.csv\n",
      "BUS_STATION_BOARDING_MONTH_202103.csv\n",
      "BUS_STATION_BOARDING_MONTH_202104.csv\n",
      "BUS_STATION_BOARDING_MONTH_202105.csv\n",
      "BUS_STATION_BOARDING_MONTH_202106.csv\n",
      "BUS_STATION_BOARDING_MONTH_202107.csv\n",
      "[]\n"
     ]
    }
   ],
   "source": [
    "tot_df=mergeReadCsv(fd_filenm)"
   ]
  },
  {
   "cell_type": "code",
   "execution_count": 12,
   "metadata": {},
   "outputs": [
    {
     "name": "stdout",
     "output_type": "stream",
     "text": [
      "<class 'pandas.core.frame.DataFrame'>\n",
      "Int64Index: 32505794 entries, 0 to 1048573\n",
      "Data columns (total 6 columns):\n",
      " #   Column  Dtype \n",
      "---  ------  ----- \n",
      " 0   사용일자    int64 \n",
      " 1   노선번호    object\n",
      " 2   역명      object\n",
      " 3   승차총승객수  int64 \n",
      " 4   하차총승객수  int64 \n",
      " 5   등록일자    int64 \n",
      "dtypes: int64(4), object(2)\n",
      "memory usage: 1.7+ GB\n"
     ]
    }
   ],
   "source": [
    "tot_df.info()"
   ]
  },
  {
   "cell_type": "code",
   "execution_count": 14,
   "metadata": {},
   "outputs": [],
   "source": [
    "tot_df=tot_df.drop('등록일자', axis=1)"
   ]
  },
  {
   "cell_type": "code",
   "execution_count": null,
   "metadata": {},
   "outputs": [],
   "source": [
    "tot_df.dtypes()"
   ]
  },
  {
   "cell_type": "code",
   "execution_count": 16,
   "metadata": {},
   "outputs": [],
   "source": [
    "modi_df = tot_df.astype({'사용일자': 'str'})"
   ]
  },
  {
   "cell_type": "code",
   "execution_count": 18,
   "metadata": {},
   "outputs": [
    {
     "data": {
      "text/plain": [
       "사용일자      object\n",
       "노선번호      object\n",
       "역명        object\n",
       "승차총승객수     int64\n",
       "하차총승객수     int64\n",
       "dtype: object"
      ]
     },
     "execution_count": 18,
     "metadata": {},
     "output_type": "execute_result"
    }
   ],
   "source": [
    "modi_df.dtypes"
   ]
  },
  {
   "cell_type": "code",
   "execution_count": 19,
   "metadata": {},
   "outputs": [],
   "source": [
    "# 특정컬러명 변경 inplace True 는 해당 dataframe 에 반영여부\n",
    "modi_df.rename(columns={'사용일자': '사용월'}, inplace=True)"
   ]
  },
  {
   "cell_type": "code",
   "execution_count": 20,
   "metadata": {},
   "outputs": [
    {
     "data": {
      "text/plain": [
       "Index(['사용월', '노선번호', '역명', '승차총승객수', '하차총승객수'], dtype='object')"
      ]
     },
     "execution_count": 20,
     "metadata": {},
     "output_type": "execute_result"
    }
   ],
   "source": [
    "modi_df.columns"
   ]
  },
  {
   "cell_type": "code",
   "execution_count": 21,
   "metadata": {},
   "outputs": [],
   "source": [
    "modi_df=modi_df.groupby(['사용월', '노선번호', '역명']).sum(['승차총승객수', '하차총승객수'])"
   ]
  },
  {
   "cell_type": "code",
   "execution_count": 23,
   "metadata": {},
   "outputs": [],
   "source": [
    "modi_df.reset_index(inplace=True)"
   ]
  },
  {
   "cell_type": "code",
   "execution_count": 26,
   "metadata": {},
   "outputs": [],
   "source": [
    "# 파일저장\n",
    "modi_df.to_csv('버스_이용자현황_2019_2021.csv', sep=',' ,encoding='cp949')"
   ]
  }
 ],
 "metadata": {
  "interpreter": {
   "hash": "74ac2c347abb782a3d2f694c8d9341193b1005c179381ae3abf4a67743d7a946"
  },
  "kernelspec": {
   "display_name": "Python 3",
   "language": "python",
   "name": "python3"
  },
  "language_info": {
   "codemirror_mode": {
    "name": "ipython",
    "version": 3
   },
   "file_extension": ".py",
   "mimetype": "text/x-python",
   "name": "python",
   "nbconvert_exporter": "python",
   "pygments_lexer": "ipython3",
   "version": "3.8.8"
  }
 },
 "nbformat": 4,
 "nbformat_minor": 2
}
