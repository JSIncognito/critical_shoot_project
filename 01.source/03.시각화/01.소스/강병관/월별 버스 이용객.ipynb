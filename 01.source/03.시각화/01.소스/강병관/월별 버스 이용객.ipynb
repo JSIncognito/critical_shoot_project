{
    "cells": [
        {
            "cell_type": "code",
            "execution_count": null,
            "source": [
                "import matplotlib\r\n",
                "import pandas as pd\r\n",
                "\r\n",
                "a=[]\r\n",
                "b=[]\r\n",
                "c=[]\r\n",
                "for i in range(201901,201913):\r\n",
                "    bus_i=pd.read_csv('C:/Users/user/Desktop/critical_shoot_project/02.team_project_data/서울시버스_이용현황/BUS_STATION_BOARDING_MONTH_'+str(i)+'.csv')\r\n",
                "    a.append(i)\r\n",
                "    b.append(sum(bus_i.iloc[:,4]))\r\n",
                "    c.append(sum(bus_i.iloc[:,3]))\r\n",
                "for i in range(202001,202013):\r\n",
                "    bus_i=pd.read_csv('C:/Users/user/Desktop/critical_shoot_project/02.team_project_data/서울시버스_이용현황/BUS_STATION_BOARDING_MONTH_'+str(i)+'.csv')\r\n",
                "    a.append(i)\r\n",
                "    b.append(sum(bus_i.iloc[:,4]))\r\n",
                "    c.append(sum(bus_i.iloc[:,3]))\r\n",
                "for i in range(202101,202108):\r\n",
                "    bus_i=pd.read_csv('C:/Users/user/Desktop/critical_shoot_project/02.team_project_data/서울시버스_이용현황/BUS_STATION_BOARDING_MONTH_'+str(i)+'.csv')\r\n",
                "    a.append(i)\r\n",
                "    b.append(sum(bus_i.iloc[:,4]))\r\n",
                "    c.append(sum(bus_i.iloc[:,3]))\r\n",
                "\r\n",
                "data={'year':a,'승하객':b, '하차객' :c}\r\n",
                "bus_df=pd.DataFrame(data).set_index('year')\r\n",
                "\r\n",
                "matplotlib.rcParams['font.family'] ='Malgun Gothic'\r\n",
                "\r\n",
                "matplotlib.rcParams['axes.unicode_minus'] =False\r\n",
                "\r\n",
                "#월별 버스 이용객 시각화\r\n",
                "bus_df.plot(kind='bar',title='월별 버스이용객 현황')\r\n",
                "\r\n",
                "#가공 데이터 저장\r\n",
                "bus_df.to_csv('C:/Users/user/Desktop/critical_shoot_project/01.source/01.데이터가공/02.데이터/월별 버스이용객수.csv', encoding='euc-kr')\r\n"
            ],
            "outputs": [],
            "metadata": {}
        },
        {
            "cell_type": "code",
            "execution_count": null,
            "source": [],
            "outputs": [],
            "metadata": {}
        },
        {
            "cell_type": "code",
            "execution_count": null,
            "source": [],
            "outputs": [],
            "metadata": {}
        }
    ],
    "metadata": {
        "orig_nbformat": 4,
        "language_info": {
            "name": "python"
        }
    },
    "nbformat": 4,
    "nbformat_minor": 2
}