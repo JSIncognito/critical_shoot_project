{
 "cells": [
  {
   "cell_type": "code",
   "execution_count": 161,
   "id": "cfcbbf11",
   "metadata": {},
   "outputs": [],
   "source": [
    "import pandas as pd\n",
    "import numpy as np\n",
    "import matplotlib as mpl\n",
    "from matplotlib import pyplot as plt\n",
    "import plotly.express as px\n",
    "import datetime\n",
    "import seaborn as sns\n",
    "\n",
    "import plotly.graph_objects as go"
   ]
  },
  {
   "cell_type": "code",
   "execution_count": 34,
   "id": "5138b8d4",
   "metadata": {},
   "outputs": [],
   "source": [
    "plt.rcParams['font.family'] = 'Noto Sans CJK KR'"
   ]
  },
  {
   "cell_type": "code",
   "execution_count": 194,
   "id": "5517ab49",
   "metadata": {},
   "outputs": [
    {
     "name": "stderr",
     "output_type": "stream",
     "text": [
      "C:\\Users\\NaEunSu\\anaconda3\\lib\\site-packages\\openpyxl\\styles\\stylesheet.py:221: UserWarning:\n",
      "\n",
      "Workbook contains no default style, apply openpyxl's default\n",
      "\n"
     ]
    }
   ],
   "source": [
    "path = \"C:/Users/NaEunSu/Downloads/\"\n",
    "path2 = \"C:/Users/NaEunSu/critical_shoot_project/01.source/01.데이터가공/02.데이터/\"\n",
    "death = pd.read_excel(path + \"기본통계_질병별_사망.xlsx\", skiprows=4,thousands = ',')\n",
    "month = pd.read_excel(path + \"기본통계_질병별_월별.xlsx\", skiprows=4,thousands = ',')\n",
    "covid = pd.read_excel(path2+ \"covid19(월별확진자).xlsx\")"
   ]
  },
  {
   "cell_type": "code",
   "execution_count": 195,
   "id": "c753b4c9",
   "metadata": {},
   "outputs": [
    {
     "data": {
      "text/html": [
       "<div>\n",
       "<style scoped>\n",
       "    .dataframe tbody tr th:only-of-type {\n",
       "        vertical-align: middle;\n",
       "    }\n",
       "\n",
       "    .dataframe tbody tr th {\n",
       "        vertical-align: top;\n",
       "    }\n",
       "\n",
       "    .dataframe thead th {\n",
       "        text-align: right;\n",
       "    }\n",
       "</style>\n",
       "<table border=\"1\" class=\"dataframe\">\n",
       "  <thead>\n",
       "    <tr style=\"text-align: right;\">\n",
       "      <th></th>\n",
       "      <th>Unnamed: 0</th>\n",
       "      <th>구분</th>\n",
       "      <th>구분.1</th>\n",
       "      <th>계</th>\n",
       "      <th>1월</th>\n",
       "      <th>2월</th>\n",
       "      <th>3월</th>\n",
       "      <th>4월</th>\n",
       "      <th>5월</th>\n",
       "      <th>6월</th>\n",
       "      <th>7월</th>\n",
       "      <th>8월</th>\n",
       "      <th>9월</th>\n",
       "      <th>10월</th>\n",
       "      <th>11월</th>\n",
       "      <th>12월</th>\n",
       "      <th>Unnamed: 16</th>\n",
       "    </tr>\n",
       "  </thead>\n",
       "  <tbody>\n",
       "    <tr>\n",
       "      <th>0</th>\n",
       "      <td>NaN</td>\n",
       "      <td>1급</td>\n",
       "      <td>에볼라바이러스병</td>\n",
       "      <td>0.0</td>\n",
       "      <td>0.0</td>\n",
       "      <td>0.0</td>\n",
       "      <td>0.0</td>\n",
       "      <td>0.0</td>\n",
       "      <td>0.0</td>\n",
       "      <td>0.0</td>\n",
       "      <td>0.0</td>\n",
       "      <td>0.0</td>\n",
       "      <td>0.0</td>\n",
       "      <td>0.0</td>\n",
       "      <td>0.0</td>\n",
       "      <td>0.0</td>\n",
       "      <td>NaN</td>\n",
       "    </tr>\n",
       "    <tr>\n",
       "      <th>1</th>\n",
       "      <td>NaN</td>\n",
       "      <td>1급</td>\n",
       "      <td>마버그열</td>\n",
       "      <td>0.0</td>\n",
       "      <td>0.0</td>\n",
       "      <td>0.0</td>\n",
       "      <td>0.0</td>\n",
       "      <td>0.0</td>\n",
       "      <td>0.0</td>\n",
       "      <td>0.0</td>\n",
       "      <td>0.0</td>\n",
       "      <td>0.0</td>\n",
       "      <td>0.0</td>\n",
       "      <td>0.0</td>\n",
       "      <td>0.0</td>\n",
       "      <td>0.0</td>\n",
       "      <td>NaN</td>\n",
       "    </tr>\n",
       "    <tr>\n",
       "      <th>2</th>\n",
       "      <td>NaN</td>\n",
       "      <td>1급</td>\n",
       "      <td>라싸열</td>\n",
       "      <td>0.0</td>\n",
       "      <td>0.0</td>\n",
       "      <td>0.0</td>\n",
       "      <td>0.0</td>\n",
       "      <td>0.0</td>\n",
       "      <td>0.0</td>\n",
       "      <td>0.0</td>\n",
       "      <td>0.0</td>\n",
       "      <td>0.0</td>\n",
       "      <td>0.0</td>\n",
       "      <td>0.0</td>\n",
       "      <td>0.0</td>\n",
       "      <td>0.0</td>\n",
       "      <td>NaN</td>\n",
       "    </tr>\n",
       "    <tr>\n",
       "      <th>3</th>\n",
       "      <td>NaN</td>\n",
       "      <td>1급</td>\n",
       "      <td>크리미안콩고출혈열</td>\n",
       "      <td>0.0</td>\n",
       "      <td>0.0</td>\n",
       "      <td>0.0</td>\n",
       "      <td>0.0</td>\n",
       "      <td>0.0</td>\n",
       "      <td>0.0</td>\n",
       "      <td>0.0</td>\n",
       "      <td>0.0</td>\n",
       "      <td>0.0</td>\n",
       "      <td>0.0</td>\n",
       "      <td>0.0</td>\n",
       "      <td>0.0</td>\n",
       "      <td>0.0</td>\n",
       "      <td>NaN</td>\n",
       "    </tr>\n",
       "    <tr>\n",
       "      <th>4</th>\n",
       "      <td>NaN</td>\n",
       "      <td>1급</td>\n",
       "      <td>남아메리카출혈열</td>\n",
       "      <td>0.0</td>\n",
       "      <td>0.0</td>\n",
       "      <td>0.0</td>\n",
       "      <td>0.0</td>\n",
       "      <td>0.0</td>\n",
       "      <td>0.0</td>\n",
       "      <td>0.0</td>\n",
       "      <td>0.0</td>\n",
       "      <td>0.0</td>\n",
       "      <td>0.0</td>\n",
       "      <td>0.0</td>\n",
       "      <td>0.0</td>\n",
       "      <td>0.0</td>\n",
       "      <td>NaN</td>\n",
       "    </tr>\n",
       "    <tr>\n",
       "      <th>...</th>\n",
       "      <td>...</td>\n",
       "      <td>...</td>\n",
       "      <td>...</td>\n",
       "      <td>...</td>\n",
       "      <td>...</td>\n",
       "      <td>...</td>\n",
       "      <td>...</td>\n",
       "      <td>...</td>\n",
       "      <td>...</td>\n",
       "      <td>...</td>\n",
       "      <td>...</td>\n",
       "      <td>...</td>\n",
       "      <td>...</td>\n",
       "      <td>...</td>\n",
       "      <td>...</td>\n",
       "      <td>...</td>\n",
       "      <td>...</td>\n",
       "    </tr>\n",
       "    <tr>\n",
       "      <th>61</th>\n",
       "      <td>NaN</td>\n",
       "      <td>3급</td>\n",
       "      <td>치쿤구니야열</td>\n",
       "      <td>0.0</td>\n",
       "      <td>0.0</td>\n",
       "      <td>0.0</td>\n",
       "      <td>0.0</td>\n",
       "      <td>0.0</td>\n",
       "      <td>0.0</td>\n",
       "      <td>0.0</td>\n",
       "      <td>0.0</td>\n",
       "      <td>0.0</td>\n",
       "      <td>0.0</td>\n",
       "      <td>0.0</td>\n",
       "      <td>0.0</td>\n",
       "      <td>0.0</td>\n",
       "      <td>NaN</td>\n",
       "    </tr>\n",
       "    <tr>\n",
       "      <th>62</th>\n",
       "      <td>NaN</td>\n",
       "      <td>3급</td>\n",
       "      <td>중증열성혈소판감소증후군(SFTS)</td>\n",
       "      <td>37.0</td>\n",
       "      <td>0.0</td>\n",
       "      <td>0.0</td>\n",
       "      <td>0.0</td>\n",
       "      <td>0.0</td>\n",
       "      <td>2.0</td>\n",
       "      <td>5.0</td>\n",
       "      <td>7.0</td>\n",
       "      <td>5.0</td>\n",
       "      <td>6.0</td>\n",
       "      <td>9.0</td>\n",
       "      <td>3.0</td>\n",
       "      <td>0.0</td>\n",
       "      <td>NaN</td>\n",
       "    </tr>\n",
       "    <tr>\n",
       "      <th>63</th>\n",
       "      <td>NaN</td>\n",
       "      <td>3급</td>\n",
       "      <td>지카바이러스감염증</td>\n",
       "      <td>0.0</td>\n",
       "      <td>0.0</td>\n",
       "      <td>0.0</td>\n",
       "      <td>0.0</td>\n",
       "      <td>0.0</td>\n",
       "      <td>0.0</td>\n",
       "      <td>0.0</td>\n",
       "      <td>0.0</td>\n",
       "      <td>0.0</td>\n",
       "      <td>0.0</td>\n",
       "      <td>0.0</td>\n",
       "      <td>0.0</td>\n",
       "      <td>0.0</td>\n",
       "      <td>NaN</td>\n",
       "    </tr>\n",
       "    <tr>\n",
       "      <th>64</th>\n",
       "      <td>NaN</td>\n",
       "      <td>NaN</td>\n",
       "      <td>NaN</td>\n",
       "      <td>NaN</td>\n",
       "      <td>NaN</td>\n",
       "      <td>NaN</td>\n",
       "      <td>NaN</td>\n",
       "      <td>NaN</td>\n",
       "      <td>NaN</td>\n",
       "      <td>NaN</td>\n",
       "      <td>NaN</td>\n",
       "      <td>NaN</td>\n",
       "      <td>NaN</td>\n",
       "      <td>NaN</td>\n",
       "      <td>NaN</td>\n",
       "      <td>NaN</td>\n",
       "      <td>NaN</td>\n",
       "    </tr>\n",
       "    <tr>\n",
       "      <th>65</th>\n",
       "      <td>NaN</td>\n",
       "      <td>• 감염병의 예방 및 관리에 관한 법률에 근거하여 국가감염병감시체계를 통하여 보고된...</td>\n",
       "      <td>NaN</td>\n",
       "      <td>NaN</td>\n",
       "      <td>NaN</td>\n",
       "      <td>NaN</td>\n",
       "      <td>NaN</td>\n",
       "      <td>NaN</td>\n",
       "      <td>NaN</td>\n",
       "      <td>NaN</td>\n",
       "      <td>NaN</td>\n",
       "      <td>NaN</td>\n",
       "      <td>NaN</td>\n",
       "      <td>NaN</td>\n",
       "      <td>NaN</td>\n",
       "      <td>NaN</td>\n",
       "      <td>NaN</td>\n",
       "    </tr>\n",
       "  </tbody>\n",
       "</table>\n",
       "<p>66 rows × 17 columns</p>\n",
       "</div>"
      ],
      "text/plain": [
       "    Unnamed: 0                                                 구분  \\\n",
       "0          NaN                                                 1급   \n",
       "1          NaN                                                 1급   \n",
       "2          NaN                                                 1급   \n",
       "3          NaN                                                 1급   \n",
       "4          NaN                                                 1급   \n",
       "..         ...                                                ...   \n",
       "61         NaN                                                 3급   \n",
       "62         NaN                                                 3급   \n",
       "63         NaN                                                 3급   \n",
       "64         NaN                                                NaN   \n",
       "65         NaN  • 감염병의 예방 및 관리에 관한 법률에 근거하여 국가감염병감시체계를 통하여 보고된...   \n",
       "\n",
       "                  구분.1     계   1월   2월   3월   4월   5월   6월   7월   8월   9월  \\\n",
       "0             에볼라바이러스병   0.0  0.0  0.0  0.0  0.0  0.0  0.0  0.0  0.0  0.0   \n",
       "1                 마버그열   0.0  0.0  0.0  0.0  0.0  0.0  0.0  0.0  0.0  0.0   \n",
       "2                  라싸열   0.0  0.0  0.0  0.0  0.0  0.0  0.0  0.0  0.0  0.0   \n",
       "3            크리미안콩고출혈열   0.0  0.0  0.0  0.0  0.0  0.0  0.0  0.0  0.0  0.0   \n",
       "4             남아메리카출혈열   0.0  0.0  0.0  0.0  0.0  0.0  0.0  0.0  0.0  0.0   \n",
       "..                 ...   ...  ...  ...  ...  ...  ...  ...  ...  ...  ...   \n",
       "61              치쿤구니야열   0.0  0.0  0.0  0.0  0.0  0.0  0.0  0.0  0.0  0.0   \n",
       "62  중증열성혈소판감소증후군(SFTS)  37.0  0.0  0.0  0.0  0.0  2.0  5.0  7.0  5.0  6.0   \n",
       "63           지카바이러스감염증   0.0  0.0  0.0  0.0  0.0  0.0  0.0  0.0  0.0  0.0   \n",
       "64                 NaN   NaN  NaN  NaN  NaN  NaN  NaN  NaN  NaN  NaN  NaN   \n",
       "65                 NaN   NaN  NaN  NaN  NaN  NaN  NaN  NaN  NaN  NaN  NaN   \n",
       "\n",
       "    10월  11월  12월  Unnamed: 16  \n",
       "0   0.0  0.0  0.0          NaN  \n",
       "1   0.0  0.0  0.0          NaN  \n",
       "2   0.0  0.0  0.0          NaN  \n",
       "3   0.0  0.0  0.0          NaN  \n",
       "4   0.0  0.0  0.0          NaN  \n",
       "..  ...  ...  ...          ...  \n",
       "61  0.0  0.0  0.0          NaN  \n",
       "62  9.0  3.0  0.0          NaN  \n",
       "63  0.0  0.0  0.0          NaN  \n",
       "64  NaN  NaN  NaN          NaN  \n",
       "65  NaN  NaN  NaN          NaN  \n",
       "\n",
       "[66 rows x 17 columns]"
      ]
     },
     "execution_count": 195,
     "metadata": {},
     "output_type": "execute_result"
    }
   ],
   "source": [
    "death"
   ]
  },
  {
   "cell_type": "code",
   "execution_count": 196,
   "id": "2dca8a48",
   "metadata": {},
   "outputs": [],
   "source": [
    "df_death = death.iloc[:-2 , 2:-1]\n",
    "df_month = month.iloc[:-2, 2:-1]"
   ]
  },
  {
   "cell_type": "code",
   "execution_count": 197,
   "id": "c44d89c8",
   "metadata": {},
   "outputs": [],
   "source": [
    "df_death.rename(columns={\"구분.1\" : \"질병\"}, inplace=True)\n",
    "df_month.rename(columns={\"구분.1\" : \"질병\"}, inplace=True)"
   ]
  },
  {
   "cell_type": "code",
   "execution_count": 198,
   "id": "ff790f75",
   "metadata": {},
   "outputs": [
    {
     "data": {
      "text/html": [
       "<div>\n",
       "<style scoped>\n",
       "    .dataframe tbody tr th:only-of-type {\n",
       "        vertical-align: middle;\n",
       "    }\n",
       "\n",
       "    .dataframe tbody tr th {\n",
       "        vertical-align: top;\n",
       "    }\n",
       "\n",
       "    .dataframe thead th {\n",
       "        text-align: right;\n",
       "    }\n",
       "</style>\n",
       "<table border=\"1\" class=\"dataframe\">\n",
       "  <thead>\n",
       "    <tr style=\"text-align: right;\">\n",
       "      <th></th>\n",
       "      <th>질병</th>\n",
       "      <th>계</th>\n",
       "      <th>1월</th>\n",
       "      <th>2월</th>\n",
       "      <th>3월</th>\n",
       "      <th>4월</th>\n",
       "      <th>5월</th>\n",
       "      <th>6월</th>\n",
       "      <th>7월</th>\n",
       "      <th>8월</th>\n",
       "      <th>9월</th>\n",
       "      <th>10월</th>\n",
       "      <th>11월</th>\n",
       "      <th>12월</th>\n",
       "    </tr>\n",
       "  </thead>\n",
       "  <tbody>\n",
       "    <tr>\n",
       "      <th>17</th>\n",
       "      <td>수두</td>\n",
       "      <td>31430.0</td>\n",
       "      <td>7882.0</td>\n",
       "      <td>4017.0</td>\n",
       "      <td>2127.0</td>\n",
       "      <td>1624.0</td>\n",
       "      <td>2299.0</td>\n",
       "      <td>2263.0</td>\n",
       "      <td>2102.0</td>\n",
       "      <td>2005.0</td>\n",
       "      <td>1342.0</td>\n",
       "      <td>1767.0</td>\n",
       "      <td>2208.0</td>\n",
       "      <td>1794.0</td>\n",
       "    </tr>\n",
       "    <tr>\n",
       "      <th>24</th>\n",
       "      <td>A형간염</td>\n",
       "      <td>3989.0</td>\n",
       "      <td>250.0</td>\n",
       "      <td>280.0</td>\n",
       "      <td>289.0</td>\n",
       "      <td>266.0</td>\n",
       "      <td>321.0</td>\n",
       "      <td>362.0</td>\n",
       "      <td>361.0</td>\n",
       "      <td>353.0</td>\n",
       "      <td>303.0</td>\n",
       "      <td>366.0</td>\n",
       "      <td>428.0</td>\n",
       "      <td>410.0</td>\n",
       "    </tr>\n",
       "    <tr>\n",
       "      <th>33</th>\n",
       "      <td>폐렴구균 감염증</td>\n",
       "      <td>345.0</td>\n",
       "      <td>79.0</td>\n",
       "      <td>53.0</td>\n",
       "      <td>34.0</td>\n",
       "      <td>20.0</td>\n",
       "      <td>25.0</td>\n",
       "      <td>21.0</td>\n",
       "      <td>17.0</td>\n",
       "      <td>16.0</td>\n",
       "      <td>18.0</td>\n",
       "      <td>17.0</td>\n",
       "      <td>17.0</td>\n",
       "      <td>28.0</td>\n",
       "    </tr>\n",
       "    <tr>\n",
       "      <th>37</th>\n",
       "      <td>카바페넴내성장내세균속균종(CRE) 감염증</td>\n",
       "      <td>18113.0</td>\n",
       "      <td>1455.0</td>\n",
       "      <td>1306.0</td>\n",
       "      <td>1159.0</td>\n",
       "      <td>1231.0</td>\n",
       "      <td>1337.0</td>\n",
       "      <td>1623.0</td>\n",
       "      <td>1853.0</td>\n",
       "      <td>1723.0</td>\n",
       "      <td>1703.0</td>\n",
       "      <td>1680.0</td>\n",
       "      <td>1569.0</td>\n",
       "      <td>1474.0</td>\n",
       "    </tr>\n",
       "  </tbody>\n",
       "</table>\n",
       "</div>"
      ],
      "text/plain": [
       "                        질병        계      1월      2월      3월      4월      5월  \\\n",
       "17                      수두  31430.0  7882.0  4017.0  2127.0  1624.0  2299.0   \n",
       "24                    A형간염   3989.0   250.0   280.0   289.0   266.0   321.0   \n",
       "33                폐렴구균 감염증    345.0    79.0    53.0    34.0    20.0    25.0   \n",
       "37  카바페넴내성장내세균속균종(CRE) 감염증  18113.0  1455.0  1306.0  1159.0  1231.0  1337.0   \n",
       "\n",
       "        6월      7월      8월      9월     10월     11월     12월  \n",
       "17  2263.0  2102.0  2005.0  1342.0  1767.0  2208.0  1794.0  \n",
       "24   362.0   361.0   353.0   303.0   366.0   428.0   410.0  \n",
       "33    21.0    17.0    16.0    18.0    17.0    17.0    28.0  \n",
       "37  1623.0  1853.0  1723.0  1703.0  1680.0  1569.0  1474.0  "
      ]
     },
     "execution_count": 198,
     "metadata": {},
     "output_type": "execute_result"
    }
   ],
   "source": [
    "d = df_month[\"질병\"]\n",
    "dfMonth = df_month[(d == \"카바페넴내성장내세균속균종(CRE) 감염증\")|\n",
    "                   (d == \"A형간염\")|\n",
    "                  (d == \"수두\")|\n",
    "                  (d == \"폐렴구균 감염증\")]\n",
    "dfMonth"
   ]
  },
  {
   "cell_type": "code",
   "execution_count": 199,
   "id": "0cabc53b",
   "metadata": {
    "scrolled": false
   },
   "outputs": [
    {
     "data": {
      "text/html": [
       "<div>\n",
       "<style scoped>\n",
       "    .dataframe tbody tr th:only-of-type {\n",
       "        vertical-align: middle;\n",
       "    }\n",
       "\n",
       "    .dataframe tbody tr th {\n",
       "        vertical-align: top;\n",
       "    }\n",
       "\n",
       "    .dataframe thead th {\n",
       "        text-align: right;\n",
       "    }\n",
       "</style>\n",
       "<table border=\"1\" class=\"dataframe\">\n",
       "  <thead>\n",
       "    <tr style=\"text-align: right;\">\n",
       "      <th></th>\n",
       "      <th>질병</th>\n",
       "      <th>계</th>\n",
       "      <th>1월</th>\n",
       "      <th>2월</th>\n",
       "      <th>3월</th>\n",
       "      <th>4월</th>\n",
       "      <th>5월</th>\n",
       "      <th>6월</th>\n",
       "      <th>7월</th>\n",
       "      <th>8월</th>\n",
       "      <th>9월</th>\n",
       "      <th>10월</th>\n",
       "      <th>11월</th>\n",
       "      <th>12월</th>\n",
       "    </tr>\n",
       "  </thead>\n",
       "  <tbody>\n",
       "    <tr>\n",
       "      <th>17</th>\n",
       "      <td>수두</td>\n",
       "      <td>0.0</td>\n",
       "      <td>0.0</td>\n",
       "      <td>0.0</td>\n",
       "      <td>0.0</td>\n",
       "      <td>0.0</td>\n",
       "      <td>0.0</td>\n",
       "      <td>0.0</td>\n",
       "      <td>0.0</td>\n",
       "      <td>0.0</td>\n",
       "      <td>0.0</td>\n",
       "      <td>0.0</td>\n",
       "      <td>0.0</td>\n",
       "      <td>0.0</td>\n",
       "    </tr>\n",
       "    <tr>\n",
       "      <th>24</th>\n",
       "      <td>A형간염</td>\n",
       "      <td>1.0</td>\n",
       "      <td>0.0</td>\n",
       "      <td>0.0</td>\n",
       "      <td>0.0</td>\n",
       "      <td>0.0</td>\n",
       "      <td>0.0</td>\n",
       "      <td>0.0</td>\n",
       "      <td>0.0</td>\n",
       "      <td>0.0</td>\n",
       "      <td>0.0</td>\n",
       "      <td>0.0</td>\n",
       "      <td>0.0</td>\n",
       "      <td>1.0</td>\n",
       "    </tr>\n",
       "    <tr>\n",
       "      <th>33</th>\n",
       "      <td>폐렴구균 감염증</td>\n",
       "      <td>68.0</td>\n",
       "      <td>21.0</td>\n",
       "      <td>9.0</td>\n",
       "      <td>4.0</td>\n",
       "      <td>6.0</td>\n",
       "      <td>2.0</td>\n",
       "      <td>3.0</td>\n",
       "      <td>7.0</td>\n",
       "      <td>3.0</td>\n",
       "      <td>2.0</td>\n",
       "      <td>4.0</td>\n",
       "      <td>2.0</td>\n",
       "      <td>5.0</td>\n",
       "    </tr>\n",
       "    <tr>\n",
       "      <th>37</th>\n",
       "      <td>카바페넴내성장내세균속균종(CRE) 감염증</td>\n",
       "      <td>226.0</td>\n",
       "      <td>21.0</td>\n",
       "      <td>18.0</td>\n",
       "      <td>15.0</td>\n",
       "      <td>15.0</td>\n",
       "      <td>14.0</td>\n",
       "      <td>17.0</td>\n",
       "      <td>22.0</td>\n",
       "      <td>21.0</td>\n",
       "      <td>24.0</td>\n",
       "      <td>28.0</td>\n",
       "      <td>16.0</td>\n",
       "      <td>15.0</td>\n",
       "    </tr>\n",
       "  </tbody>\n",
       "</table>\n",
       "</div>"
      ],
      "text/plain": [
       "                        질병      계    1월    2월    3월    4월    5월    6월    7월  \\\n",
       "17                      수두    0.0   0.0   0.0   0.0   0.0   0.0   0.0   0.0   \n",
       "24                    A형간염    1.0   0.0   0.0   0.0   0.0   0.0   0.0   0.0   \n",
       "33                폐렴구균 감염증   68.0  21.0   9.0   4.0   6.0   2.0   3.0   7.0   \n",
       "37  카바페넴내성장내세균속균종(CRE) 감염증  226.0  21.0  18.0  15.0  15.0  14.0  17.0  22.0   \n",
       "\n",
       "      8월    9월   10월   11월   12월  \n",
       "17   0.0   0.0   0.0   0.0   0.0  \n",
       "24   0.0   0.0   0.0   0.0   1.0  \n",
       "33   3.0   2.0   4.0   2.0   5.0  \n",
       "37  21.0  24.0  28.0  16.0  15.0  "
      ]
     },
     "execution_count": 199,
     "metadata": {},
     "output_type": "execute_result"
    }
   ],
   "source": [
    "d = df_death[\"질병\"]\n",
    "dfDeath = df_death[(d == \"카바페넴내성장내세균속균종(CRE) 감염증\")|\n",
    "                   (d == \"A형간염\")|\n",
    "                  (d == \"수두\")|\n",
    "                  (d == \"폐렴구균 감염증\")]\n",
    "dfDeath"
   ]
  },
  {
   "cell_type": "code",
   "execution_count": 200,
   "id": "e178be95",
   "metadata": {
    "scrolled": false
   },
   "outputs": [],
   "source": [
    "dfDeath.reset_index(drop=True,inplace=True)\n",
    "dfMonth.reset_index(drop=True,inplace=True)"
   ]
  },
  {
   "cell_type": "code",
   "execution_count": 201,
   "id": "d3bc91be",
   "metadata": {},
   "outputs": [],
   "source": [
    "covid.iloc[0:1, :1] = \"코로나\""
   ]
  },
  {
   "cell_type": "code",
   "execution_count": 202,
   "id": "f42bbbfa",
   "metadata": {},
   "outputs": [],
   "source": [
    "covid.rename(columns={\"Unnamed: 0\" : \"질병\"}, inplace=True)\n",
    "covid.rename(columns={\"총합\" : \"계\"}, inplace=True)"
   ]
  },
  {
   "cell_type": "code",
   "execution_count": 203,
   "id": "4de8a874",
   "metadata": {},
   "outputs": [],
   "source": [
    "dfCovid = covid.iloc[0:1, ]"
   ]
  },
  {
   "cell_type": "code",
   "execution_count": 204,
   "id": "49707c42",
   "metadata": {},
   "outputs": [
    {
     "data": {
      "text/html": [
       "<div>\n",
       "<style scoped>\n",
       "    .dataframe tbody tr th:only-of-type {\n",
       "        vertical-align: middle;\n",
       "    }\n",
       "\n",
       "    .dataframe tbody tr th {\n",
       "        vertical-align: top;\n",
       "    }\n",
       "\n",
       "    .dataframe thead th {\n",
       "        text-align: right;\n",
       "    }\n",
       "</style>\n",
       "<table border=\"1\" class=\"dataframe\">\n",
       "  <thead>\n",
       "    <tr style=\"text-align: right;\">\n",
       "      <th></th>\n",
       "      <th>질병</th>\n",
       "      <th>1월</th>\n",
       "      <th>2월</th>\n",
       "      <th>3월</th>\n",
       "      <th>4월</th>\n",
       "      <th>5월</th>\n",
       "      <th>6월</th>\n",
       "      <th>7월</th>\n",
       "      <th>8월</th>\n",
       "      <th>9월</th>\n",
       "      <th>10월</th>\n",
       "      <th>11월</th>\n",
       "      <th>12월</th>\n",
       "      <th>계</th>\n",
       "    </tr>\n",
       "  </thead>\n",
       "  <tbody>\n",
       "    <tr>\n",
       "      <th>0</th>\n",
       "      <td>코로나</td>\n",
       "      <td>7</td>\n",
       "      <td>80</td>\n",
       "      <td>391</td>\n",
       "      <td>156</td>\n",
       "      <td>229</td>\n",
       "      <td>459</td>\n",
       "      <td>281</td>\n",
       "      <td>2415</td>\n",
       "      <td>1306</td>\n",
       "      <td>733</td>\n",
       "      <td>2904</td>\n",
       "      <td>10432</td>\n",
       "      <td>19393</td>\n",
       "    </tr>\n",
       "  </tbody>\n",
       "</table>\n",
       "</div>"
      ],
      "text/plain": [
       "    질병  1월  2월   3월   4월   5월   6월   7월    8월    9월  10월   11월    12월      계\n",
       "0  코로나   7  80  391  156  229  459  281  2415  1306  733  2904  10432  19393"
      ]
     },
     "execution_count": 204,
     "metadata": {},
     "output_type": "execute_result"
    }
   ],
   "source": [
    "dfCovid"
   ]
  },
  {
   "cell_type": "code",
   "execution_count": 215,
   "id": "92c16b0a",
   "metadata": {},
   "outputs": [],
   "source": [
    "df = pd.concat([dfMonth,dfCovid])\n",
    "df.reset_index(drop=True, inplace=True)"
   ]
  },
  {
   "cell_type": "code",
   "execution_count": 216,
   "id": "e294b358",
   "metadata": {
    "scrolled": false
   },
   "outputs": [
    {
     "data": {
      "text/html": [
       "<div>\n",
       "<style scoped>\n",
       "    .dataframe tbody tr th:only-of-type {\n",
       "        vertical-align: middle;\n",
       "    }\n",
       "\n",
       "    .dataframe tbody tr th {\n",
       "        vertical-align: top;\n",
       "    }\n",
       "\n",
       "    .dataframe thead th {\n",
       "        text-align: right;\n",
       "    }\n",
       "</style>\n",
       "<table border=\"1\" class=\"dataframe\">\n",
       "  <thead>\n",
       "    <tr style=\"text-align: right;\">\n",
       "      <th></th>\n",
       "      <th>질병</th>\n",
       "      <th>계</th>\n",
       "      <th>1월</th>\n",
       "      <th>2월</th>\n",
       "      <th>3월</th>\n",
       "      <th>4월</th>\n",
       "      <th>5월</th>\n",
       "      <th>6월</th>\n",
       "      <th>7월</th>\n",
       "      <th>8월</th>\n",
       "      <th>9월</th>\n",
       "      <th>10월</th>\n",
       "      <th>11월</th>\n",
       "      <th>12월</th>\n",
       "    </tr>\n",
       "  </thead>\n",
       "  <tbody>\n",
       "    <tr>\n",
       "      <th>0</th>\n",
       "      <td>수두</td>\n",
       "      <td>31430.0</td>\n",
       "      <td>7882.0</td>\n",
       "      <td>4017.0</td>\n",
       "      <td>2127.0</td>\n",
       "      <td>1624.0</td>\n",
       "      <td>2299.0</td>\n",
       "      <td>2263.0</td>\n",
       "      <td>2102.0</td>\n",
       "      <td>2005.0</td>\n",
       "      <td>1342.0</td>\n",
       "      <td>1767.0</td>\n",
       "      <td>2208.0</td>\n",
       "      <td>1794.0</td>\n",
       "    </tr>\n",
       "    <tr>\n",
       "      <th>1</th>\n",
       "      <td>A형간염</td>\n",
       "      <td>3989.0</td>\n",
       "      <td>250.0</td>\n",
       "      <td>280.0</td>\n",
       "      <td>289.0</td>\n",
       "      <td>266.0</td>\n",
       "      <td>321.0</td>\n",
       "      <td>362.0</td>\n",
       "      <td>361.0</td>\n",
       "      <td>353.0</td>\n",
       "      <td>303.0</td>\n",
       "      <td>366.0</td>\n",
       "      <td>428.0</td>\n",
       "      <td>410.0</td>\n",
       "    </tr>\n",
       "    <tr>\n",
       "      <th>2</th>\n",
       "      <td>폐렴구균 감염증</td>\n",
       "      <td>345.0</td>\n",
       "      <td>79.0</td>\n",
       "      <td>53.0</td>\n",
       "      <td>34.0</td>\n",
       "      <td>20.0</td>\n",
       "      <td>25.0</td>\n",
       "      <td>21.0</td>\n",
       "      <td>17.0</td>\n",
       "      <td>16.0</td>\n",
       "      <td>18.0</td>\n",
       "      <td>17.0</td>\n",
       "      <td>17.0</td>\n",
       "      <td>28.0</td>\n",
       "    </tr>\n",
       "    <tr>\n",
       "      <th>3</th>\n",
       "      <td>카바페넴내성장내세균속균종(CRE) 감염증</td>\n",
       "      <td>18113.0</td>\n",
       "      <td>1455.0</td>\n",
       "      <td>1306.0</td>\n",
       "      <td>1159.0</td>\n",
       "      <td>1231.0</td>\n",
       "      <td>1337.0</td>\n",
       "      <td>1623.0</td>\n",
       "      <td>1853.0</td>\n",
       "      <td>1723.0</td>\n",
       "      <td>1703.0</td>\n",
       "      <td>1680.0</td>\n",
       "      <td>1569.0</td>\n",
       "      <td>1474.0</td>\n",
       "    </tr>\n",
       "    <tr>\n",
       "      <th>4</th>\n",
       "      <td>코로나</td>\n",
       "      <td>19393.0</td>\n",
       "      <td>7.0</td>\n",
       "      <td>80.0</td>\n",
       "      <td>391.0</td>\n",
       "      <td>156.0</td>\n",
       "      <td>229.0</td>\n",
       "      <td>459.0</td>\n",
       "      <td>281.0</td>\n",
       "      <td>2415.0</td>\n",
       "      <td>1306.0</td>\n",
       "      <td>733.0</td>\n",
       "      <td>2904.0</td>\n",
       "      <td>10432.0</td>\n",
       "    </tr>\n",
       "  </tbody>\n",
       "</table>\n",
       "</div>"
      ],
      "text/plain": [
       "                       질병        계      1월      2월      3월      4월      5월  \\\n",
       "0                      수두  31430.0  7882.0  4017.0  2127.0  1624.0  2299.0   \n",
       "1                    A형간염   3989.0   250.0   280.0   289.0   266.0   321.0   \n",
       "2                폐렴구균 감염증    345.0    79.0    53.0    34.0    20.0    25.0   \n",
       "3  카바페넴내성장내세균속균종(CRE) 감염증  18113.0  1455.0  1306.0  1159.0  1231.0  1337.0   \n",
       "4                     코로나  19393.0     7.0    80.0   391.0   156.0   229.0   \n",
       "\n",
       "       6월      7월      8월      9월     10월     11월      12월  \n",
       "0  2263.0  2102.0  2005.0  1342.0  1767.0  2208.0   1794.0  \n",
       "1   362.0   361.0   353.0   303.0   366.0   428.0    410.0  \n",
       "2    21.0    17.0    16.0    18.0    17.0    17.0     28.0  \n",
       "3  1623.0  1853.0  1723.0  1703.0  1680.0  1569.0   1474.0  \n",
       "4   459.0   281.0  2415.0  1306.0   733.0  2904.0  10432.0  "
      ]
     },
     "execution_count": 216,
     "metadata": {},
     "output_type": "execute_result"
    }
   ],
   "source": [
    "df"
   ]
  },
  {
   "cell_type": "code",
   "execution_count": 217,
   "id": "b07c1cad",
   "metadata": {
    "scrolled": true
   },
   "outputs": [
    {
     "data": {
      "text/html": [
       "<div>\n",
       "<style scoped>\n",
       "    .dataframe tbody tr th:only-of-type {\n",
       "        vertical-align: middle;\n",
       "    }\n",
       "\n",
       "    .dataframe tbody tr th {\n",
       "        vertical-align: top;\n",
       "    }\n",
       "\n",
       "    .dataframe thead th {\n",
       "        text-align: right;\n",
       "    }\n",
       "</style>\n",
       "<table border=\"1\" class=\"dataframe\">\n",
       "  <thead>\n",
       "    <tr style=\"text-align: right;\">\n",
       "      <th></th>\n",
       "      <th>1월</th>\n",
       "      <th>2월</th>\n",
       "      <th>3월</th>\n",
       "      <th>4월</th>\n",
       "      <th>5월</th>\n",
       "      <th>6월</th>\n",
       "      <th>7월</th>\n",
       "      <th>8월</th>\n",
       "      <th>9월</th>\n",
       "      <th>10월</th>\n",
       "      <th>11월</th>\n",
       "      <th>12월</th>\n",
       "    </tr>\n",
       "    <tr>\n",
       "      <th>질병</th>\n",
       "      <th></th>\n",
       "      <th></th>\n",
       "      <th></th>\n",
       "      <th></th>\n",
       "      <th></th>\n",
       "      <th></th>\n",
       "      <th></th>\n",
       "      <th></th>\n",
       "      <th></th>\n",
       "      <th></th>\n",
       "      <th></th>\n",
       "      <th></th>\n",
       "    </tr>\n",
       "  </thead>\n",
       "  <tbody>\n",
       "    <tr>\n",
       "      <th>수두</th>\n",
       "      <td>7882.0</td>\n",
       "      <td>4017.0</td>\n",
       "      <td>2127.0</td>\n",
       "      <td>1624.0</td>\n",
       "      <td>2299.0</td>\n",
       "      <td>2263.0</td>\n",
       "      <td>2102.0</td>\n",
       "      <td>2005.0</td>\n",
       "      <td>1342.0</td>\n",
       "      <td>1767.0</td>\n",
       "      <td>2208.0</td>\n",
       "      <td>1794.0</td>\n",
       "    </tr>\n",
       "    <tr>\n",
       "      <th>A형간염</th>\n",
       "      <td>250.0</td>\n",
       "      <td>280.0</td>\n",
       "      <td>289.0</td>\n",
       "      <td>266.0</td>\n",
       "      <td>321.0</td>\n",
       "      <td>362.0</td>\n",
       "      <td>361.0</td>\n",
       "      <td>353.0</td>\n",
       "      <td>303.0</td>\n",
       "      <td>366.0</td>\n",
       "      <td>428.0</td>\n",
       "      <td>410.0</td>\n",
       "    </tr>\n",
       "    <tr>\n",
       "      <th>폐렴구균 감염증</th>\n",
       "      <td>79.0</td>\n",
       "      <td>53.0</td>\n",
       "      <td>34.0</td>\n",
       "      <td>20.0</td>\n",
       "      <td>25.0</td>\n",
       "      <td>21.0</td>\n",
       "      <td>17.0</td>\n",
       "      <td>16.0</td>\n",
       "      <td>18.0</td>\n",
       "      <td>17.0</td>\n",
       "      <td>17.0</td>\n",
       "      <td>28.0</td>\n",
       "    </tr>\n",
       "    <tr>\n",
       "      <th>카바페넴내성장내세균속균종(CRE) 감염증</th>\n",
       "      <td>1455.0</td>\n",
       "      <td>1306.0</td>\n",
       "      <td>1159.0</td>\n",
       "      <td>1231.0</td>\n",
       "      <td>1337.0</td>\n",
       "      <td>1623.0</td>\n",
       "      <td>1853.0</td>\n",
       "      <td>1723.0</td>\n",
       "      <td>1703.0</td>\n",
       "      <td>1680.0</td>\n",
       "      <td>1569.0</td>\n",
       "      <td>1474.0</td>\n",
       "    </tr>\n",
       "    <tr>\n",
       "      <th>코로나</th>\n",
       "      <td>7.0</td>\n",
       "      <td>80.0</td>\n",
       "      <td>391.0</td>\n",
       "      <td>156.0</td>\n",
       "      <td>229.0</td>\n",
       "      <td>459.0</td>\n",
       "      <td>281.0</td>\n",
       "      <td>2415.0</td>\n",
       "      <td>1306.0</td>\n",
       "      <td>733.0</td>\n",
       "      <td>2904.0</td>\n",
       "      <td>10432.0</td>\n",
       "    </tr>\n",
       "  </tbody>\n",
       "</table>\n",
       "</div>"
      ],
      "text/plain": [
       "                            1월      2월      3월      4월      5월      6월  \\\n",
       "질병                                                                       \n",
       "수두                      7882.0  4017.0  2127.0  1624.0  2299.0  2263.0   \n",
       "A형간염                     250.0   280.0   289.0   266.0   321.0   362.0   \n",
       "폐렴구균 감염증                  79.0    53.0    34.0    20.0    25.0    21.0   \n",
       "카바페넴내성장내세균속균종(CRE) 감염증  1455.0  1306.0  1159.0  1231.0  1337.0  1623.0   \n",
       "코로나                        7.0    80.0   391.0   156.0   229.0   459.0   \n",
       "\n",
       "                            7월      8월      9월     10월     11월      12월  \n",
       "질병                                                                       \n",
       "수두                      2102.0  2005.0  1342.0  1767.0  2208.0   1794.0  \n",
       "A형간염                     361.0   353.0   303.0   366.0   428.0    410.0  \n",
       "폐렴구균 감염증                  17.0    16.0    18.0    17.0    17.0     28.0  \n",
       "카바페넴내성장내세균속균종(CRE) 감염증  1853.0  1723.0  1703.0  1680.0  1569.0   1474.0  \n",
       "코로나                      281.0  2415.0  1306.0   733.0  2904.0  10432.0  "
      ]
     },
     "execution_count": 217,
     "metadata": {},
     "output_type": "execute_result"
    }
   ],
   "source": [
    "df.index = df[\"질병\"]\n",
    "del df[\"질병\"]\n",
    "del df[\"계\"]\n",
    "df"
   ]
  },
  {
   "cell_type": "code",
   "execution_count": 218,
   "id": "19368253",
   "metadata": {},
   "outputs": [],
   "source": [
    "# df = df.T\n",
    "# df"
   ]
  },
  {
   "cell_type": "code",
   "execution_count": 219,
   "id": "4ec6f24f",
   "metadata": {},
   "outputs": [],
   "source": [
    "# df[\"년도\"] = df.index"
   ]
  },
  {
   "cell_type": "code",
   "execution_count": 220,
   "id": "729d6302",
   "metadata": {
    "scrolled": true
   },
   "outputs": [
    {
     "data": {
      "text/html": [
       "<div>\n",
       "<style scoped>\n",
       "    .dataframe tbody tr th:only-of-type {\n",
       "        vertical-align: middle;\n",
       "    }\n",
       "\n",
       "    .dataframe tbody tr th {\n",
       "        vertical-align: top;\n",
       "    }\n",
       "\n",
       "    .dataframe thead th {\n",
       "        text-align: right;\n",
       "    }\n",
       "</style>\n",
       "<table border=\"1\" class=\"dataframe\">\n",
       "  <thead>\n",
       "    <tr style=\"text-align: right;\">\n",
       "      <th>질병</th>\n",
       "      <th>수두</th>\n",
       "      <th>A형간염</th>\n",
       "      <th>폐렴구균 감염증</th>\n",
       "      <th>카바페넴내성장내세균속균종(CRE) 감염증</th>\n",
       "      <th>코로나</th>\n",
       "    </tr>\n",
       "  </thead>\n",
       "  <tbody>\n",
       "    <tr>\n",
       "      <th>1월</th>\n",
       "      <td>7882.0</td>\n",
       "      <td>250.0</td>\n",
       "      <td>79.0</td>\n",
       "      <td>1455.0</td>\n",
       "      <td>7.0</td>\n",
       "    </tr>\n",
       "    <tr>\n",
       "      <th>2월</th>\n",
       "      <td>4017.0</td>\n",
       "      <td>280.0</td>\n",
       "      <td>53.0</td>\n",
       "      <td>1306.0</td>\n",
       "      <td>80.0</td>\n",
       "    </tr>\n",
       "    <tr>\n",
       "      <th>3월</th>\n",
       "      <td>2127.0</td>\n",
       "      <td>289.0</td>\n",
       "      <td>34.0</td>\n",
       "      <td>1159.0</td>\n",
       "      <td>391.0</td>\n",
       "    </tr>\n",
       "    <tr>\n",
       "      <th>4월</th>\n",
       "      <td>1624.0</td>\n",
       "      <td>266.0</td>\n",
       "      <td>20.0</td>\n",
       "      <td>1231.0</td>\n",
       "      <td>156.0</td>\n",
       "    </tr>\n",
       "    <tr>\n",
       "      <th>5월</th>\n",
       "      <td>2299.0</td>\n",
       "      <td>321.0</td>\n",
       "      <td>25.0</td>\n",
       "      <td>1337.0</td>\n",
       "      <td>229.0</td>\n",
       "    </tr>\n",
       "    <tr>\n",
       "      <th>6월</th>\n",
       "      <td>2263.0</td>\n",
       "      <td>362.0</td>\n",
       "      <td>21.0</td>\n",
       "      <td>1623.0</td>\n",
       "      <td>459.0</td>\n",
       "    </tr>\n",
       "    <tr>\n",
       "      <th>7월</th>\n",
       "      <td>2102.0</td>\n",
       "      <td>361.0</td>\n",
       "      <td>17.0</td>\n",
       "      <td>1853.0</td>\n",
       "      <td>281.0</td>\n",
       "    </tr>\n",
       "    <tr>\n",
       "      <th>8월</th>\n",
       "      <td>2005.0</td>\n",
       "      <td>353.0</td>\n",
       "      <td>16.0</td>\n",
       "      <td>1723.0</td>\n",
       "      <td>2415.0</td>\n",
       "    </tr>\n",
       "    <tr>\n",
       "      <th>9월</th>\n",
       "      <td>1342.0</td>\n",
       "      <td>303.0</td>\n",
       "      <td>18.0</td>\n",
       "      <td>1703.0</td>\n",
       "      <td>1306.0</td>\n",
       "    </tr>\n",
       "    <tr>\n",
       "      <th>10월</th>\n",
       "      <td>1767.0</td>\n",
       "      <td>366.0</td>\n",
       "      <td>17.0</td>\n",
       "      <td>1680.0</td>\n",
       "      <td>733.0</td>\n",
       "    </tr>\n",
       "    <tr>\n",
       "      <th>11월</th>\n",
       "      <td>2208.0</td>\n",
       "      <td>428.0</td>\n",
       "      <td>17.0</td>\n",
       "      <td>1569.0</td>\n",
       "      <td>2904.0</td>\n",
       "    </tr>\n",
       "    <tr>\n",
       "      <th>12월</th>\n",
       "      <td>1794.0</td>\n",
       "      <td>410.0</td>\n",
       "      <td>28.0</td>\n",
       "      <td>1474.0</td>\n",
       "      <td>10432.0</td>\n",
       "    </tr>\n",
       "  </tbody>\n",
       "</table>\n",
       "</div>"
      ],
      "text/plain": [
       "질병       수두   A형간염  폐렴구균 감염증  카바페넴내성장내세균속균종(CRE) 감염증      코로나\n",
       "1월   7882.0  250.0      79.0                  1455.0      7.0\n",
       "2월   4017.0  280.0      53.0                  1306.0     80.0\n",
       "3월   2127.0  289.0      34.0                  1159.0    391.0\n",
       "4월   1624.0  266.0      20.0                  1231.0    156.0\n",
       "5월   2299.0  321.0      25.0                  1337.0    229.0\n",
       "6월   2263.0  362.0      21.0                  1623.0    459.0\n",
       "7월   2102.0  361.0      17.0                  1853.0    281.0\n",
       "8월   2005.0  353.0      16.0                  1723.0   2415.0\n",
       "9월   1342.0  303.0      18.0                  1703.0   1306.0\n",
       "10월  1767.0  366.0      17.0                  1680.0    733.0\n",
       "11월  2208.0  428.0      17.0                  1569.0   2904.0\n",
       "12월  1794.0  410.0      28.0                  1474.0  10432.0"
      ]
     },
     "execution_count": 220,
     "metadata": {},
     "output_type": "execute_result"
    }
   ],
   "source": [
    "df = df.T\n",
    "df"
   ]
  },
  {
   "cell_type": "code",
   "execution_count": 222,
   "id": "37e64770",
   "metadata": {
    "scrolled": false
   },
   "outputs": [],
   "source": [
    "# df.reset_index(inplace=True)\n",
    "# df"
   ]
  },
  {
   "cell_type": "code",
   "execution_count": 223,
   "id": "1032978c",
   "metadata": {
    "scrolled": false
   },
   "outputs": [],
   "source": [
    "# df.rename(columns={\"index\":\"월\"},inplace = True)\n",
    "# df"
   ]
  },
  {
   "cell_type": "code",
   "execution_count": 224,
   "id": "ce69585f",
   "metadata": {
    "scrolled": false
   },
   "outputs": [],
   "source": [
    "# df"
   ]
  },
  {
   "cell_type": "code",
   "execution_count": 283,
   "id": "d1bef751",
   "metadata": {
    "scrolled": false
   },
   "outputs": [
    {
     "data": {
      "application/vnd.plotly.v1+json": {
       "config": {
        "plotlyServerURL": "https://plot.ly"
       },
       "data": [
        {
         "name": "수두",
         "type": "bar",
         "x": [
          "Jan",
          "Feb",
          "Mar",
          "Apr",
          "May",
          "Jun",
          "Jul",
          "Aug",
          "Sep",
          "Oct",
          "Nov",
          "Dec"
         ],
         "y": [
          7882,
          4017,
          2127,
          1624,
          2299,
          2263,
          2102,
          2005,
          1342,
          1767,
          2208,
          1794
         ]
        },
        {
         "name": "A형간염",
         "type": "bar",
         "x": [
          "Jan",
          "Feb",
          "Mar",
          "Apr",
          "May",
          "Jun",
          "Jul",
          "Aug",
          "Sep",
          "Oct",
          "Nov",
          "Dec"
         ],
         "y": [
          250,
          280,
          289,
          266,
          321,
          362,
          361,
          353,
          303,
          366,
          428,
          410
         ]
        },
        {
         "name": "폐렴구균 감염증",
         "type": "bar",
         "x": [
          "Jan",
          "Feb",
          "Mar",
          "Apr",
          "May",
          "Jun",
          "Jul",
          "Aug",
          "Sep",
          "Oct",
          "Nov",
          "Dec"
         ],
         "y": [
          79,
          53,
          34,
          20,
          25,
          21,
          17,
          16,
          18,
          17,
          17,
          28
         ]
        },
        {
         "name": "카바페넴내성장내세균속균종(CRE) 감염증",
         "type": "bar",
         "x": [
          "Jan",
          "Feb",
          "Mar",
          "Apr",
          "May",
          "Jun",
          "Jul",
          "Aug",
          "Sep",
          "Oct",
          "Nov",
          "Dec"
         ],
         "y": [
          1455,
          1306,
          1159,
          1231,
          1337,
          1623,
          1853,
          1723,
          1703,
          1680,
          1569,
          1474
         ]
        },
        {
         "name": "코로나",
         "type": "bar",
         "x": [
          "Jan",
          "Feb",
          "Mar",
          "Apr",
          "May",
          "Jun",
          "Jul",
          "Aug",
          "Sep",
          "Oct",
          "Nov",
          "Dec"
         ],
         "y": [
          7,
          80,
          391,
          156,
          229,
          459,
          281,
          2415,
          1306,
          733,
          2904,
          10432
         ]
        }
       ],
       "layout": {
        "barmode": "group",
        "legend": {
         "bgcolor": "rgba(255, 255, 255, 0)",
         "bordercolor": "rgba(255, 255, 255, 0)",
         "x": 0.03,
         "y": 1
        },
        "template": {
         "data": {
          "bar": [
           {
            "error_x": {
             "color": "#2a3f5f"
            },
            "error_y": {
             "color": "#2a3f5f"
            },
            "marker": {
             "line": {
              "color": "#E5ECF6",
              "width": 0.5
             },
             "pattern": {
              "fillmode": "overlay",
              "size": 10,
              "solidity": 0.2
             }
            },
            "type": "bar"
           }
          ],
          "barpolar": [
           {
            "marker": {
             "line": {
              "color": "#E5ECF6",
              "width": 0.5
             },
             "pattern": {
              "fillmode": "overlay",
              "size": 10,
              "solidity": 0.2
             }
            },
            "type": "barpolar"
           }
          ],
          "carpet": [
           {
            "aaxis": {
             "endlinecolor": "#2a3f5f",
             "gridcolor": "white",
             "linecolor": "white",
             "minorgridcolor": "white",
             "startlinecolor": "#2a3f5f"
            },
            "baxis": {
             "endlinecolor": "#2a3f5f",
             "gridcolor": "white",
             "linecolor": "white",
             "minorgridcolor": "white",
             "startlinecolor": "#2a3f5f"
            },
            "type": "carpet"
           }
          ],
          "choropleth": [
           {
            "colorbar": {
             "outlinewidth": 0,
             "ticks": ""
            },
            "type": "choropleth"
           }
          ],
          "contour": [
           {
            "colorbar": {
             "outlinewidth": 0,
             "ticks": ""
            },
            "colorscale": [
             [
              0,
              "#0d0887"
             ],
             [
              0.1111111111111111,
              "#46039f"
             ],
             [
              0.2222222222222222,
              "#7201a8"
             ],
             [
              0.3333333333333333,
              "#9c179e"
             ],
             [
              0.4444444444444444,
              "#bd3786"
             ],
             [
              0.5555555555555556,
              "#d8576b"
             ],
             [
              0.6666666666666666,
              "#ed7953"
             ],
             [
              0.7777777777777778,
              "#fb9f3a"
             ],
             [
              0.8888888888888888,
              "#fdca26"
             ],
             [
              1,
              "#f0f921"
             ]
            ],
            "type": "contour"
           }
          ],
          "contourcarpet": [
           {
            "colorbar": {
             "outlinewidth": 0,
             "ticks": ""
            },
            "type": "contourcarpet"
           }
          ],
          "heatmap": [
           {
            "colorbar": {
             "outlinewidth": 0,
             "ticks": ""
            },
            "colorscale": [
             [
              0,
              "#0d0887"
             ],
             [
              0.1111111111111111,
              "#46039f"
             ],
             [
              0.2222222222222222,
              "#7201a8"
             ],
             [
              0.3333333333333333,
              "#9c179e"
             ],
             [
              0.4444444444444444,
              "#bd3786"
             ],
             [
              0.5555555555555556,
              "#d8576b"
             ],
             [
              0.6666666666666666,
              "#ed7953"
             ],
             [
              0.7777777777777778,
              "#fb9f3a"
             ],
             [
              0.8888888888888888,
              "#fdca26"
             ],
             [
              1,
              "#f0f921"
             ]
            ],
            "type": "heatmap"
           }
          ],
          "heatmapgl": [
           {
            "colorbar": {
             "outlinewidth": 0,
             "ticks": ""
            },
            "colorscale": [
             [
              0,
              "#0d0887"
             ],
             [
              0.1111111111111111,
              "#46039f"
             ],
             [
              0.2222222222222222,
              "#7201a8"
             ],
             [
              0.3333333333333333,
              "#9c179e"
             ],
             [
              0.4444444444444444,
              "#bd3786"
             ],
             [
              0.5555555555555556,
              "#d8576b"
             ],
             [
              0.6666666666666666,
              "#ed7953"
             ],
             [
              0.7777777777777778,
              "#fb9f3a"
             ],
             [
              0.8888888888888888,
              "#fdca26"
             ],
             [
              1,
              "#f0f921"
             ]
            ],
            "type": "heatmapgl"
           }
          ],
          "histogram": [
           {
            "marker": {
             "pattern": {
              "fillmode": "overlay",
              "size": 10,
              "solidity": 0.2
             }
            },
            "type": "histogram"
           }
          ],
          "histogram2d": [
           {
            "colorbar": {
             "outlinewidth": 0,
             "ticks": ""
            },
            "colorscale": [
             [
              0,
              "#0d0887"
             ],
             [
              0.1111111111111111,
              "#46039f"
             ],
             [
              0.2222222222222222,
              "#7201a8"
             ],
             [
              0.3333333333333333,
              "#9c179e"
             ],
             [
              0.4444444444444444,
              "#bd3786"
             ],
             [
              0.5555555555555556,
              "#d8576b"
             ],
             [
              0.6666666666666666,
              "#ed7953"
             ],
             [
              0.7777777777777778,
              "#fb9f3a"
             ],
             [
              0.8888888888888888,
              "#fdca26"
             ],
             [
              1,
              "#f0f921"
             ]
            ],
            "type": "histogram2d"
           }
          ],
          "histogram2dcontour": [
           {
            "colorbar": {
             "outlinewidth": 0,
             "ticks": ""
            },
            "colorscale": [
             [
              0,
              "#0d0887"
             ],
             [
              0.1111111111111111,
              "#46039f"
             ],
             [
              0.2222222222222222,
              "#7201a8"
             ],
             [
              0.3333333333333333,
              "#9c179e"
             ],
             [
              0.4444444444444444,
              "#bd3786"
             ],
             [
              0.5555555555555556,
              "#d8576b"
             ],
             [
              0.6666666666666666,
              "#ed7953"
             ],
             [
              0.7777777777777778,
              "#fb9f3a"
             ],
             [
              0.8888888888888888,
              "#fdca26"
             ],
             [
              1,
              "#f0f921"
             ]
            ],
            "type": "histogram2dcontour"
           }
          ],
          "mesh3d": [
           {
            "colorbar": {
             "outlinewidth": 0,
             "ticks": ""
            },
            "type": "mesh3d"
           }
          ],
          "parcoords": [
           {
            "line": {
             "colorbar": {
              "outlinewidth": 0,
              "ticks": ""
             }
            },
            "type": "parcoords"
           }
          ],
          "pie": [
           {
            "automargin": true,
            "type": "pie"
           }
          ],
          "scatter": [
           {
            "marker": {
             "colorbar": {
              "outlinewidth": 0,
              "ticks": ""
             }
            },
            "type": "scatter"
           }
          ],
          "scatter3d": [
           {
            "line": {
             "colorbar": {
              "outlinewidth": 0,
              "ticks": ""
             }
            },
            "marker": {
             "colorbar": {
              "outlinewidth": 0,
              "ticks": ""
             }
            },
            "type": "scatter3d"
           }
          ],
          "scattercarpet": [
           {
            "marker": {
             "colorbar": {
              "outlinewidth": 0,
              "ticks": ""
             }
            },
            "type": "scattercarpet"
           }
          ],
          "scattergeo": [
           {
            "marker": {
             "colorbar": {
              "outlinewidth": 0,
              "ticks": ""
             }
            },
            "type": "scattergeo"
           }
          ],
          "scattergl": [
           {
            "marker": {
             "colorbar": {
              "outlinewidth": 0,
              "ticks": ""
             }
            },
            "type": "scattergl"
           }
          ],
          "scattermapbox": [
           {
            "marker": {
             "colorbar": {
              "outlinewidth": 0,
              "ticks": ""
             }
            },
            "type": "scattermapbox"
           }
          ],
          "scatterpolar": [
           {
            "marker": {
             "colorbar": {
              "outlinewidth": 0,
              "ticks": ""
             }
            },
            "type": "scatterpolar"
           }
          ],
          "scatterpolargl": [
           {
            "marker": {
             "colorbar": {
              "outlinewidth": 0,
              "ticks": ""
             }
            },
            "type": "scatterpolargl"
           }
          ],
          "scatterternary": [
           {
            "marker": {
             "colorbar": {
              "outlinewidth": 0,
              "ticks": ""
             }
            },
            "type": "scatterternary"
           }
          ],
          "surface": [
           {
            "colorbar": {
             "outlinewidth": 0,
             "ticks": ""
            },
            "colorscale": [
             [
              0,
              "#0d0887"
             ],
             [
              0.1111111111111111,
              "#46039f"
             ],
             [
              0.2222222222222222,
              "#7201a8"
             ],
             [
              0.3333333333333333,
              "#9c179e"
             ],
             [
              0.4444444444444444,
              "#bd3786"
             ],
             [
              0.5555555555555556,
              "#d8576b"
             ],
             [
              0.6666666666666666,
              "#ed7953"
             ],
             [
              0.7777777777777778,
              "#fb9f3a"
             ],
             [
              0.8888888888888888,
              "#fdca26"
             ],
             [
              1,
              "#f0f921"
             ]
            ],
            "type": "surface"
           }
          ],
          "table": [
           {
            "cells": {
             "fill": {
              "color": "#EBF0F8"
             },
             "line": {
              "color": "white"
             }
            },
            "header": {
             "fill": {
              "color": "#C8D4E3"
             },
             "line": {
              "color": "white"
             }
            },
            "type": "table"
           }
          ]
         },
         "layout": {
          "annotationdefaults": {
           "arrowcolor": "#2a3f5f",
           "arrowhead": 0,
           "arrowwidth": 1
          },
          "autotypenumbers": "strict",
          "coloraxis": {
           "colorbar": {
            "outlinewidth": 0,
            "ticks": ""
           }
          },
          "colorscale": {
           "diverging": [
            [
             0,
             "#8e0152"
            ],
            [
             0.1,
             "#c51b7d"
            ],
            [
             0.2,
             "#de77ae"
            ],
            [
             0.3,
             "#f1b6da"
            ],
            [
             0.4,
             "#fde0ef"
            ],
            [
             0.5,
             "#f7f7f7"
            ],
            [
             0.6,
             "#e6f5d0"
            ],
            [
             0.7,
             "#b8e186"
            ],
            [
             0.8,
             "#7fbc41"
            ],
            [
             0.9,
             "#4d9221"
            ],
            [
             1,
             "#276419"
            ]
           ],
           "sequential": [
            [
             0,
             "#0d0887"
            ],
            [
             0.1111111111111111,
             "#46039f"
            ],
            [
             0.2222222222222222,
             "#7201a8"
            ],
            [
             0.3333333333333333,
             "#9c179e"
            ],
            [
             0.4444444444444444,
             "#bd3786"
            ],
            [
             0.5555555555555556,
             "#d8576b"
            ],
            [
             0.6666666666666666,
             "#ed7953"
            ],
            [
             0.7777777777777778,
             "#fb9f3a"
            ],
            [
             0.8888888888888888,
             "#fdca26"
            ],
            [
             1,
             "#f0f921"
            ]
           ],
           "sequentialminus": [
            [
             0,
             "#0d0887"
            ],
            [
             0.1111111111111111,
             "#46039f"
            ],
            [
             0.2222222222222222,
             "#7201a8"
            ],
            [
             0.3333333333333333,
             "#9c179e"
            ],
            [
             0.4444444444444444,
             "#bd3786"
            ],
            [
             0.5555555555555556,
             "#d8576b"
            ],
            [
             0.6666666666666666,
             "#ed7953"
            ],
            [
             0.7777777777777778,
             "#fb9f3a"
            ],
            [
             0.8888888888888888,
             "#fdca26"
            ],
            [
             1,
             "#f0f921"
            ]
           ]
          },
          "colorway": [
           "#636efa",
           "#EF553B",
           "#00cc96",
           "#ab63fa",
           "#FFA15A",
           "#19d3f3",
           "#FF6692",
           "#B6E880",
           "#FF97FF",
           "#FECB52"
          ],
          "font": {
           "color": "#2a3f5f"
          },
          "geo": {
           "bgcolor": "white",
           "lakecolor": "white",
           "landcolor": "#E5ECF6",
           "showlakes": true,
           "showland": true,
           "subunitcolor": "white"
          },
          "hoverlabel": {
           "align": "left"
          },
          "hovermode": "closest",
          "mapbox": {
           "style": "light"
          },
          "paper_bgcolor": "white",
          "plot_bgcolor": "#E5ECF6",
          "polar": {
           "angularaxis": {
            "gridcolor": "white",
            "linecolor": "white",
            "ticks": ""
           },
           "bgcolor": "#E5ECF6",
           "radialaxis": {
            "gridcolor": "white",
            "linecolor": "white",
            "ticks": ""
           }
          },
          "scene": {
           "xaxis": {
            "backgroundcolor": "#E5ECF6",
            "gridcolor": "white",
            "gridwidth": 2,
            "linecolor": "white",
            "showbackground": true,
            "ticks": "",
            "zerolinecolor": "white"
           },
           "yaxis": {
            "backgroundcolor": "#E5ECF6",
            "gridcolor": "white",
            "gridwidth": 2,
            "linecolor": "white",
            "showbackground": true,
            "ticks": "",
            "zerolinecolor": "white"
           },
           "zaxis": {
            "backgroundcolor": "#E5ECF6",
            "gridcolor": "white",
            "gridwidth": 2,
            "linecolor": "white",
            "showbackground": true,
            "ticks": "",
            "zerolinecolor": "white"
           }
          },
          "shapedefaults": {
           "line": {
            "color": "#2a3f5f"
           }
          },
          "ternary": {
           "aaxis": {
            "gridcolor": "white",
            "linecolor": "white",
            "ticks": ""
           },
           "baxis": {
            "gridcolor": "white",
            "linecolor": "white",
            "ticks": ""
           },
           "bgcolor": "#E5ECF6",
           "caxis": {
            "gridcolor": "white",
            "linecolor": "white",
            "ticks": ""
           }
          },
          "title": {
           "x": 0.05
          },
          "xaxis": {
           "automargin": true,
           "gridcolor": "white",
           "linecolor": "white",
           "ticks": "",
           "title": {
            "standoff": 15
           },
           "zerolinecolor": "white",
           "zerolinewidth": 2
          },
          "yaxis": {
           "automargin": true,
           "gridcolor": "white",
           "linecolor": "white",
           "ticks": "",
           "title": {
            "standoff": 15
           },
           "zerolinecolor": "white",
           "zerolinewidth": 2
          }
         }
        },
        "title": {
         "font": {
          "size": 20
         },
         "text": "질병 감염자 수 비교"
        },
        "xaxis": {
         "tickfont": {
          "size": 14
         }
        }
       }
      },
      "text/html": [
       "<div>                            <div id=\"40ac831d-b3e5-402c-8ac6-7d74574a6b3f\" class=\"plotly-graph-div\" style=\"height:525px; width:100%;\"></div>            <script type=\"text/javascript\">                require([\"plotly\"], function(Plotly) {                    window.PLOTLYENV=window.PLOTLYENV || {};                                    if (document.getElementById(\"40ac831d-b3e5-402c-8ac6-7d74574a6b3f\")) {                    Plotly.newPlot(                        \"40ac831d-b3e5-402c-8ac6-7d74574a6b3f\",                        [{\"name\":\"\\uc218\\ub450\",\"type\":\"bar\",\"x\":[\"Jan\",\"Feb\",\"Mar\",\"Apr\",\"May\",\"Jun\",\"Jul\",\"Aug\",\"Sep\",\"Oct\",\"Nov\",\"Dec\"],\"y\":[7882.0,4017.0,2127.0,1624.0,2299.0,2263.0,2102.0,2005.0,1342.0,1767.0,2208.0,1794.0]},{\"name\":\"A\\ud615\\uac04\\uc5fc\",\"type\":\"bar\",\"x\":[\"Jan\",\"Feb\",\"Mar\",\"Apr\",\"May\",\"Jun\",\"Jul\",\"Aug\",\"Sep\",\"Oct\",\"Nov\",\"Dec\"],\"y\":[250.0,280.0,289.0,266.0,321.0,362.0,361.0,353.0,303.0,366.0,428.0,410.0]},{\"name\":\"\\ud3d0\\ub834\\uad6c\\uade0 \\uac10\\uc5fc\\uc99d\",\"type\":\"bar\",\"x\":[\"Jan\",\"Feb\",\"Mar\",\"Apr\",\"May\",\"Jun\",\"Jul\",\"Aug\",\"Sep\",\"Oct\",\"Nov\",\"Dec\"],\"y\":[79.0,53.0,34.0,20.0,25.0,21.0,17.0,16.0,18.0,17.0,17.0,28.0]},{\"name\":\"\\uce74\\ubc14\\ud398\\ub134\\ub0b4\\uc131\\uc7a5\\ub0b4\\uc138\\uade0\\uc18d\\uade0\\uc885(CRE) \\uac10\\uc5fc\\uc99d\",\"type\":\"bar\",\"x\":[\"Jan\",\"Feb\",\"Mar\",\"Apr\",\"May\",\"Jun\",\"Jul\",\"Aug\",\"Sep\",\"Oct\",\"Nov\",\"Dec\"],\"y\":[1455.0,1306.0,1159.0,1231.0,1337.0,1623.0,1853.0,1723.0,1703.0,1680.0,1569.0,1474.0]},{\"name\":\"\\ucf54\\ub85c\\ub098\",\"type\":\"bar\",\"x\":[\"Jan\",\"Feb\",\"Mar\",\"Apr\",\"May\",\"Jun\",\"Jul\",\"Aug\",\"Sep\",\"Oct\",\"Nov\",\"Dec\"],\"y\":[7.0,80.0,391.0,156.0,229.0,459.0,281.0,2415.0,1306.0,733.0,2904.0,10432.0]}],                        {\"barmode\":\"group\",\"legend\":{\"bgcolor\":\"rgba(255, 255, 255, 0)\",\"bordercolor\":\"rgba(255, 255, 255, 0)\",\"x\":0.03,\"y\":1.0},\"template\":{\"data\":{\"bar\":[{\"error_x\":{\"color\":\"#2a3f5f\"},\"error_y\":{\"color\":\"#2a3f5f\"},\"marker\":{\"line\":{\"color\":\"#E5ECF6\",\"width\":0.5},\"pattern\":{\"fillmode\":\"overlay\",\"size\":10,\"solidity\":0.2}},\"type\":\"bar\"}],\"barpolar\":[{\"marker\":{\"line\":{\"color\":\"#E5ECF6\",\"width\":0.5},\"pattern\":{\"fillmode\":\"overlay\",\"size\":10,\"solidity\":0.2}},\"type\":\"barpolar\"}],\"carpet\":[{\"aaxis\":{\"endlinecolor\":\"#2a3f5f\",\"gridcolor\":\"white\",\"linecolor\":\"white\",\"minorgridcolor\":\"white\",\"startlinecolor\":\"#2a3f5f\"},\"baxis\":{\"endlinecolor\":\"#2a3f5f\",\"gridcolor\":\"white\",\"linecolor\":\"white\",\"minorgridcolor\":\"white\",\"startlinecolor\":\"#2a3f5f\"},\"type\":\"carpet\"}],\"choropleth\":[{\"colorbar\":{\"outlinewidth\":0,\"ticks\":\"\"},\"type\":\"choropleth\"}],\"contour\":[{\"colorbar\":{\"outlinewidth\":0,\"ticks\":\"\"},\"colorscale\":[[0.0,\"#0d0887\"],[0.1111111111111111,\"#46039f\"],[0.2222222222222222,\"#7201a8\"],[0.3333333333333333,\"#9c179e\"],[0.4444444444444444,\"#bd3786\"],[0.5555555555555556,\"#d8576b\"],[0.6666666666666666,\"#ed7953\"],[0.7777777777777778,\"#fb9f3a\"],[0.8888888888888888,\"#fdca26\"],[1.0,\"#f0f921\"]],\"type\":\"contour\"}],\"contourcarpet\":[{\"colorbar\":{\"outlinewidth\":0,\"ticks\":\"\"},\"type\":\"contourcarpet\"}],\"heatmap\":[{\"colorbar\":{\"outlinewidth\":0,\"ticks\":\"\"},\"colorscale\":[[0.0,\"#0d0887\"],[0.1111111111111111,\"#46039f\"],[0.2222222222222222,\"#7201a8\"],[0.3333333333333333,\"#9c179e\"],[0.4444444444444444,\"#bd3786\"],[0.5555555555555556,\"#d8576b\"],[0.6666666666666666,\"#ed7953\"],[0.7777777777777778,\"#fb9f3a\"],[0.8888888888888888,\"#fdca26\"],[1.0,\"#f0f921\"]],\"type\":\"heatmap\"}],\"heatmapgl\":[{\"colorbar\":{\"outlinewidth\":0,\"ticks\":\"\"},\"colorscale\":[[0.0,\"#0d0887\"],[0.1111111111111111,\"#46039f\"],[0.2222222222222222,\"#7201a8\"],[0.3333333333333333,\"#9c179e\"],[0.4444444444444444,\"#bd3786\"],[0.5555555555555556,\"#d8576b\"],[0.6666666666666666,\"#ed7953\"],[0.7777777777777778,\"#fb9f3a\"],[0.8888888888888888,\"#fdca26\"],[1.0,\"#f0f921\"]],\"type\":\"heatmapgl\"}],\"histogram\":[{\"marker\":{\"pattern\":{\"fillmode\":\"overlay\",\"size\":10,\"solidity\":0.2}},\"type\":\"histogram\"}],\"histogram2d\":[{\"colorbar\":{\"outlinewidth\":0,\"ticks\":\"\"},\"colorscale\":[[0.0,\"#0d0887\"],[0.1111111111111111,\"#46039f\"],[0.2222222222222222,\"#7201a8\"],[0.3333333333333333,\"#9c179e\"],[0.4444444444444444,\"#bd3786\"],[0.5555555555555556,\"#d8576b\"],[0.6666666666666666,\"#ed7953\"],[0.7777777777777778,\"#fb9f3a\"],[0.8888888888888888,\"#fdca26\"],[1.0,\"#f0f921\"]],\"type\":\"histogram2d\"}],\"histogram2dcontour\":[{\"colorbar\":{\"outlinewidth\":0,\"ticks\":\"\"},\"colorscale\":[[0.0,\"#0d0887\"],[0.1111111111111111,\"#46039f\"],[0.2222222222222222,\"#7201a8\"],[0.3333333333333333,\"#9c179e\"],[0.4444444444444444,\"#bd3786\"],[0.5555555555555556,\"#d8576b\"],[0.6666666666666666,\"#ed7953\"],[0.7777777777777778,\"#fb9f3a\"],[0.8888888888888888,\"#fdca26\"],[1.0,\"#f0f921\"]],\"type\":\"histogram2dcontour\"}],\"mesh3d\":[{\"colorbar\":{\"outlinewidth\":0,\"ticks\":\"\"},\"type\":\"mesh3d\"}],\"parcoords\":[{\"line\":{\"colorbar\":{\"outlinewidth\":0,\"ticks\":\"\"}},\"type\":\"parcoords\"}],\"pie\":[{\"automargin\":true,\"type\":\"pie\"}],\"scatter\":[{\"marker\":{\"colorbar\":{\"outlinewidth\":0,\"ticks\":\"\"}},\"type\":\"scatter\"}],\"scatter3d\":[{\"line\":{\"colorbar\":{\"outlinewidth\":0,\"ticks\":\"\"}},\"marker\":{\"colorbar\":{\"outlinewidth\":0,\"ticks\":\"\"}},\"type\":\"scatter3d\"}],\"scattercarpet\":[{\"marker\":{\"colorbar\":{\"outlinewidth\":0,\"ticks\":\"\"}},\"type\":\"scattercarpet\"}],\"scattergeo\":[{\"marker\":{\"colorbar\":{\"outlinewidth\":0,\"ticks\":\"\"}},\"type\":\"scattergeo\"}],\"scattergl\":[{\"marker\":{\"colorbar\":{\"outlinewidth\":0,\"ticks\":\"\"}},\"type\":\"scattergl\"}],\"scattermapbox\":[{\"marker\":{\"colorbar\":{\"outlinewidth\":0,\"ticks\":\"\"}},\"type\":\"scattermapbox\"}],\"scatterpolar\":[{\"marker\":{\"colorbar\":{\"outlinewidth\":0,\"ticks\":\"\"}},\"type\":\"scatterpolar\"}],\"scatterpolargl\":[{\"marker\":{\"colorbar\":{\"outlinewidth\":0,\"ticks\":\"\"}},\"type\":\"scatterpolargl\"}],\"scatterternary\":[{\"marker\":{\"colorbar\":{\"outlinewidth\":0,\"ticks\":\"\"}},\"type\":\"scatterternary\"}],\"surface\":[{\"colorbar\":{\"outlinewidth\":0,\"ticks\":\"\"},\"colorscale\":[[0.0,\"#0d0887\"],[0.1111111111111111,\"#46039f\"],[0.2222222222222222,\"#7201a8\"],[0.3333333333333333,\"#9c179e\"],[0.4444444444444444,\"#bd3786\"],[0.5555555555555556,\"#d8576b\"],[0.6666666666666666,\"#ed7953\"],[0.7777777777777778,\"#fb9f3a\"],[0.8888888888888888,\"#fdca26\"],[1.0,\"#f0f921\"]],\"type\":\"surface\"}],\"table\":[{\"cells\":{\"fill\":{\"color\":\"#EBF0F8\"},\"line\":{\"color\":\"white\"}},\"header\":{\"fill\":{\"color\":\"#C8D4E3\"},\"line\":{\"color\":\"white\"}},\"type\":\"table\"}]},\"layout\":{\"annotationdefaults\":{\"arrowcolor\":\"#2a3f5f\",\"arrowhead\":0,\"arrowwidth\":1},\"autotypenumbers\":\"strict\",\"coloraxis\":{\"colorbar\":{\"outlinewidth\":0,\"ticks\":\"\"}},\"colorscale\":{\"diverging\":[[0,\"#8e0152\"],[0.1,\"#c51b7d\"],[0.2,\"#de77ae\"],[0.3,\"#f1b6da\"],[0.4,\"#fde0ef\"],[0.5,\"#f7f7f7\"],[0.6,\"#e6f5d0\"],[0.7,\"#b8e186\"],[0.8,\"#7fbc41\"],[0.9,\"#4d9221\"],[1,\"#276419\"]],\"sequential\":[[0.0,\"#0d0887\"],[0.1111111111111111,\"#46039f\"],[0.2222222222222222,\"#7201a8\"],[0.3333333333333333,\"#9c179e\"],[0.4444444444444444,\"#bd3786\"],[0.5555555555555556,\"#d8576b\"],[0.6666666666666666,\"#ed7953\"],[0.7777777777777778,\"#fb9f3a\"],[0.8888888888888888,\"#fdca26\"],[1.0,\"#f0f921\"]],\"sequentialminus\":[[0.0,\"#0d0887\"],[0.1111111111111111,\"#46039f\"],[0.2222222222222222,\"#7201a8\"],[0.3333333333333333,\"#9c179e\"],[0.4444444444444444,\"#bd3786\"],[0.5555555555555556,\"#d8576b\"],[0.6666666666666666,\"#ed7953\"],[0.7777777777777778,\"#fb9f3a\"],[0.8888888888888888,\"#fdca26\"],[1.0,\"#f0f921\"]]},\"colorway\":[\"#636efa\",\"#EF553B\",\"#00cc96\",\"#ab63fa\",\"#FFA15A\",\"#19d3f3\",\"#FF6692\",\"#B6E880\",\"#FF97FF\",\"#FECB52\"],\"font\":{\"color\":\"#2a3f5f\"},\"geo\":{\"bgcolor\":\"white\",\"lakecolor\":\"white\",\"landcolor\":\"#E5ECF6\",\"showlakes\":true,\"showland\":true,\"subunitcolor\":\"white\"},\"hoverlabel\":{\"align\":\"left\"},\"hovermode\":\"closest\",\"mapbox\":{\"style\":\"light\"},\"paper_bgcolor\":\"white\",\"plot_bgcolor\":\"#E5ECF6\",\"polar\":{\"angularaxis\":{\"gridcolor\":\"white\",\"linecolor\":\"white\",\"ticks\":\"\"},\"bgcolor\":\"#E5ECF6\",\"radialaxis\":{\"gridcolor\":\"white\",\"linecolor\":\"white\",\"ticks\":\"\"}},\"scene\":{\"xaxis\":{\"backgroundcolor\":\"#E5ECF6\",\"gridcolor\":\"white\",\"gridwidth\":2,\"linecolor\":\"white\",\"showbackground\":true,\"ticks\":\"\",\"zerolinecolor\":\"white\"},\"yaxis\":{\"backgroundcolor\":\"#E5ECF6\",\"gridcolor\":\"white\",\"gridwidth\":2,\"linecolor\":\"white\",\"showbackground\":true,\"ticks\":\"\",\"zerolinecolor\":\"white\"},\"zaxis\":{\"backgroundcolor\":\"#E5ECF6\",\"gridcolor\":\"white\",\"gridwidth\":2,\"linecolor\":\"white\",\"showbackground\":true,\"ticks\":\"\",\"zerolinecolor\":\"white\"}},\"shapedefaults\":{\"line\":{\"color\":\"#2a3f5f\"}},\"ternary\":{\"aaxis\":{\"gridcolor\":\"white\",\"linecolor\":\"white\",\"ticks\":\"\"},\"baxis\":{\"gridcolor\":\"white\",\"linecolor\":\"white\",\"ticks\":\"\"},\"bgcolor\":\"#E5ECF6\",\"caxis\":{\"gridcolor\":\"white\",\"linecolor\":\"white\",\"ticks\":\"\"}},\"title\":{\"x\":0.05},\"xaxis\":{\"automargin\":true,\"gridcolor\":\"white\",\"linecolor\":\"white\",\"ticks\":\"\",\"title\":{\"standoff\":15},\"zerolinecolor\":\"white\",\"zerolinewidth\":2},\"yaxis\":{\"automargin\":true,\"gridcolor\":\"white\",\"linecolor\":\"white\",\"ticks\":\"\",\"title\":{\"standoff\":15},\"zerolinecolor\":\"white\",\"zerolinewidth\":2}}},\"title\":{\"font\":{\"size\":20},\"text\":\"\\uc9c8\\ubcd1 \\uac10\\uc5fc\\uc790 \\uc218 \\ube44\\uad50\"},\"xaxis\":{\"tickfont\":{\"size\":14}}},                        {\"responsive\": true}                    ).then(function(){\n",
       "                            \n",
       "var gd = document.getElementById('40ac831d-b3e5-402c-8ac6-7d74574a6b3f');\n",
       "var x = new MutationObserver(function (mutations, observer) {{\n",
       "        var display = window.getComputedStyle(gd).display;\n",
       "        if (!display || display === 'none') {{\n",
       "            console.log([gd, 'removed!']);\n",
       "            Plotly.purge(gd);\n",
       "            observer.disconnect();\n",
       "        }}\n",
       "}});\n",
       "\n",
       "// Listen for the removal of the full notebook cells\n",
       "var notebookContainer = gd.closest('#notebook-container');\n",
       "if (notebookContainer) {{\n",
       "    x.observe(notebookContainer, {childList: true});\n",
       "}}\n",
       "\n",
       "// Listen for the clearing of the current output cell\n",
       "var outputEl = gd.closest('.output');\n",
       "if (outputEl) {{\n",
       "    x.observe(outputEl, {childList: true});\n",
       "}}\n",
       "\n",
       "                        })                };                });            </script>        </div>"
      ]
     },
     "metadata": {},
     "output_type": "display_data"
    }
   ],
   "source": [
    "months = ['Jan', 'Feb', 'Mar', 'Apr', 'May', 'Jun',\n",
    "          'Jul', 'Aug', 'Sep', 'Oct', 'Nov', 'Dec']\n",
    "\n",
    "fig = go.Figure()\n",
    "\n",
    "for i in df.keys():\n",
    "    fig.add_trace(go.Bar(\n",
    "        x = months,\n",
    "        y = df[i].values,\n",
    "        name = i\n",
    "    ))\n",
    "\n",
    "fig.update_layout(barmode='group',\n",
    "                  title_text='질병 감염자 수 비교',\n",
    "                  title_font_size=20, # title text 크기\n",
    "                  xaxis_tickfont_size=14, # x 축 틱의 크기\n",
    "                  legend=dict( # 범례 스타일\n",
    "                        x=0.03,\n",
    "                        y=1.0,\n",
    "                        bgcolor='rgba(255, 255, 255, 0)',\n",
    "                        bordercolor='rgba(255, 255, 255, 0)'\n",
    "                    )\n",
    "                 )\n",
    "fig.show()"
   ]
  },
  {
   "cell_type": "code",
   "execution_count": 230,
   "id": "11bbedc6",
   "metadata": {},
   "outputs": [
    {
     "data": {
      "text/html": [
       "<div>\n",
       "<style scoped>\n",
       "    .dataframe tbody tr th:only-of-type {\n",
       "        vertical-align: middle;\n",
       "    }\n",
       "\n",
       "    .dataframe tbody tr th {\n",
       "        vertical-align: top;\n",
       "    }\n",
       "\n",
       "    .dataframe thead th {\n",
       "        text-align: right;\n",
       "    }\n",
       "</style>\n",
       "<table border=\"1\" class=\"dataframe\">\n",
       "  <thead>\n",
       "    <tr style=\"text-align: right;\">\n",
       "      <th></th>\n",
       "      <th>질병</th>\n",
       "      <th>계</th>\n",
       "      <th>1월</th>\n",
       "      <th>2월</th>\n",
       "      <th>3월</th>\n",
       "      <th>4월</th>\n",
       "      <th>5월</th>\n",
       "      <th>6월</th>\n",
       "      <th>7월</th>\n",
       "      <th>8월</th>\n",
       "      <th>9월</th>\n",
       "      <th>10월</th>\n",
       "      <th>11월</th>\n",
       "      <th>12월</th>\n",
       "    </tr>\n",
       "  </thead>\n",
       "  <tbody>\n",
       "    <tr>\n",
       "      <th>0</th>\n",
       "      <td>수두</td>\n",
       "      <td>31430.0</td>\n",
       "      <td>7882.0</td>\n",
       "      <td>4017.0</td>\n",
       "      <td>2127.0</td>\n",
       "      <td>1624.0</td>\n",
       "      <td>2299.0</td>\n",
       "      <td>2263.0</td>\n",
       "      <td>2102.0</td>\n",
       "      <td>2005.0</td>\n",
       "      <td>1342.0</td>\n",
       "      <td>1767.0</td>\n",
       "      <td>2208.0</td>\n",
       "      <td>1794.0</td>\n",
       "    </tr>\n",
       "    <tr>\n",
       "      <th>1</th>\n",
       "      <td>A형간염</td>\n",
       "      <td>3989.0</td>\n",
       "      <td>250.0</td>\n",
       "      <td>280.0</td>\n",
       "      <td>289.0</td>\n",
       "      <td>266.0</td>\n",
       "      <td>321.0</td>\n",
       "      <td>362.0</td>\n",
       "      <td>361.0</td>\n",
       "      <td>353.0</td>\n",
       "      <td>303.0</td>\n",
       "      <td>366.0</td>\n",
       "      <td>428.0</td>\n",
       "      <td>410.0</td>\n",
       "    </tr>\n",
       "    <tr>\n",
       "      <th>2</th>\n",
       "      <td>폐렴구균 감염증</td>\n",
       "      <td>345.0</td>\n",
       "      <td>79.0</td>\n",
       "      <td>53.0</td>\n",
       "      <td>34.0</td>\n",
       "      <td>20.0</td>\n",
       "      <td>25.0</td>\n",
       "      <td>21.0</td>\n",
       "      <td>17.0</td>\n",
       "      <td>16.0</td>\n",
       "      <td>18.0</td>\n",
       "      <td>17.0</td>\n",
       "      <td>17.0</td>\n",
       "      <td>28.0</td>\n",
       "    </tr>\n",
       "    <tr>\n",
       "      <th>3</th>\n",
       "      <td>카바페넴내성장내세균속균종(CRE) 감염증</td>\n",
       "      <td>18113.0</td>\n",
       "      <td>1455.0</td>\n",
       "      <td>1306.0</td>\n",
       "      <td>1159.0</td>\n",
       "      <td>1231.0</td>\n",
       "      <td>1337.0</td>\n",
       "      <td>1623.0</td>\n",
       "      <td>1853.0</td>\n",
       "      <td>1723.0</td>\n",
       "      <td>1703.0</td>\n",
       "      <td>1680.0</td>\n",
       "      <td>1569.0</td>\n",
       "      <td>1474.0</td>\n",
       "    </tr>\n",
       "  </tbody>\n",
       "</table>\n",
       "</div>"
      ],
      "text/plain": [
       "                       질병        계      1월      2월      3월      4월      5월  \\\n",
       "0                      수두  31430.0  7882.0  4017.0  2127.0  1624.0  2299.0   \n",
       "1                    A형간염   3989.0   250.0   280.0   289.0   266.0   321.0   \n",
       "2                폐렴구균 감염증    345.0    79.0    53.0    34.0    20.0    25.0   \n",
       "3  카바페넴내성장내세균속균종(CRE) 감염증  18113.0  1455.0  1306.0  1159.0  1231.0  1337.0   \n",
       "\n",
       "       6월      7월      8월      9월     10월     11월     12월  \n",
       "0  2263.0  2102.0  2005.0  1342.0  1767.0  2208.0  1794.0  \n",
       "1   362.0   361.0   353.0   303.0   366.0   428.0   410.0  \n",
       "2    21.0    17.0    16.0    18.0    17.0    17.0    28.0  \n",
       "3  1623.0  1853.0  1723.0  1703.0  1680.0  1569.0  1474.0  "
      ]
     },
     "execution_count": 230,
     "metadata": {},
     "output_type": "execute_result"
    }
   ],
   "source": [
    " dfMonth"
   ]
  },
  {
   "cell_type": "code",
   "execution_count": 233,
   "id": "0404f1f9",
   "metadata": {},
   "outputs": [],
   "source": [
    "del dfDeath[\"계\"]"
   ]
  },
  {
   "cell_type": "code",
   "execution_count": 251,
   "id": "303163e1",
   "metadata": {},
   "outputs": [],
   "source": [
    "dfDeath.index = dfDeath.질병"
   ]
  },
  {
   "cell_type": "code",
   "execution_count": 255,
   "id": "79431eb8",
   "metadata": {},
   "outputs": [],
   "source": [
    "del dfDeath[\"질병\"]"
   ]
  },
  {
   "cell_type": "code",
   "execution_count": 259,
   "id": "161788a9",
   "metadata": {},
   "outputs": [
    {
     "data": {
      "text/html": [
       "<div>\n",
       "<style scoped>\n",
       "    .dataframe tbody tr th:only-of-type {\n",
       "        vertical-align: middle;\n",
       "    }\n",
       "\n",
       "    .dataframe tbody tr th {\n",
       "        vertical-align: top;\n",
       "    }\n",
       "\n",
       "    .dataframe thead th {\n",
       "        text-align: right;\n",
       "    }\n",
       "</style>\n",
       "<table border=\"1\" class=\"dataframe\">\n",
       "  <thead>\n",
       "    <tr style=\"text-align: right;\">\n",
       "      <th>질병</th>\n",
       "      <th>수두</th>\n",
       "      <th>A형간염</th>\n",
       "      <th>폐렴구균 감염증</th>\n",
       "      <th>카바페넴내성장내세균속균종(CRE) 감염증</th>\n",
       "    </tr>\n",
       "  </thead>\n",
       "  <tbody>\n",
       "    <tr>\n",
       "      <th>1월</th>\n",
       "      <td>0.0</td>\n",
       "      <td>0.0</td>\n",
       "      <td>21.0</td>\n",
       "      <td>21.0</td>\n",
       "    </tr>\n",
       "    <tr>\n",
       "      <th>2월</th>\n",
       "      <td>0.0</td>\n",
       "      <td>0.0</td>\n",
       "      <td>9.0</td>\n",
       "      <td>18.0</td>\n",
       "    </tr>\n",
       "    <tr>\n",
       "      <th>3월</th>\n",
       "      <td>0.0</td>\n",
       "      <td>0.0</td>\n",
       "      <td>4.0</td>\n",
       "      <td>15.0</td>\n",
       "    </tr>\n",
       "    <tr>\n",
       "      <th>4월</th>\n",
       "      <td>0.0</td>\n",
       "      <td>0.0</td>\n",
       "      <td>6.0</td>\n",
       "      <td>15.0</td>\n",
       "    </tr>\n",
       "    <tr>\n",
       "      <th>5월</th>\n",
       "      <td>0.0</td>\n",
       "      <td>0.0</td>\n",
       "      <td>2.0</td>\n",
       "      <td>14.0</td>\n",
       "    </tr>\n",
       "    <tr>\n",
       "      <th>6월</th>\n",
       "      <td>0.0</td>\n",
       "      <td>0.0</td>\n",
       "      <td>3.0</td>\n",
       "      <td>17.0</td>\n",
       "    </tr>\n",
       "    <tr>\n",
       "      <th>7월</th>\n",
       "      <td>0.0</td>\n",
       "      <td>0.0</td>\n",
       "      <td>7.0</td>\n",
       "      <td>22.0</td>\n",
       "    </tr>\n",
       "    <tr>\n",
       "      <th>8월</th>\n",
       "      <td>0.0</td>\n",
       "      <td>0.0</td>\n",
       "      <td>3.0</td>\n",
       "      <td>21.0</td>\n",
       "    </tr>\n",
       "    <tr>\n",
       "      <th>9월</th>\n",
       "      <td>0.0</td>\n",
       "      <td>0.0</td>\n",
       "      <td>2.0</td>\n",
       "      <td>24.0</td>\n",
       "    </tr>\n",
       "    <tr>\n",
       "      <th>10월</th>\n",
       "      <td>0.0</td>\n",
       "      <td>0.0</td>\n",
       "      <td>4.0</td>\n",
       "      <td>28.0</td>\n",
       "    </tr>\n",
       "    <tr>\n",
       "      <th>11월</th>\n",
       "      <td>0.0</td>\n",
       "      <td>0.0</td>\n",
       "      <td>2.0</td>\n",
       "      <td>16.0</td>\n",
       "    </tr>\n",
       "    <tr>\n",
       "      <th>12월</th>\n",
       "      <td>0.0</td>\n",
       "      <td>1.0</td>\n",
       "      <td>5.0</td>\n",
       "      <td>15.0</td>\n",
       "    </tr>\n",
       "  </tbody>\n",
       "</table>\n",
       "</div>"
      ],
      "text/plain": [
       "질병    수두  A형간염  폐렴구균 감염증  카바페넴내성장내세균속균종(CRE) 감염증\n",
       "1월   0.0   0.0      21.0                    21.0\n",
       "2월   0.0   0.0       9.0                    18.0\n",
       "3월   0.0   0.0       4.0                    15.0\n",
       "4월   0.0   0.0       6.0                    15.0\n",
       "5월   0.0   0.0       2.0                    14.0\n",
       "6월   0.0   0.0       3.0                    17.0\n",
       "7월   0.0   0.0       7.0                    22.0\n",
       "8월   0.0   0.0       3.0                    21.0\n",
       "9월   0.0   0.0       2.0                    24.0\n",
       "10월  0.0   0.0       4.0                    28.0\n",
       "11월  0.0   0.0       2.0                    16.0\n",
       "12월  0.0   1.0       5.0                    15.0"
      ]
     },
     "execution_count": 259,
     "metadata": {},
     "output_type": "execute_result"
    }
   ],
   "source": [
    "dfDeath = dfDeath.T\n",
    "dfDeath"
   ]
  },
  {
   "cell_type": "code",
   "execution_count": 286,
   "id": "3c23d7b8",
   "metadata": {},
   "outputs": [],
   "source": [
    "c = [0, 16, 162, 248, 271, 282, 301, 324, 415, 466, 526, 917]"
   ]
  },
  {
   "cell_type": "code",
   "execution_count": 287,
   "id": "3fc87084",
   "metadata": {
    "scrolled": true
   },
   "outputs": [
    {
     "data": {
      "text/html": [
       "<div>\n",
       "<style scoped>\n",
       "    .dataframe tbody tr th:only-of-type {\n",
       "        vertical-align: middle;\n",
       "    }\n",
       "\n",
       "    .dataframe tbody tr th {\n",
       "        vertical-align: top;\n",
       "    }\n",
       "\n",
       "    .dataframe thead th {\n",
       "        text-align: right;\n",
       "    }\n",
       "</style>\n",
       "<table border=\"1\" class=\"dataframe\">\n",
       "  <thead>\n",
       "    <tr style=\"text-align: right;\">\n",
       "      <th>질병</th>\n",
       "      <th>수두</th>\n",
       "      <th>A형간염</th>\n",
       "      <th>폐렴구균 감염증</th>\n",
       "      <th>카바페넴내성장내세균속균종(CRE) 감염증</th>\n",
       "      <th>코로나</th>\n",
       "    </tr>\n",
       "  </thead>\n",
       "  <tbody>\n",
       "    <tr>\n",
       "      <th>1월</th>\n",
       "      <td>0.0</td>\n",
       "      <td>0.0</td>\n",
       "      <td>21.0</td>\n",
       "      <td>21.0</td>\n",
       "      <td>0</td>\n",
       "    </tr>\n",
       "    <tr>\n",
       "      <th>2월</th>\n",
       "      <td>0.0</td>\n",
       "      <td>0.0</td>\n",
       "      <td>9.0</td>\n",
       "      <td>18.0</td>\n",
       "      <td>16</td>\n",
       "    </tr>\n",
       "    <tr>\n",
       "      <th>3월</th>\n",
       "      <td>0.0</td>\n",
       "      <td>0.0</td>\n",
       "      <td>4.0</td>\n",
       "      <td>15.0</td>\n",
       "      <td>162</td>\n",
       "    </tr>\n",
       "    <tr>\n",
       "      <th>4월</th>\n",
       "      <td>0.0</td>\n",
       "      <td>0.0</td>\n",
       "      <td>6.0</td>\n",
       "      <td>15.0</td>\n",
       "      <td>248</td>\n",
       "    </tr>\n",
       "    <tr>\n",
       "      <th>5월</th>\n",
       "      <td>0.0</td>\n",
       "      <td>0.0</td>\n",
       "      <td>2.0</td>\n",
       "      <td>14.0</td>\n",
       "      <td>271</td>\n",
       "    </tr>\n",
       "    <tr>\n",
       "      <th>6월</th>\n",
       "      <td>0.0</td>\n",
       "      <td>0.0</td>\n",
       "      <td>3.0</td>\n",
       "      <td>17.0</td>\n",
       "      <td>282</td>\n",
       "    </tr>\n",
       "    <tr>\n",
       "      <th>7월</th>\n",
       "      <td>0.0</td>\n",
       "      <td>0.0</td>\n",
       "      <td>7.0</td>\n",
       "      <td>22.0</td>\n",
       "      <td>301</td>\n",
       "    </tr>\n",
       "    <tr>\n",
       "      <th>8월</th>\n",
       "      <td>0.0</td>\n",
       "      <td>0.0</td>\n",
       "      <td>3.0</td>\n",
       "      <td>21.0</td>\n",
       "      <td>324</td>\n",
       "    </tr>\n",
       "    <tr>\n",
       "      <th>9월</th>\n",
       "      <td>0.0</td>\n",
       "      <td>0.0</td>\n",
       "      <td>2.0</td>\n",
       "      <td>24.0</td>\n",
       "      <td>415</td>\n",
       "    </tr>\n",
       "    <tr>\n",
       "      <th>10월</th>\n",
       "      <td>0.0</td>\n",
       "      <td>0.0</td>\n",
       "      <td>4.0</td>\n",
       "      <td>28.0</td>\n",
       "      <td>466</td>\n",
       "    </tr>\n",
       "    <tr>\n",
       "      <th>11월</th>\n",
       "      <td>0.0</td>\n",
       "      <td>0.0</td>\n",
       "      <td>2.0</td>\n",
       "      <td>16.0</td>\n",
       "      <td>526</td>\n",
       "    </tr>\n",
       "    <tr>\n",
       "      <th>12월</th>\n",
       "      <td>0.0</td>\n",
       "      <td>1.0</td>\n",
       "      <td>5.0</td>\n",
       "      <td>15.0</td>\n",
       "      <td>917</td>\n",
       "    </tr>\n",
       "  </tbody>\n",
       "</table>\n",
       "</div>"
      ],
      "text/plain": [
       "질병    수두  A형간염  폐렴구균 감염증  카바페넴내성장내세균속균종(CRE) 감염증  코로나\n",
       "1월   0.0   0.0      21.0                    21.0    0\n",
       "2월   0.0   0.0       9.0                    18.0   16\n",
       "3월   0.0   0.0       4.0                    15.0  162\n",
       "4월   0.0   0.0       6.0                    15.0  248\n",
       "5월   0.0   0.0       2.0                    14.0  271\n",
       "6월   0.0   0.0       3.0                    17.0  282\n",
       "7월   0.0   0.0       7.0                    22.0  301\n",
       "8월   0.0   0.0       3.0                    21.0  324\n",
       "9월   0.0   0.0       2.0                    24.0  415\n",
       "10월  0.0   0.0       4.0                    28.0  466\n",
       "11월  0.0   0.0       2.0                    16.0  526\n",
       "12월  0.0   1.0       5.0                    15.0  917"
      ]
     },
     "execution_count": 287,
     "metadata": {},
     "output_type": "execute_result"
    }
   ],
   "source": [
    "dfDeath[\"코로나\"] = c\n",
    "dfDeath"
   ]
  },
  {
   "cell_type": "code",
   "execution_count": 289,
   "id": "4bce822c",
   "metadata": {},
   "outputs": [
    {
     "data": {
      "text/plain": [
       "['수두', 'A형간염', '폐렴구균 감염증', '카바페넴내성장내세균속균종(CRE) 감염증', '코로나']"
      ]
     },
     "execution_count": 289,
     "metadata": {},
     "output_type": "execute_result"
    }
   ],
   "source": [
    "list(dfDeath.keys())"
   ]
  },
  {
   "cell_type": "code",
   "execution_count": 292,
   "id": "305a8413",
   "metadata": {
    "scrolled": true
   },
   "outputs": [],
   "source": [
    "for i in dfDeath.keys():\n",
    "    df[i+\"사망\"] = dfDeath[i]"
   ]
  },
  {
   "cell_type": "code",
   "execution_count": 293,
   "id": "89c2ae89",
   "metadata": {},
   "outputs": [
    {
     "data": {
      "text/html": [
       "<div>\n",
       "<style scoped>\n",
       "    .dataframe tbody tr th:only-of-type {\n",
       "        vertical-align: middle;\n",
       "    }\n",
       "\n",
       "    .dataframe tbody tr th {\n",
       "        vertical-align: top;\n",
       "    }\n",
       "\n",
       "    .dataframe thead th {\n",
       "        text-align: right;\n",
       "    }\n",
       "</style>\n",
       "<table border=\"1\" class=\"dataframe\">\n",
       "  <thead>\n",
       "    <tr style=\"text-align: right;\">\n",
       "      <th>질병</th>\n",
       "      <th>수두</th>\n",
       "      <th>A형간염</th>\n",
       "      <th>폐렴구균 감염증</th>\n",
       "      <th>카바페넴내성장내세균속균종(CRE) 감염증</th>\n",
       "      <th>코로나</th>\n",
       "      <th>수두사망</th>\n",
       "      <th>A형간염사망</th>\n",
       "      <th>폐렴구균 감염증사망</th>\n",
       "      <th>카바페넴내성장내세균속균종(CRE) 감염증사망</th>\n",
       "      <th>코로나사망</th>\n",
       "    </tr>\n",
       "  </thead>\n",
       "  <tbody>\n",
       "    <tr>\n",
       "      <th>1월</th>\n",
       "      <td>7882.0</td>\n",
       "      <td>250.0</td>\n",
       "      <td>79.0</td>\n",
       "      <td>1455.0</td>\n",
       "      <td>7.0</td>\n",
       "      <td>0.0</td>\n",
       "      <td>0.0</td>\n",
       "      <td>21.0</td>\n",
       "      <td>21.0</td>\n",
       "      <td>0</td>\n",
       "    </tr>\n",
       "    <tr>\n",
       "      <th>2월</th>\n",
       "      <td>4017.0</td>\n",
       "      <td>280.0</td>\n",
       "      <td>53.0</td>\n",
       "      <td>1306.0</td>\n",
       "      <td>80.0</td>\n",
       "      <td>0.0</td>\n",
       "      <td>0.0</td>\n",
       "      <td>9.0</td>\n",
       "      <td>18.0</td>\n",
       "      <td>16</td>\n",
       "    </tr>\n",
       "    <tr>\n",
       "      <th>3월</th>\n",
       "      <td>2127.0</td>\n",
       "      <td>289.0</td>\n",
       "      <td>34.0</td>\n",
       "      <td>1159.0</td>\n",
       "      <td>391.0</td>\n",
       "      <td>0.0</td>\n",
       "      <td>0.0</td>\n",
       "      <td>4.0</td>\n",
       "      <td>15.0</td>\n",
       "      <td>162</td>\n",
       "    </tr>\n",
       "    <tr>\n",
       "      <th>4월</th>\n",
       "      <td>1624.0</td>\n",
       "      <td>266.0</td>\n",
       "      <td>20.0</td>\n",
       "      <td>1231.0</td>\n",
       "      <td>156.0</td>\n",
       "      <td>0.0</td>\n",
       "      <td>0.0</td>\n",
       "      <td>6.0</td>\n",
       "      <td>15.0</td>\n",
       "      <td>248</td>\n",
       "    </tr>\n",
       "    <tr>\n",
       "      <th>5월</th>\n",
       "      <td>2299.0</td>\n",
       "      <td>321.0</td>\n",
       "      <td>25.0</td>\n",
       "      <td>1337.0</td>\n",
       "      <td>229.0</td>\n",
       "      <td>0.0</td>\n",
       "      <td>0.0</td>\n",
       "      <td>2.0</td>\n",
       "      <td>14.0</td>\n",
       "      <td>271</td>\n",
       "    </tr>\n",
       "    <tr>\n",
       "      <th>6월</th>\n",
       "      <td>2263.0</td>\n",
       "      <td>362.0</td>\n",
       "      <td>21.0</td>\n",
       "      <td>1623.0</td>\n",
       "      <td>459.0</td>\n",
       "      <td>0.0</td>\n",
       "      <td>0.0</td>\n",
       "      <td>3.0</td>\n",
       "      <td>17.0</td>\n",
       "      <td>282</td>\n",
       "    </tr>\n",
       "    <tr>\n",
       "      <th>7월</th>\n",
       "      <td>2102.0</td>\n",
       "      <td>361.0</td>\n",
       "      <td>17.0</td>\n",
       "      <td>1853.0</td>\n",
       "      <td>281.0</td>\n",
       "      <td>0.0</td>\n",
       "      <td>0.0</td>\n",
       "      <td>7.0</td>\n",
       "      <td>22.0</td>\n",
       "      <td>301</td>\n",
       "    </tr>\n",
       "    <tr>\n",
       "      <th>8월</th>\n",
       "      <td>2005.0</td>\n",
       "      <td>353.0</td>\n",
       "      <td>16.0</td>\n",
       "      <td>1723.0</td>\n",
       "      <td>2415.0</td>\n",
       "      <td>0.0</td>\n",
       "      <td>0.0</td>\n",
       "      <td>3.0</td>\n",
       "      <td>21.0</td>\n",
       "      <td>324</td>\n",
       "    </tr>\n",
       "    <tr>\n",
       "      <th>9월</th>\n",
       "      <td>1342.0</td>\n",
       "      <td>303.0</td>\n",
       "      <td>18.0</td>\n",
       "      <td>1703.0</td>\n",
       "      <td>1306.0</td>\n",
       "      <td>0.0</td>\n",
       "      <td>0.0</td>\n",
       "      <td>2.0</td>\n",
       "      <td>24.0</td>\n",
       "      <td>415</td>\n",
       "    </tr>\n",
       "    <tr>\n",
       "      <th>10월</th>\n",
       "      <td>1767.0</td>\n",
       "      <td>366.0</td>\n",
       "      <td>17.0</td>\n",
       "      <td>1680.0</td>\n",
       "      <td>733.0</td>\n",
       "      <td>0.0</td>\n",
       "      <td>0.0</td>\n",
       "      <td>4.0</td>\n",
       "      <td>28.0</td>\n",
       "      <td>466</td>\n",
       "    </tr>\n",
       "    <tr>\n",
       "      <th>11월</th>\n",
       "      <td>2208.0</td>\n",
       "      <td>428.0</td>\n",
       "      <td>17.0</td>\n",
       "      <td>1569.0</td>\n",
       "      <td>2904.0</td>\n",
       "      <td>0.0</td>\n",
       "      <td>0.0</td>\n",
       "      <td>2.0</td>\n",
       "      <td>16.0</td>\n",
       "      <td>526</td>\n",
       "    </tr>\n",
       "    <tr>\n",
       "      <th>12월</th>\n",
       "      <td>1794.0</td>\n",
       "      <td>410.0</td>\n",
       "      <td>28.0</td>\n",
       "      <td>1474.0</td>\n",
       "      <td>10432.0</td>\n",
       "      <td>0.0</td>\n",
       "      <td>1.0</td>\n",
       "      <td>5.0</td>\n",
       "      <td>15.0</td>\n",
       "      <td>917</td>\n",
       "    </tr>\n",
       "  </tbody>\n",
       "</table>\n",
       "</div>"
      ],
      "text/plain": [
       "질병       수두   A형간염  폐렴구균 감염증  카바페넴내성장내세균속균종(CRE) 감염증      코로나  수두사망  A형간염사망  \\\n",
       "1월   7882.0  250.0      79.0                  1455.0      7.0   0.0     0.0   \n",
       "2월   4017.0  280.0      53.0                  1306.0     80.0   0.0     0.0   \n",
       "3월   2127.0  289.0      34.0                  1159.0    391.0   0.0     0.0   \n",
       "4월   1624.0  266.0      20.0                  1231.0    156.0   0.0     0.0   \n",
       "5월   2299.0  321.0      25.0                  1337.0    229.0   0.0     0.0   \n",
       "6월   2263.0  362.0      21.0                  1623.0    459.0   0.0     0.0   \n",
       "7월   2102.0  361.0      17.0                  1853.0    281.0   0.0     0.0   \n",
       "8월   2005.0  353.0      16.0                  1723.0   2415.0   0.0     0.0   \n",
       "9월   1342.0  303.0      18.0                  1703.0   1306.0   0.0     0.0   \n",
       "10월  1767.0  366.0      17.0                  1680.0    733.0   0.0     0.0   \n",
       "11월  2208.0  428.0      17.0                  1569.0   2904.0   0.0     0.0   \n",
       "12월  1794.0  410.0      28.0                  1474.0  10432.0   0.0     1.0   \n",
       "\n",
       "질병   폐렴구균 감염증사망  카바페넴내성장내세균속균종(CRE) 감염증사망  코로나사망  \n",
       "1월         21.0                      21.0      0  \n",
       "2월          9.0                      18.0     16  \n",
       "3월          4.0                      15.0    162  \n",
       "4월          6.0                      15.0    248  \n",
       "5월          2.0                      14.0    271  \n",
       "6월          3.0                      17.0    282  \n",
       "7월          7.0                      22.0    301  \n",
       "8월          3.0                      21.0    324  \n",
       "9월          2.0                      24.0    415  \n",
       "10월         4.0                      28.0    466  \n",
       "11월         2.0                      16.0    526  \n",
       "12월         5.0                      15.0    917  "
      ]
     },
     "execution_count": 293,
     "metadata": {},
     "output_type": "execute_result"
    }
   ],
   "source": [
    "df"
   ]
  },
  {
   "cell_type": "code",
   "execution_count": 300,
   "id": "906f946e",
   "metadata": {},
   "outputs": [
    {
     "data": {
      "text/plain": [
       "Index(['수두', 'A형간염', '폐렴구균 감염증', '카바페넴내성장내세균속균종(CRE) 감염증', '코로나', '수두사망',\n",
       "       'A형간염사망', '폐렴구균 감염증사망', '카바페넴내성장내세균속균종(CRE) 감염증사망', '코로나사망'],\n",
       "      dtype='object', name='질병')"
      ]
     },
     "execution_count": 300,
     "metadata": {},
     "output_type": "execute_result"
    }
   ],
   "source": [
    "df.keys()"
   ]
  },
  {
   "cell_type": "code",
   "execution_count": 304,
   "id": "9c559dc2",
   "metadata": {},
   "outputs": [],
   "source": [
    "a = [] # 질병 발생자 총 합\n",
    "for i in df.keys()[:5]:\n",
    "    a.append(df[i].sum())\n",
    "    \n",
    "b = [] # 질병 사망자 총 합\n",
    "for i in df.keys()[5:]:\n",
    "    b.append(df[i].sum())"
   ]
  },
  {
   "cell_type": "code",
   "execution_count": 306,
   "id": "5486bf9d",
   "metadata": {},
   "outputs": [
    {
     "data": {
      "text/plain": [
       "Index(['수두', 'A형간염', '폐렴구균 감염증', '카바페넴내성장내세균속균종(CRE) 감염증', '코로나'], dtype='object', name='질병')"
      ]
     },
     "execution_count": 306,
     "metadata": {},
     "output_type": "execute_result"
    }
   ],
   "source": [
    "df.keys()[:5]"
   ]
  },
  {
   "cell_type": "code",
   "execution_count": 309,
   "id": "cab40630",
   "metadata": {},
   "outputs": [],
   "source": [
    "disName = list(df.keys()[:5])\n",
    "disDeath = list(df.keys()[5:])"
   ]
  },
  {
   "cell_type": "code",
   "execution_count": 343,
   "id": "79ec6295",
   "metadata": {},
   "outputs": [
    {
     "data": {
      "image/png": "[encoded data removed]",
      "text/plain": [
       "<Figure size 1080x864 with 5 Axes>"
      ]
     },
     "metadata": {
      "needs_background": "light"
     },
     "output_type": "display_data"
    }
   ],
   "source": [
    "plt.figure(figsize=(15,12));\n",
    "plt.subplots_adjust(hspace=0.5, wspace=0.4)\n",
    "\n",
    "for i in range(5):\n",
    "    plt.subplot(3,2,i+1)\n",
    "    plt.bar(disName[i],a[i]);\n",
    "    plt.bar(disDeath[i],b[i])"
   ]
  },
  {
   "cell_type": "code",
   "execution_count": null,
   "id": "27d36c01",
   "metadata": {},
   "outputs": [],
   "source": []
  }
 ],
 "metadata": {
  "kernelspec": {
   "display_name": "Python 3",
   "language": "python",
   "name": "python3"
  },
  "language_info": {
   "codemirror_mode": {
    "name": "ipython",
    "version": 3
   },
   "file_extension": ".py",
   "mimetype": "text/x-python",
   "name": "python",
   "nbconvert_exporter": "python",
   "pygments_lexer": "ipython3",
   "version": "3.8.8"
  }
 },
 "nbformat": 4,
 "nbformat_minor": 5
}
