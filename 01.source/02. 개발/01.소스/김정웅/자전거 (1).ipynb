{
 "cells": [
  {
   "cell_type": "code",
   "execution_count": 2,
   "id": "7f85538e",
   "metadata": {
    "scrolled": false
   },
   "outputs": [],
   "source": [
    "bike2021=pd.read_excel(\"2021bike.xlsx\")\n",
    "bike2020=pd.read_excel(\"2020bike.xlsx\")\n",
    "bike2019=pd.read_excel(\"2019bike.xlsx\")"
   ]
  },
  {
   "cell_type": "code",
   "execution_count": 1,
   "id": "8feaa99e",
   "metadata": {},
   "outputs": [],
   "source": [
    "import pandas as pd"
   ]
  },
  {
   "cell_type": "code",
   "execution_count": 38,
   "id": "a8b6699d",
   "metadata": {
    "scrolled": true
   },
   "outputs": [
    {
     "data": {
      "text/plain": [
       "[812021,\n",
       " 1179603,\n",
       " 2184228,\n",
       " 2972156,\n",
       " 2950150,\n",
       " 3377858,\n",
       " 0,\n",
       " 0,\n",
       " 0,\n",
       " 0,\n",
       " 0,\n",
       " 0,\n",
       " 13476016,\n",
       " 13476016]"
      ]
     },
     "execution_count": 38,
     "metadata": {},
     "output_type": "execute_result"
    }
   ],
   "source": [
    "b2021 = []\n",
    "r2021=0\n",
    "r2021_a = 0\n",
    "for i in range(1, 13):\n",
    "    bike21_1=bike2021[bike2021['대여일자'].dt.month == i]\n",
    "    b2021.append(bike21_1['대여건수'].sum())\n",
    "    \n",
    "for i in range(len(b2021)):\n",
    "    if i <= 5:\n",
    "        r2021_a += b2021[i] #6d월 까지합\n",
    "    r2021 += b2021[i] #1년합\n",
    "b2021.append(r2021)\n",
    "b2021.append(r2021_a)\n",
    "\n",
    "b2021"
   ]
  },
  {
   "cell_type": "code",
   "execution_count": 39,
   "id": "ad8c5910",
   "metadata": {},
   "outputs": [
    {
     "name": "stdout",
     "output_type": "stream",
     "text": [
      "[794162, 762274, 1533535, 2157390, 2480330, 2770858, 2582511, 1733973, 2811990, 2891618, 1990070, 1196309, 23705020, 10498549]\n",
      "[495573, 471543, 904819, 1468000, 2232895, 2293879, 2164086, 2101184, 2084222, 2436401, 1537269, 882078, 19071949, 7866709]\n"
     ]
    }
   ],
   "source": [
    "b2020=[]\n",
    "r2020=0\n",
    "r2020_a=0\n",
    "b2019=[]\n",
    "r2019=0\n",
    "r2019_a=0\n",
    "for i in range(1, 13):\n",
    "    bike20_1=bike2020[bike2020['대여일자'].dt.month == i]\n",
    "    b2020.append(bike20_1['대여 건수'].sum())\n",
    "for i in range(len(b2020)):\n",
    "    if i <= 5:\n",
    "        r2020_a += b2020[i]\n",
    "    r2020 += b2020[i]\n",
    "b2020.append(r2020)\n",
    "b2020.append(r2020_a)\n",
    "print(b2020)\n",
    "b2019=[]\n",
    "r2019=0\n",
    "\n",
    "for i in range(1, 13):\n",
    "    bike19_1=bike2019[bike2019['대여일자'].dt.month == i]\n",
    "    b2019.append(bike19_1['대여건수'].sum())\n",
    "for i in range(len(b2019)):\n",
    "    if i <= 5:\n",
    "        r2019_a += b2019[i]\n",
    "    r2019 += b2019[i]\n",
    "b2019.append(r2019)\n",
    "b2019.append(r2019_a)\n",
    "\n",
    "print(b2019)"
   ]
  },
  {
   "cell_type": "code",
   "execution_count": 43,
   "id": "91cd14a8",
   "metadata": {
    "scrolled": true
   },
   "outputs": [
    {
     "data": {
      "text/html": [
       "<div>\n",
       "<style scoped>\n",
       "    .dataframe tbody tr th:only-of-type {\n",
       "        vertical-align: middle;\n",
       "    }\n",
       "\n",
       "    .dataframe tbody tr th {\n",
       "        vertical-align: top;\n",
       "    }\n",
       "\n",
       "    .dataframe thead th {\n",
       "        text-align: right;\n",
       "    }\n",
       "</style>\n",
       "<table border=\"1\" class=\"dataframe\">\n",
       "  <thead>\n",
       "    <tr style=\"text-align: right;\">\n",
       "      <th></th>\n",
       "      <th>1월</th>\n",
       "      <th>2월</th>\n",
       "      <th>3월</th>\n",
       "      <th>4월</th>\n",
       "      <th>5월</th>\n",
       "      <th>6월</th>\n",
       "      <th>7월</th>\n",
       "      <th>8월</th>\n",
       "      <th>9월</th>\n",
       "      <th>10월</th>\n",
       "      <th>11월</th>\n",
       "      <th>12월</th>\n",
       "      <th>총합</th>\n",
       "      <th>6월까지합</th>\n",
       "    </tr>\n",
       "  </thead>\n",
       "  <tbody>\n",
       "    <tr>\n",
       "      <th>2019</th>\n",
       "      <td>495573</td>\n",
       "      <td>471543</td>\n",
       "      <td>904819</td>\n",
       "      <td>1468000</td>\n",
       "      <td>2232895</td>\n",
       "      <td>2293879</td>\n",
       "      <td>2164086</td>\n",
       "      <td>2101184</td>\n",
       "      <td>2084222</td>\n",
       "      <td>2436401</td>\n",
       "      <td>1537269</td>\n",
       "      <td>882078</td>\n",
       "      <td>19071949</td>\n",
       "      <td>7866709</td>\n",
       "    </tr>\n",
       "    <tr>\n",
       "      <th>2020</th>\n",
       "      <td>794162</td>\n",
       "      <td>762274</td>\n",
       "      <td>1533535</td>\n",
       "      <td>2157390</td>\n",
       "      <td>2480330</td>\n",
       "      <td>2770858</td>\n",
       "      <td>2582511</td>\n",
       "      <td>1733973</td>\n",
       "      <td>2811990</td>\n",
       "      <td>2891618</td>\n",
       "      <td>1990070</td>\n",
       "      <td>1196309</td>\n",
       "      <td>23705020</td>\n",
       "      <td>10498549</td>\n",
       "    </tr>\n",
       "    <tr>\n",
       "      <th>2021</th>\n",
       "      <td>812021</td>\n",
       "      <td>1179603</td>\n",
       "      <td>2184228</td>\n",
       "      <td>2972156</td>\n",
       "      <td>2950150</td>\n",
       "      <td>3377858</td>\n",
       "      <td>0</td>\n",
       "      <td>0</td>\n",
       "      <td>0</td>\n",
       "      <td>0</td>\n",
       "      <td>0</td>\n",
       "      <td>0</td>\n",
       "      <td>13476016</td>\n",
       "      <td>13476016</td>\n",
       "    </tr>\n",
       "  </tbody>\n",
       "</table>\n",
       "</div>"
      ],
      "text/plain": [
       "          1월       2월       3월       4월       5월       6월       7월       8월  \\\n",
       "2019  495573   471543   904819  1468000  2232895  2293879  2164086  2101184   \n",
       "2020  794162   762274  1533535  2157390  2480330  2770858  2582511  1733973   \n",
       "2021  812021  1179603  2184228  2972156  2950150  3377858        0        0   \n",
       "\n",
       "           9월      10월      11월      12월        총합     6월까지합  \n",
       "2019  2084222  2436401  1537269   882078  19071949   7866709  \n",
       "2020  2811990  2891618  1990070  1196309  23705020  10498549  \n",
       "2021        0        0        0        0  13476016  13476016  "
      ]
     },
     "execution_count": 43,
     "metadata": {},
     "output_type": "execute_result"
    }
   ],
   "source": [
    "df = pd.DataFrame({'2019':b2019, '2020':b2020, '2021':b2021}, index=['1월','2월','3월','4월','5월','6월','7월','8월','9월','10월','11월','12월','총합','6월까지합'])\n",
    "df=df.T\n",
    "df"
   ]
  }
 ],
 "metadata": {
  "kernelspec": {
   "display_name": "Python 3",
   "language": "python",
   "name": "python3"
  },
  "language_info": {
   "codemirror_mode": {
    "name": "ipython",
    "version": 3
   },
   "file_extension": ".py",
   "mimetype": "text/x-python",
   "name": "python",
   "nbconvert_exporter": "python",
   "pygments_lexer": "ipython3",
   "version": "3.8.8"
  }
 },
 "nbformat": 4,
 "nbformat_minor": 5
}
