{
 "cells": [
  {
   "cell_type": "code",
   "execution_count": null,
   "source": [
    "#공공 자전거 대여소별 월별 이용 건수 데이터 가져오기\r\n",
    "import pandas as pd\r\n",
    "df=pd.read_csv(\"C:/Users/user/Desktop/critical_shoot_project/02.team_project_data/서울시 공공자전거 대여소별 이용정보(월별)/공공자전거 대여소별 이용정보_월별.csv\")\r\n",
    "df\r\n"
   ],
   "outputs": [],
   "metadata": {}
  },
  {
   "cell_type": "code",
   "execution_count": null,
   "source": [
    "#공공자전거 대여소 명 월별 대여 건수 \r\n",
    "#피벗테이블로 열 정리\r\n",
    "df_f=df.pivot_table(index='대여소 명',columns='대여 일자 / 월',values='대여 건수')\r\n",
    "df_f"
   ],
   "outputs": [],
   "metadata": {}
  },
  {
   "cell_type": "code",
   "execution_count": null,
   "source": [
    "#csv로 저장\r\n",
    "df_f.to_csv('C:/Users/user/Desktop/critical_shoot_project/01.source/01.데이터가공/02.데이터/서울 공공 자전거 대여소별 이용건수(월별).csv', encoding='euc-kr')"
   ],
   "outputs": [],
   "metadata": {}
  },
  {
   "cell_type": "markdown",
   "source": [],
   "metadata": {}
  }
 ],
 "metadata": {
  "orig_nbformat": 4,
  "language_info": {
   "name": "python"
  }
 },
 "nbformat": 4,
 "nbformat_minor": 2
}