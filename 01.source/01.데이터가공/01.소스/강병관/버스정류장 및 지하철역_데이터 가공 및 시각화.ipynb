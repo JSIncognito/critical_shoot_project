{
 "cells": [
  {
   "cell_type": "code",
   "execution_count": null,
   "source": [
    "import pandas as pd\r\n",
    "import folium\r\n",
    "import json"
   ],
   "outputs": [],
   "metadata": {}
  },
  {
   "cell_type": "code",
   "execution_count": null,
   "source": [
    "#버스 데이터가공\r\n",
    "#엑셀파일 다른이름 저장 형식 : utf-8(쉼표로분리)(*.csv) 선택\r\n",
    "bus_seoul=pd.read_csv(\"서울시버스정류소좌표데이터(2021.01.14.).csv\", encoding='utf-8')\r\n",
    "df=pd.DataFrame(bus_seoul)\r\n",
    "df=df.drop(['표준ID','ARS-ID'], axis=1)\r\n",
    "df.to_csv('C:/Users/user/Desktop/critical_shoot_project/01.source/01.데이터가공/02.데이터/서울버스정류소좌표.csv')"
   ],
   "outputs": [],
   "metadata": {}
  },
  {
   "cell_type": "code",
   "execution_count": null,
   "source": [
    "#지하철역 데이터가공\r\n",
    "df_f = pd.read_csv('서울지하철역_위치정보.txt', names=['c1','c2'],sep=':')\r\n",
    "\r\n",
    "df_f.columns = [\"지하철역\",'위치']\r\n",
    "df_f=df_f[1:-1]\r\n",
    "df_f['1']=df_f['위치'].str.split(',').str[0]\r\n",
    "df_f['2']=df_f['위치'].str.split(',').str[1]\r\n",
    "df_f=df_f.drop(['위치'], axis=1)\r\n",
    "df_f['Y좌표']=df_f['1'].str.split('[').str[1]\r\n",
    "df_f['X좌표']=df_f['2'].str.split(']').str[0]\r\n",
    "df_f=df_f.drop(['1','2'], axis=1)\r\n",
    "df_f['지하철역1']=df_f['지하철역'].str.split('\"').str[1]\r\n",
    "df_f=df_f.drop(['지하철역'], axis=1)\r\n",
    "df_f=df_f[['지하철역1','X좌표','Y좌표']]\r\n",
    "df_f.columns=['지하철역','X좌표','Y좌표']\r\n",
    "df_f.to_csv('C:/Users/user/Desktop/critical_shoot_project/01.source/01.데이터가공/02.데이터/서울지하철역좌표.csv')"
   ],
   "outputs": [],
   "metadata": {}
  },
  {
   "cell_type": "code",
   "execution_count": null,
   "source": [
    "#지도에 지하철역/버스정류장 위치 시각화 코드\r\n",
    "import numpy as np\r\n",
    "\r\n",
    "m=folium.Map(\r\n",
    "    [37.58, 126.98],  \r\n",
    "    zoom_start=11)\r\n",
    "\r\n",
    "for i in df.index :\r\n",
    "    try:\r\n",
    "        lon=df.loc[i,'X좌표']\r\n",
    "        lat=df.loc[i,'Y좌표']      \r\n",
    "        folium.CircleMarker(\r\n",
    "            location=[lat,lon],\r\n",
    "            radius=2.5,\r\n",
    "            fill=True,\r\n",
    "            fill_color='gray',\r\n",
    "            fill_opacity=1,\r\n",
    "            weight=1,\r\n",
    "            color='white'\r\n",
    "        ).add_to(m)\r\n",
    "    except:\r\n",
    "        pass\r\n",
    "\r\n",
    "l=folium.Map(\r\n",
    "    [37.58, 126.98],  \r\n",
    "    zoom_start=11)\r\n",
    "\r\n",
    "for i in df.index :\r\n",
    "    try:\r\n",
    "        lon=df_f.loc[i,'X좌표']\r\n",
    "        lat=df_f.loc[i,'Y좌표']      \r\n",
    "        folium.CircleMarker(\r\n",
    "            location=[lat,lon],\r\n",
    "            radius=2.5,\r\n",
    "            fill=True,\r\n",
    "            fill_color='green',\r\n",
    "            fill_opacity=1,\r\n",
    "            weight=1,\r\n",
    "            color='yellow'\r\n",
    "        ).add_to(m)\r\n",
    "    except:\r\n",
    "        pass\r\n"
   ],
   "outputs": [],
   "metadata": {}
  },
  {
   "cell_type": "code",
   "execution_count": null,
   "source": [
    "#지도\r\n",
    "m"
   ],
   "outputs": [],
   "metadata": {}
  }
 ],
 "metadata": {
  "orig_nbformat": 4,
  "language_info": {
   "name": "python"
  }
 },
 "nbformat": 4,
 "nbformat_minor": 2
}