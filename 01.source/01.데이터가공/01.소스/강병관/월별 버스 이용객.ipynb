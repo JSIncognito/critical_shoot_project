{
    "cells": [
        {
            "cell_type": "code",
            "execution_count": null,
            "source": [
                "import matplotlib\r\n",
                "import pandas as pd\r\n",
                "\r\n",
                "a=[]\r\n",
                "b=[]\r\n",
                "for i in range(201901,201913):\r\n",
                "    bus_i=pd.read_csv('C:/Users/user/Desktop/critical_shoot_project/02.team_project_data/BUS_STATION_BOARDING_MONTH_'+str(i)+'.csv')\r\n",
                "    a.append(i)\r\n",
                "    b.append(sum(bus_i.iloc[:,4])+sum(bus_i.iloc[:,3]))\r\n",
                "for i in range(202001,202013):\r\n",
                "    bus_i=pd.read_csv('C:/Users/user/Desktop/critical_shoot_project/02.team_project_data/BUS_STATION_BOARDING_MONTH_'+str(i)+'.csv')\r\n",
                "    a.append(i)\r\n",
                "    b.append(sum(bus_i.iloc[:,4])+sum(bus_i.iloc[:,3]))\r\n",
                "for i in range(202101,202108):\r\n",
                "    bus_i=pd.read_csv('C:/Users/user/Desktop/critical_shoot_project/02.team_project_data/BUS_STATION_BOARDING_MONTH_'+str(i)+'.csv')\r\n",
                "    a.append(i)\r\n",
                "    b.append(sum(bus_i.iloc[:,4])+sum(bus_i.iloc[:,3]))\r\n",
                "\r\n",
                "data={'year':a,'버스이용자수':b}\r\n",
                "bus_df=pd.DataFrame(data).set_index('year')\r\n",
                "\r\n",
                "matplotlib.rcParams['font.family'] ='Malgun Gothic'\r\n",
                "\r\n",
                "matplotlib.rcParams['axes.unicode_minus'] =False\r\n",
                "\r\n",
                "bus_df.plot.bar(color='blue')\r\n",
                "\r\n",
                "plt.title('연도별 버스이용객수')\r\n"
            ],
            "outputs": [],
            "metadata": {}
        }
    ],
    "metadata": {
        "orig_nbformat": 4,
        "language_info": {
            "name": "python"
        }
    },
    "nbformat": 4,
    "nbformat_minor": 2
}