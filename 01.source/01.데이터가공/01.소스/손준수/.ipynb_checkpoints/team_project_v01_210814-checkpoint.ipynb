{
 "cells": [
  {
   "cell_type": "markdown",
   "metadata": {},
   "source": [
    "### 코로나가 서울시 대중교통에 미친영향\n",
    "\n",
    "- 버스 vs 지하철 vs 공공자전거 증감률 비교\n",
    "- 코로나 연령별/성별, 감염자 수/사망자수/치명율 현황 (월별)\n",
    "\n",
    "### * 작업순서\n",
    " * 버스 /지하철/공공자전거 이용 증감률 계산\n",
    " * 연도별/월별 버스/지하철/공공자전거 이용 인원 합계\n",
    " * 코로나 전,후 월별  버스/지하철/공공자전거 이용 증감률\n",
    " * 2019년 대비 2020/2021(7월)년 증감율 구하기\n",
    " * 거리두기 단계별 버스/지하철/공공자전거 증감율 계산"
   ]
  },
  {
   "cell_type": "code",
   "execution_count": 3,
   "metadata": {},
   "outputs": [],
   "source": [
    "import pandas as pd\n",
    "import numpy as np \n",
    "import matplotlib.pyplot as plt\n",
    "import seaborn as sns \n",
    "\n",
    "# plotly\n",
    "import plotly as pl\n",
    "\n",
    "import os \n",
    "import folium "
   ]
  },
  {
   "cell_type": "code",
   "execution_count": 2,
   "metadata": {},
   "outputs": [
    {
     "name": "stdout",
     "output_type": "stream",
     "text": [
      "Collecting plotly\n",
      "  Downloading plotly-5.2.1-py2.py3-none-any.whl (21.8 MB)\n",
      "Collecting tenacity>=6.2.0\n",
      "  Downloading tenacity-8.0.1-py3-none-any.whl (24 kB)\n",
      "Requirement already satisfied: six in c:\\users\\naeunsu\\anaconda3\\lib\\site-packages (from plotly) (1.15.0)\n",
      "Installing collected packages: tenacity, plotly\n",
      "Successfully installed plotly-5.2.1 tenacity-8.0.1\n",
      "Note: you may need to restart the kernel to use updated packages.\n"
     ]
    }
   ],
   "source": [
    "pip install plotly"
   ]
  },
  {
   "cell_type": "code",
   "execution_count": 6,
   "metadata": {},
   "outputs": [
    {
     "data": {
      "text/plain": [
       "'c:\\\\Users\\\\JSSON\\\\JS_Python\\\\02.team_project_data\\\\01.source'"
      ]
     },
     "execution_count": 6,
     "metadata": {},
     "output_type": "execute_result"
    }
   ],
   "source": [
    "# pip install cufflinks\n",
    "os.getcwd()"
   ]
  },
  {
   "cell_type": "code",
   "execution_count": null,
   "metadata": {},
   "outputs": [],
   "source": [
    "# 불러올 폴더 위치 지정\n",
    "dt_path = \"../02.data/00.가공데이터/\"\n",
    "\n",
    "# 버스 이용현황 불러오기\n",
    "pd.read_csv(dt_path + \"월별 버스이용객수.csv\",  )"
   ]
  },
  {
   "cell_type": "code",
   "execution_count": 8,
   "metadata": {},
   "outputs": [
    {
     "data": {
      "text/plain": [
       "['BUS_STATION_BOARDING_MONTH_201901.csv',\n",
       " 'BUS_STATION_BOARDING_MONTH_201902.csv',\n",
       " 'BUS_STATION_BOARDING_MONTH_201903.csv',\n",
       " 'BUS_STATION_BOARDING_MONTH_201904.csv',\n",
       " 'BUS_STATION_BOARDING_MONTH_201905.csv',\n",
       " 'BUS_STATION_BOARDING_MONTH_201906.csv',\n",
       " 'BUS_STATION_BOARDING_MONTH_201907.csv',\n",
       " 'BUS_STATION_BOARDING_MONTH_201908.csv',\n",
       " 'BUS_STATION_BOARDING_MONTH_201909.csv',\n",
       " 'BUS_STATION_BOARDING_MONTH_201910.csv',\n",
       " 'BUS_STATION_BOARDING_MONTH_201911.csv',\n",
       " 'BUS_STATION_BOARDING_MONTH_201912.csv',\n",
       " 'BUS_STATION_BOARDING_MONTH_202001.csv',\n",
       " 'BUS_STATION_BOARDING_MONTH_202002.csv',\n",
       " 'BUS_STATION_BOARDING_MONTH_202003.csv',\n",
       " 'BUS_STATION_BOARDING_MONTH_202004.csv',\n",
       " 'BUS_STATION_BOARDING_MONTH_202005.csv',\n",
       " 'BUS_STATION_BOARDING_MONTH_202006.csv',\n",
       " 'BUS_STATION_BOARDING_MONTH_202007.csv',\n",
       " 'BUS_STATION_BOARDING_MONTH_202008.csv',\n",
       " 'BUS_STATION_BOARDING_MONTH_202009.csv',\n",
       " 'BUS_STATION_BOARDING_MONTH_202010.csv',\n",
       " 'BUS_STATION_BOARDING_MONTH_202011.csv',\n",
       " 'BUS_STATION_BOARDING_MONTH_202012.csv',\n",
       " 'BUS_STATION_BOARDING_MONTH_202101.csv',\n",
       " 'BUS_STATION_BOARDING_MONTH_202102.csv',\n",
       " 'BUS_STATION_BOARDING_MONTH_202103.csv',\n",
       " 'BUS_STATION_BOARDING_MONTH_202104.csv',\n",
       " 'BUS_STATION_BOARDING_MONTH_202105.csv',\n",
       " 'BUS_STATION_BOARDING_MONTH_202106.csv',\n",
       " 'BUS_STATION_BOARDING_MONTH_202107.csv']"
      ]
     },
     "execution_count": 8,
     "metadata": {},
     "output_type": "execute_result"
    }
   ],
   "source": [
    "# 데이터 생성 및 검증 \n",
    "# 해당 위치의 모든 파일명을 list 형태로 가져옴 \n",
    "fd_filenm = os.listdir(\"../02.data/서울시버스_이용현황/\")\n",
    "\n",
    "# 확장자가 csv인 경우에만 리스트에 담도록 하는 구문\n",
    "fd_filenm=[filenm for filenm in fd_filenm if filenm[-3:]=='csv']\n",
    "fd_filenm"
   ]
  },
  {
   "cell_type": "code",
   "execution_count": 9,
   "metadata": {},
   "outputs": [],
   "source": [
    "\n",
    "def mergeReadCsv(arg_fnm_list):\n",
    "# 버스 이용현황 데이터 폴더\n",
    "    fd_path = '../02.data/서울시버스_이용현황/'\n",
    "    df_column = ['사용일자', '노선번호', '역명', '승차총승객수', '하차총승객수', '등록일자']\n",
    "\n",
    "    err_li=[]\n",
    "    dfs = pd.DataFrame()\n",
    "\n",
    "    for fnm in arg_fnm_list:\n",
    "        print(fnm)\n",
    "        # f=open(fd_path+fnm, \"r\")\n",
    "        # print(type(f), f)\n",
    "        # print()\n",
    "        # f.close()\n",
    "\n",
    "        # try 문을 사용한 것은 read_csv 로 파일을 열었을때 파일의 정보는 cp949 인코딩으로 나와 있지만 실제 열리지 않는 이슈가 있음.\n",
    "        # 노트패드로 해당 파일을 열었을때, 컬럼 열은 6열 데이터의 열은 7열로 되어 있었으며 \"\" 빈값이 작성되어 있었음.\n",
    "        try:\n",
    "            df = pd.read_csv(fd_path+fnm, encoding='cp949', skiprows=1)\n",
    "        # 오류가 발생된 경우 \n",
    "        except:\n",
    "            print(\"오류발생:\", fnm)\n",
    "            err_li.append(fnm)\n",
    "            df = pd.read_csv(fd_path+fnm, encoding='utf-8', skiprows=1)\n",
    "            if df.shape[1] == 7:\n",
    "                df = df.iloc[:, :-1]\n",
    "            df.columns = df_column            \n",
    "            dfs = pd.concat([dfs, df])\n",
    "        # 정상적으로 read_csv 가 수행된 경우 \n",
    "        else:\n",
    "            # 파일을 합치는 중에 컬럼 열은 6열, 데이터는 7열인 파일이 있어서 변경하기 위해 반영\n",
    "            if df.shape[1] == 7:\n",
    "                df = df.iloc[:, :-1]\n",
    "            df.columns = df_column\n",
    "            dfs = pd.concat([dfs, df])\n",
    "    print(err_li)\n",
    "    return dfs    \n"
   ]
  },
  {
   "cell_type": "code",
   "execution_count": 11,
   "metadata": {},
   "outputs": [
    {
     "name": "stdout",
     "output_type": "stream",
     "text": [
      "BUS_STATION_BOARDING_MONTH_201901.csv\n",
      "BUS_STATION_BOARDING_MONTH_201902.csv\n",
      "BUS_STATION_BOARDING_MONTH_201903.csv\n",
      "BUS_STATION_BOARDING_MONTH_201904.csv\n",
      "BUS_STATION_BOARDING_MONTH_201905.csv\n",
      "BUS_STATION_BOARDING_MONTH_201906.csv\n",
      "BUS_STATION_BOARDING_MONTH_201907.csv\n",
      "BUS_STATION_BOARDING_MONTH_201908.csv\n",
      "BUS_STATION_BOARDING_MONTH_201909.csv\n",
      "BUS_STATION_BOARDING_MONTH_201910.csv\n",
      "BUS_STATION_BOARDING_MONTH_201911.csv\n",
      "BUS_STATION_BOARDING_MONTH_201912.csv\n",
      "BUS_STATION_BOARDING_MONTH_202001.csv\n",
      "BUS_STATION_BOARDING_MONTH_202002.csv\n",
      "BUS_STATION_BOARDING_MONTH_202003.csv\n",
      "BUS_STATION_BOARDING_MONTH_202004.csv\n",
      "BUS_STATION_BOARDING_MONTH_202005.csv\n",
      "BUS_STATION_BOARDING_MONTH_202006.csv\n",
      "BUS_STATION_BOARDING_MONTH_202007.csv\n",
      "BUS_STATION_BOARDING_MONTH_202008.csv\n",
      "BUS_STATION_BOARDING_MONTH_202009.csv\n",
      "BUS_STATION_BOARDING_MONTH_202010.csv\n",
      "BUS_STATION_BOARDING_MONTH_202011.csv\n",
      "BUS_STATION_BOARDING_MONTH_202012.csv\n",
      "BUS_STATION_BOARDING_MONTH_202101.csv\n",
      "BUS_STATION_BOARDING_MONTH_202102.csv\n",
      "BUS_STATION_BOARDING_MONTH_202103.csv\n",
      "BUS_STATION_BOARDING_MONTH_202104.csv\n",
      "BUS_STATION_BOARDING_MONTH_202105.csv\n",
      "BUS_STATION_BOARDING_MONTH_202106.csv\n",
      "BUS_STATION_BOARDING_MONTH_202107.csv\n",
      "[]\n"
     ]
    }
   ],
   "source": [
    "tot_df=mergeReadCsv(fd_filenm)"
   ]
  },
  {
   "cell_type": "code",
   "execution_count": 12,
   "metadata": {},
   "outputs": [
    {
     "name": "stdout",
     "output_type": "stream",
     "text": [
      "<class 'pandas.core.frame.DataFrame'>\n",
      "Int64Index: 32505794 entries, 0 to 1048573\n",
      "Data columns (total 6 columns):\n",
      " #   Column  Dtype \n",
      "---  ------  ----- \n",
      " 0   사용일자    int64 \n",
      " 1   노선번호    object\n",
      " 2   역명      object\n",
      " 3   승차총승객수  int64 \n",
      " 4   하차총승객수  int64 \n",
      " 5   등록일자    int64 \n",
      "dtypes: int64(4), object(2)\n",
      "memory usage: 1.7+ GB\n"
     ]
    }
   ],
   "source": [
    "tot_df.info()"
   ]
  },
  {
   "cell_type": "code",
   "execution_count": 14,
   "metadata": {},
   "outputs": [],
   "source": [
    "tot_df=tot_df.drop('등록일자', axis=1)"
   ]
  },
  {
   "cell_type": "code",
   "execution_count": null,
   "metadata": {},
   "outputs": [],
   "source": [
    "tot_df.dtypes()"
   ]
  },
  {
   "cell_type": "code",
   "execution_count": 16,
   "metadata": {},
   "outputs": [],
   "source": [
    "modi_df = tot_df.astype({'사용일자': 'str'})"
   ]
  },
  {
   "cell_type": "code",
   "execution_count": 18,
   "metadata": {},
   "outputs": [
    {
     "data": {
      "text/plain": [
       "사용일자      object\n",
       "노선번호      object\n",
       "역명        object\n",
       "승차총승객수     int64\n",
       "하차총승객수     int64\n",
       "dtype: object"
      ]
     },
     "execution_count": 18,
     "metadata": {},
     "output_type": "execute_result"
    }
   ],
   "source": [
    "modi_df.dtypes"
   ]
  },
  {
   "cell_type": "code",
   "execution_count": 19,
   "metadata": {},
   "outputs": [],
   "source": [
    "# 특정컬러명 변경 inplace True 는 해당 dataframe 에 반영여부\n",
    "modi_df.rename(columns={'사용일자': '사용월'}, inplace=True)"
   ]
  },
  {
   "cell_type": "code",
   "execution_count": 20,
   "metadata": {},
   "outputs": [
    {
     "data": {
      "text/plain": [
       "Index(['사용월', '노선번호', '역명', '승차총승객수', '하차총승객수'], dtype='object')"
      ]
     },
     "execution_count": 20,
     "metadata": {},
     "output_type": "execute_result"
    }
   ],
   "source": [
    "modi_df.columns"
   ]
  },
  {
   "cell_type": "code",
   "execution_count": 21,
   "metadata": {},
   "outputs": [],
   "source": [
    "modi_df=modi_df.groupby(['사용월', '노선번호', '역명']).sum(['승차총승객수', '하차총승객수'])"
   ]
  },
  {
   "cell_type": "code",
   "execution_count": 23,
   "metadata": {},
   "outputs": [],
   "source": [
    "modi_df.reset_index(inplace=True)"
   ]
  },
  {
   "cell_type": "code",
   "execution_count": 26,
   "metadata": {},
   "outputs": [],
   "source": [
    "# 파일저장\n",
    "modi_df.to_csv('버스_이용자현황_2019_2021.csv', sep=',' ,encoding='cp949')"
   ]
  }
 ],
 "metadata": {
  "interpreter": {
   "hash": "74ac2c347abb782a3d2f694c8d9341193b1005c179381ae3abf4a67743d7a946"
  },
  "kernelspec": {
   "display_name": "Python 3",
   "language": "python",
   "name": "python3"
  },
  "language_info": {
   "codemirror_mode": {
    "name": "ipython",
    "version": 3
   },
   "file_extension": ".py",
   "mimetype": "text/x-python",
   "name": "python",
   "nbconvert_exporter": "python",
   "pygments_lexer": "ipython3",
   "version": "3.8.8"
  }
 },
 "nbformat": 4,
 "nbformat_minor": 2
}
