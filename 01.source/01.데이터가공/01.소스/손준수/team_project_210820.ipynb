{
 "cells": [
  {
   "cell_type": "code",
   "execution_count": 11,
   "source": [
    "import pandas as pd\r\n",
    "import numpy as np\r\n",
    "\r\n",
    "import matplotlib.pyplot as plt, mpld3 \r\n",
    "%matplotlib inline\r\n",
    "import json\r\n",
    "import datetime\r\n"
   ],
   "outputs": [],
   "metadata": {}
  },
  {
   "cell_type": "code",
   "execution_count": 12,
   "source": [
    "from shapely.geometry import Polygon, mapping\r\n",
    "# import geopandas as gpd\r\n",
    "import folium\r\n",
    "from folium.plugins import TimeSliderChoropleth"
   ],
   "outputs": [],
   "metadata": {}
  },
  {
   "cell_type": "code",
   "execution_count": 19,
   "source": [
    "df=pd.read_csv('버스_이용자현황_2019_2021.csv', encoding='cp949')"
   ],
   "outputs": [],
   "metadata": {}
  },
  {
   "cell_type": "code",
   "execution_count": 139,
   "source": [
    "df.info()"
   ],
   "outputs": [
    {
     "output_type": "stream",
     "name": "stdout",
     "text": [
      "<class 'pandas.core.frame.DataFrame'>\n",
      "RangeIndex: 823775 entries, 0 to 823774\n",
      "Data columns (total 6 columns):\n",
      " #   Column      Non-Null Count   Dtype \n",
      "---  ------      --------------   ----- \n",
      " 0   Unnamed: 0  823775 non-null  int64 \n",
      " 1   사용월         823775 non-null  int64 \n",
      " 2   노선번호        823775 non-null  object\n",
      " 3   역명          823775 non-null  object\n",
      " 4   승차총승객수      823775 non-null  int64 \n",
      " 5   하차총승객수      823775 non-null  int64 \n",
      "dtypes: int64(4), object(2)\n",
      "memory usage: 37.7+ MB\n"
     ]
    }
   ],
   "metadata": {}
  },
  {
   "cell_type": "code",
   "execution_count": 23,
   "source": [
    "df_bus=df.iloc[:, 1:]"
   ],
   "outputs": [],
   "metadata": {}
  },
  {
   "cell_type": "code",
   "execution_count": 24,
   "source": [
    "df_bus"
   ],
   "outputs": [
    {
     "output_type": "execute_result",
     "data": {
      "text/plain": [
       "           사용월  노선번호         역명  승차총승객수  하차총승객수\n",
       "0       201901   100     KT용산지사    2943    4403\n",
       "1       201901   100        갈월동    4239    4139\n",
       "2       201901   100    골마을근린공원    7510    1983\n",
       "3       201901   100       광장시장    1699    5064\n",
       "4       201901   100        광희동    1494    1358\n",
       "...        ...   ...        ...     ...     ...\n",
       "823770  202107  중랑02  지하철7호선면목역   26862   19039\n",
       "823771  202107  중랑02  진로아파트앞.종점    3025    5383\n",
       "823772  202107  중랑02  진주빌라.바다약국   11904    7962\n",
       "823773  202107  중랑02   하나은행면목지점    5045    6431\n",
       "823774  202107  중랑02    한신아파트후문    5111    1966\n",
       "\n",
       "[823775 rows x 5 columns]"
      ],
      "text/html": [
       "<div>\n",
       "<style scoped>\n",
       "    .dataframe tbody tr th:only-of-type {\n",
       "        vertical-align: middle;\n",
       "    }\n",
       "\n",
       "    .dataframe tbody tr th {\n",
       "        vertical-align: top;\n",
       "    }\n",
       "\n",
       "    .dataframe thead th {\n",
       "        text-align: right;\n",
       "    }\n",
       "</style>\n",
       "<table border=\"1\" class=\"dataframe\">\n",
       "  <thead>\n",
       "    <tr style=\"text-align: right;\">\n",
       "      <th></th>\n",
       "      <th>사용월</th>\n",
       "      <th>노선번호</th>\n",
       "      <th>역명</th>\n",
       "      <th>승차총승객수</th>\n",
       "      <th>하차총승객수</th>\n",
       "    </tr>\n",
       "  </thead>\n",
       "  <tbody>\n",
       "    <tr>\n",
       "      <th>0</th>\n",
       "      <td>201901</td>\n",
       "      <td>100</td>\n",
       "      <td>KT용산지사</td>\n",
       "      <td>2943</td>\n",
       "      <td>4403</td>\n",
       "    </tr>\n",
       "    <tr>\n",
       "      <th>1</th>\n",
       "      <td>201901</td>\n",
       "      <td>100</td>\n",
       "      <td>갈월동</td>\n",
       "      <td>4239</td>\n",
       "      <td>4139</td>\n",
       "    </tr>\n",
       "    <tr>\n",
       "      <th>2</th>\n",
       "      <td>201901</td>\n",
       "      <td>100</td>\n",
       "      <td>골마을근린공원</td>\n",
       "      <td>7510</td>\n",
       "      <td>1983</td>\n",
       "    </tr>\n",
       "    <tr>\n",
       "      <th>3</th>\n",
       "      <td>201901</td>\n",
       "      <td>100</td>\n",
       "      <td>광장시장</td>\n",
       "      <td>1699</td>\n",
       "      <td>5064</td>\n",
       "    </tr>\n",
       "    <tr>\n",
       "      <th>4</th>\n",
       "      <td>201901</td>\n",
       "      <td>100</td>\n",
       "      <td>광희동</td>\n",
       "      <td>1494</td>\n",
       "      <td>1358</td>\n",
       "    </tr>\n",
       "    <tr>\n",
       "      <th>...</th>\n",
       "      <td>...</td>\n",
       "      <td>...</td>\n",
       "      <td>...</td>\n",
       "      <td>...</td>\n",
       "      <td>...</td>\n",
       "    </tr>\n",
       "    <tr>\n",
       "      <th>823770</th>\n",
       "      <td>202107</td>\n",
       "      <td>중랑02</td>\n",
       "      <td>지하철7호선면목역</td>\n",
       "      <td>26862</td>\n",
       "      <td>19039</td>\n",
       "    </tr>\n",
       "    <tr>\n",
       "      <th>823771</th>\n",
       "      <td>202107</td>\n",
       "      <td>중랑02</td>\n",
       "      <td>진로아파트앞.종점</td>\n",
       "      <td>3025</td>\n",
       "      <td>5383</td>\n",
       "    </tr>\n",
       "    <tr>\n",
       "      <th>823772</th>\n",
       "      <td>202107</td>\n",
       "      <td>중랑02</td>\n",
       "      <td>진주빌라.바다약국</td>\n",
       "      <td>11904</td>\n",
       "      <td>7962</td>\n",
       "    </tr>\n",
       "    <tr>\n",
       "      <th>823773</th>\n",
       "      <td>202107</td>\n",
       "      <td>중랑02</td>\n",
       "      <td>하나은행면목지점</td>\n",
       "      <td>5045</td>\n",
       "      <td>6431</td>\n",
       "    </tr>\n",
       "    <tr>\n",
       "      <th>823774</th>\n",
       "      <td>202107</td>\n",
       "      <td>중랑02</td>\n",
       "      <td>한신아파트후문</td>\n",
       "      <td>5111</td>\n",
       "      <td>1966</td>\n",
       "    </tr>\n",
       "  </tbody>\n",
       "</table>\n",
       "<p>823775 rows × 5 columns</p>\n",
       "</div>"
      ]
     },
     "metadata": {},
     "execution_count": 24
    }
   ],
   "metadata": {}
  },
  {
   "cell_type": "code",
   "execution_count": 15,
   "source": [
    "# m=folium.Map(location=[37.57, 126.98], zoom_start=11, tiles='cartodbpositron')"
   ],
   "outputs": [],
   "metadata": {}
  },
  {
   "cell_type": "code",
   "execution_count": null,
   "source": [
    "# def geoJson_load():\r\n",
    "#     seoul_sgg_geo=json.load(open(\"../02.data/seoul_sgg_geo.json\", encoding='utf-8'))\r\n",
    "#     return seoul_sgg_geo\r\n"
   ],
   "outputs": [],
   "metadata": {}
  },
  {
   "cell_type": "code",
   "execution_count": null,
   "source": [],
   "outputs": [],
   "metadata": {}
  },
  {
   "cell_type": "code",
   "execution_count": null,
   "source": [
    "# 버스데이터에 자치구가 없어 데이터를 추가적으로 수집하여 가공하는 작업 수행 \r\n",
    "# 버스정류장위치 데이터 + 버스 이용현황 \r\n",
    "# 버스정류장에서 자치구 ID 추출하여 join \r\n",
    "# 버스정류장 월별 자치구별 승하차 인원 합계추출"
   ],
   "outputs": [],
   "metadata": {}
  },
  {
   "cell_type": "code",
   "execution_count": 25,
   "source": [
    "\r\n",
    "df_bus.info()"
   ],
   "outputs": [
    {
     "output_type": "stream",
     "name": "stdout",
     "text": [
      "<class 'pandas.core.frame.DataFrame'>\n",
      "RangeIndex: 823775 entries, 0 to 823774\n",
      "Data columns (total 5 columns):\n",
      " #   Column  Non-Null Count   Dtype \n",
      "---  ------  --------------   ----- \n",
      " 0   사용월     823775 non-null  int64 \n",
      " 1   노선번호    823775 non-null  object\n",
      " 2   역명      823775 non-null  object\n",
      " 3   승차총승객수  823775 non-null  int64 \n",
      " 4   하차총승객수  823775 non-null  int64 \n",
      "dtypes: int64(3), object(2)\n",
      "memory usage: 31.4+ MB\n"
     ]
    }
   ],
   "metadata": {}
  },
  {
   "cell_type": "code",
   "execution_count": 29,
   "source": [
    "df_bus.columns"
   ],
   "outputs": [
    {
     "output_type": "execute_result",
     "data": {
      "text/plain": [
       "Index(['사용월', '노선번호', '역명', '승차총승객수', '하차총승객수'], dtype='object')"
      ]
     },
     "metadata": {},
     "execution_count": 29
    }
   ],
   "metadata": {}
  },
  {
   "cell_type": "code",
   "execution_count": 31,
   "source": [
    "# ['사용월', '노선번호', '역명', '승차총승객수', '하차총승객수']\r\n",
    "df_bus.rename(columns={\"역명\" : \"정류소명\"}, inplace = True)"
   ],
   "outputs": [],
   "metadata": {}
  },
  {
   "cell_type": "code",
   "execution_count": 32,
   "source": [
    "df_bus"
   ],
   "outputs": [
    {
     "output_type": "execute_result",
     "data": {
      "text/plain": [
       "           사용월  노선번호       정류소명  승차총승객수  하차총승객수\n",
       "0       201901   100     KT용산지사    2943    4403\n",
       "1       201901   100        갈월동    4239    4139\n",
       "2       201901   100    골마을근린공원    7510    1983\n",
       "3       201901   100       광장시장    1699    5064\n",
       "4       201901   100        광희동    1494    1358\n",
       "...        ...   ...        ...     ...     ...\n",
       "823770  202107  중랑02  지하철7호선면목역   26862   19039\n",
       "823771  202107  중랑02  진로아파트앞.종점    3025    5383\n",
       "823772  202107  중랑02  진주빌라.바다약국   11904    7962\n",
       "823773  202107  중랑02   하나은행면목지점    5045    6431\n",
       "823774  202107  중랑02    한신아파트후문    5111    1966\n",
       "\n",
       "[823775 rows x 5 columns]"
      ],
      "text/html": [
       "<div>\n",
       "<style scoped>\n",
       "    .dataframe tbody tr th:only-of-type {\n",
       "        vertical-align: middle;\n",
       "    }\n",
       "\n",
       "    .dataframe tbody tr th {\n",
       "        vertical-align: top;\n",
       "    }\n",
       "\n",
       "    .dataframe thead th {\n",
       "        text-align: right;\n",
       "    }\n",
       "</style>\n",
       "<table border=\"1\" class=\"dataframe\">\n",
       "  <thead>\n",
       "    <tr style=\"text-align: right;\">\n",
       "      <th></th>\n",
       "      <th>사용월</th>\n",
       "      <th>노선번호</th>\n",
       "      <th>정류소명</th>\n",
       "      <th>승차총승객수</th>\n",
       "      <th>하차총승객수</th>\n",
       "    </tr>\n",
       "  </thead>\n",
       "  <tbody>\n",
       "    <tr>\n",
       "      <th>0</th>\n",
       "      <td>201901</td>\n",
       "      <td>100</td>\n",
       "      <td>KT용산지사</td>\n",
       "      <td>2943</td>\n",
       "      <td>4403</td>\n",
       "    </tr>\n",
       "    <tr>\n",
       "      <th>1</th>\n",
       "      <td>201901</td>\n",
       "      <td>100</td>\n",
       "      <td>갈월동</td>\n",
       "      <td>4239</td>\n",
       "      <td>4139</td>\n",
       "    </tr>\n",
       "    <tr>\n",
       "      <th>2</th>\n",
       "      <td>201901</td>\n",
       "      <td>100</td>\n",
       "      <td>골마을근린공원</td>\n",
       "      <td>7510</td>\n",
       "      <td>1983</td>\n",
       "    </tr>\n",
       "    <tr>\n",
       "      <th>3</th>\n",
       "      <td>201901</td>\n",
       "      <td>100</td>\n",
       "      <td>광장시장</td>\n",
       "      <td>1699</td>\n",
       "      <td>5064</td>\n",
       "    </tr>\n",
       "    <tr>\n",
       "      <th>4</th>\n",
       "      <td>201901</td>\n",
       "      <td>100</td>\n",
       "      <td>광희동</td>\n",
       "      <td>1494</td>\n",
       "      <td>1358</td>\n",
       "    </tr>\n",
       "    <tr>\n",
       "      <th>...</th>\n",
       "      <td>...</td>\n",
       "      <td>...</td>\n",
       "      <td>...</td>\n",
       "      <td>...</td>\n",
       "      <td>...</td>\n",
       "    </tr>\n",
       "    <tr>\n",
       "      <th>823770</th>\n",
       "      <td>202107</td>\n",
       "      <td>중랑02</td>\n",
       "      <td>지하철7호선면목역</td>\n",
       "      <td>26862</td>\n",
       "      <td>19039</td>\n",
       "    </tr>\n",
       "    <tr>\n",
       "      <th>823771</th>\n",
       "      <td>202107</td>\n",
       "      <td>중랑02</td>\n",
       "      <td>진로아파트앞.종점</td>\n",
       "      <td>3025</td>\n",
       "      <td>5383</td>\n",
       "    </tr>\n",
       "    <tr>\n",
       "      <th>823772</th>\n",
       "      <td>202107</td>\n",
       "      <td>중랑02</td>\n",
       "      <td>진주빌라.바다약국</td>\n",
       "      <td>11904</td>\n",
       "      <td>7962</td>\n",
       "    </tr>\n",
       "    <tr>\n",
       "      <th>823773</th>\n",
       "      <td>202107</td>\n",
       "      <td>중랑02</td>\n",
       "      <td>하나은행면목지점</td>\n",
       "      <td>5045</td>\n",
       "      <td>6431</td>\n",
       "    </tr>\n",
       "    <tr>\n",
       "      <th>823774</th>\n",
       "      <td>202107</td>\n",
       "      <td>중랑02</td>\n",
       "      <td>한신아파트후문</td>\n",
       "      <td>5111</td>\n",
       "      <td>1966</td>\n",
       "    </tr>\n",
       "  </tbody>\n",
       "</table>\n",
       "<p>823775 rows × 5 columns</p>\n",
       "</div>"
      ]
     },
     "metadata": {},
     "execution_count": 32
    }
   ],
   "metadata": {}
  },
  {
   "cell_type": "code",
   "execution_count": 27,
   "source": [
    "df_bus_lct=pd.read_csv(\"서울시버스정류소좌표데이터(2021.01.14.).csv\", encoding='cp949')"
   ],
   "outputs": [],
   "metadata": {}
  },
  {
   "cell_type": "code",
   "execution_count": 28,
   "source": [
    "df_bus_lct"
   ],
   "outputs": [
    {
     "output_type": "execute_result",
     "data": {
      "text/plain": [
       "            표준ID  ARS-ID           정류소명         X좌표        Y좌표\n",
       "0      100000001    1001        종로2가사거리  126.987786  37.569764\n",
       "1      100000002    1002    창경궁.서울대학교병원  126.996520  37.579179\n",
       "2      100000003    1003      명륜3가.성대입구  126.998290  37.582709\n",
       "3      100000004    1004       종로2가.삼일교  126.987507  37.568582\n",
       "4      100000005    1005  혜화동로터리.여운형활동터  127.001694  37.586230\n",
       "...          ...     ...            ...         ...        ...\n",
       "10916  124000334   25995          우성아파트  127.139326  37.550442\n",
       "10917  124000333   25996          우성아파트  127.140052  37.550620\n",
       "10918  124000332   25997           조일약국  127.123477  37.533686\n",
       "10919  124000331   25998           성내시장  127.125410  37.536199\n",
       "10920  124000330   25999    천호우체국.로데오거리  127.127354  37.540390\n",
       "\n",
       "[10921 rows x 5 columns]"
      ],
      "text/html": [
       "<div>\n",
       "<style scoped>\n",
       "    .dataframe tbody tr th:only-of-type {\n",
       "        vertical-align: middle;\n",
       "    }\n",
       "\n",
       "    .dataframe tbody tr th {\n",
       "        vertical-align: top;\n",
       "    }\n",
       "\n",
       "    .dataframe thead th {\n",
       "        text-align: right;\n",
       "    }\n",
       "</style>\n",
       "<table border=\"1\" class=\"dataframe\">\n",
       "  <thead>\n",
       "    <tr style=\"text-align: right;\">\n",
       "      <th></th>\n",
       "      <th>표준ID</th>\n",
       "      <th>ARS-ID</th>\n",
       "      <th>정류소명</th>\n",
       "      <th>X좌표</th>\n",
       "      <th>Y좌표</th>\n",
       "    </tr>\n",
       "  </thead>\n",
       "  <tbody>\n",
       "    <tr>\n",
       "      <th>0</th>\n",
       "      <td>100000001</td>\n",
       "      <td>1001</td>\n",
       "      <td>종로2가사거리</td>\n",
       "      <td>126.987786</td>\n",
       "      <td>37.569764</td>\n",
       "    </tr>\n",
       "    <tr>\n",
       "      <th>1</th>\n",
       "      <td>100000002</td>\n",
       "      <td>1002</td>\n",
       "      <td>창경궁.서울대학교병원</td>\n",
       "      <td>126.996520</td>\n",
       "      <td>37.579179</td>\n",
       "    </tr>\n",
       "    <tr>\n",
       "      <th>2</th>\n",
       "      <td>100000003</td>\n",
       "      <td>1003</td>\n",
       "      <td>명륜3가.성대입구</td>\n",
       "      <td>126.998290</td>\n",
       "      <td>37.582709</td>\n",
       "    </tr>\n",
       "    <tr>\n",
       "      <th>3</th>\n",
       "      <td>100000004</td>\n",
       "      <td>1004</td>\n",
       "      <td>종로2가.삼일교</td>\n",
       "      <td>126.987507</td>\n",
       "      <td>37.568582</td>\n",
       "    </tr>\n",
       "    <tr>\n",
       "      <th>4</th>\n",
       "      <td>100000005</td>\n",
       "      <td>1005</td>\n",
       "      <td>혜화동로터리.여운형활동터</td>\n",
       "      <td>127.001694</td>\n",
       "      <td>37.586230</td>\n",
       "    </tr>\n",
       "    <tr>\n",
       "      <th>...</th>\n",
       "      <td>...</td>\n",
       "      <td>...</td>\n",
       "      <td>...</td>\n",
       "      <td>...</td>\n",
       "      <td>...</td>\n",
       "    </tr>\n",
       "    <tr>\n",
       "      <th>10916</th>\n",
       "      <td>124000334</td>\n",
       "      <td>25995</td>\n",
       "      <td>우성아파트</td>\n",
       "      <td>127.139326</td>\n",
       "      <td>37.550442</td>\n",
       "    </tr>\n",
       "    <tr>\n",
       "      <th>10917</th>\n",
       "      <td>124000333</td>\n",
       "      <td>25996</td>\n",
       "      <td>우성아파트</td>\n",
       "      <td>127.140052</td>\n",
       "      <td>37.550620</td>\n",
       "    </tr>\n",
       "    <tr>\n",
       "      <th>10918</th>\n",
       "      <td>124000332</td>\n",
       "      <td>25997</td>\n",
       "      <td>조일약국</td>\n",
       "      <td>127.123477</td>\n",
       "      <td>37.533686</td>\n",
       "    </tr>\n",
       "    <tr>\n",
       "      <th>10919</th>\n",
       "      <td>124000331</td>\n",
       "      <td>25998</td>\n",
       "      <td>성내시장</td>\n",
       "      <td>127.125410</td>\n",
       "      <td>37.536199</td>\n",
       "    </tr>\n",
       "    <tr>\n",
       "      <th>10920</th>\n",
       "      <td>124000330</td>\n",
       "      <td>25999</td>\n",
       "      <td>천호우체국.로데오거리</td>\n",
       "      <td>127.127354</td>\n",
       "      <td>37.540390</td>\n",
       "    </tr>\n",
       "  </tbody>\n",
       "</table>\n",
       "<p>10921 rows × 5 columns</p>\n",
       "</div>"
      ]
     },
     "metadata": {},
     "execution_count": 28
    }
   ],
   "metadata": {}
  },
  {
   "cell_type": "code",
   "execution_count": 34,
   "source": [
    "df_bus_total=pd.merge(left = df_bus, right= df_bus_lct, how = 'inner', on = '정류소명')"
   ],
   "outputs": [],
   "metadata": {}
  },
  {
   "cell_type": "code",
   "execution_count": 39,
   "source": [
    "df_bus_total.to_csv(\"서울시버스현황및노선정보.csv\", encoding='cp949')"
   ],
   "outputs": [],
   "metadata": {}
  },
  {
   "cell_type": "code",
   "execution_count": 56,
   "source": [
    "arsid2dong = { '1' : '종로구', '2' : '중구', '3' : '용산구', '4' : '성동구', '5' : '광진구', '6' : '동대문구', '7' : '중랑구', '8' : '성북구', '9' : '강북구', '10' : '도봉구',\r\n",
    "'11' : '노원구', '12' : '은평구', '13' : '서대문구', '14' : '마포구', '15' : '양천구', '16' : '강서구', '17' : '구로구', '18' : '금천구', '19' : '영등포구', '20' : '동작구', '21' : '관악구',\r\n",
    "'22' : '서초구', '23' : '강남구', '24' : '송파구', '25' :'강동구'}"
   ],
   "outputs": [],
   "metadata": {}
  },
  {
   "cell_type": "code",
   "execution_count": 44,
   "source": [
    "list_arsid=list(set(df_bus_total['ARS-ID']))"
   ],
   "outputs": [],
   "metadata": {}
  },
  {
   "cell_type": "code",
   "execution_count": 55,
   "source": [
    "# list_arsid\r\n",
    "for key, val in arsid2dong.items():\r\n",
    "    print(key, val)"
   ],
   "outputs": [
    {
     "output_type": "stream",
     "name": "stdout",
     "text": [
      "1 종로구\n",
      "2 중구\n",
      "3 용산구\n",
      "4 성동구\n",
      "5 광진구\n",
      "6 동대문구\n",
      "7 중랑구\n",
      "8 성북구\n",
      "9 강북구\n",
      "10 도봉구\n",
      "11 노원구\n",
      "12 은평구\n",
      "13 서대문구\n",
      "14 마포구\n",
      "15 양천구\n",
      "16 강서구\n",
      "17 구로구\n",
      "18 금천구\n",
      "19 영등포구\n",
      "20 동작구\n",
      "21 관악구\n",
      "22 서초구\n",
      "23 강남구\n",
      "24 송파구\n",
      "25 강동구\n"
     ]
    }
   ],
   "metadata": {}
  },
  {
   "cell_type": "code",
   "execution_count": 119,
   "source": [
    "df_arsid = pd.DataFrame([arsid2dong])"
   ],
   "outputs": [],
   "metadata": {}
  },
  {
   "cell_type": "code",
   "execution_count": 120,
   "source": [
    "df_arsid=df_arsid.T.reset_index()"
   ],
   "outputs": [],
   "metadata": {}
  },
  {
   "cell_type": "code",
   "execution_count": 121,
   "source": [
    "df_arsid.columns=['자치구ID', '자치구명']"
   ],
   "outputs": [],
   "metadata": {}
  },
  {
   "cell_type": "code",
   "execution_count": 122,
   "source": [
    "df_arsid"
   ],
   "outputs": [
    {
     "output_type": "execute_result",
     "data": {
      "text/plain": [
       "   자치구ID  자치구명\n",
       "0      1   종로구\n",
       "1      2    중구\n",
       "2      3   용산구\n",
       "3      4   성동구\n",
       "4      5   광진구\n",
       "5      6  동대문구\n",
       "6      7   중랑구\n",
       "7      8   성북구\n",
       "8      9   강북구\n",
       "9     10   도봉구\n",
       "10    11   노원구\n",
       "11    12   은평구\n",
       "12    13  서대문구\n",
       "13    14   마포구\n",
       "14    15   양천구\n",
       "15    16   강서구\n",
       "16    17   구로구\n",
       "17    18   금천구\n",
       "18    19  영등포구\n",
       "19    20   동작구\n",
       "20    21   관악구\n",
       "21    22   서초구\n",
       "22    23   강남구\n",
       "23    24   송파구\n",
       "24    25   강동구"
      ],
      "text/html": [
       "<div>\n",
       "<style scoped>\n",
       "    .dataframe tbody tr th:only-of-type {\n",
       "        vertical-align: middle;\n",
       "    }\n",
       "\n",
       "    .dataframe tbody tr th {\n",
       "        vertical-align: top;\n",
       "    }\n",
       "\n",
       "    .dataframe thead th {\n",
       "        text-align: right;\n",
       "    }\n",
       "</style>\n",
       "<table border=\"1\" class=\"dataframe\">\n",
       "  <thead>\n",
       "    <tr style=\"text-align: right;\">\n",
       "      <th></th>\n",
       "      <th>자치구ID</th>\n",
       "      <th>자치구명</th>\n",
       "    </tr>\n",
       "  </thead>\n",
       "  <tbody>\n",
       "    <tr>\n",
       "      <th>0</th>\n",
       "      <td>1</td>\n",
       "      <td>종로구</td>\n",
       "    </tr>\n",
       "    <tr>\n",
       "      <th>1</th>\n",
       "      <td>2</td>\n",
       "      <td>중구</td>\n",
       "    </tr>\n",
       "    <tr>\n",
       "      <th>2</th>\n",
       "      <td>3</td>\n",
       "      <td>용산구</td>\n",
       "    </tr>\n",
       "    <tr>\n",
       "      <th>3</th>\n",
       "      <td>4</td>\n",
       "      <td>성동구</td>\n",
       "    </tr>\n",
       "    <tr>\n",
       "      <th>4</th>\n",
       "      <td>5</td>\n",
       "      <td>광진구</td>\n",
       "    </tr>\n",
       "    <tr>\n",
       "      <th>5</th>\n",
       "      <td>6</td>\n",
       "      <td>동대문구</td>\n",
       "    </tr>\n",
       "    <tr>\n",
       "      <th>6</th>\n",
       "      <td>7</td>\n",
       "      <td>중랑구</td>\n",
       "    </tr>\n",
       "    <tr>\n",
       "      <th>7</th>\n",
       "      <td>8</td>\n",
       "      <td>성북구</td>\n",
       "    </tr>\n",
       "    <tr>\n",
       "      <th>8</th>\n",
       "      <td>9</td>\n",
       "      <td>강북구</td>\n",
       "    </tr>\n",
       "    <tr>\n",
       "      <th>9</th>\n",
       "      <td>10</td>\n",
       "      <td>도봉구</td>\n",
       "    </tr>\n",
       "    <tr>\n",
       "      <th>10</th>\n",
       "      <td>11</td>\n",
       "      <td>노원구</td>\n",
       "    </tr>\n",
       "    <tr>\n",
       "      <th>11</th>\n",
       "      <td>12</td>\n",
       "      <td>은평구</td>\n",
       "    </tr>\n",
       "    <tr>\n",
       "      <th>12</th>\n",
       "      <td>13</td>\n",
       "      <td>서대문구</td>\n",
       "    </tr>\n",
       "    <tr>\n",
       "      <th>13</th>\n",
       "      <td>14</td>\n",
       "      <td>마포구</td>\n",
       "    </tr>\n",
       "    <tr>\n",
       "      <th>14</th>\n",
       "      <td>15</td>\n",
       "      <td>양천구</td>\n",
       "    </tr>\n",
       "    <tr>\n",
       "      <th>15</th>\n",
       "      <td>16</td>\n",
       "      <td>강서구</td>\n",
       "    </tr>\n",
       "    <tr>\n",
       "      <th>16</th>\n",
       "      <td>17</td>\n",
       "      <td>구로구</td>\n",
       "    </tr>\n",
       "    <tr>\n",
       "      <th>17</th>\n",
       "      <td>18</td>\n",
       "      <td>금천구</td>\n",
       "    </tr>\n",
       "    <tr>\n",
       "      <th>18</th>\n",
       "      <td>19</td>\n",
       "      <td>영등포구</td>\n",
       "    </tr>\n",
       "    <tr>\n",
       "      <th>19</th>\n",
       "      <td>20</td>\n",
       "      <td>동작구</td>\n",
       "    </tr>\n",
       "    <tr>\n",
       "      <th>20</th>\n",
       "      <td>21</td>\n",
       "      <td>관악구</td>\n",
       "    </tr>\n",
       "    <tr>\n",
       "      <th>21</th>\n",
       "      <td>22</td>\n",
       "      <td>서초구</td>\n",
       "    </tr>\n",
       "    <tr>\n",
       "      <th>22</th>\n",
       "      <td>23</td>\n",
       "      <td>강남구</td>\n",
       "    </tr>\n",
       "    <tr>\n",
       "      <th>23</th>\n",
       "      <td>24</td>\n",
       "      <td>송파구</td>\n",
       "    </tr>\n",
       "    <tr>\n",
       "      <th>24</th>\n",
       "      <td>25</td>\n",
       "      <td>강동구</td>\n",
       "    </tr>\n",
       "  </tbody>\n",
       "</table>\n",
       "</div>"
      ]
     },
     "metadata": {},
     "execution_count": 122
    }
   ],
   "metadata": {}
  },
  {
   "cell_type": "code",
   "execution_count": 57,
   "source": [
    "# for arsid in list_arsid:\r\n",
    "#     if len(str(arsid)) == 4:\r\n",
    "#         print(\"4자리 arsid \", arsid)\r\n",
    "#         print(str(arsid)[:1])\r\n",
    "#     else:\r\n",
    "#         print(\"4자리 이상 arsid\", arsid)\r\n",
    "#         print(str(arsid)[:2])\r\n",
    "        "
   ],
   "outputs": [],
   "metadata": {}
  },
  {
   "cell_type": "code",
   "execution_count": 106,
   "source": [
    "df_bus_total.dtypes"
   ],
   "outputs": [
    {
     "output_type": "execute_result",
     "data": {
      "text/plain": [
       "사용월         int64\n",
       "노선번호       object\n",
       "정류소명       object\n",
       "승차총승객수      int64\n",
       "하차총승객수      int64\n",
       "표준ID        int64\n",
       "ARS-ID     object\n",
       "X좌표       float64\n",
       "Y좌표       float64\n",
       "dtype: object"
      ]
     },
     "metadata": {},
     "execution_count": 106
    }
   ],
   "metadata": {}
  },
  {
   "cell_type": "code",
   "execution_count": 67,
   "source": [
    "df_bus_total=df_bus_total.astype({'ARS-ID':'str'})"
   ],
   "outputs": [],
   "metadata": {}
  },
  {
   "cell_type": "code",
   "execution_count": 84,
   "source": [
    "df_bus_total[df_bus_total['ARS-ID'].str.len() == 4]['ARS-ID'].str[:1]"
   ],
   "outputs": [
    {
     "output_type": "execute_result",
     "data": {
      "text/plain": [
       "0          3\n",
       "1          3\n",
       "2          3\n",
       "3          3\n",
       "4          3\n",
       "          ..\n",
       "1416061    5\n",
       "1416062    5\n",
       "1416063    5\n",
       "1416064    5\n",
       "1416105    2\n",
       "Name: ARS-ID, Length: 418963, dtype: object"
      ]
     },
     "metadata": {},
     "execution_count": 84
    }
   ],
   "metadata": {}
  },
  {
   "cell_type": "code",
   "execution_count": 100,
   "source": [
    "idx=df_bus_total[df_bus_total['ARS-ID'].str.len() == 4].index\r\n"
   ],
   "outputs": [],
   "metadata": {}
  },
  {
   "cell_type": "code",
   "execution_count": 102,
   "source": [
    "idx"
   ],
   "outputs": [
    {
     "output_type": "execute_result",
     "data": {
      "text/plain": [
       "Int64Index([      0,       1,       2,       3,       4,       5,       6,\n",
       "                  7,       8,       9,\n",
       "            ...\n",
       "            1416056, 1416057, 1416058, 1416059, 1416060, 1416061, 1416062,\n",
       "            1416063, 1416064, 1416105],\n",
       "           dtype='int64', length=418963)"
      ]
     },
     "metadata": {},
     "execution_count": 102
    }
   ],
   "metadata": {}
  },
  {
   "cell_type": "code",
   "execution_count": 114,
   "source": [
    "idx2=df_bus_total[df_bus_total['ARS-ID'].str.len() > 4].index"
   ],
   "outputs": [],
   "metadata": {}
  },
  {
   "cell_type": "code",
   "execution_count": 115,
   "source": [
    "idx2"
   ],
   "outputs": [
    {
     "output_type": "execute_result",
     "data": {
      "text/plain": [
       "Int64Index([   3151,    3152,    3153,    3154,    3155,    3156,    3157,\n",
       "               3158,    3159,    3160,\n",
       "            ...\n",
       "            1416098, 1416099, 1416100, 1416101, 1416102, 1416103, 1416104,\n",
       "            1416106, 1416107, 1416108],\n",
       "           dtype='int64', length=997146)"
      ]
     },
     "metadata": {},
     "execution_count": 115
    }
   ],
   "metadata": {}
  },
  {
   "cell_type": "code",
   "execution_count": 107,
   "source": [
    "df_bus_total.loc[idx, '자치구ID'] = df_bus_total[df_bus_total['ARS-ID'].str.len() == 4]['ARS-ID'].str[:1]"
   ],
   "outputs": [],
   "metadata": {}
  },
  {
   "cell_type": "code",
   "execution_count": 116,
   "source": [
    "df_bus_total.loc[idx2, '자치구ID'] = df_bus_total[df_bus_total['ARS-ID'].str.len() > 4]['ARS-ID'].str[:2]"
   ],
   "outputs": [],
   "metadata": {}
  },
  {
   "cell_type": "code",
   "execution_count": 117,
   "source": [
    "\r\n",
    "df_bus_total[df_bus_total['ARS-ID'].str.len() == 4]['ARS-ID'].str[:1]\r\n",
    "\r\n",
    "# for key, val in arsid2dong.items():\r\n",
    "#     if key == df_bus_total[df_bus_total['ARS-ID'].str.len() == 4]['ARS-ID'].str[:1]:\r\n",
    "#         print(df_bus_total[df_bus_total['ARS-ID'].str.len() == 4]['ARS-ID'].str[:1])\r\n",
    "#         print(key)"
   ],
   "outputs": [
    {
     "output_type": "execute_result",
     "data": {
      "text/plain": [
       "0          3\n",
       "1          3\n",
       "2          3\n",
       "3          3\n",
       "4          3\n",
       "          ..\n",
       "1416061    5\n",
       "1416062    5\n",
       "1416063    5\n",
       "1416064    5\n",
       "1416105    2\n",
       "Name: ARS-ID, Length: 418963, dtype: object"
      ]
     },
     "metadata": {},
     "execution_count": 117
    }
   ],
   "metadata": {}
  },
  {
   "cell_type": "code",
   "execution_count": 123,
   "source": [
    "# df_bus_total\r\n",
    "# af_arsid\r\n",
    "\r\n",
    "df_bus_jachi=pd.merge(left=df_bus_total, right=af_arsid, how='inner', on='자치구ID')\r\n",
    "\r\n",
    "\r\n"
   ],
   "outputs": [],
   "metadata": {}
  },
  {
   "cell_type": "code",
   "execution_count": 125,
   "source": [
    "df_bus_jachi.to_csv('버스_위치_행정구_현황.csv', encoding='cp949')"
   ],
   "outputs": [],
   "metadata": {}
  },
  {
   "cell_type": "code",
   "execution_count": 126,
   "source": [
    "df_bus_jachi.columns\r\n"
   ],
   "outputs": [
    {
     "output_type": "execute_result",
     "data": {
      "text/plain": [
       "Index(['사용월', '노선번호', '정류소명', '승차총승객수', '하차총승객수', '표준ID', 'ARS-ID', 'X좌표',\n",
       "       'Y좌표', '자치구ID', '자치구명'],\n",
       "      dtype='object')"
      ]
     },
     "metadata": {},
     "execution_count": 126
    }
   ],
   "metadata": {}
  },
  {
   "cell_type": "code",
   "execution_count": 128,
   "source": [
    "df_modibus=df_bus_jachi[['사용월', '승차총승객수', '하차총승객수', '자치구명']]"
   ],
   "outputs": [],
   "metadata": {}
  },
  {
   "cell_type": "code",
   "execution_count": 130,
   "source": [
    "df_modibus=df_modibus.groupby(['자치구명', '사용월']).sum(['승차총승객수', '하차총승객수'])"
   ],
   "outputs": [],
   "metadata": {}
  },
  {
   "cell_type": "code",
   "execution_count": 137,
   "source": [
    "df_modibus.columns"
   ],
   "outputs": [
    {
     "output_type": "execute_result",
     "data": {
      "text/plain": [
       "Index(['승차총승객수', '하차총승객수'], dtype='object')"
      ]
     },
     "metadata": {},
     "execution_count": 137
    }
   ],
   "metadata": {}
  },
  {
   "cell_type": "code",
   "execution_count": 135,
   "source": [
    "df_modi=df_modibus.reset_index()"
   ],
   "outputs": [],
   "metadata": {}
  },
  {
   "cell_type": "code",
   "execution_count": 138,
   "source": [
    "df_modi.to_csv('버스_2019_2021_이용현황(가공).csv', encoding='cp949')"
   ],
   "outputs": [],
   "metadata": {}
  },
  {
   "cell_type": "code",
   "execution_count": null,
   "source": [],
   "outputs": [],
   "metadata": {}
  }
 ],
 "metadata": {
  "orig_nbformat": 4,
  "language_info": {
   "name": "python",
   "version": "3.8.8",
   "mimetype": "text/x-python",
   "codemirror_mode": {
    "name": "ipython",
    "version": 3
   },
   "pygments_lexer": "ipython3",
   "nbconvert_exporter": "python",
   "file_extension": ".py"
  },
  "kernelspec": {
   "name": "python3",
   "display_name": "Python 3.8.8 64-bit ('base': conda)"
  },
  "interpreter": {
   "hash": "74ac2c347abb782a3d2f694c8d9341193b1005c179381ae3abf4a67743d7a946"
  }
 },
 "nbformat": 4,
 "nbformat_minor": 2
}