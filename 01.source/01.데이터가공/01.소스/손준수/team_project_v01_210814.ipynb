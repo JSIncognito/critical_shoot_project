{
 "cells": [
  {
   "cell_type": "markdown",
   "source": [
    "### 코로나가 서울시 대중교통에 미친영향\r\n",
    "\r\n",
    "- 버스 vs 지하철 vs 공공자전거 증감률 비교\r\n",
    "- 코로나 연령별/성별, 감염자 수/사망자수/치명율 현황 (월별)\r\n",
    "\r\n",
    "### * 작업순서\r\n",
    " * 버스 /지하철/공공자전거 이용 증감률 계산\r\n",
    " * 연도별/월별 버스/지하철/공공자전거 이용 인원 합계\r\n",
    " * 코로나 전,후 월별  버스/지하철/공공자전거 이용 증감률\r\n",
    " * 2019년 대비 2020/2021(7월)년 증감율 구하기\r\n",
    " * 거리두기 단계별 버스/지하철/공공자전거 증감율 계산"
   ],
   "metadata": {}
  },
  {
   "cell_type": "code",
   "execution_count": 3,
   "source": [
    "import pandas as pd\r\n",
    "import numpy as np \r\n",
    "import matplotlib.pyplot as plt\r\n",
    "import seaborn as sns \r\n",
    "\r\n",
    "# plotly\r\n",
    "import plotly as pl\r\n",
    "\r\n",
    "import os \r\n",
    "import folium "
   ],
   "outputs": [],
   "metadata": {}
  },
  {
   "cell_type": "code",
   "execution_count": 4,
   "source": [
    "# pip install plotly"
   ],
   "outputs": [],
   "metadata": {}
  },
  {
   "cell_type": "code",
   "execution_count": 6,
   "source": [
    "# pip install cufflinks\r\n",
    "os.getcwd()"
   ],
   "outputs": [
    {
     "output_type": "execute_result",
     "data": {
      "text/plain": [
       "'c:\\\\Users\\\\JSSON\\\\JS_Python\\\\02.team_project_data\\\\01.source'"
      ]
     },
     "metadata": {},
     "execution_count": 6
    }
   ],
   "metadata": {}
  },
  {
   "cell_type": "code",
   "execution_count": null,
   "source": [
    "# 불러올 폴더 위치 지정\r\n",
    "dt_path = \"../02.data/00.가공데이터/\"\r\n",
    "\r\n",
    "# 버스 이용현황 불러오기\r\n",
    "pd.read_csv(dt_path + \"월별 버스이용객수.csv\",  )"
   ],
   "outputs": [],
   "metadata": {}
  },
  {
   "cell_type": "code",
   "execution_count": 8,
   "source": [
    "# 데이터 생성 및 검증 \r\n",
    "# 해당 위치의 모든 파일명을 list 형태로 가져옴 \r\n",
    "fd_filenm = os.listdir(\"../02.data/서울시버스_이용현황/\")\r\n",
    "\r\n",
    "# 확장자가 csv인 경우에만 리스트에 담도록 하는 구문\r\n",
    "fd_filenm=[filenm for filenm in fd_filenm if filenm[-3:]=='csv']\r\n",
    "fd_filenm"
   ],
   "outputs": [
    {
     "output_type": "execute_result",
     "data": {
      "text/plain": [
       "['BUS_STATION_BOARDING_MONTH_201901.csv',\n",
       " 'BUS_STATION_BOARDING_MONTH_201902.csv',\n",
       " 'BUS_STATION_BOARDING_MONTH_201903.csv',\n",
       " 'BUS_STATION_BOARDING_MONTH_201904.csv',\n",
       " 'BUS_STATION_BOARDING_MONTH_201905.csv',\n",
       " 'BUS_STATION_BOARDING_MONTH_201906.csv',\n",
       " 'BUS_STATION_BOARDING_MONTH_201907.csv',\n",
       " 'BUS_STATION_BOARDING_MONTH_201908.csv',\n",
       " 'BUS_STATION_BOARDING_MONTH_201909.csv',\n",
       " 'BUS_STATION_BOARDING_MONTH_201910.csv',\n",
       " 'BUS_STATION_BOARDING_MONTH_201911.csv',\n",
       " 'BUS_STATION_BOARDING_MONTH_201912.csv',\n",
       " 'BUS_STATION_BOARDING_MONTH_202001.csv',\n",
       " 'BUS_STATION_BOARDING_MONTH_202002.csv',\n",
       " 'BUS_STATION_BOARDING_MONTH_202003.csv',\n",
       " 'BUS_STATION_BOARDING_MONTH_202004.csv',\n",
       " 'BUS_STATION_BOARDING_MONTH_202005.csv',\n",
       " 'BUS_STATION_BOARDING_MONTH_202006.csv',\n",
       " 'BUS_STATION_BOARDING_MONTH_202007.csv',\n",
       " 'BUS_STATION_BOARDING_MONTH_202008.csv',\n",
       " 'BUS_STATION_BOARDING_MONTH_202009.csv',\n",
       " 'BUS_STATION_BOARDING_MONTH_202010.csv',\n",
       " 'BUS_STATION_BOARDING_MONTH_202011.csv',\n",
       " 'BUS_STATION_BOARDING_MONTH_202012.csv',\n",
       " 'BUS_STATION_BOARDING_MONTH_202101.csv',\n",
       " 'BUS_STATION_BOARDING_MONTH_202102.csv',\n",
       " 'BUS_STATION_BOARDING_MONTH_202103.csv',\n",
       " 'BUS_STATION_BOARDING_MONTH_202104.csv',\n",
       " 'BUS_STATION_BOARDING_MONTH_202105.csv',\n",
       " 'BUS_STATION_BOARDING_MONTH_202106.csv',\n",
       " 'BUS_STATION_BOARDING_MONTH_202107.csv']"
      ]
     },
     "metadata": {},
     "execution_count": 8
    }
   ],
   "metadata": {}
  },
  {
   "cell_type": "code",
   "execution_count": 9,
   "source": [
    "\r\n",
    "def mergeReadCsv(arg_fnm_list):\r\n",
    "# 버스 이용현황 데이터 폴더\r\n",
    "    fd_path = '../02.data/서울시버스_이용현황/'\r\n",
    "    df_column = ['사용일자', '노선번호', '역명', '승차총승객수', '하차총승객수', '등록일자']\r\n",
    "\r\n",
    "    err_li=[]\r\n",
    "    dfs = pd.DataFrame()\r\n",
    "\r\n",
    "    for fnm in arg_fnm_list:\r\n",
    "        print(fnm)\r\n",
    "        # f=open(fd_path+fnm, \"r\")\r\n",
    "        # print(type(f), f)\r\n",
    "        # print()\r\n",
    "        # f.close()\r\n",
    "\r\n",
    "        # try 문을 사용한 것은 read_csv 로 파일을 열었을때 파일의 정보는 cp949 인코딩으로 나와 있지만 실제 열리지 않는 이슈가 있음.\r\n",
    "        # 노트패드로 해당 파일을 열었을때, 컬럼 열은 6열 데이터의 열은 7열로 되어 있었으며 \"\" 빈값이 작성되어 있었음.\r\n",
    "        try:\r\n",
    "            df = pd.read_csv(fd_path+fnm, encoding='cp949', skiprows=1)\r\n",
    "        # 오류가 발생된 경우 \r\n",
    "        except:\r\n",
    "            print(\"오류발생:\", fnm)\r\n",
    "            err_li.append(fnm)\r\n",
    "            df = pd.read_csv(fd_path+fnm, encoding='utf-8', skiprows=1)\r\n",
    "            if df.shape[1] == 7:\r\n",
    "                df = df.iloc[:, :-1]\r\n",
    "            df.columns = df_column            \r\n",
    "            dfs = pd.concat([dfs, df])\r\n",
    "        # 정상적으로 read_csv 가 수행된 경우 \r\n",
    "        else:\r\n",
    "            # 파일을 합치는 중에 컬럼 열은 6열, 데이터는 7열인 파일이 있어서 변경하기 위해 반영\r\n",
    "            if df.shape[1] == 7:\r\n",
    "                df = df.iloc[:, :-1]\r\n",
    "            df.columns = df_column\r\n",
    "            dfs = pd.concat([dfs, df])\r\n",
    "    print(err_li)\r\n",
    "    return dfs    \r\n"
   ],
   "outputs": [],
   "metadata": {}
  },
  {
   "cell_type": "code",
   "execution_count": 11,
   "source": [
    "tot_df=mergeReadCsv(fd_filenm)"
   ],
   "outputs": [
    {
     "output_type": "stream",
     "name": "stdout",
     "text": [
      "BUS_STATION_BOARDING_MONTH_201901.csv\n",
      "BUS_STATION_BOARDING_MONTH_201902.csv\n",
      "BUS_STATION_BOARDING_MONTH_201903.csv\n",
      "BUS_STATION_BOARDING_MONTH_201904.csv\n",
      "BUS_STATION_BOARDING_MONTH_201905.csv\n",
      "BUS_STATION_BOARDING_MONTH_201906.csv\n",
      "BUS_STATION_BOARDING_MONTH_201907.csv\n",
      "BUS_STATION_BOARDING_MONTH_201908.csv\n",
      "BUS_STATION_BOARDING_MONTH_201909.csv\n",
      "BUS_STATION_BOARDING_MONTH_201910.csv\n",
      "BUS_STATION_BOARDING_MONTH_201911.csv\n",
      "BUS_STATION_BOARDING_MONTH_201912.csv\n",
      "BUS_STATION_BOARDING_MONTH_202001.csv\n",
      "BUS_STATION_BOARDING_MONTH_202002.csv\n",
      "BUS_STATION_BOARDING_MONTH_202003.csv\n",
      "BUS_STATION_BOARDING_MONTH_202004.csv\n",
      "BUS_STATION_BOARDING_MONTH_202005.csv\n",
      "BUS_STATION_BOARDING_MONTH_202006.csv\n",
      "BUS_STATION_BOARDING_MONTH_202007.csv\n",
      "BUS_STATION_BOARDING_MONTH_202008.csv\n",
      "BUS_STATION_BOARDING_MONTH_202009.csv\n",
      "BUS_STATION_BOARDING_MONTH_202010.csv\n",
      "BUS_STATION_BOARDING_MONTH_202011.csv\n",
      "BUS_STATION_BOARDING_MONTH_202012.csv\n",
      "BUS_STATION_BOARDING_MONTH_202101.csv\n",
      "BUS_STATION_BOARDING_MONTH_202102.csv\n",
      "BUS_STATION_BOARDING_MONTH_202103.csv\n",
      "BUS_STATION_BOARDING_MONTH_202104.csv\n",
      "BUS_STATION_BOARDING_MONTH_202105.csv\n",
      "BUS_STATION_BOARDING_MONTH_202106.csv\n",
      "BUS_STATION_BOARDING_MONTH_202107.csv\n",
      "[]\n"
     ]
    }
   ],
   "metadata": {}
  },
  {
   "cell_type": "code",
   "execution_count": 12,
   "source": [
    "tot_df.info()"
   ],
   "outputs": [
    {
     "output_type": "stream",
     "name": "stdout",
     "text": [
      "<class 'pandas.core.frame.DataFrame'>\n",
      "Int64Index: 32505794 entries, 0 to 1048573\n",
      "Data columns (total 6 columns):\n",
      " #   Column  Dtype \n",
      "---  ------  ----- \n",
      " 0   사용일자    int64 \n",
      " 1   노선번호    object\n",
      " 2   역명      object\n",
      " 3   승차총승객수  int64 \n",
      " 4   하차총승객수  int64 \n",
      " 5   등록일자    int64 \n",
      "dtypes: int64(4), object(2)\n",
      "memory usage: 1.7+ GB\n"
     ]
    }
   ],
   "metadata": {}
  },
  {
   "cell_type": "code",
   "execution_count": 14,
   "source": [
    "tot_df=tot_df.drop('등록일자', axis=1)"
   ],
   "outputs": [],
   "metadata": {}
  },
  {
   "cell_type": "code",
   "execution_count": null,
   "source": [
    "tot_df.dtypes()"
   ],
   "outputs": [],
   "metadata": {}
  },
  {
   "cell_type": "code",
   "execution_count": 16,
   "source": [
    "modi_df = tot_df.astype({'사용일자': 'str'})"
   ],
   "outputs": [],
   "metadata": {}
  },
  {
   "cell_type": "code",
   "execution_count": 18,
   "source": [
    "modi_df.dtypes"
   ],
   "outputs": [
    {
     "output_type": "execute_result",
     "data": {
      "text/plain": [
       "사용일자      object\n",
       "노선번호      object\n",
       "역명        object\n",
       "승차총승객수     int64\n",
       "하차총승객수     int64\n",
       "dtype: object"
      ]
     },
     "metadata": {},
     "execution_count": 18
    }
   ],
   "metadata": {}
  },
  {
   "cell_type": "code",
   "execution_count": 19,
   "source": [
    "# 특정컬러명 변경 inplace True 는 해당 dataframe 에 반영여부\r\n",
    "modi_df.rename(columns={'사용일자': '사용월'}, inplace=True)"
   ],
   "outputs": [],
   "metadata": {}
  },
  {
   "cell_type": "code",
   "execution_count": 20,
   "source": [
    "modi_df.columns"
   ],
   "outputs": [
    {
     "output_type": "execute_result",
     "data": {
      "text/plain": [
       "Index(['사용월', '노선번호', '역명', '승차총승객수', '하차총승객수'], dtype='object')"
      ]
     },
     "metadata": {},
     "execution_count": 20
    }
   ],
   "metadata": {}
  },
  {
   "cell_type": "code",
   "execution_count": 21,
   "source": [
    "modi_df=modi_df.groupby(['사용월', '노선번호', '역명']).sum(['승차총승객수', '하차총승객수'])"
   ],
   "outputs": [],
   "metadata": {}
  },
  {
   "cell_type": "code",
   "execution_count": 23,
   "source": [
    "modi_df.reset_index(inplace=True)"
   ],
   "outputs": [],
   "metadata": {}
  },
  {
   "cell_type": "code",
   "execution_count": 26,
   "source": [
    "# 파일저장\r\n",
    "modi_df.to_csv('버스_이용자현황_2019_2021.csv', sep=',' ,encoding='cp949')"
   ],
   "outputs": [],
   "metadata": {}
  }
 ],
 "metadata": {
  "orig_nbformat": 4,
  "language_info": {
   "name": "python",
   "version": "3.8.8",
   "mimetype": "text/x-python",
   "codemirror_mode": {
    "name": "ipython",
    "version": 3
   },
   "pygments_lexer": "ipython3",
   "nbconvert_exporter": "python",
   "file_extension": ".py"
  },
  "kernelspec": {
   "name": "python3",
   "display_name": "Python 3.8.8 64-bit ('base': conda)"
  },
  "interpreter": {
   "hash": "74ac2c347abb782a3d2f694c8d9341193b1005c179381ae3abf4a67743d7a946"
  }
 },
 "nbformat": 4,
 "nbformat_minor": 2
}