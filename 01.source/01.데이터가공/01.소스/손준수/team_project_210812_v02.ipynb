{
 "cells": [
  {
   "cell_type": "code",
   "execution_count": 2,
   "source": [
    "import pandas as pd \r\n",
    "import numpy as np "
   ],
   "outputs": [],
   "metadata": {}
  },
  {
   "cell_type": "code",
   "execution_count": 3,
   "source": [
    "import os \r\n",
    "os.getcwd()"
   ],
   "outputs": [
    {
     "output_type": "execute_result",
     "data": {
      "text/plain": [
       "'c:\\\\Users\\\\JSSON\\\\JS_Python\\\\02.team_project_data'"
      ]
     },
     "metadata": {},
     "execution_count": 3
    }
   ],
   "metadata": {}
  },
  {
   "cell_type": "code",
   "execution_count": 4,
   "source": [
    "# 해당 위치의 모든 파일명을 list 형태로 가져옴 \r\n",
    "fd_filenm = os.listdir(\"./02.data/서울시_지하철호선별_역별_승하차_인원_정보/\")"
   ],
   "outputs": [],
   "metadata": {}
  },
  {
   "cell_type": "code",
   "execution_count": 5,
   "source": [
    "# 확장자가 csv인 경우에만 리스트에 담도록 하는 구문\r\n",
    "fd_filenm=[filenm for filenm in fd_filenm if filenm[-3:]=='csv']\r\n",
    "fd_filenm"
   ],
   "outputs": [
    {
     "output_type": "execute_result",
     "data": {
      "text/plain": [
       "['CARD_SUBWAY_MONTH_201901.csv',\n",
       " 'CARD_SUBWAY_MONTH_201902.csv',\n",
       " 'CARD_SUBWAY_MONTH_201903.csv',\n",
       " 'CARD_SUBWAY_MONTH_201904.csv',\n",
       " 'CARD_SUBWAY_MONTH_201905.csv',\n",
       " 'CARD_SUBWAY_MONTH_201906.csv',\n",
       " 'CARD_SUBWAY_MONTH_201907.csv',\n",
       " 'CARD_SUBWAY_MONTH_201908.csv',\n",
       " 'CARD_SUBWAY_MONTH_201909.csv',\n",
       " 'CARD_SUBWAY_MONTH_201910.csv',\n",
       " 'CARD_SUBWAY_MONTH_201911.csv',\n",
       " 'CARD_SUBWAY_MONTH_201912.csv',\n",
       " 'CARD_SUBWAY_MONTH_202001.csv',\n",
       " 'CARD_SUBWAY_MONTH_202002.csv',\n",
       " 'CARD_SUBWAY_MONTH_202003.csv',\n",
       " 'CARD_SUBWAY_MONTH_202004.csv',\n",
       " 'CARD_SUBWAY_MONTH_202005.csv',\n",
       " 'CARD_SUBWAY_MONTH_202006.csv',\n",
       " 'CARD_SUBWAY_MONTH_202007.csv',\n",
       " 'CARD_SUBWAY_MONTH_202008.csv',\n",
       " 'CARD_SUBWAY_MONTH_202009.csv',\n",
       " 'CARD_SUBWAY_MONTH_202010.csv',\n",
       " 'CARD_SUBWAY_MONTH_202011.csv',\n",
       " 'CARD_SUBWAY_MONTH_202012.csv',\n",
       " 'CARD_SUBWAY_MONTH_202101.csv',\n",
       " 'CARD_SUBWAY_MONTH_202102.csv',\n",
       " 'CARD_SUBWAY_MONTH_202103.csv',\n",
       " 'CARD_SUBWAY_MONTH_202104.csv',\n",
       " 'CARD_SUBWAY_MONTH_202105.csv',\n",
       " 'CARD_SUBWAY_MONTH_202106.csv',\n",
       " 'CARD_SUBWAY_MONTH_202107.csv']"
      ]
     },
     "metadata": {},
     "execution_count": 5
    }
   ],
   "metadata": {}
  },
  {
   "cell_type": "code",
   "execution_count": 123,
   "source": [
    "# pd.read_csv(\"./02.data/서울시_지하철호선별_역별_승하차_인원_정보/CARD_SUBWAY_MONTH_201901.csv\", encoding='cp949')"
   ],
   "outputs": [],
   "metadata": {}
  },
  {
   "cell_type": "code",
   "execution_count": 23,
   "source": [
    "def mergeReadCsv(arg_fnm_list):\r\n",
    "    fd_path = './02.data/서울시_지하철호선별_역별_승하차_인원_정보/'\r\n",
    "    df_column = [\"사용일자\", \"노선명\", \"역명\", \"승차총객수\", \"하차총승객수\", \"등록일자\"]\r\n",
    "\r\n",
    "    err_li=[]\r\n",
    "    dfs = pd.DataFrame()\r\n",
    "\r\n",
    "    for fnm in arg_fnm_list:\r\n",
    "        print(fnm)\r\n",
    "        # f=open(fd_path+fnm, \"r\")\r\n",
    "        # print(type(f), f)\r\n",
    "        # print()\r\n",
    "        # f.close()\r\n",
    "\r\n",
    "        # try 문을 사용한 것은 read_csv 로 파일을 열었을때 파일의 정보는 cp949 인코딩으로 나와 있지만 실제 열리지 않는 이슈가 있음.\r\n",
    "        # 노트패드로 해당 파일을 열었을때, 컬럼 열은 6열 데이터의 열은 7열로 되어 있었으며 \"\" 빈값이 작성되어 있었음.\r\n",
    "        try:\r\n",
    "            df = pd.read_csv(fd_path+fnm, encoding='cp949', skiprows=1)\r\n",
    "        # 오류가 발생된 경우 \r\n",
    "        except:\r\n",
    "            print(\"오류발생:\", fnm)\r\n",
    "            err_li.append(fnm)\r\n",
    "            df = pd.read_csv(fd_path+fnm, encoding='utf-8', skiprows=1)\r\n",
    "            if df.shape[1] == 7:\r\n",
    "                df = df.iloc[:, :-1]\r\n",
    "            df.columns = df_column            \r\n",
    "            dfs = pd.concat([dfs, df])\r\n",
    "        # 정상적으로 read_csv 가 수행된 경우 \r\n",
    "        else:\r\n",
    "            # 파일을 합치는 중에 컬럼 열은 6열, 데이터는 7열인 파일이 있어서 변경하기 위해 반영\r\n",
    "            if df.shape[1] == 7:\r\n",
    "                df = df.iloc[:, :-1]\r\n",
    "            df.columns = df_column\r\n",
    "            dfs = pd.concat([dfs, df])\r\n",
    "    print(err_li)\r\n",
    "    return dfs    \r\n"
   ],
   "outputs": [],
   "metadata": {}
  },
  {
   "cell_type": "code",
   "execution_count": 24,
   "source": [
    "tot_df = mergeReadCsv(fd_filenm)"
   ],
   "outputs": [
    {
     "output_type": "stream",
     "name": "stdout",
     "text": [
      "CARD_SUBWAY_MONTH_201901.csv\n",
      "CARD_SUBWAY_MONTH_201902.csv\n",
      "CARD_SUBWAY_MONTH_201903.csv\n",
      "CARD_SUBWAY_MONTH_201904.csv\n",
      "CARD_SUBWAY_MONTH_201905.csv\n",
      "CARD_SUBWAY_MONTH_201906.csv\n",
      "CARD_SUBWAY_MONTH_201907.csv\n",
      "CARD_SUBWAY_MONTH_201908.csv\n",
      "CARD_SUBWAY_MONTH_201909.csv\n",
      "CARD_SUBWAY_MONTH_201910.csv\n",
      "CARD_SUBWAY_MONTH_201911.csv\n",
      "CARD_SUBWAY_MONTH_201912.csv\n",
      "CARD_SUBWAY_MONTH_202001.csv\n",
      "CARD_SUBWAY_MONTH_202002.csv\n",
      "CARD_SUBWAY_MONTH_202003.csv\n",
      "CARD_SUBWAY_MONTH_202004.csv\n",
      "CARD_SUBWAY_MONTH_202005.csv\n",
      "오류발생: CARD_SUBWAY_MONTH_202005.csv\n",
      "CARD_SUBWAY_MONTH_202006.csv\n",
      "오류발생: CARD_SUBWAY_MONTH_202006.csv\n",
      "CARD_SUBWAY_MONTH_202007.csv\n",
      "오류발생: CARD_SUBWAY_MONTH_202007.csv\n",
      "CARD_SUBWAY_MONTH_202008.csv\n",
      "오류발생: CARD_SUBWAY_MONTH_202008.csv\n",
      "CARD_SUBWAY_MONTH_202009.csv\n",
      "CARD_SUBWAY_MONTH_202010.csv\n",
      "오류발생: CARD_SUBWAY_MONTH_202010.csv\n",
      "CARD_SUBWAY_MONTH_202011.csv\n",
      "오류발생: CARD_SUBWAY_MONTH_202011.csv\n",
      "CARD_SUBWAY_MONTH_202012.csv\n",
      "오류발생: CARD_SUBWAY_MONTH_202012.csv\n",
      "CARD_SUBWAY_MONTH_202101.csv\n",
      "오류발생: CARD_SUBWAY_MONTH_202101.csv\n",
      "CARD_SUBWAY_MONTH_202102.csv\n",
      "오류발생: CARD_SUBWAY_MONTH_202102.csv\n",
      "CARD_SUBWAY_MONTH_202103.csv\n",
      "오류발생: CARD_SUBWAY_MONTH_202103.csv\n",
      "CARD_SUBWAY_MONTH_202104.csv\n",
      "오류발생: CARD_SUBWAY_MONTH_202104.csv\n",
      "CARD_SUBWAY_MONTH_202105.csv\n",
      "오류발생: CARD_SUBWAY_MONTH_202105.csv\n",
      "CARD_SUBWAY_MONTH_202106.csv\n",
      "오류발생: CARD_SUBWAY_MONTH_202106.csv\n",
      "CARD_SUBWAY_MONTH_202107.csv\n",
      "오류발생: CARD_SUBWAY_MONTH_202107.csv\n",
      "['CARD_SUBWAY_MONTH_202005.csv', 'CARD_SUBWAY_MONTH_202006.csv', 'CARD_SUBWAY_MONTH_202007.csv', 'CARD_SUBWAY_MONTH_202008.csv', 'CARD_SUBWAY_MONTH_202010.csv', 'CARD_SUBWAY_MONTH_202011.csv', 'CARD_SUBWAY_MONTH_202012.csv', 'CARD_SUBWAY_MONTH_202101.csv', 'CARD_SUBWAY_MONTH_202102.csv', 'CARD_SUBWAY_MONTH_202103.csv', 'CARD_SUBWAY_MONTH_202104.csv', 'CARD_SUBWAY_MONTH_202105.csv', 'CARD_SUBWAY_MONTH_202106.csv', 'CARD_SUBWAY_MONTH_202107.csv']\n"
     ]
    }
   ],
   "metadata": {}
  },
  {
   "cell_type": "code",
   "execution_count": 8,
   "source": [
    "# 엑셀 파일로 생성하여 확인\r\n",
    "g_path = './02.data/서울시_지하철호선별_역별_승하차_인원_정보/'\r\n",
    "tot_df.to_excel(g_path+\"교통카드선후불_통합.xlsx\", encoding='cp949')"
   ],
   "outputs": [],
   "metadata": {}
  },
  {
   "cell_type": "code",
   "execution_count": null,
   "source": [],
   "outputs": [],
   "metadata": {}
  },
  {
   "cell_type": "code",
   "execution_count": 27,
   "source": [
    "# 테스트\r\n",
    "# csv 파일을 불러오던 도중 컬럼을 제외하고 데이터 행에서 갑자기 7열인 파일이 존재함 ... 조건문 생성 \r\n",
    "edf = pd.read_csv(\"./02.data/서울시_지하철호선별_역별_승하차_인원_정보/CARD_SUBWAY_MONTH_202009.csv\", encoding='cp949', skiprows=1)\r\n",
    "# f=open(\"./02.data/서울시_지하철호선별_역별_승하차_인원_정보/CARD_SUBWAY_MONTH_202005.csv\", encoding='utf-8')\r\n",
    "# dd=f.read()\r\n",
    "# print(f, dd)\r\n",
    "# f.close()\r\n",
    "# f=open()\r\n",
    "# if 'cp949' in f:\r\n",
    "#     print(f)\r\n",
    "# f.close()\r\n",
    "# edf"
   ],
   "outputs": [],
   "metadata": {}
  },
  {
   "cell_type": "code",
   "execution_count": 17,
   "source": [
    "dfshape = edf.shape"
   ],
   "outputs": [],
   "metadata": {}
  },
  {
   "cell_type": "code",
   "execution_count": 18,
   "source": [
    "# dfshape[1]"
   ],
   "outputs": [
    {
     "output_type": "execute_result",
     "data": {
      "text/plain": [
       "7"
      ]
     },
     "metadata": {},
     "execution_count": 18
    }
   ],
   "metadata": {}
  },
  {
   "cell_type": "code",
   "execution_count": 28,
   "source": [
    "edf=edf.iloc[:, :-1]\r\n",
    "# edf"
   ],
   "outputs": [],
   "metadata": {}
  },
  {
   "cell_type": "code",
   "execution_count": 22,
   "source": [
    "# edf.insert(0, 'index', edf.index)\r\n",
    "# edf"
   ],
   "outputs": [],
   "metadata": {}
  },
  {
   "cell_type": "code",
   "execution_count": 24,
   "source": [
    "# df_column = [\"사용일자\", \"노선명\", \"역명\", \"승차총객수\", \"하차총승객수\", \"등록일자\"]\r\n",
    "# edf.columns = df_column"
   ],
   "outputs": [],
   "metadata": {}
  },
  {
   "cell_type": "code",
   "execution_count": 25,
   "source": [
    "# edf=edf.iloc[:, :-1]"
   ],
   "outputs": [],
   "metadata": {}
  },
  {
   "cell_type": "code",
   "execution_count": 26,
   "source": [
    "# edf"
   ],
   "outputs": [],
   "metadata": {}
  },
  {
   "cell_type": "code",
   "execution_count": 109,
   "source": [
    "tot_df.info()"
   ],
   "outputs": [
    {
     "output_type": "stream",
     "name": "stdout",
     "text": [
      "<class 'pandas.core.frame.DataFrame'>\n",
      "Int64Index: 559977 entries, 0 to 18630\n",
      "Data columns (total 6 columns):\n",
      " #   Column  Non-Null Count   Dtype  \n",
      "---  ------  --------------   -----  \n",
      " 0   사용일자    559977 non-null  int64  \n",
      " 1   노선명     559977 non-null  object \n",
      " 2   역명      559977 non-null  object \n",
      " 3   승차총객수   559977 non-null  float64\n",
      " 4   하차총승객수  559977 non-null  float64\n",
      " 5   등록일자    559977 non-null  int64  \n",
      "dtypes: float64(2), int64(2), object(2)\n",
      "memory usage: 46.0+ MB\n"
     ]
    }
   ],
   "metadata": {}
  },
  {
   "cell_type": "code",
   "execution_count": 54,
   "source": [
    "# tot_df 데이터의 사용일자 년월일 데이터에서 일자를 제거 하고 월까지만 자르기 작업 \r\n",
    "tot_df.dtypes"
   ],
   "outputs": [
    {
     "output_type": "execute_result",
     "data": {
      "text/plain": [
       "사용일자        int64\n",
       "노선명        object\n",
       "역명         object\n",
       "승차총객수     float64\n",
       "하차총승객수    float64\n",
       "등록일자        int64\n",
       "dtype: object"
      ]
     },
     "metadata": {},
     "execution_count": 54
    }
   ],
   "metadata": {}
  },
  {
   "cell_type": "code",
   "execution_count": 110,
   "source": [
    "# int64 -> str 로 타입 변경 \r\n",
    "dff=tot_df.astype({'사용일자': 'str'})"
   ],
   "outputs": [],
   "metadata": {}
  },
  {
   "cell_type": "code",
   "execution_count": 111,
   "source": [
    "# 201901xx 의 xx 부분을 제이하고 월만 추출하여 저장\r\n",
    "dff['사용일자'] = dff['사용일자'].str[:-2]"
   ],
   "outputs": [],
   "metadata": {}
  },
  {
   "cell_type": "code",
   "execution_count": 115,
   "source": [
    "dff.columns"
   ],
   "outputs": [
    {
     "output_type": "execute_result",
     "data": {
      "text/plain": [
       "Index(['사용일자', '노선명', '역명', '승차총객수', '하차총승객수', '등록일자'], dtype='object')"
      ]
     },
     "metadata": {},
     "execution_count": 115
    }
   ],
   "metadata": {}
  },
  {
   "cell_type": "code",
   "execution_count": 119,
   "source": [
    "# 불필요한 등록일자 컬럼 제외 droup 도 가능 \r\n",
    "# dff=dff.iloc[:, :-1] # .groupby(['사용일자', '노선명', '역명', '승차총객수', '하차총승객수']).sum()\r\n",
    "dff=dff.drop(['등록일자'], axis=1)"
   ],
   "outputs": [],
   "metadata": {}
  },
  {
   "cell_type": "code",
   "execution_count": 120,
   "source": [
    "dff"
   ],
   "outputs": [
    {
     "output_type": "execute_result",
     "data": {
      "text/plain": [
       "         사용일자  노선명            역명    승차총객수   하차총승객수\n",
       "0      201901  2호선         을지로3가   8104.0   7554.0\n",
       "1      201901  2호선         을지로입구  22478.0  21330.0\n",
       "2      201901  2호선            시청   8381.0   6049.0\n",
       "3      201901  1호선           동묘앞   8045.0   8504.0\n",
       "4      201901  1호선  청량리(서울시립대입구)  15007.0  15397.0\n",
       "...       ...  ...           ...      ...      ...\n",
       "18626  202107  경원선  청량리(서울시립대입구)  11320.0  13138.0\n",
       "18627  202107  경원선           외대앞   4261.0   4279.0\n",
       "18628  202107  경원선           신이문   4666.0   4313.0\n",
       "18629  202107  2호선     용두(동대문구청)   1292.0   1364.0\n",
       "18630  202107  2호선         신정네거리   5350.0   5383.0\n",
       "\n",
       "[559977 rows x 5 columns]"
      ],
      "text/html": [
       "<div>\n",
       "<style scoped>\n",
       "    .dataframe tbody tr th:only-of-type {\n",
       "        vertical-align: middle;\n",
       "    }\n",
       "\n",
       "    .dataframe tbody tr th {\n",
       "        vertical-align: top;\n",
       "    }\n",
       "\n",
       "    .dataframe thead th {\n",
       "        text-align: right;\n",
       "    }\n",
       "</style>\n",
       "<table border=\"1\" class=\"dataframe\">\n",
       "  <thead>\n",
       "    <tr style=\"text-align: right;\">\n",
       "      <th></th>\n",
       "      <th>사용일자</th>\n",
       "      <th>노선명</th>\n",
       "      <th>역명</th>\n",
       "      <th>승차총객수</th>\n",
       "      <th>하차총승객수</th>\n",
       "    </tr>\n",
       "  </thead>\n",
       "  <tbody>\n",
       "    <tr>\n",
       "      <th>0</th>\n",
       "      <td>201901</td>\n",
       "      <td>2호선</td>\n",
       "      <td>을지로3가</td>\n",
       "      <td>8104.0</td>\n",
       "      <td>7554.0</td>\n",
       "    </tr>\n",
       "    <tr>\n",
       "      <th>1</th>\n",
       "      <td>201901</td>\n",
       "      <td>2호선</td>\n",
       "      <td>을지로입구</td>\n",
       "      <td>22478.0</td>\n",
       "      <td>21330.0</td>\n",
       "    </tr>\n",
       "    <tr>\n",
       "      <th>2</th>\n",
       "      <td>201901</td>\n",
       "      <td>2호선</td>\n",
       "      <td>시청</td>\n",
       "      <td>8381.0</td>\n",
       "      <td>6049.0</td>\n",
       "    </tr>\n",
       "    <tr>\n",
       "      <th>3</th>\n",
       "      <td>201901</td>\n",
       "      <td>1호선</td>\n",
       "      <td>동묘앞</td>\n",
       "      <td>8045.0</td>\n",
       "      <td>8504.0</td>\n",
       "    </tr>\n",
       "    <tr>\n",
       "      <th>4</th>\n",
       "      <td>201901</td>\n",
       "      <td>1호선</td>\n",
       "      <td>청량리(서울시립대입구)</td>\n",
       "      <td>15007.0</td>\n",
       "      <td>15397.0</td>\n",
       "    </tr>\n",
       "    <tr>\n",
       "      <th>...</th>\n",
       "      <td>...</td>\n",
       "      <td>...</td>\n",
       "      <td>...</td>\n",
       "      <td>...</td>\n",
       "      <td>...</td>\n",
       "    </tr>\n",
       "    <tr>\n",
       "      <th>18626</th>\n",
       "      <td>202107</td>\n",
       "      <td>경원선</td>\n",
       "      <td>청량리(서울시립대입구)</td>\n",
       "      <td>11320.0</td>\n",
       "      <td>13138.0</td>\n",
       "    </tr>\n",
       "    <tr>\n",
       "      <th>18627</th>\n",
       "      <td>202107</td>\n",
       "      <td>경원선</td>\n",
       "      <td>외대앞</td>\n",
       "      <td>4261.0</td>\n",
       "      <td>4279.0</td>\n",
       "    </tr>\n",
       "    <tr>\n",
       "      <th>18628</th>\n",
       "      <td>202107</td>\n",
       "      <td>경원선</td>\n",
       "      <td>신이문</td>\n",
       "      <td>4666.0</td>\n",
       "      <td>4313.0</td>\n",
       "    </tr>\n",
       "    <tr>\n",
       "      <th>18629</th>\n",
       "      <td>202107</td>\n",
       "      <td>2호선</td>\n",
       "      <td>용두(동대문구청)</td>\n",
       "      <td>1292.0</td>\n",
       "      <td>1364.0</td>\n",
       "    </tr>\n",
       "    <tr>\n",
       "      <th>18630</th>\n",
       "      <td>202107</td>\n",
       "      <td>2호선</td>\n",
       "      <td>신정네거리</td>\n",
       "      <td>5350.0</td>\n",
       "      <td>5383.0</td>\n",
       "    </tr>\n",
       "  </tbody>\n",
       "</table>\n",
       "<p>559977 rows × 5 columns</p>\n",
       "</div>"
      ]
     },
     "metadata": {},
     "execution_count": 120
    }
   ],
   "metadata": {}
  },
  {
   "cell_type": "code",
   "execution_count": 91,
   "source": [
    "# 201901 월만 추출해서 groupby 테스트\r\n",
    "dff_2019=dff[dff['사용일자'] == '201901']"
   ],
   "outputs": [],
   "metadata": {}
  },
  {
   "cell_type": "code",
   "execution_count": 98,
   "source": [
    "# 사용일자별, 노선명별, 역명별 합계\r\n",
    "dfff = dff_2019.groupby(['사용일자', '노선명', '역명']).sum(['승차총객수', '하차총승객수'])"
   ],
   "outputs": [],
   "metadata": {}
  },
  {
   "cell_type": "code",
   "execution_count": 121,
   "source": [
    "# dfff\r\n",
    "# 전체 데이터에 반영 "
   ],
   "outputs": [],
   "metadata": {}
  },
  {
   "cell_type": "code",
   "execution_count": 100,
   "source": [
    "# dfff.to_excel(\"test_2019_승차객.xlsx\", encoding='cp949')"
   ],
   "outputs": [],
   "metadata": {}
  },
  {
   "cell_type": "code",
   "execution_count": 107,
   "source": [
    "# 멀티 인덱스 열로 변경된 사용일자, 노선명, 역명을 다시 컬럼으로 변경\r\n",
    "dfff.reset_index(inplace=True)"
   ],
   "outputs": [],
   "metadata": {}
  },
  {
   "cell_type": "code",
   "execution_count": 122,
   "source": [
    "# 최종형태\r\n",
    "# dfff\r\n",
    "# 전체 데이터에 반영 "
   ],
   "outputs": [],
   "metadata": {}
  },
  {
   "cell_type": "code",
   "execution_count": 25,
   "source": [
    "# 등록일자 컬럼 제거\r\n",
    "tot_df=tot_df.drop('등록일자', axis=1)"
   ],
   "outputs": [],
   "metadata": {}
  },
  {
   "cell_type": "code",
   "execution_count": 27,
   "source": [
    "# 사용일자 -> 사용월로 변경 \r\n",
    "# 사용일자별, 노선명별, 역명별 승차총객수 하차총승객수 합계\r\n",
    "modi_df=tot_df.astype({'사용일자': 'str'})"
   ],
   "outputs": [],
   "metadata": {}
  },
  {
   "cell_type": "code",
   "execution_count": 28,
   "source": [
    "modi_df['사용일자']=modi_df['사용일자'].str[:-2]"
   ],
   "outputs": [],
   "metadata": {}
  },
  {
   "cell_type": "code",
   "execution_count": 33,
   "source": [
    "# 특정컬러명 변경 inplace True 는 해당 dataframe 에 반영여부\r\n",
    "modi_df.rename(columns={'사용일자': '사용월'}, inplace=True)"
   ],
   "outputs": [],
   "metadata": {}
  },
  {
   "cell_type": "code",
   "execution_count": 37,
   "source": [
    "modi_df=modi_df.groupby(['사용월', '노선명', '역명']).sum(['승차총객수', '하차총승객수'])"
   ],
   "outputs": [],
   "metadata": {}
  },
  {
   "cell_type": "code",
   "execution_count": 42,
   "source": [
    "modi_df.reset_index(inplace=True)"
   ],
   "outputs": [],
   "metadata": {}
  },
  {
   "cell_type": "code",
   "execution_count": 44,
   "source": [
    "# 파일저장\r\n",
    "modi_df.to_excel('지하철_선후불카드_이용객현황.xlsx', encoding='cp949')"
   ],
   "outputs": [],
   "metadata": {}
  },
  {
   "cell_type": "code",
   "execution_count": null,
   "source": [],
   "outputs": [],
   "metadata": {}
  }
 ],
 "metadata": {
  "orig_nbformat": 4,
  "language_info": {
   "name": "python",
   "version": "3.8.8",
   "mimetype": "text/x-python",
   "codemirror_mode": {
    "name": "ipython",
    "version": 3
   },
   "pygments_lexer": "ipython3",
   "nbconvert_exporter": "python",
   "file_extension": ".py"
  },
  "kernelspec": {
   "name": "python3",
   "display_name": "Python 3.8.8 64-bit ('base': conda)"
  },
  "interpreter": {
   "hash": "74ac2c347abb782a3d2f694c8d9341193b1005c179381ae3abf4a67743d7a946"
  }
 },
 "nbformat": 4,
 "nbformat_minor": 2
}