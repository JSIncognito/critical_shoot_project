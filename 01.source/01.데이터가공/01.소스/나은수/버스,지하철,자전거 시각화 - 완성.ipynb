{
 "cells": [
  {
   "cell_type": "code",
   "execution_count": 1,
   "id": "7c08c166",
   "metadata": {},
   "outputs": [],
   "source": [
    "import matplotlib as mpl\n",
    "import matplotlib.pyplot as plt # 대부분의 시각화를 담당해주는 pyplot\n",
    "import pandas as pd\n",
    "import numpy as np\n"
   ]
  },
  {
   "cell_type": "code",
   "execution_count": 2,
   "id": "37a5f3f9",
   "metadata": {},
   "outputs": [
    {
     "data": {
      "text/plain": [
       "{'ABSTER',\n",
       " 'Adobe Arabic',\n",
       " 'Adobe Caslon Pro',\n",
       " 'Adobe Devanagari',\n",
       " 'Adobe Fan Heiti Std',\n",
       " 'Adobe Fangsong Std',\n",
       " 'Adobe Gothic Std',\n",
       " 'Adobe Hebrew',\n",
       " 'Adobe Heiti Std',\n",
       " 'Adobe Kaiti Std',\n",
       " 'Adobe Ming Std',\n",
       " 'Adobe Myungjo Std',\n",
       " 'Adobe Song Std',\n",
       " 'Amatic SC',\n",
       " 'AmeriGarmnd BT',\n",
       " 'Arial',\n",
       " 'BM EULJIRO TTF',\n",
       " 'BM JUA_TTF',\n",
       " 'Bahnschrift',\n",
       " 'Baskerville BT',\n",
       " 'Batang',\n",
       " 'BernhardFashion BT',\n",
       " 'Big John',\n",
       " 'Birch Std',\n",
       " 'Black Han Sans',\n",
       " 'Blackoak Std',\n",
       " 'Blacksword',\n",
       " 'Blippo Blk BT',\n",
       " 'Bodoni Bd BT',\n",
       " 'Bodoni Bk BT',\n",
       " 'BroadwayEngraved BT',\n",
       " 'Brush Script Std',\n",
       " 'BrushScript BT',\n",
       " 'Calibri',\n",
       " 'Cambria',\n",
       " 'Candara',\n",
       " 'Celtic Garamond the 2nd',\n",
       " 'CentSchbook BT',\n",
       " 'Chaparral Pro',\n",
       " 'Charlemagne Std',\n",
       " 'Comic Sans MS',\n",
       " 'CommercialScript BT',\n",
       " 'Consolas',\n",
       " 'Constantia',\n",
       " 'Cooper Blk BT',\n",
       " 'Cooper Std',\n",
       " 'Corbel',\n",
       " 'Courier New',\n",
       " 'Courier10 BT',\n",
       " 'DejaVu Sans',\n",
       " 'DejaVu Sans Display',\n",
       " 'DejaVu Sans Mono',\n",
       " 'DejaVu Serif',\n",
       " 'DejaVu Serif Display',\n",
       " 'DomCasual BT',\n",
       " 'Dominique',\n",
       " 'Dynalight',\n",
       " 'Ebrima',\n",
       " 'Franklin Gothic Medium',\n",
       " 'Freehand591 BT',\n",
       " 'FuturaBlack BT',\n",
       " 'Gabriola',\n",
       " 'Gadugi',\n",
       " 'Georgia',\n",
       " 'Giddyup Std',\n",
       " 'GoudyOlSt BT',\n",
       " 'Gulim',\n",
       " 'HYcysM',\n",
       " 'HYgprM',\n",
       " 'HYgsrB',\n",
       " 'HYgtrE',\n",
       " 'HYkanB',\n",
       " 'HYkanM',\n",
       " 'HYmjrE',\n",
       " 'HYnamB',\n",
       " 'HYnamL',\n",
       " 'HYnamM',\n",
       " 'HYporM',\n",
       " 'HYsupB',\n",
       " 'HYsupM',\n",
       " 'HYtbrB',\n",
       " 'HYwulB',\n",
       " 'HYwulM',\n",
       " 'Haan YGodic 230',\n",
       " 'Haan YGodic 240',\n",
       " 'Haan YGodic 250',\n",
       " 'Hobo BT',\n",
       " 'Hobo Std',\n",
       " 'HoloLens MDL2 Assets',\n",
       " 'HyhwpEQ',\n",
       " 'Impact',\n",
       " 'Ink Free',\n",
       " 'Javanese Text',\n",
       " 'JejuGothic',\n",
       " 'JejuHallasan',\n",
       " 'JejuMyeongjo',\n",
       " 'KoPubWorldBatang_Pro',\n",
       " 'KoPubWorldDotum_Pro',\n",
       " 'Kozuka Gothic Pr6N',\n",
       " 'Kozuka Gothic Pro',\n",
       " 'Kozuka Mincho Pr6N',\n",
       " 'Kozuka Mincho Pro',\n",
       " 'Leelawadee UI',\n",
       " 'Letter Gothic Std',\n",
       " 'Liberty BT',\n",
       " 'Lithos Pro',\n",
       " 'Lucida Console',\n",
       " 'Lucida Sans Unicode',\n",
       " 'MS Gothic',\n",
       " 'MV Boli',\n",
       " 'Malgun Gothic',\n",
       " 'MapoFlowerIsland',\n",
       " 'Marlett',\n",
       " 'MecSoft_Font-1',\n",
       " 'Mesquite Std',\n",
       " 'Microsoft Himalaya',\n",
       " 'Microsoft JhengHei',\n",
       " 'Microsoft New Tai Lue',\n",
       " 'Microsoft PhagsPa',\n",
       " 'Microsoft Sans Serif',\n",
       " 'Microsoft Tai Le',\n",
       " 'Microsoft YaHei',\n",
       " 'Microsoft Yi Baiti',\n",
       " 'MingLiU-ExtB',\n",
       " 'Minion Pro',\n",
       " 'Mongolian Baiti',\n",
       " 'MurrayHill Bd BT',\n",
       " 'Myanmar Text',\n",
       " 'Myriad Arabic',\n",
       " 'Myriad Hebrew',\n",
       " 'Myriad Pro',\n",
       " 'Nanum Brush Script',\n",
       " 'Nanum Pen Script',\n",
       " 'NanumSquareOTF_ac',\n",
       " 'NanumSquareRound',\n",
       " 'NanumSquare_ac',\n",
       " 'Newtext Bk BT',\n",
       " 'Nirmala UI',\n",
       " 'Noto Sans CJK KR',\n",
       " 'Noto Sans Mono CJK KR',\n",
       " 'Nueva Std',\n",
       " 'OCR A Std',\n",
       " 'OCR-A BT',\n",
       " 'OCR-B-10 BT',\n",
       " 'Orator Std',\n",
       " 'Orator10 BT',\n",
       " 'Orbit-B BT',\n",
       " 'Palatino Linotype',\n",
       " 'ParkAvenue BT',\n",
       " 'Pokemon Hollow',\n",
       " 'Pokemon Solid',\n",
       " 'Poplar Std',\n",
       " 'Prestige Elite Std',\n",
       " 'Roboto',\n",
       " 'Rosewood Std',\n",
       " 'S-Core Dream',\n",
       " 'STIXGeneral',\n",
       " 'STIXNonUnicode',\n",
       " 'STIXSizeFiveSym',\n",
       " 'STIXSizeFourSym',\n",
       " 'STIXSizeOneSym',\n",
       " 'STIXSizeThreeSym',\n",
       " 'STIXSizeTwoSym',\n",
       " 'Segoe MDL2 Assets',\n",
       " 'Segoe Print',\n",
       " 'Segoe Script',\n",
       " 'Segoe UI',\n",
       " 'Segoe UI Emoji',\n",
       " 'Segoe UI Historic',\n",
       " 'Segoe UI Symbol',\n",
       " 'SimSun',\n",
       " 'SimSun-ExtB',\n",
       " 'Sitka Small',\n",
       " 'Slim Joe',\n",
       " 'Stencil BT',\n",
       " 'Stencil Std',\n",
       " 'Swis721 BT',\n",
       " 'Sylfaen',\n",
       " 'Symbol',\n",
       " 'Tahoma',\n",
       " 'Tekton Pro',\n",
       " 'Times New Roman',\n",
       " 'Trajan Pro',\n",
       " 'Trebuchet MS',\n",
       " 'UhBee Hyeki',\n",
       " 'UhBee puding',\n",
       " 'Verdana',\n",
       " 'Wandocleansea',\n",
       " 'Wandohope',\n",
       " 'Webdings',\n",
       " 'Wingdings',\n",
       " 'Yoon Daehan',\n",
       " 'Yoon Dokrip',\n",
       " 'Yoon Manse',\n",
       " 'Yoon Minguk',\n",
       " 'Yu Gothic',\n",
       " 'cmb10',\n",
       " 'cmex10',\n",
       " 'cmmi10',\n",
       " 'cmr10',\n",
       " 'cmss10',\n",
       " 'cmsy10',\n",
       " 'cmtt10'}"
      ]
     },
     "execution_count": 2,
     "metadata": {},
     "output_type": "execute_result"
    }
   ],
   "source": [
    "set([f.name for f in mpl.font_manager.fontManager.ttflist])"
   ]
  },
  {
   "cell_type": "code",
   "execution_count": 3,
   "id": "39a2ddd1",
   "metadata": {},
   "outputs": [],
   "source": [
    "plt.rcParams['font.family'] = 'Noto Sans CJK KR'"
   ]
  },
  {
   "cell_type": "code",
   "execution_count": 4,
   "id": "76ab96ee",
   "metadata": {},
   "outputs": [],
   "source": [
    "font1 = {'family': 'Noto Sans CJK KR',\n",
    "         'color': \"#C9D6DF\",\n",
    "         'weight': 'bold',\n",
    "         'size': 14\n",
    "         }\n",
    "font2 = {'family': 'Black Han Sans',\n",
    "         'color': \"#C9D6DF\",\n",
    "         'weight': 'bold',\n",
    "         'size': 14\n",
    "         }"
   ]
  },
  {
   "cell_type": "code",
   "execution_count": 5,
   "id": "2f0bee34",
   "metadata": {},
   "outputs": [
    {
     "data": {
      "text/plain": [
       "<matplotlib.lines.Line2D at 0x16df5102f70>"
      ]
     },
     "execution_count": 5,
     "metadata": {},
     "output_type": "execute_result"
    },
    {
     "data": {
      "image/png": "[encoded data removed]",
      "text/plain": [
       "<Figure size 432x288 with 1 Axes>"
      ]
     },
     "metadata": {
      "needs_background": "dark"
     },
     "output_type": "display_data"
    }
   ],
   "source": [
    "x = ['버스', '지하철', '자전거']\n",
    "y = [-23.52, -27.54, 24.29]\n",
    "\n",
    "plt.title(\"2019, 2020년 교통수단별 변화\", fontdict= font1)\n",
    "plt.xlabel(\"교통수단\", fontdict= font1, labelpad= 10)\n",
    "plt.ylabel(\"증감률\", fontdict=font1, labelpad=5)\n",
    "\n",
    "# 바 3개 표시\n",
    "plt.bar(x[0],y[0], color = \"#424874\")\n",
    "plt.bar(x[1],y[1], color = \"#A6B1E1\")\n",
    "plt.bar(x[2],y[2], color = \"#DCD6F7\")\n",
    "\n",
    "xlabel = x\n",
    "\n",
    "# 틱 표시\n",
    "plt.xticks(x, color = \"#C9D6DF\");\n",
    "plt.tick_params(axis = \"x\", direction = \"in\", color = \"#424874\", width=3)\n",
    "plt.yticks(sorted(y), color = \"#C9D6DF\");\n",
    "plt.tick_params(axis = \"y\", direction = \"in\", color = \"#424874\", width=3)\n",
    "\n",
    "# 수평선\n",
    "plt.axhline(color = \"gray\",linestyle = \"--\", linewidth = 1)"
   ]
  },
  {
   "cell_type": "code",
   "execution_count": 6,
   "id": "cc0e75c3",
   "metadata": {},
   "outputs": [],
   "source": [
    "# 2019, 2020, 2021 6월까지 증감률\n",
    "\n",
    "# 버스\n",
    "\n",
    "dif_bus_2019 = [-6.42, -8.01, -35.29, -32.52, -25.75, -17.92]\n",
    "dif_bus_2020 = [-27.66, -15.29, 17.93, 11.9, 1.44, -2.56]\n",
    "\n",
    "# 지하철\n",
    "\n",
    "dif_subway_2019 = [-6.37, -10.9, -40.24, -36.79, -32.15, -22.29]\n",
    "dif_subway_2020 = [-31.31, -15.37, 28.65, 19.55, 5.85, 4.36]\n",
    "\n",
    "# 자전거\n",
    "\n",
    "dif_bike_2019 = [60.25, 61.66, 69.49, 46.96, 11.08, 20.79]\n",
    "dif_bike_2020 = [2.25, 54.75, 42.43, 37.77, 18.94, 21.91]"
   ]
  },
  {
   "cell_type": "code",
   "execution_count": 10,
   "id": "73f1910d",
   "metadata": {},
   "outputs": [
    {
     "data": {
      "image/png": "[encoded data removed]",
      "text/plain": [
       "<Figure size 432x288 with 1 Axes>"
      ]
     },
     "metadata": {
      "needs_background": "light"
     },
     "output_type": "display_data"
    }
   ],
   "source": [
    "x = [\"1월\", \"2월\", \"3월\", \"4월\", \"5월\", \"6월\"]\n",
    "\n",
    "plt.title(\"2019, 2020 월별 교통수단별 증감률\", fontdict=font2)\n",
    "# plt.legend(loc = \"upper right\")\n",
    "plt.xlabel(\"월\")\n",
    "plt.ylabel(\"증감률\")\n",
    "plt.ylim(-60, 80)\n",
    "\n",
    "# 2019, 2020\n",
    "plt.plot(x,dif_bus_2019,color='#424874',marker = \"o\", label= \"버스\")\n",
    "plt.plot(x,dif_subway_2019,color='#A6B1E1',marker = \"o\", label= \"지하철\")\n",
    "plt.plot(x,dif_bike_2019,color='#DCD6F7',marker = \"o\", label= \"자전거\")\n",
    "\n",
    "# 수평선\n",
    "plt.axhline(color = \"gray\",linestyle = \"--\", linewidth = 1)\n",
    "\n",
    "# legend\n",
    "plt.legend();"
   ]
  },
  {
   "cell_type": "code",
   "execution_count": 11,
   "id": "3fd6043b",
   "metadata": {},
   "outputs": [
    {
     "data": {
      "image/png": "[encoded data removed]",
      "text/plain": [
       "<Figure size 432x288 with 1 Axes>"
      ]
     },
     "metadata": {
      "needs_background": "light"
     },
     "output_type": "display_data"
    }
   ],
   "source": [
    "x = [\"1월\", \"2월\", \"3월\", \"4월\", \"5월\", \"6월\"]\n",
    "\n",
    "plt.title(\"2020, 2021 월별 교통수단별 증감률\", fontdict=font2)\n",
    "# plt.legend(loc = \"upper right\")\n",
    "plt.xlabel(\"월\")\n",
    "plt.ylabel(\"증감률\")\n",
    "plt.ylim(-40, 70)\n",
    "\n",
    "# 2020, 2021 비교\n",
    "\n",
    "plt.plot(x,dif_bus_2020,color='#C86B85',marker = \"o\", label= \"버스\")\n",
    "plt.plot(x,dif_subway_2020,color='#E6A4B4',marker = \"o\", label= \"지하철\")\n",
    "plt.plot(x,dif_bike_2020,color='#FFC4D0',marker = \"o\", label= \"자전거\")\n",
    "\n",
    "# 수평선\n",
    "plt.axhline(color = \"gray\",linestyle = \"--\", linewidth = 1)\n",
    "\n",
    "# legend\n",
    "plt.legend();"
   ]
  },
  {
   "cell_type": "code",
   "execution_count": null,
   "id": "25290b5e",
   "metadata": {},
   "outputs": [],
   "source": []
  }
 ],
 "metadata": {
  "kernelspec": {
   "display_name": "Python 3",
   "language": "python",
   "name": "python3"
  },
  "language_info": {
   "codemirror_mode": {
    "name": "ipython",
    "version": 3
   },
   "file_extension": ".py",
   "mimetype": "text/x-python",
   "name": "python",
   "nbconvert_exporter": "python",
   "pygments_lexer": "ipython3",
   "version": "3.8.8"
  }
 },
 "nbformat": 4,
 "nbformat_minor": 5
}
