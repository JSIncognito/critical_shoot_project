{
 "cells": [
  {
   "cell_type": "markdown",
   "source": [
    "# 팀 미니프로젝트 \r\n",
    "\r\n",
    " (연령별 코로나 확진자 수) \r\n",
    "-> 단계별 거리두기 증감량 \r\n",
    "-> 코로나 전후 교통량 변화 \r\n",
    "-> 거리두기 단계에 따른 교통량 증감량 \r\n",
    "-> 대체 교통수단(==자전거) 단계별 증감량\r\n",
    "\r\n",
    "ex) 코로나 증가 -> (버스,지하철) 감소 || 대체 교통수단(자전거) 증가\r\n"
   ],
   "metadata": {}
  },
  {
   "cell_type": "markdown",
   "source": [
    "# 목차 \r\n",
    "\r\n",
    "### * 코로나 단계별 거리두기, 모두의 안전을 위한 서울시 자치구 및 대중교통 분석\r\n",
    "    - 소상공인 시위를 보면서 실제 코로나 단계별 거리두기를 시행했을때, 미치는 영향에 대해서 분석을 하고 싶었다.\r\n",
    "\r\n",
    "#### 1. 데이터 분석을 통한 연령별 코로나 치명성 검증\r\n",
    "    - 연령별 코로나 확진자 수\r\n",
    "#### 2. 단계별 거리두기 시행에 따른 서울시 대중교통에 미치는 영향\r\n",
    "    * 단계별 거리두기 증감량 \r\n",
    "    * 코로나 전후 교통량 변화  \r\n",
    "    * 거리두기 단계에 따른 교통량 증감량  \r\n",
    "    * 대체 교통수단(==자전거) 단계별 증감량\r\n",
    "#### 3.결론\r\n",
    "    * 가설 검증\r\n",
    "     * 가설1 : 단계별 거리두기를 시행하였을때, 높은 단계일수록 대중교통 이용량이  줄어들 것이다.(통계자료 토대로 결과 도출)\r\n",
    "     * 가설2 : 단계별 거리두기를 시행 하였을때, 유동인구 수가 많은 지역에 코로나 감염자 수도 많을 것이다.\r\n",
    "     * 가설3 : 단계별 거리두기를 시행하였을때, 높은 단계일수록 증감률 감소할 것이다. \r\n",
    "     * 가설4 : 연령별 대중교통 이용량 변화 \r\n",
    "      - ex) 거리두기 단계가 올라갔을때 어떤한 연령층의 이용량이 증가하고 감소하였지 비교.\r\n",
    "     *추가적으로 알아낸 것 \r\n",
    "      - ex) 여성이 코로나 더 걸린다 ?"
   ],
   "metadata": {}
  },
  {
   "cell_type": "code",
   "execution_count": null,
   "source": [
    "# 주제선정 이유\r\n",
    " "
   ],
   "outputs": [],
   "metadata": {}
  },
  {
   "cell_type": "markdown",
   "source": [
    "## 1. 데이터 분석을 통한 연령별 코로나 치명성 검증\r\n",
    "    1. 연령별 코로나 확진자 수\r\n",
    "     - 시각화\r\n"
   ],
   "metadata": {}
  },
  {
   "cell_type": "code",
   "execution_count": null,
   "source": [],
   "outputs": [],
   "metadata": {}
  },
  {
   "cell_type": "markdown",
   "source": [
    "## 2.단계별 거리두기 시행에 따른 서울시 대중교통에 미치는 영향\r\n",
    "\t1.단계별 거리두기 증감량 \r\n",
    "\t - 시각화\r\n"
   ],
   "metadata": {}
  },
  {
   "cell_type": "code",
   "execution_count": null,
   "source": [],
   "outputs": [],
   "metadata": {}
  },
  {
   "cell_type": "markdown",
   "source": [
    "\t2.코로나 전후 교통량 변화  \r\n",
    "\t - 시각화\r\n"
   ],
   "metadata": {}
  },
  {
   "cell_type": "code",
   "execution_count": null,
   "source": [],
   "outputs": [],
   "metadata": {}
  },
  {
   "cell_type": "markdown",
   "source": [
    "    3.거리두기 단계에 따른 교통량 증감량  \r\n",
    "    - 시각화\r\n"
   ],
   "metadata": {}
  },
  {
   "cell_type": "code",
   "execution_count": null,
   "source": [],
   "outputs": [],
   "metadata": {}
  },
  {
   "cell_type": "markdown",
   "source": [
    "    4.대체 교통수단(==자전거) 단계별 증감량\r\n",
    "     - 시각화\r\n"
   ],
   "metadata": {}
  },
  {
   "cell_type": "code",
   "execution_count": null,
   "source": [],
   "outputs": [],
   "metadata": {}
  },
  {
   "cell_type": "markdown",
   "source": [
    "## 3.결론\r\n",
    "    - 가설 검증\r\n",
    "     * 가설1 : 단계별 거리두기를 시행하였을때, 높은 단계일수록 대중교통 이용량이  줄어들 것이다.(통계자료 토대로 결과 도출)\r\n",
    "     * 가설2 : 단계별 거리두기를 시행 하였을때, 유동인구 수가 많은 지역에 코로나 감염자 수도 많을 것이다.\r\n",
    "     * 가설3 : 단계별 거리두기를 시행하였을때, 높은 단계일수록 증감률 감소할 것이다. \r\n",
    "     * 가설4 : 연령별 대중교통 이용량 변화 \r\n",
    "      - ex) 거리두기 단계가 올라갔을때 어떤한 연령층의 이용량이 증가하고 감소하였지 비교.\r\n",
    "     * 추가적으로 알아낸 것 \r\n",
    "      - ex) 여성이 코로나 더 걸린다 ?"
   ],
   "metadata": {}
  },
  {
   "cell_type": "code",
   "execution_count": null,
   "source": [],
   "outputs": [],
   "metadata": {}
  },
  {
   "cell_type": "code",
   "execution_count": null,
   "source": [],
   "outputs": [],
   "metadata": {}
  },
  {
   "cell_type": "code",
   "execution_count": null,
   "source": [],
   "outputs": [],
   "metadata": {}
  },
  {
   "cell_type": "code",
   "execution_count": null,
   "source": [],
   "outputs": [],
   "metadata": {}
  },
  {
   "cell_type": "code",
   "execution_count": null,
   "source": [],
   "outputs": [],
   "metadata": {}
  },
  {
   "cell_type": "code",
   "execution_count": null,
   "source": [],
   "outputs": [],
   "metadata": {}
  },
  {
   "cell_type": "code",
   "execution_count": null,
   "source": [],
   "outputs": [],
   "metadata": {}
  },
  {
   "cell_type": "code",
   "execution_count": null,
   "source": [],
   "outputs": [],
   "metadata": {}
  },
  {
   "cell_type": "code",
   "execution_count": null,
   "source": [],
   "outputs": [],
   "metadata": {}
  },
  {
   "cell_type": "code",
   "execution_count": null,
   "source": [],
   "outputs": [],
   "metadata": {}
  },
  {
   "cell_type": "code",
   "execution_count": null,
   "source": [],
   "outputs": [],
   "metadata": {}
  },
  {
   "cell_type": "code",
   "execution_count": null,
   "source": [],
   "outputs": [],
   "metadata": {}
  },
  {
   "cell_type": "code",
   "execution_count": null,
   "source": [],
   "outputs": [],
   "metadata": {}
  }
 ],
 "metadata": {
  "orig_nbformat": 4,
  "language_info": {
   "name": "python",
   "version": "3.8.8"
  },
  "kernelspec": {
   "name": "python3",
   "display_name": "Python 3.8.8 64-bit ('base': conda)"
  },
  "interpreter": {
   "hash": "74ac2c347abb782a3d2f694c8d9341193b1005c179381ae3abf4a67743d7a946"
  }
 },
 "nbformat": 4,
 "nbformat_minor": 2
}