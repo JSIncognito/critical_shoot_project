{
 "cells": [
  {
   "cell_type": "markdown",
   "source": [
    "# 팀 미니프로젝트 \r\n",
    "\r\n",
    " (연령별 코로나 확진자 수) \r\n",
    "-> 단계별 거리두기 증감량 \r\n",
    "-> 코로나 전후 교통량 변화 \r\n",
    "-> 거리두기 단계에 따른 교통량 증감량 \r\n",
    "-> 대체 교통수단(==자전거) 단계별 증감량\r\n",
    "\r\n",
    "ex) 코로나 증가 -> (버스,지하철) 감소 || 대체 교통수단(자전거) 증가\r\n"
   ],
   "metadata": {}
  },
  {
   "cell_type": "markdown",
   "source": [
    "# 목차 \r\n",
    "\r\n",
    "### * 코로나 단계별 거리두기, 모두의 안전을 위한 서울시 자치구 및 대중교통 분석\r\n",
    "    - 소상공인 시위를 보면서 실제 코로나 단계별 거리두기를 시행했을때, 미치는 영향에 대해서 분석을 하고 싶었다.\r\n",
    "\r\n",
    "#### 1. 데이터 분석을 통한 연령별 코로나 치명성 검증\r\n",
    "    - 연령별 코로나 확진자 수\r\n",
    "#### 2. 단계별 거리두기 시행에 따른 서울시 대중교통에 미치는 영향\r\n",
    "    * 단계별 거리두기 증감량 \r\n",
    "    * 코로나 전후 교통량 변화  \r\n",
    "    * 거리두기 단계에 따른 교통량 증감량  \r\n",
    "    * 대체 교통수단(==자전거) 단계별 증감량\r\n",
    "#### 3.결론\r\n",
    "    * 가설 검증\r\n",
    "     * 가설1 : 단계별 거리두기를 시행하였을때, 높은 단계일수록 대중교통 이용량이  줄어들 것이다.(통계자료 토대로 결과 도출)\r\n",
    "     * 가설2 : 단계별 거리두기를 시행 하였을때, 유동인구 수가 많은 지역에 코로나 감염자 수도 많을 것이다.\r\n",
    "     * 가설3 : 단계별 거리두기를 시행하였을때, 높은 단계일수록 증감률 감소할 것이다. \r\n",
    "     * 가설4 : 연령별 대중교통 이용량 변화 \r\n",
    "      - ex) 거리두기 단계가 올라갔을때 어떤한 연령층의 이용량이 증가하고 감소하였지 비교.\r\n",
    "     *추가적으로 알아낸 것 \r\n",
    "      - ex) 여성이 코로나 더 걸린다 ?"
   ],
   "metadata": {}
  },
  {
   "cell_type": "code",
   "execution_count": null,
   "source": [
    "# 주제선정 이유\r\n",
    " "
   ],
   "outputs": [],
   "metadata": {}
  },
  {
   "cell_type": "markdown",
   "source": [
    "## 1. 데이터 분석을 통한 연령별 코로나 치명성 검증\r\n",
    "    1. 연령별 코로나 확진자 수\r\n",
    "     - 시각화\r\n"
   ],
   "metadata": {}
  },
  {
   "cell_type": "code",
   "execution_count": null,
   "source": [],
   "outputs": [],
   "metadata": {}
  },
  {
   "cell_type": "markdown",
   "source": [
    "## 2.단계별 거리두기 시행에 따른 서울시 대중교통에 미치는 영향\r\n",
    "\t1.단계별 거리두기 증감량 \r\n",
    "\t - 시각화\r\n"
   ],
   "metadata": {}
  },
  {
   "cell_type": "code",
   "execution_count": null,
   "source": [],
   "outputs": [],
   "metadata": {}
  },
  {
   "cell_type": "markdown",
   "source": [
    "\t2.코로나 전후 교통량 변화  \r\n",
    "\t - 시각화\r\n"
   ],
   "metadata": {}
  },
  {
   "cell_type": "code",
   "execution_count": 1,
   "source": [
    "#지하철 이용량 증감량 시각화\r\n",
    "import pandas as pd\r\n",
    "df_i=pd.read_csv('C:/Users/user/Desktop/critical_shoot_project/01.source/01.데이터가공/02.데이터/서울지하철역좌표.csv')\r\n",
    "df_n=pd.read_excel('C:/Users/user/Desktop/critical_shoot_project/01.source/01.데이터가공/02.데이터/지하철_선후불카드_이용객현황.xlsx')\r\n",
    "\r\n",
    "#지하철역 좌표 불러오기\r\n",
    "df_i=df_i.drop(['Unnamed: 0'],axis=1)\r\n",
    "df_i.rename(columns={'지하철역':'지하철역명'},inplace=True)\r\n",
    "df_i\r\n",
    "\r\n",
    "#지하철역별 승하차 승객수 불러오기\r\n",
    "df_n=df_n.drop(['Unnamed: 0'],axis=1)\r\n",
    "df_n.rename(columns={'역명':'지하철역명'},inplace=True)\r\n",
    "df_n['이용객수']=df_n['승차총객수']+df_n['하차총승객수']\r\n",
    "df_n2=df_n.pivot_table(index='지하철역명',columns='사용월',values='이용객수')\r\n",
    "df_n\r\n",
    "\r\n",
    "#역좌표 및 승객수 합 및 연도별 평균 승객수 계산\r\n",
    "df_ii=pd.merge(df_n2,df_i,on='지하철역명',how='left')\r\n",
    "df_ii.dropna(inplace=True)\r\n",
    "df_ii.reset_index()\r\n",
    "df_iii=df_ii.sort_values(by=int(201901),ascending=False)\r\n",
    "dff_2019=pd.concat([df_ii.iloc[:,0],df_ii.iloc[:,:13]],axis=1)\r\n",
    "dff_2020=pd.concat([df_ii.iloc[:,0],df_ii.iloc[:,13:25]],axis=1)\r\n",
    "dff_2021=pd.concat([df_ii.iloc[:,0],df_ii.iloc[:,25:-2]],axis=1)\r\n",
    "df_ii['2021년평균']=dff_2021.mean(axis=1)\r\n",
    "df_ii['2020년평균']=dff_2020.mean(axis=1)\r\n",
    "df_ii['2019년평균']=dff_2019.mean(axis=1)\r\n",
    "print(df_ii)\r\n",
    "\r\n",
    "#월별 평균 지하철 이용객 시각화\r\n",
    "df_mean=df_ii.iloc[:,:-2].mean()\r\n",
    "df_month=pd.DataFrame(df_mean)\r\n",
    "df_month.columns=['월별평균']\r\n",
    "df_month_new=[]\r\n",
    "for i in range(len(df_month.index)):\r\n",
    "    df_month_new.append(str(df_month.index[i])[:4]+'-'+str(df_month.index[i])[4:])\r\n",
    "df_month.index=df_month_new\r\n",
    "\r\n",
    "import plotly.plotly as py\r\n",
    "import cufflinks as cf\r\n",
    "cf.go_offline(connected=True)\r\n",
    "\r\n",
    "df_month.iplot(kind='area',title='월별 지하철이용객 현황')\r\n",
    "\r\n",
    "#연도별 지하철이용객 추이\r\n",
    "import numpy as np\r\n",
    "import matplotlib.pyplot as plt\r\n",
    "import matplotlib\r\n",
    "\r\n",
    "matplotlib.rcParams['font.family'] ='Malgun Gothic'\r\n",
    "\r\n",
    "matplotlib.rcParams['axes.unicode_minus'] =False\r\n",
    "\r\n",
    "df_2019=df_ii.iloc[:,:13].mean()\r\n",
    "df_2020=df_ii.iloc[:,13:25].mean()\r\n",
    "df_2021=df_ii.iloc[:,25:-5].mean()\r\n",
    "df_2019.mean()\r\n",
    "df_2020.mean()\r\n",
    "df_2021.mean()\r\n",
    "df_year=pd.DataFrame({'연도별평균':[df_2019.mean(),df_2020.mean(),df_2021.mean()]},index=['2019년','2020년','2021년'])\r\n",
    "df_year.iplot(kind='bar',title='연도별 지하철이용객 현황')\r\n",
    "\r\n",
    "# 코로나 전후 시각화 비교(코로나 전 : 파랑색 원/코로나 후 : 빨강색 원)\r\n",
    "import folium.plugins\r\n",
    "m_k = folium.plugins.DualMap(location=[37.53, 126.96], zoom_start=11)\r\n",
    "\r\n",
    "for k in df_ii.index :\r\n",
    "    try:\r\n",
    "        lon=df_ii.loc[k,'X좌표']\r\n",
    "        lat=df_ii.loc[k,'Y좌표']      \r\n",
    "        folium.CircleMarker(\r\n",
    "            [lat,lon],\r\n",
    "            radius=df_ii.loc[k,'2019년평균']/100000,\r\n",
    "            popup=df_ii.loc[k,'지하철역명'],\r\n",
    "            color='blue',\r\n",
    "            weight=1.5,\r\n",
    "            fill=True).add_to(m_k.m1)\r\n",
    "    except:\r\n",
    "        pass\r\n",
    "\r\n",
    "for k in df_ii.index :\r\n",
    "    try:\r\n",
    "        lon=df_ii.loc[k,'X좌표']\r\n",
    "        lat=df_ii.loc[k,'Y좌표']      \r\n",
    "        folium.CircleMarker(\r\n",
    "            [lat,lon],\r\n",
    "            radius=df_ii.loc[k,'2020년평균']/100000,\r\n",
    "            popup=df_ii.loc[k,'지하철역명'],\r\n",
    "            color='red',\r\n",
    "             title='2020년평균',\r\n",
    "            weight=1.5,\r\n",
    "            fill=True).add_to(m_k.m2)\r\n",
    "    except:\r\n",
    "        pass\r\n",
    "\r\n",
    "m_k\r\n",
    "\r\n",
    "\r\n",
    "#\r\n",
    "import matplotlib\r\n",
    "import pandas as pd\r\n",
    "\r\n",
    "a=[]\r\n",
    "b=[]\r\n",
    "c=[]\r\n",
    "for i in range(201901,201913):\r\n",
    "    bus_i=pd.read_csv('C:/Users/user/Desktop/critical_shoot_project/02.team_project_data/서울시버스_이용현황/BUS_STATION_BOARDING_MONTH_'+str(i)+'.csv')\r\n",
    "    a.append(i)\r\n",
    "    b.append(sum(bus_i.iloc[:,4]))\r\n",
    "    c.append(sum(bus_i.iloc[:,3]))\r\n",
    "for i in range(202001,202013):\r\n",
    "    bus_i=pd.read_csv('C:/Users/user/Desktop/critical_shoot_project/02.team_project_data/서울시버스_이용현황/BUS_STATION_BOARDING_MONTH_'+str(i)+'.csv')\r\n",
    "    a.append(i)\r\n",
    "    b.append(sum(bus_i.iloc[:,4]))\r\n",
    "    c.append(sum(bus_i.iloc[:,3]))\r\n",
    "for i in range(202101,202108):\r\n",
    "    bus_i=pd.read_csv('C:/Users/user/Desktop/critical_shoot_project/02.team_project_data/서울시버스_이용현황/BUS_STATION_BOARDING_MONTH_'+str(i)+'.csv')\r\n",
    "    a.append(i)\r\n",
    "    b.append(sum(bus_i.iloc[:,4]))\r\n",
    "    c.append(sum(bus_i.iloc[:,3]))\r\n",
    "\r\n",
    "data={'year':a,'승하객':b, '하차객' :c}\r\n",
    "bus_df=pd.DataFrame(data).set_index('year')\r\n",
    "\r\n",
    "matplotlib.rcParams['font.family'] ='Malgun Gothic'\r\n",
    "\r\n",
    "matplotlib.rcParams['axes.unicode_minus'] =False\r\n",
    "\r\n",
    "#월별 버스 이용객 시각화\r\n",
    "bus_df.plot(kind='bar',title='월별 버스이용객 현황')\r\n",
    "\r\n",
    "#가공 데이터 저장\r\n",
    "bus_df.to_csv('C:/Users/user/Desktop/critical_shoot_project/01.source/01.데이터가공/02.데이터/월별 버스이용객수.csv', encoding='euc-kr')"
   ],
   "outputs": [
    {
     "output_type": "stream",
     "name": "stdout",
     "text": [
      "       지하철역명     201901     201902     201903     201904     201905  \\\n",
      "1         가능   408269.0   360415.0   441626.0   447803.0   466217.0   \n",
      "2       가락시장   581477.0   476898.5   571810.0   578547.5   576177.5   \n",
      "3    가산디지털단지  1820009.5  1486330.5  1751577.0  1818532.0  1816731.5   \n",
      "4         가양  1240173.0  1066246.0  1283286.0  1297995.0  1313715.0   \n",
      "5        가오리   243259.0   210344.0   255978.0   253809.0   257418.0   \n",
      "..       ...        ...        ...        ...        ...        ...   \n",
      "518       화전    98447.0    87532.0   194254.0   194331.0   205378.0   \n",
      "519       화정  1197560.0  1046059.0  1249513.0  1250283.0  1322889.0   \n",
      "520       회기  1608640.0  1412653.0  1947913.0  1947514.0  2020976.0   \n",
      "521       회룡   773871.0   673511.0   819120.0   832388.0   868583.0   \n",
      "523    효창공원앞   287917.5   244488.0   318428.0   326302.5   329527.0   \n",
      "\n",
      "        201906     201907     201908     201909  ...     202103     202104  \\\n",
      "1     432877.0   438369.0   421131.0   416399.0  ...   349526.0   350606.0   \n",
      "2     532057.5   557196.0   515513.0   517681.5  ...   464820.0   452571.0   \n",
      "3    1648168.5  1848928.0  1661772.5  1614646.5  ...  1649925.0  1646305.0   \n",
      "4    1225757.0  1286970.0  1208936.0  1167039.0  ...  1071105.0  1053553.0   \n",
      "5     242441.0   252224.0   238790.0   239013.0  ...   215723.0   215646.0   \n",
      "..         ...        ...        ...        ...  ...        ...        ...   \n",
      "518   153368.0   114208.0    99493.0   175456.0  ...    99309.0    98315.0   \n",
      "519  1200320.0  1249688.0  1207219.0  1153788.0  ...   937828.0   922486.0   \n",
      "520  1736245.0  1684073.0  1614471.0  1742741.0  ...  1317899.0  1291817.0   \n",
      "521   801589.0   812484.0   777047.0   770430.0  ...   678656.0   672925.0   \n",
      "523   295707.0   301665.5   279586.0   288855.0  ...   259444.0   256308.0   \n",
      "\n",
      "        202105     202106     202107         X좌표        Y좌표       2021년평균  \\\n",
      "1     346762.0   355659.0   325506.0  127.044213  37.748577  3.253781e+05   \n",
      "2     433315.5   446396.5   403766.0  127.118234  37.492522  4.246154e+05   \n",
      "3    1516916.5  1664421.0  1504752.5  126.882343  37.481072  1.528813e+06   \n",
      "4    1024540.0  1063884.0   969882.0  126.854456  37.561391  9.885219e+05   \n",
      "5     213385.0   223028.0   205872.0  127.016792  37.641701  2.031644e+05   \n",
      "..         ...        ...        ...         ...        ...           ...   \n",
      "518    89335.0    91904.0    69785.0  126.868387  37.602888  8.098371e+04   \n",
      "519   908648.0   915541.0   839895.0  126.832650  37.634592  8.618054e+05   \n",
      "520  1301656.0  1290262.0  1128592.0  127.057583  37.589460  1.189249e+06   \n",
      "521   668575.0   678308.0   607960.0  127.046895  37.724846  6.258680e+05   \n",
      "523   249064.0   257307.5   229639.0  126.961351  37.539261  2.383744e+05   \n",
      "\n",
      "          2020년평균       2019년평균  \n",
      "1    3.220008e+05  4.274535e+05  \n",
      "2    4.309063e+05  5.559319e+05  \n",
      "3    1.484561e+06  1.733513e+06  \n",
      "4    9.810510e+05  1.249866e+06  \n",
      "5    1.936823e+05  2.473004e+05  \n",
      "..            ...           ...  \n",
      "518  7.837317e+04  1.536580e+05  \n",
      "519  8.641111e+05  1.226660e+06  \n",
      "520  1.172545e+06  1.775821e+06  \n",
      "521  6.123732e+05  8.018656e+05  \n",
      "523  2.339000e+05  3.032132e+05  \n",
      "\n",
      "[441 rows x 37 columns]\n"
     ]
    },
    {
     "output_type": "display_data",
     "data": {
      "text/html": [
       "        <script type=\"text/javascript\">\n",
       "        window.PlotlyConfig = {MathJaxConfig: 'local'};\n",
       "        if (window.MathJax) {MathJax.Hub.Config({SVG: {font: \"STIX-Web\"}});}\n",
       "        if (typeof require !== 'undefined') {\n",
       "        require.undef(\"plotly\");\n",
       "        requirejs.config({\n",
       "            paths: {\n",
       "                'plotly': ['https://cdn.plot.ly/plotly-latest.min']\n",
       "            }\n",
       "        });\n",
       "        require(['plotly'], function(Plotly) {\n",
       "            window._Plotly = Plotly;\n",
       "        });\n",
       "        }\n",
       "        </script>\n",
       "        "
      ]
     },
     "metadata": {}
    },
    {
     "output_type": "display_data",
     "data": {
      "text/html": [
       "<div>\n",
       "        \n",
       "        \n",
       "            <div id=\"04c3bf34-8c2c-4c21-9899-72a7f0b1d976\" class=\"plotly-graph-div\" style=\"height:525px; width:100%;\"></div>\n",
       "            <script type=\"text/javascript\">\n",
       "                require([\"plotly\"], function(Plotly) {\n",
       "                    window.PLOTLYENV=window.PLOTLYENV || {};\n",
       "                    window.PLOTLYENV.BASE_URL='https://plot.ly';\n",
       "                    \n",
       "                if (document.getElementById(\"04c3bf34-8c2c-4c21-9899-72a7f0b1d976\")) {\n",
       "                    Plotly.newPlot(\n",
       "                        '04c3bf34-8c2c-4c21-9899-72a7f0b1d976',\n",
       "                        [{\"line\": {\"color\": \"rgba(255, 153, 51, 1.0)\", \"dash\": \"solid\", \"shape\": \"linear\", \"width\": 1.3}, \"mode\": \"lines\", \"name\": \"\\uc6d4\\ubcc4\\ud3c9\\uade0\", \"text\": \"\", \"type\": \"scatter\", \"uid\": \"e89e4aac-0c6d-4d77-b2d8-4d9f7198183c\", \"x\": [\"2019-01\", \"2019-02\", \"2019-03\", \"2019-04\", \"2019-05\", \"2019-06\", \"2019-07\", \"2019-08\", \"2019-09\", \"2019-10\", \"2019-11\", \"2019-12\", \"2020-01\", \"2020-02\", \"2020-03\", \"2020-04\", \"2020-05\", \"2020-06\", \"2020-07\", \"2020-08\", \"2020-09\", \"2020-10\", \"2020-11\", \"2020-12\", \"2021-01\", \"2021-02\", \"2021-03\", \"2021-04\", \"2021-05\", \"2021-06\", \"2021-07\", \"X\\uc88c\\ud45c-\", \"Y\\uc88c\\ud45c-\", \"2021-\\ub144\\ud3c9\\uade0\"], \"y\": [682983.1872637944, 584771.4043839758, 720486.925547997, 728821.1447467876, 751079.0043461828, 684214.5372260015, 707347.2781557066, 676077.9765684052, 661245.0018896449, 739147.5908919125, 715351.3726379441, 720858.6551398336, 640930.1275510206, 526471.9126984127, 437470.9803476946, 466757.62169312174, 516487.955026455, 538325.2847694634, 574752.2843915344, 479395.01530612254, 455076.32407407404, 530118.1585411943, 538437.9210128497, 439908.47921390773, 447064.2363945578, 447989.91742252454, 562389.7511337867, 557032.3401360544, 544618.6247165533, 560138.0383597884, 501092.83975812554, 126.99500178458054, 37.51057620634919, 517189.3925601983]}],\n",
       "                        {\"legend\": {\"bgcolor\": \"#F5F6F9\", \"font\": {\"color\": \"#4D5663\"}}, \"paper_bgcolor\": \"#F5F6F9\", \"plot_bgcolor\": \"#F5F6F9\", \"title\": {\"font\": {\"color\": \"#4D5663\"}, \"text\": \"\\uc6d4\\ubcc4 \\uc9c0\\ud558\\ucca0\\uc774\\uc6a9\\uac1d \\ud604\\ud669\"}, \"xaxis\": {\"gridcolor\": \"#E1E5ED\", \"showgrid\": true, \"tickfont\": {\"color\": \"#4D5663\"}, \"title\": {\"font\": {\"color\": \"#4D5663\"}, \"text\": \"\"}, \"zerolinecolor\": \"#E1E5ED\"}, \"yaxis\": {\"gridcolor\": \"#E1E5ED\", \"showgrid\": true, \"tickfont\": {\"color\": \"#4D5663\"}, \"title\": {\"font\": {\"color\": \"#4D5663\"}, \"text\": \"\"}, \"zerolinecolor\": \"#E1E5ED\"}},\n",
       "                        {\"showLink\": true, \"linkText\": \"Export to plot.ly\", \"plotlyServerURL\": \"https://plot.ly\", \"responsive\": true}\n",
       "                    ).then(function(){\n",
       "                            \n",
       "var gd = document.getElementById('04c3bf34-8c2c-4c21-9899-72a7f0b1d976');\n",
       "var x = new MutationObserver(function (mutations, observer) {{\n",
       "        var display = window.getComputedStyle(gd).display;\n",
       "        if (!display || display === 'none') {{\n",
       "            console.log([gd, 'removed!']);\n",
       "            Plotly.purge(gd);\n",
       "            observer.disconnect();\n",
       "        }}\n",
       "}});\n",
       "\n",
       "// Listen for the removal of the full notebook cells\n",
       "var notebookContainer = gd.closest('#notebook-container');\n",
       "if (notebookContainer) {{\n",
       "    x.observe(notebookContainer, {childList: true});\n",
       "}}\n",
       "\n",
       "// Listen for the clearing of the current output cell\n",
       "var outputEl = gd.closest('.output');\n",
       "if (outputEl) {{\n",
       "    x.observe(outputEl, {childList: true});\n",
       "}}\n",
       "\n",
       "                        })\n",
       "                };\n",
       "                });\n",
       "            </script>\n",
       "        </div>"
      ],
      "application/vnd.plotly.v1+json": {
       "config": {
        "linkText": "Export to plot.ly",
        "plotlyServerURL": "https://plot.ly",
        "responsive": true,
        "showLink": true
       },
       "data": [
        {
         "line": {
          "color": "rgba(255, 153, 51, 1.0)",
          "dash": "solid",
          "shape": "linear",
          "width": 1.3
         },
         "mode": "lines",
         "name": "월별평균",
         "text": "",
         "type": "scatter",
         "uid": "91d8ee7e-bcbd-4f7e-af6c-8d2c6872609c",
         "x": [
          "2019-01",
          "2019-02",
          "2019-03",
          "2019-04",
          "2019-05",
          "2019-06",
          "2019-07",
          "2019-08",
          "2019-09",
          "2019-10",
          "2019-11",
          "2019-12",
          "2020-01",
          "2020-02",
          "2020-03",
          "2020-04",
          "2020-05",
          "2020-06",
          "2020-07",
          "2020-08",
          "2020-09",
          "2020-10",
          "2020-11",
          "2020-12",
          "2021-01",
          "2021-02",
          "2021-03",
          "2021-04",
          "2021-05",
          "2021-06",
          "2021-07",
          "X좌표-",
          "Y좌표-",
          "2021-년평균"
         ],
         "y": [
          682983.1872637944,
          584771.4043839758,
          720486.925547997,
          728821.1447467876,
          751079.0043461828,
          684214.5372260015,
          707347.2781557066,
          676077.9765684052,
          661245.0018896449,
          739147.5908919125,
          715351.3726379441,
          720858.6551398336,
          640930.1275510206,
          526471.9126984127,
          437470.9803476946,
          466757.62169312174,
          516487.955026455,
          538325.2847694634,
          574752.2843915344,
          479395.01530612254,
          455076.32407407404,
          530118.1585411943,
          538437.9210128497,
          439908.47921390773,
          447064.2363945578,
          447989.91742252454,
          562389.7511337867,
          557032.3401360544,
          544618.6247165533,
          560138.0383597884,
          501092.83975812554,
          126.99500178458054,
          37.51057620634919,
          517189.3925601983
         ]
        }
       ],
       "layout": {
        "legend": {
         "bgcolor": "#F5F6F9",
         "font": {
          "color": "#4D5663"
         }
        },
        "paper_bgcolor": "#F5F6F9",
        "plot_bgcolor": "#F5F6F9",
        "title": {
         "font": {
          "color": "#4D5663"
         },
         "text": "월별 지하철이용객 현황"
        },
        "xaxis": {
         "gridcolor": "#E1E5ED",
         "showgrid": true,
         "tickfont": {
          "color": "#4D5663"
         },
         "title": {
          "font": {
           "color": "#4D5663"
          },
          "text": ""
         },
         "zerolinecolor": "#E1E5ED"
        },
        "yaxis": {
         "gridcolor": "#E1E5ED",
         "showgrid": true,
         "tickfont": {
          "color": "#4D5663"
         },
         "title": {
          "font": {
           "color": "#4D5663"
          },
          "text": ""
         },
         "zerolinecolor": "#E1E5ED"
        }
       }
      }
     },
     "metadata": {}
    },
    {
     "output_type": "display_data",
     "data": {
      "text/html": [
       "<div>\n",
       "        \n",
       "        \n",
       "            <div id=\"8025b037-8463-4943-8bc3-5fa8287ce356\" class=\"plotly-graph-div\" style=\"height:525px; width:100%;\"></div>\n",
       "            <script type=\"text/javascript\">\n",
       "                require([\"plotly\"], function(Plotly) {\n",
       "                    window.PLOTLYENV=window.PLOTLYENV || {};\n",
       "                    window.PLOTLYENV.BASE_URL='https://plot.ly';\n",
       "                    \n",
       "                if (document.getElementById(\"8025b037-8463-4943-8bc3-5fa8287ce356\")) {\n",
       "                    Plotly.newPlot(\n",
       "                        '8025b037-8463-4943-8bc3-5fa8287ce356',\n",
       "                        [{\"marker\": {\"color\": \"rgba(255, 153, 51, 0.6)\", \"line\": {\"color\": \"rgba(255, 153, 51, 1.0)\", \"width\": 1}}, \"name\": \"\\uc5f0\\ub3c4\\ubcc4\\ud3c9\\uade0\", \"orientation\": \"v\", \"text\": \"\", \"type\": \"bar\", \"uid\": \"a61f6264-1cb5-44d0-b64e-bc07449bbe09\", \"x\": [\"2019\\ub144\", \"2020\\ub144\", \"2021\\ub144\"], \"y\": [697698.6732331823, 512011.0053854875, 517189.3925601986]}],\n",
       "                        {\"legend\": {\"bgcolor\": \"#F5F6F9\", \"font\": {\"color\": \"#4D5663\"}}, \"paper_bgcolor\": \"#F5F6F9\", \"plot_bgcolor\": \"#F5F6F9\", \"title\": {\"font\": {\"color\": \"#4D5663\"}, \"text\": \"\\uc5f0\\ub3c4\\ubcc4 \\uc9c0\\ud558\\ucca0\\uc774\\uc6a9\\uac1d \\ud604\\ud669\"}, \"xaxis\": {\"gridcolor\": \"#E1E5ED\", \"showgrid\": true, \"tickfont\": {\"color\": \"#4D5663\"}, \"title\": {\"font\": {\"color\": \"#4D5663\"}, \"text\": \"\"}, \"zerolinecolor\": \"#E1E5ED\"}, \"yaxis\": {\"gridcolor\": \"#E1E5ED\", \"showgrid\": true, \"tickfont\": {\"color\": \"#4D5663\"}, \"title\": {\"font\": {\"color\": \"#4D5663\"}, \"text\": \"\"}, \"zerolinecolor\": \"#E1E5ED\"}},\n",
       "                        {\"showLink\": true, \"linkText\": \"Export to plot.ly\", \"plotlyServerURL\": \"https://plot.ly\", \"responsive\": true}\n",
       "                    ).then(function(){\n",
       "                            \n",
       "var gd = document.getElementById('8025b037-8463-4943-8bc3-5fa8287ce356');\n",
       "var x = new MutationObserver(function (mutations, observer) {{\n",
       "        var display = window.getComputedStyle(gd).display;\n",
       "        if (!display || display === 'none') {{\n",
       "            console.log([gd, 'removed!']);\n",
       "            Plotly.purge(gd);\n",
       "            observer.disconnect();\n",
       "        }}\n",
       "}});\n",
       "\n",
       "// Listen for the removal of the full notebook cells\n",
       "var notebookContainer = gd.closest('#notebook-container');\n",
       "if (notebookContainer) {{\n",
       "    x.observe(notebookContainer, {childList: true});\n",
       "}}\n",
       "\n",
       "// Listen for the clearing of the current output cell\n",
       "var outputEl = gd.closest('.output');\n",
       "if (outputEl) {{\n",
       "    x.observe(outputEl, {childList: true});\n",
       "}}\n",
       "\n",
       "                        })\n",
       "                };\n",
       "                });\n",
       "            </script>\n",
       "        </div>"
      ],
      "application/vnd.plotly.v1+json": {
       "config": {
        "linkText": "Export to plot.ly",
        "plotlyServerURL": "https://plot.ly",
        "responsive": true,
        "showLink": true
       },
       "data": [
        {
         "marker": {
          "color": "rgba(255, 153, 51, 0.6)",
          "line": {
           "color": "rgba(255, 153, 51, 1.0)",
           "width": 1
          }
         },
         "name": "연도별평균",
         "orientation": "v",
         "text": "",
         "type": "bar",
         "uid": "4129f314-9601-4ff9-8eb1-23fb0f4a675f",
         "x": [
          "2019년",
          "2020년",
          "2021년"
         ],
         "y": [
          697698.6732331823,
          512011.0053854875,
          517189.3925601986
         ]
        }
       ],
       "layout": {
        "legend": {
         "bgcolor": "#F5F6F9",
         "font": {
          "color": "#4D5663"
         }
        },
        "paper_bgcolor": "#F5F6F9",
        "plot_bgcolor": "#F5F6F9",
        "title": {
         "font": {
          "color": "#4D5663"
         },
         "text": "연도별 지하철이용객 현황"
        },
        "xaxis": {
         "gridcolor": "#E1E5ED",
         "showgrid": true,
         "tickfont": {
          "color": "#4D5663"
         },
         "title": {
          "font": {
           "color": "#4D5663"
          },
          "text": ""
         },
         "zerolinecolor": "#E1E5ED"
        },
        "yaxis": {
         "gridcolor": "#E1E5ED",
         "showgrid": true,
         "tickfont": {
          "color": "#4D5663"
         },
         "title": {
          "font": {
           "color": "#4D5663"
          },
          "text": ""
         },
         "zerolinecolor": "#E1E5ED"
        }
       }
      }
     },
     "metadata": {}
    },
    {
     "output_type": "display_data",
     "data": {
      "text/plain": [
       "<Figure size 432x288 with 1 Axes>"
      ],
      "image/svg+xml": "<?xml version=\"1.0\" encoding=\"utf-8\" standalone=\"no\"?>\r\n<!DOCTYPE svg PUBLIC \"-//W3C//DTD SVG 1.1//EN\"\r\n  \"http://www.w3.org/Graphics/SVG/1.1/DTD/svg11.dtd\">\r\n<!-- Created with matplotlib (https://matplotlib.org/) -->\r\n<svg height=\"300.95375pt\" version=\"1.1\" viewBox=\"0 0 369.403125 300.95375\" width=\"369.403125pt\" xmlns=\"http://www.w3.org/2000/svg\" xmlns:xlink=\"http://www.w3.org/1999/xlink\">\r\n <metadata>\r\n  <rdf:RDF xmlns:cc=\"http://creativecommons.org/ns#\" xmlns:dc=\"http://purl.org/dc/elements/1.1/\" xmlns:rdf=\"http://www.w3.org/1999/02/22-rdf-syntax-ns#\">\r\n   <cc:Work>\r\n    <dc:type rdf:resource=\"http://purl.org/dc/dcmitype/StillImage\"/>\r\n    <dc:date>2021-08-22T17:59:16.098225</dc:date>\r\n    <dc:format>image/svg+xml</dc:format>\r\n    <dc:creator>\r\n     <cc:Agent>\r\n      <dc:title>Matplotlib v3.3.4, https://matplotlib.org/</dc:title>\r\n     </cc:Agent>\r\n    </dc:creator>\r\n   </cc:Work>\r\n  </rdf:RDF>\r\n </metadata>\r\n <defs>\r\n  <style type=\"text/css\">*{stroke-linecap:butt;stroke-linejoin:round;}</style>\r\n </defs>\r\n <g id=\"figure_1\">\r\n  <g id=\"patch_1\">\r\n   <path d=\"M 0 300.95375 \r\nL 369.403125 300.95375 \r\nL 369.403125 0 \r\nL 0 0 \r\nz\r\n\" style=\"fill:none;\"/>\r\n  </g>\r\n  <g id=\"axes_1\">\r\n   <g id=\"patch_2\">\r\n    <path d=\"M 27.403125 239.750625 \r\nL 362.203125 239.750625 \r\nL 362.203125 22.310625 \r\nL 27.403125 22.310625 \r\nz\r\n\" style=\"fill:#ffffff;\"/>\r\n   </g>\r\n   <g id=\"patch_3\">\r\n    <path clip-path=\"url(#pac27330846)\" d=\"M 30.103125 239.750625 \r\nL 32.803125 239.750625 \r\nL 32.803125 58.668147 \r\nL 30.103125 58.668147 \r\nz\r\n\" style=\"fill:#1f77b4;\"/>\r\n   </g>\r\n   <g id=\"patch_4\">\r\n    <path clip-path=\"url(#pac27330846)\" d=\"M 40.903125 239.750625 \r\nL 43.603125 239.750625 \r\nL 43.603125 64.493262 \r\nL 40.903125 64.493262 \r\nz\r\n\" style=\"fill:#1f77b4;\"/>\r\n   </g>\r\n   <g id=\"patch_5\">\r\n    <path clip-path=\"url(#pac27330846)\" d=\"M 51.703125 239.750625 \r\nL 54.403125 239.750625 \r\nL 54.403125 42.522299 \r\nL 51.703125 42.522299 \r\nz\r\n\" style=\"fill:#1f77b4;\"/>\r\n   </g>\r\n   <g id=\"patch_6\">\r\n    <path clip-path=\"url(#pac27330846)\" d=\"M 62.503125 239.750625 \r\nL 65.203125 239.750625 \r\nL 65.203125 38.799626 \r\nL 62.503125 38.799626 \r\nz\r\n\" style=\"fill:#1f77b4;\"/>\r\n   </g>\r\n   <g id=\"patch_7\">\r\n    <path clip-path=\"url(#pac27330846)\" d=\"M 73.303125 239.750625 \r\nL 76.003125 239.750625 \r\nL 76.003125 43.135894 \r\nL 73.303125 43.135894 \r\nz\r\n\" style=\"fill:#1f77b4;\"/>\r\n   </g>\r\n   <g id=\"patch_8\">\r\n    <path clip-path=\"url(#pac27330846)\" d=\"M 84.103125 239.750625 \r\nL 86.803125 239.750625 \r\nL 86.803125 44.839415 \r\nL 84.103125 44.839415 \r\nz\r\n\" style=\"fill:#1f77b4;\"/>\r\n   </g>\r\n   <g id=\"patch_9\">\r\n    <path clip-path=\"url(#pac27330846)\" d=\"M 94.903125 239.750625 \r\nL 97.603125 239.750625 \r\nL 97.603125 41.779912 \r\nL 94.903125 41.779912 \r\nz\r\n\" style=\"fill:#1f77b4;\"/>\r\n   </g>\r\n   <g id=\"patch_10\">\r\n    <path clip-path=\"url(#pac27330846)\" d=\"M 105.703125 239.750625 \r\nL 108.403125 239.750625 \r\nL 108.403125 51.825276 \r\nL 105.703125 51.825276 \r\nz\r\n\" style=\"fill:#1f77b4;\"/>\r\n   </g>\r\n   <g id=\"patch_11\">\r\n    <path clip-path=\"url(#pac27330846)\" d=\"M 116.503125 239.750625 \r\nL 119.203125 239.750625 \r\nL 119.203125 51.020905 \r\nL 116.503125 51.020905 \r\nz\r\n\" style=\"fill:#1f77b4;\"/>\r\n   </g>\r\n   <g id=\"patch_12\">\r\n    <path clip-path=\"url(#pac27330846)\" d=\"M 127.303125 239.750625 \r\nL 130.003125 239.750625 \r\nL 130.003125 44.809118 \r\nL 127.303125 44.809118 \r\nz\r\n\" style=\"fill:#1f77b4;\"/>\r\n   </g>\r\n   <g id=\"patch_13\">\r\n    <path clip-path=\"url(#pac27330846)\" d=\"M 138.103125 239.750625 \r\nL 140.803125 239.750625 \r\nL 140.803125 41.31881 \r\nL 138.103125 41.31881 \r\nz\r\n\" style=\"fill:#1f77b4;\"/>\r\n   </g>\r\n   <g id=\"patch_14\">\r\n    <path clip-path=\"url(#pac27330846)\" d=\"M 148.903125 239.750625 \r\nL 151.603125 239.750625 \r\nL 151.603125 43.267824 \r\nL 148.903125 43.267824 \r\nz\r\n\" style=\"fill:#1f77b4;\"/>\r\n   </g>\r\n   <g id=\"patch_15\">\r\n    <path clip-path=\"url(#pac27330846)\" d=\"M 159.703125 239.750625 \r\nL 162.403125 239.750625 \r\nL 162.403125 70.295535 \r\nL 159.703125 70.295535 \r\nz\r\n\" style=\"fill:#1f77b4;\"/>\r\n   </g>\r\n   <g id=\"patch_16\">\r\n    <path clip-path=\"url(#pac27330846)\" d=\"M 170.503125 239.750625 \r\nL 173.203125 239.750625 \r\nL 173.203125 78.530262 \r\nL 170.503125 78.530262 \r\nz\r\n\" style=\"fill:#1f77b4;\"/>\r\n   </g>\r\n   <g id=\"patch_17\">\r\n    <path clip-path=\"url(#pac27330846)\" d=\"M 181.303125 239.750625 \r\nL 184.003125 239.750625 \r\nL 184.003125 112.115346 \r\nL 181.303125 112.115346 \r\nz\r\n\" style=\"fill:#1f77b4;\"/>\r\n   </g>\r\n   <g id=\"patch_18\">\r\n    <path clip-path=\"url(#pac27330846)\" d=\"M 192.103125 239.750625 \r\nL 194.803125 239.750625 \r\nL 194.803125 104.15174 \r\nL 192.103125 104.15174 \r\nz\r\n\" style=\"fill:#1f77b4;\"/>\r\n   </g>\r\n   <g id=\"patch_19\">\r\n    <path clip-path=\"url(#pac27330846)\" d=\"M 202.903125 239.750625 \r\nL 205.603125 239.750625 \r\nL 205.603125 93.763041 \r\nL 202.903125 93.763041 \r\nz\r\n\" style=\"fill:#1f77b4;\"/>\r\n   </g>\r\n   <g id=\"patch_20\">\r\n    <path clip-path=\"url(#pac27330846)\" d=\"M 213.703125 239.750625 \r\nL 216.403125 239.750625 \r\nL 216.403125 79.771572 \r\nL 213.703125 79.771572 \r\nz\r\n\" style=\"fill:#1f77b4;\"/>\r\n   </g>\r\n   <g id=\"patch_21\">\r\n    <path clip-path=\"url(#pac27330846)\" d=\"M 224.503125 239.750625 \r\nL 227.203125 239.750625 \r\nL 227.203125 78.47174 \r\nL 224.503125 78.47174 \r\nz\r\n\" style=\"fill:#1f77b4;\"/>\r\n   </g>\r\n   <g id=\"patch_22\">\r\n    <path clip-path=\"url(#pac27330846)\" d=\"M 235.303125 239.750625 \r\nL 238.003125 239.750625 \r\nL 238.003125 95.186232 \r\nL 235.303125 95.186232 \r\nz\r\n\" style=\"fill:#1f77b4;\"/>\r\n   </g>\r\n   <g id=\"patch_23\">\r\n    <path clip-path=\"url(#pac27330846)\" d=\"M 246.103125 239.750625 \r\nL 248.803125 239.750625 \r\nL 248.803125 102.575844 \r\nL 246.103125 102.575844 \r\nz\r\n\" style=\"fill:#1f77b4;\"/>\r\n   </g>\r\n   <g id=\"patch_24\">\r\n    <path clip-path=\"url(#pac27330846)\" d=\"M 256.903125 239.750625 \r\nL 259.603125 239.750625 \r\nL 259.603125 94.782509 \r\nL 256.903125 94.782509 \r\nz\r\n\" style=\"fill:#1f77b4;\"/>\r\n   </g>\r\n   <g id=\"patch_25\">\r\n    <path clip-path=\"url(#pac27330846)\" d=\"M 267.703125 239.750625 \r\nL 270.403125 239.750625 \r\nL 270.403125 81.978021 \r\nL 267.703125 81.978021 \r\nz\r\n\" style=\"fill:#1f77b4;\"/>\r\n   </g>\r\n   <g id=\"patch_26\">\r\n    <path clip-path=\"url(#pac27330846)\" d=\"M 278.503125 239.750625 \r\nL 281.203125 239.750625 \r\nL 281.203125 118.311107 \r\nL 278.503125 118.311107 \r\nz\r\n\" style=\"fill:#1f77b4;\"/>\r\n   </g>\r\n   <g id=\"patch_27\">\r\n    <path clip-path=\"url(#pac27330846)\" d=\"M 289.303125 239.750625 \r\nL 292.003125 239.750625 \r\nL 292.003125 117.161782 \r\nL 289.303125 117.161782 \r\nz\r\n\" style=\"fill:#1f77b4;\"/>\r\n   </g>\r\n   <g id=\"patch_28\">\r\n    <path clip-path=\"url(#pac27330846)\" d=\"M 300.103125 239.750625 \r\nL 302.803125 239.750625 \r\nL 302.803125 103.18633 \r\nL 300.103125 103.18633 \r\nz\r\n\" style=\"fill:#1f77b4;\"/>\r\n   </g>\r\n   <g id=\"patch_29\">\r\n    <path clip-path=\"url(#pac27330846)\" d=\"M 310.903125 239.750625 \r\nL 313.603125 239.750625 \r\nL 313.603125 89.224118 \r\nL 310.903125 89.224118 \r\nz\r\n\" style=\"fill:#1f77b4;\"/>\r\n   </g>\r\n   <g id=\"patch_30\">\r\n    <path clip-path=\"url(#pac27330846)\" d=\"M 321.703125 239.750625 \r\nL 324.403125 239.750625 \r\nL 324.403125 88.019556 \r\nL 321.703125 88.019556 \r\nz\r\n\" style=\"fill:#1f77b4;\"/>\r\n   </g>\r\n   <g id=\"patch_31\">\r\n    <path clip-path=\"url(#pac27330846)\" d=\"M 332.503125 239.750625 \r\nL 335.203125 239.750625 \r\nL 335.203125 91.667825 \r\nL 332.503125 91.667825 \r\nz\r\n\" style=\"fill:#1f77b4;\"/>\r\n   </g>\r\n   <g id=\"patch_32\">\r\n    <path clip-path=\"url(#pac27330846)\" d=\"M 343.303125 239.750625 \r\nL 346.003125 239.750625 \r\nL 346.003125 83.863449 \r\nL 343.303125 83.863449 \r\nz\r\n\" style=\"fill:#1f77b4;\"/>\r\n   </g>\r\n   <g id=\"patch_33\">\r\n    <path clip-path=\"url(#pac27330846)\" d=\"M 354.103125 239.750625 \r\nL 356.803125 239.750625 \r\nL 356.803125 95.622822 \r\nL 354.103125 95.622822 \r\nz\r\n\" style=\"fill:#1f77b4;\"/>\r\n   </g>\r\n   <g id=\"patch_34\">\r\n    <path clip-path=\"url(#pac27330846)\" d=\"M 32.803125 239.750625 \r\nL 35.503125 239.750625 \r\nL 35.503125 53.270821 \r\nL 32.803125 53.270821 \r\nz\r\n\" style=\"fill:#ff7f0e;\"/>\r\n   </g>\r\n   <g id=\"patch_35\">\r\n    <path clip-path=\"url(#pac27330846)\" d=\"M 43.603125 239.750625 \r\nL 46.303125 239.750625 \r\nL 46.303125 59.21529 \r\nL 43.603125 59.21529 \r\nz\r\n\" style=\"fill:#ff7f0e;\"/>\r\n   </g>\r\n   <g id=\"patch_36\">\r\n    <path clip-path=\"url(#pac27330846)\" d=\"M 54.403125 239.750625 \r\nL 57.103125 239.750625 \r\nL 57.103125 36.517323 \r\nL 54.403125 36.517323 \r\nz\r\n\" style=\"fill:#ff7f0e;\"/>\r\n   </g>\r\n   <g id=\"patch_37\">\r\n    <path clip-path=\"url(#pac27330846)\" d=\"M 65.203125 239.750625 \r\nL 67.903125 239.750625 \r\nL 67.903125 32.664911 \r\nL 65.203125 32.664911 \r\nz\r\n\" style=\"fill:#ff7f0e;\"/>\r\n   </g>\r\n   <g id=\"patch_38\">\r\n    <path clip-path=\"url(#pac27330846)\" d=\"M 76.003125 239.750625 \r\nL 78.703125 239.750625 \r\nL 78.703125 37.228887 \r\nL 76.003125 37.228887 \r\nz\r\n\" style=\"fill:#ff7f0e;\"/>\r\n   </g>\r\n   <g id=\"patch_39\">\r\n    <path clip-path=\"url(#pac27330846)\" d=\"M 86.803125 239.750625 \r\nL 89.503125 239.750625 \r\nL 89.503125 39.021518 \r\nL 86.803125 39.021518 \r\nz\r\n\" style=\"fill:#ff7f0e;\"/>\r\n   </g>\r\n   <g id=\"patch_40\">\r\n    <path clip-path=\"url(#pac27330846)\" d=\"M 97.603125 239.750625 \r\nL 100.303125 239.750625 \r\nL 100.303125 36.033738 \r\nL 97.603125 36.033738 \r\nz\r\n\" style=\"fill:#ff7f0e;\"/>\r\n   </g>\r\n   <g id=\"patch_41\">\r\n    <path clip-path=\"url(#pac27330846)\" d=\"M 108.403125 239.750625 \r\nL 111.103125 239.750625 \r\nL 111.103125 46.534784 \r\nL 108.403125 46.534784 \r\nz\r\n\" style=\"fill:#ff7f0e;\"/>\r\n   </g>\r\n   <g id=\"patch_42\">\r\n    <path clip-path=\"url(#pac27330846)\" d=\"M 119.203125 239.750625 \r\nL 121.903125 239.750625 \r\nL 121.903125 45.681777 \r\nL 119.203125 45.681777 \r\nz\r\n\" style=\"fill:#ff7f0e;\"/>\r\n   </g>\r\n   <g id=\"patch_43\">\r\n    <path clip-path=\"url(#pac27330846)\" d=\"M 130.003125 239.750625 \r\nL 132.703125 239.750625 \r\nL 132.703125 39.429382 \r\nL 130.003125 39.429382 \r\nz\r\n\" style=\"fill:#ff7f0e;\"/>\r\n   </g>\r\n   <g id=\"patch_44\">\r\n    <path clip-path=\"url(#pac27330846)\" d=\"M 140.803125 239.750625 \r\nL 143.503125 239.750625 \r\nL 143.503125 35.945813 \r\nL 140.803125 35.945813 \r\nz\r\n\" style=\"fill:#ff7f0e;\"/>\r\n   </g>\r\n   <g id=\"patch_45\">\r\n    <path clip-path=\"url(#pac27330846)\" d=\"M 151.603125 239.750625 \r\nL 154.303125 239.750625 \r\nL 154.303125 38.033519 \r\nL 151.603125 38.033519 \r\nz\r\n\" style=\"fill:#ff7f0e;\"/>\r\n   </g>\r\n   <g id=\"patch_46\">\r\n    <path clip-path=\"url(#pac27330846)\" d=\"M 162.403125 239.750625 \r\nL 165.103125 239.750625 \r\nL 165.103125 65.916801 \r\nL 162.403125 65.916801 \r\nz\r\n\" style=\"fill:#ff7f0e;\"/>\r\n   </g>\r\n   <g id=\"patch_47\">\r\n    <path clip-path=\"url(#pac27330846)\" d=\"M 173.203125 239.750625 \r\nL 175.903125 239.750625 \r\nL 175.903125 74.367818 \r\nL 173.203125 74.367818 \r\nz\r\n\" style=\"fill:#ff7f0e;\"/>\r\n   </g>\r\n   <g id=\"patch_48\">\r\n    <path clip-path=\"url(#pac27330846)\" d=\"M 184.003125 239.750625 \r\nL 186.703125 239.750625 \r\nL 186.703125 108.93671 \r\nL 184.003125 108.93671 \r\nz\r\n\" style=\"fill:#ff7f0e;\"/>\r\n   </g>\r\n   <g id=\"patch_49\">\r\n    <path clip-path=\"url(#pac27330846)\" d=\"M 194.803125 239.750625 \r\nL 197.503125 239.750625 \r\nL 197.503125 100.828829 \r\nL 194.803125 100.828829 \r\nz\r\n\" style=\"fill:#ff7f0e;\"/>\r\n   </g>\r\n   <g id=\"patch_50\">\r\n    <path clip-path=\"url(#pac27330846)\" d=\"M 205.603125 239.750625 \r\nL 208.303125 239.750625 \r\nL 208.303125 90.091051 \r\nL 205.603125 90.091051 \r\nz\r\n\" style=\"fill:#ff7f0e;\"/>\r\n   </g>\r\n   <g id=\"patch_51\">\r\n    <path clip-path=\"url(#pac27330846)\" d=\"M 216.403125 239.750625 \r\nL 219.103125 239.750625 \r\nL 219.103125 75.681617 \r\nL 216.403125 75.681617 \r\nz\r\n\" style=\"fill:#ff7f0e;\"/>\r\n   </g>\r\n   <g id=\"patch_52\">\r\n    <path clip-path=\"url(#pac27330846)\" d=\"M 227.203125 239.750625 \r\nL 229.903125 239.750625 \r\nL 229.903125 74.337049 \r\nL 227.203125 74.337049 \r\nz\r\n\" style=\"fill:#ff7f0e;\"/>\r\n   </g>\r\n   <g id=\"patch_53\">\r\n    <path clip-path=\"url(#pac27330846)\" d=\"M 238.003125 239.750625 \r\nL 240.703125 239.750625 \r\nL 240.703125 91.510787 \r\nL 238.003125 91.510787 \r\nz\r\n\" style=\"fill:#ff7f0e;\"/>\r\n   </g>\r\n   <g id=\"patch_54\">\r\n    <path clip-path=\"url(#pac27330846)\" d=\"M 248.803125 239.750625 \r\nL 251.503125 239.750625 \r\nL 251.503125 99.281151 \r\nL 248.803125 99.281151 \r\nz\r\n\" style=\"fill:#ff7f0e;\"/>\r\n   </g>\r\n   <g id=\"patch_55\">\r\n    <path clip-path=\"url(#pac27330846)\" d=\"M 259.603125 239.750625 \r\nL 262.303125 239.750625 \r\nL 262.303125 91.275118 \r\nL 259.603125 91.275118 \r\nz\r\n\" style=\"fill:#ff7f0e;\"/>\r\n   </g>\r\n   <g id=\"patch_56\">\r\n    <path clip-path=\"url(#pac27330846)\" d=\"M 270.403125 239.750625 \r\nL 273.103125 239.750625 \r\nL 273.103125 78.199775 \r\nL 270.403125 78.199775 \r\nz\r\n\" style=\"fill:#ff7f0e;\"/>\r\n   </g>\r\n   <g id=\"patch_57\">\r\n    <path clip-path=\"url(#pac27330846)\" d=\"M 281.203125 239.750625 \r\nL 283.903125 239.750625 \r\nL 283.903125 115.597271 \r\nL 281.203125 115.597271 \r\nz\r\n\" style=\"fill:#ff7f0e;\"/>\r\n   </g>\r\n   <g id=\"patch_58\">\r\n    <path clip-path=\"url(#pac27330846)\" d=\"M 292.003125 239.750625 \r\nL 294.703125 239.750625 \r\nL 294.703125 114.353394 \r\nL 292.003125 114.353394 \r\nz\r\n\" style=\"fill:#ff7f0e;\"/>\r\n   </g>\r\n   <g id=\"patch_59\">\r\n    <path clip-path=\"url(#pac27330846)\" d=\"M 302.803125 239.750625 \r\nL 305.503125 239.750625 \r\nL 305.503125 100.075073 \r\nL 302.803125 100.075073 \r\nz\r\n\" style=\"fill:#ff7f0e;\"/>\r\n   </g>\r\n   <g id=\"patch_60\">\r\n    <path clip-path=\"url(#pac27330846)\" d=\"M 313.603125 239.750625 \r\nL 316.303125 239.750625 \r\nL 316.303125 85.675019 \r\nL 313.603125 85.675019 \r\nz\r\n\" style=\"fill:#ff7f0e;\"/>\r\n   </g>\r\n   <g id=\"patch_61\">\r\n    <path clip-path=\"url(#pac27330846)\" d=\"M 324.403125 239.750625 \r\nL 327.103125 239.750625 \r\nL 327.103125 84.475367 \r\nL 324.403125 84.475367 \r\nz\r\n\" style=\"fill:#ff7f0e;\"/>\r\n   </g>\r\n   <g id=\"patch_62\">\r\n    <path clip-path=\"url(#pac27330846)\" d=\"M 335.203125 239.750625 \r\nL 337.903125 239.750625 \r\nL 337.903125 88.167432 \r\nL 335.203125 88.167432 \r\nz\r\n\" style=\"fill:#ff7f0e;\"/>\r\n   </g>\r\n   <g id=\"patch_63\">\r\n    <path clip-path=\"url(#pac27330846)\" d=\"M 346.003125 239.750625 \r\nL 348.703125 239.750625 \r\nL 348.703125 80.197862 \r\nL 346.003125 80.197862 \r\nz\r\n\" style=\"fill:#ff7f0e;\"/>\r\n   </g>\r\n   <g id=\"patch_64\">\r\n    <path clip-path=\"url(#pac27330846)\" d=\"M 356.803125 239.750625 \r\nL 359.503125 239.750625 \r\nL 359.503125 92.351085 \r\nL 356.803125 92.351085 \r\nz\r\n\" style=\"fill:#ff7f0e;\"/>\r\n   </g>\r\n   <g id=\"matplotlib.axis_1\">\r\n    <g id=\"xtick_1\">\r\n     <g id=\"line2d_1\">\r\n      <defs>\r\n       <path d=\"M 0 0 \r\nL 0 3.5 \r\n\" id=\"mb8335691eb\" style=\"stroke:#000000;stroke-width:0.8;\"/>\r\n      </defs>\r\n      <g>\r\n       <use style=\"stroke:#000000;stroke-width:0.8;\" x=\"32.803125\" xlink:href=\"#mb8335691eb\" y=\"239.750625\"/>\r\n      </g>\r\n     </g>\r\n     <g id=\"text_1\">\r\n      <!-- 201901 -->\r\n      <g transform=\"translate(35.417187 279.7975)rotate(-90)scale(0.1 -0.1)\">\r\n       <defs>\r\n        <path d=\"M 39.359375 52.6875 \r\nQ 39.359375 59.125 35.546875 62.78125 \r\nQ 31.734375 66.453125 25.4375 66.453125 \r\nQ 20.953125 66.453125 16.453125 64.125 \r\nQ 11.96875 61.8125 8.34375 57.765625 \r\nL 8.34375 66.15625 \r\nQ 15.328125 73.046875 26.421875 73.046875 \r\nQ 35.640625 73.046875 41.28125 67.71875 \r\nQ 46.921875 62.40625 46.921875 53.375 \r\nQ 46.921875 45.609375 43.3125 39.765625 \r\nQ 39.703125 33.9375 31 27.734375 \r\nQ 22.796875 21.96875 19.59375 18.984375 \r\nQ 16.40625 16.015625 15.109375 13.34375 \r\nQ 13.8125 10.6875 13.8125 7.03125 \r\nL 48.6875 7.03125 \r\nL 48.6875 0 \r\nL 5.5625 0 \r\nL 5.5625 3.515625 \r\nQ 5.5625 9.421875 7.203125 13.59375 \r\nQ 8.84375 17.78125 12.671875 21.75 \r\nQ 16.5 25.734375 24.953125 31.59375 \r\nQ 32.671875 36.921875 36.015625 41.71875 \r\nQ 39.359375 46.53125 39.359375 52.6875 \r\nz\r\n\" id=\"MalgunGothic-50\"/>\r\n        <path d=\"M 4.34375 34.46875 \r\nQ 4.34375 53.515625 10.546875 63.28125 \r\nQ 16.75 73.046875 28.421875 73.046875 \r\nQ 50.828125 73.046875 50.828125 36.234375 \r\nQ 50.828125 18.0625 44.59375 8.421875 \r\nQ 38.375 -1.21875 26.8125 -1.21875 \r\nQ 15.875 -1.21875 10.109375 8.125 \r\nQ 4.34375 17.484375 4.34375 34.46875 \r\nz\r\nM 12.25 34.859375 \r\nQ 12.25 5.375 27.640625 5.375 \r\nQ 42.921875 5.375 42.921875 35.296875 \r\nQ 42.921875 66.40625 28.03125 66.40625 \r\nQ 12.25 66.40625 12.25 34.859375 \r\nz\r\n\" id=\"MalgunGothic-48\"/>\r\n        <path d=\"M 34.859375 0 \r\nL 27.09375 0 \r\nL 27.09375 62.0625 \r\nQ 24.859375 59.8125 19.78125 57.203125 \r\nQ 14.703125 54.59375 10.5 53.5625 \r\nL 10.5 61.859375 \r\nQ 15.875 63.375 22.015625 66.796875 \r\nQ 28.171875 70.21875 31.734375 73.4375 \r\nL 34.859375 73.4375 \r\nz\r\n\" id=\"MalgunGothic-49\"/>\r\n        <path d=\"M 8.6875 8.796875 \r\nQ 14.703125 5.375 21.34375 5.375 \r\nQ 31.15625 5.375 36.671875 13.359375 \r\nQ 42.1875 21.34375 42.1875 36.140625 \r\nQ 42.09375 36.03125 42 36.140625 \r\nQ 37.3125 26.765625 25.828125 26.765625 \r\nQ 16.546875 26.765625 10.65625 33.125 \r\nQ 4.78125 39.5 4.78125 49.125 \r\nQ 4.78125 59.46875 11.109375 66.25 \r\nQ 17.4375 73.046875 27.6875 73.046875 \r\nQ 38.53125 73.046875 44.265625 64.546875 \r\nQ 50 56.0625 50 40.28125 \r\nQ 50 20.609375 42.453125 9.6875 \r\nQ 34.90625 -1.21875 21 -1.21875 \r\nQ 13.765625 -1.21875 8.6875 1.21875 \r\nz\r\nM 12.703125 50.296875 \r\nQ 12.703125 42.828125 16.609375 38.28125 \r\nQ 20.515625 33.734375 27.484375 33.734375 \r\nQ 33.546875 33.734375 37.59375 37.765625 \r\nQ 41.65625 41.796875 41.65625 47.609375 \r\nQ 41.65625 55.5625 37.671875 60.984375 \r\nQ 33.6875 66.40625 26.953125 66.40625 \r\nQ 20.65625 66.40625 16.671875 61.6875 \r\nQ 12.703125 56.984375 12.703125 50.296875 \r\nz\r\n\" id=\"MalgunGothic-57\"/>\r\n       </defs>\r\n       <use xlink:href=\"#MalgunGothic-50\"/>\r\n       <use x=\"55.078125\" xlink:href=\"#MalgunGothic-48\"/>\r\n       <use x=\"110.15625\" xlink:href=\"#MalgunGothic-49\"/>\r\n       <use x=\"165.234375\" xlink:href=\"#MalgunGothic-57\"/>\r\n       <use x=\"220.3125\" xlink:href=\"#MalgunGothic-48\"/>\r\n       <use x=\"275.390625\" xlink:href=\"#MalgunGothic-49\"/>\r\n      </g>\r\n     </g>\r\n    </g>\r\n    <g id=\"xtick_2\">\r\n     <g id=\"line2d_2\">\r\n      <g>\r\n       <use style=\"stroke:#000000;stroke-width:0.8;\" x=\"43.603125\" xlink:href=\"#mb8335691eb\" y=\"239.750625\"/>\r\n      </g>\r\n     </g>\r\n     <g id=\"text_2\">\r\n      <!-- 201902 -->\r\n      <g transform=\"translate(46.217188 279.7975)rotate(-90)scale(0.1 -0.1)\">\r\n       <use xlink:href=\"#MalgunGothic-50\"/>\r\n       <use x=\"55.078125\" xlink:href=\"#MalgunGothic-48\"/>\r\n       <use x=\"110.15625\" xlink:href=\"#MalgunGothic-49\"/>\r\n       <use x=\"165.234375\" xlink:href=\"#MalgunGothic-57\"/>\r\n       <use x=\"220.3125\" xlink:href=\"#MalgunGothic-48\"/>\r\n       <use x=\"275.390625\" xlink:href=\"#MalgunGothic-50\"/>\r\n      </g>\r\n     </g>\r\n    </g>\r\n    <g id=\"xtick_3\">\r\n     <g id=\"line2d_3\">\r\n      <g>\r\n       <use style=\"stroke:#000000;stroke-width:0.8;\" x=\"54.403125\" xlink:href=\"#mb8335691eb\" y=\"239.750625\"/>\r\n      </g>\r\n     </g>\r\n     <g id=\"text_3\">\r\n      <!-- 201903 -->\r\n      <g transform=\"translate(57.017188 279.7975)rotate(-90)scale(0.1 -0.1)\">\r\n       <defs>\r\n        <path d=\"M 6.5 11.234375 \r\nQ 13.921875 5.375 23.09375 5.375 \r\nQ 30.609375 5.375 35.21875 9.171875 \r\nQ 39.84375 12.984375 39.84375 19.484375 \r\nQ 39.84375 33.890625 19.578125 33.890625 \r\nL 13.625 33.890625 \r\nL 13.625 40.484375 \r\nL 19.28125 40.484375 \r\nQ 37.3125 40.484375 37.3125 53.953125 \r\nQ 37.3125 66.40625 23.578125 66.40625 \r\nQ 15.96875 66.40625 9.28125 61.1875 \r\nL 9.28125 68.953125 \r\nQ 16.109375 73.046875 25.53125 73.046875 \r\nQ 34.125 73.046875 39.671875 68.3125 \r\nQ 45.21875 63.578125 45.21875 55.953125 \r\nQ 45.21875 41.84375 30.8125 37.640625 \r\nL 30.8125 37.5 \r\nQ 38.578125 36.8125 43.1875 32.078125 \r\nQ 47.796875 27.34375 47.796875 20.3125 \r\nQ 47.796875 10.5 40.6875 4.640625 \r\nQ 33.59375 -1.21875 22.65625 -1.21875 \r\nQ 12.59375 -1.21875 6.5 2.640625 \r\nz\r\n\" id=\"MalgunGothic-51\"/>\r\n       </defs>\r\n       <use xlink:href=\"#MalgunGothic-50\"/>\r\n       <use x=\"55.078125\" xlink:href=\"#MalgunGothic-48\"/>\r\n       <use x=\"110.15625\" xlink:href=\"#MalgunGothic-49\"/>\r\n       <use x=\"165.234375\" xlink:href=\"#MalgunGothic-57\"/>\r\n       <use x=\"220.3125\" xlink:href=\"#MalgunGothic-48\"/>\r\n       <use x=\"275.390625\" xlink:href=\"#MalgunGothic-51\"/>\r\n      </g>\r\n     </g>\r\n    </g>\r\n    <g id=\"xtick_4\">\r\n     <g id=\"line2d_4\">\r\n      <g>\r\n       <use style=\"stroke:#000000;stroke-width:0.8;\" x=\"65.203125\" xlink:href=\"#mb8335691eb\" y=\"239.750625\"/>\r\n      </g>\r\n     </g>\r\n     <g id=\"text_4\">\r\n      <!-- 201904 -->\r\n      <g transform=\"translate(67.817188 279.7975)rotate(-90)scale(0.1 -0.1)\">\r\n       <defs>\r\n        <path d=\"M 42.234375 71.875 \r\nL 42.234375 24.421875 \r\nL 51.703125 24.421875 \r\nL 51.703125 17.390625 \r\nL 42.234375 17.390625 \r\nL 42.234375 0 \r\nL 34.578125 0 \r\nL 34.578125 17.390625 \r\nL 0.78125 17.390625 \r\nL 0.78125 23.96875 \r\nQ 11.375 35.890625 20.234375 48.578125 \r\nQ 29.109375 61.28125 33.9375 71.875 \r\nz\r\nM 9.765625 24.421875 \r\nL 34.578125 24.421875 \r\nL 34.578125 59.859375 \r\nQ 25.203125 43.5625 14.984375 30.953125 \r\nz\r\n\" id=\"MalgunGothic-52\"/>\r\n       </defs>\r\n       <use xlink:href=\"#MalgunGothic-50\"/>\r\n       <use x=\"55.078125\" xlink:href=\"#MalgunGothic-48\"/>\r\n       <use x=\"110.15625\" xlink:href=\"#MalgunGothic-49\"/>\r\n       <use x=\"165.234375\" xlink:href=\"#MalgunGothic-57\"/>\r\n       <use x=\"220.3125\" xlink:href=\"#MalgunGothic-48\"/>\r\n       <use x=\"275.390625\" xlink:href=\"#MalgunGothic-52\"/>\r\n      </g>\r\n     </g>\r\n    </g>\r\n    <g id=\"xtick_5\">\r\n     <g id=\"line2d_5\">\r\n      <g>\r\n       <use style=\"stroke:#000000;stroke-width:0.8;\" x=\"76.003125\" xlink:href=\"#mb8335691eb\" y=\"239.750625\"/>\r\n      </g>\r\n     </g>\r\n     <g id=\"text_5\">\r\n      <!-- 201905 -->\r\n      <g transform=\"translate(78.617188 279.7975)rotate(-90)scale(0.1 -0.1)\">\r\n       <defs>\r\n        <path d=\"M 48 21.921875 \r\nQ 48 11.28125 41.1875 5.03125 \r\nQ 34.375 -1.21875 22.953125 -1.21875 \r\nQ 12.9375 -1.21875 8.0625 1.765625 \r\nL 8.0625 10.15625 \r\nQ 15.53125 5.375 23.046875 5.375 \r\nQ 30.765625 5.375 35.46875 9.84375 \r\nQ 40.1875 14.3125 40.1875 21.4375 \r\nQ 40.1875 28.71875 35.390625 32.6875 \r\nQ 30.609375 36.671875 21.578125 36.671875 \r\nQ 15.53125 36.671875 9.421875 35.9375 \r\nL 11.859375 71.875 \r\nL 44.828125 71.875 \r\nL 44.828125 64.796875 \r\nL 18.84375 64.796875 \r\nL 17.28125 43.171875 \r\nQ 21.046875 43.5 24.171875 43.5 \r\nQ 35.359375 43.5 41.671875 37.71875 \r\nQ 48 31.9375 48 21.921875 \r\nz\r\n\" id=\"MalgunGothic-53\"/>\r\n       </defs>\r\n       <use xlink:href=\"#MalgunGothic-50\"/>\r\n       <use x=\"55.078125\" xlink:href=\"#MalgunGothic-48\"/>\r\n       <use x=\"110.15625\" xlink:href=\"#MalgunGothic-49\"/>\r\n       <use x=\"165.234375\" xlink:href=\"#MalgunGothic-57\"/>\r\n       <use x=\"220.3125\" xlink:href=\"#MalgunGothic-48\"/>\r\n       <use x=\"275.390625\" xlink:href=\"#MalgunGothic-53\"/>\r\n      </g>\r\n     </g>\r\n    </g>\r\n    <g id=\"xtick_6\">\r\n     <g id=\"line2d_6\">\r\n      <g>\r\n       <use style=\"stroke:#000000;stroke-width:0.8;\" x=\"86.803125\" xlink:href=\"#mb8335691eb\" y=\"239.750625\"/>\r\n      </g>\r\n     </g>\r\n     <g id=\"text_6\">\r\n      <!-- 201906 -->\r\n      <g transform=\"translate(89.417187 279.7975)rotate(-90)scale(0.1 -0.1)\">\r\n       <defs>\r\n        <path d=\"M 46.578125 63.578125 \r\nQ 40.921875 66.40625 34.8125 66.40625 \r\nQ 24.859375 66.40625 19.1875 57.640625 \r\nQ 13.53125 48.875 13.578125 34.578125 \r\nL 13.8125 34.578125 \r\nQ 18.796875 44.875 30.28125 44.875 \r\nQ 39.796875 44.875 45.359375 38.71875 \r\nQ 50.921875 32.5625 50.921875 22.65625 \r\nQ 50.921875 12.453125 44.640625 5.609375 \r\nQ 38.375 -1.21875 28.515625 -1.21875 \r\nQ 17.4375 -1.21875 11.5 7.46875 \r\nQ 5.5625 16.15625 5.5625 31.546875 \r\nQ 5.5625 49.703125 13.234375 61.375 \r\nQ 20.90625 73.046875 34.71875 73.046875 \r\nQ 42.1875 73.046875 46.578125 71 \r\nz\r\nM 14.15625 23.53125 \r\nQ 14.15625 15.96875 18.203125 10.671875 \r\nQ 22.265625 5.375 28.8125 5.375 \r\nQ 35.109375 5.375 39.03125 10.078125 \r\nQ 42.96875 14.796875 42.96875 21.6875 \r\nQ 42.96875 29.5 39.203125 33.859375 \r\nQ 35.453125 38.234375 28.71875 38.234375 \r\nQ 22.5625 38.234375 18.359375 33.953125 \r\nQ 14.15625 29.6875 14.15625 23.53125 \r\nz\r\n\" id=\"MalgunGothic-54\"/>\r\n       </defs>\r\n       <use xlink:href=\"#MalgunGothic-50\"/>\r\n       <use x=\"55.078125\" xlink:href=\"#MalgunGothic-48\"/>\r\n       <use x=\"110.15625\" xlink:href=\"#MalgunGothic-49\"/>\r\n       <use x=\"165.234375\" xlink:href=\"#MalgunGothic-57\"/>\r\n       <use x=\"220.3125\" xlink:href=\"#MalgunGothic-48\"/>\r\n       <use x=\"275.390625\" xlink:href=\"#MalgunGothic-54\"/>\r\n      </g>\r\n     </g>\r\n    </g>\r\n    <g id=\"xtick_7\">\r\n     <g id=\"line2d_7\">\r\n      <g>\r\n       <use style=\"stroke:#000000;stroke-width:0.8;\" x=\"97.603125\" xlink:href=\"#mb8335691eb\" y=\"239.750625\"/>\r\n      </g>\r\n     </g>\r\n     <g id=\"text_7\">\r\n      <!-- 201907 -->\r\n      <g transform=\"translate(100.217188 279.7975)rotate(-90)scale(0.1 -0.1)\">\r\n       <defs>\r\n        <path d=\"M 50.203125 67.140625 \r\nQ 38.71875 46.96875 32.25 29.96875 \r\nQ 25.78125 12.984375 24.21875 0 \r\nL 15.765625 0 \r\nQ 16.9375 8.296875 20.15625 18.375 \r\nQ 23.390625 28.46875 28.359375 39.640625 \r\nQ 33.34375 50.828125 41.109375 64.796875 \r\nL 4.546875 64.796875 \r\nL 4.546875 71.875 \r\nL 50.203125 71.875 \r\nz\r\n\" id=\"MalgunGothic-55\"/>\r\n       </defs>\r\n       <use xlink:href=\"#MalgunGothic-50\"/>\r\n       <use x=\"55.078125\" xlink:href=\"#MalgunGothic-48\"/>\r\n       <use x=\"110.15625\" xlink:href=\"#MalgunGothic-49\"/>\r\n       <use x=\"165.234375\" xlink:href=\"#MalgunGothic-57\"/>\r\n       <use x=\"220.3125\" xlink:href=\"#MalgunGothic-48\"/>\r\n       <use x=\"275.390625\" xlink:href=\"#MalgunGothic-55\"/>\r\n      </g>\r\n     </g>\r\n    </g>\r\n    <g id=\"xtick_8\">\r\n     <g id=\"line2d_8\">\r\n      <g>\r\n       <use style=\"stroke:#000000;stroke-width:0.8;\" x=\"108.403125\" xlink:href=\"#mb8335691eb\" y=\"239.750625\"/>\r\n      </g>\r\n     </g>\r\n     <g id=\"text_8\">\r\n      <!-- 201908 -->\r\n      <g transform=\"translate(111.017188 279.7975)rotate(-90)scale(0.1 -0.1)\">\r\n       <defs>\r\n        <path d=\"M 4.734375 20.015625 \r\nQ 4.734375 26.078125 8.421875 31.421875 \r\nQ 12.109375 36.765625 18.015625 38.96875 \r\nQ 13.375 41.359375 10.546875 45.546875 \r\nQ 7.71875 49.75 7.71875 54.6875 \r\nQ 7.71875 59.8125 10.296875 64.03125 \r\nQ 12.890625 68.265625 17.53125 70.65625 \r\nQ 22.171875 73.046875 27.78125 73.046875 \r\nQ 36.46875 73.046875 42.1875 67.84375 \r\nQ 47.90625 62.640625 47.90625 54.6875 \r\nQ 47.90625 49.703125 45.015625 45.53125 \r\nQ 42.140625 41.359375 37.703125 38.96875 \r\nQ 43.5625 36.71875 47.21875 31.390625 \r\nQ 50.875 26.078125 50.875 20.015625 \r\nQ 50.875 10.5 44.421875 4.640625 \r\nQ 37.984375 -1.21875 27.78125 -1.21875 \r\nQ 17.671875 -1.21875 11.203125 4.703125 \r\nQ 4.734375 10.640625 4.734375 20.015625 \r\nz\r\nM 12.640625 20.75 \r\nQ 12.640625 13.71875 16.890625 9.546875 \r\nQ 21.140625 5.375 27.828125 5.375 \r\nQ 34.46875 5.375 38.78125 9.671875 \r\nQ 43.109375 13.96875 43.109375 20.75 \r\nQ 43.109375 27.046875 38.78125 31.421875 \r\nQ 34.46875 35.796875 27.828125 35.796875 \r\nQ 21.4375 35.796875 17.03125 31.5625 \r\nQ 12.640625 27.34375 12.640625 20.75 \r\nz\r\nM 15.671875 54.046875 \r\nQ 15.671875 48.828125 19.28125 45.3125 \r\nQ 22.90625 41.796875 27.828125 41.796875 \r\nQ 32.765625 41.796875 36.40625 45.3125 \r\nQ 40.046875 48.828125 40.046875 54.046875 \r\nQ 40.046875 59.421875 36.578125 62.90625 \r\nQ 33.109375 66.40625 27.828125 66.40625 \r\nQ 22.65625 66.40625 19.15625 62.953125 \r\nQ 15.671875 59.515625 15.671875 54.046875 \r\nz\r\n\" id=\"MalgunGothic-56\"/>\r\n       </defs>\r\n       <use xlink:href=\"#MalgunGothic-50\"/>\r\n       <use x=\"55.078125\" xlink:href=\"#MalgunGothic-48\"/>\r\n       <use x=\"110.15625\" xlink:href=\"#MalgunGothic-49\"/>\r\n       <use x=\"165.234375\" xlink:href=\"#MalgunGothic-57\"/>\r\n       <use x=\"220.3125\" xlink:href=\"#MalgunGothic-48\"/>\r\n       <use x=\"275.390625\" xlink:href=\"#MalgunGothic-56\"/>\r\n      </g>\r\n     </g>\r\n    </g>\r\n    <g id=\"xtick_9\">\r\n     <g id=\"line2d_9\">\r\n      <g>\r\n       <use style=\"stroke:#000000;stroke-width:0.8;\" x=\"119.203125\" xlink:href=\"#mb8335691eb\" y=\"239.750625\"/>\r\n      </g>\r\n     </g>\r\n     <g id=\"text_9\">\r\n      <!-- 201909 -->\r\n      <g transform=\"translate(121.817188 279.7975)rotate(-90)scale(0.1 -0.1)\">\r\n       <use xlink:href=\"#MalgunGothic-50\"/>\r\n       <use x=\"55.078125\" xlink:href=\"#MalgunGothic-48\"/>\r\n       <use x=\"110.15625\" xlink:href=\"#MalgunGothic-49\"/>\r\n       <use x=\"165.234375\" xlink:href=\"#MalgunGothic-57\"/>\r\n       <use x=\"220.3125\" xlink:href=\"#MalgunGothic-48\"/>\r\n       <use x=\"275.390625\" xlink:href=\"#MalgunGothic-57\"/>\r\n      </g>\r\n     </g>\r\n    </g>\r\n    <g id=\"xtick_10\">\r\n     <g id=\"line2d_10\">\r\n      <g>\r\n       <use style=\"stroke:#000000;stroke-width:0.8;\" x=\"130.003125\" xlink:href=\"#mb8335691eb\" y=\"239.750625\"/>\r\n      </g>\r\n     </g>\r\n     <g id=\"text_10\">\r\n      <!-- 201910 -->\r\n      <g transform=\"translate(132.617188 279.7975)rotate(-90)scale(0.1 -0.1)\">\r\n       <use xlink:href=\"#MalgunGothic-50\"/>\r\n       <use x=\"55.078125\" xlink:href=\"#MalgunGothic-48\"/>\r\n       <use x=\"110.15625\" xlink:href=\"#MalgunGothic-49\"/>\r\n       <use x=\"165.234375\" xlink:href=\"#MalgunGothic-57\"/>\r\n       <use x=\"220.3125\" xlink:href=\"#MalgunGothic-49\"/>\r\n       <use x=\"275.390625\" xlink:href=\"#MalgunGothic-48\"/>\r\n      </g>\r\n     </g>\r\n    </g>\r\n    <g id=\"xtick_11\">\r\n     <g id=\"line2d_11\">\r\n      <g>\r\n       <use style=\"stroke:#000000;stroke-width:0.8;\" x=\"140.803125\" xlink:href=\"#mb8335691eb\" y=\"239.750625\"/>\r\n      </g>\r\n     </g>\r\n     <g id=\"text_11\">\r\n      <!-- 201911 -->\r\n      <g transform=\"translate(143.417187 279.7975)rotate(-90)scale(0.1 -0.1)\">\r\n       <use xlink:href=\"#MalgunGothic-50\"/>\r\n       <use x=\"55.078125\" xlink:href=\"#MalgunGothic-48\"/>\r\n       <use x=\"110.15625\" xlink:href=\"#MalgunGothic-49\"/>\r\n       <use x=\"165.234375\" xlink:href=\"#MalgunGothic-57\"/>\r\n       <use x=\"220.3125\" xlink:href=\"#MalgunGothic-49\"/>\r\n       <use x=\"275.390625\" xlink:href=\"#MalgunGothic-49\"/>\r\n      </g>\r\n     </g>\r\n    </g>\r\n    <g id=\"xtick_12\">\r\n     <g id=\"line2d_12\">\r\n      <g>\r\n       <use style=\"stroke:#000000;stroke-width:0.8;\" x=\"151.603125\" xlink:href=\"#mb8335691eb\" y=\"239.750625\"/>\r\n      </g>\r\n     </g>\r\n     <g id=\"text_12\">\r\n      <!-- 201912 -->\r\n      <g transform=\"translate(154.217187 279.7975)rotate(-90)scale(0.1 -0.1)\">\r\n       <use xlink:href=\"#MalgunGothic-50\"/>\r\n       <use x=\"55.078125\" xlink:href=\"#MalgunGothic-48\"/>\r\n       <use x=\"110.15625\" xlink:href=\"#MalgunGothic-49\"/>\r\n       <use x=\"165.234375\" xlink:href=\"#MalgunGothic-57\"/>\r\n       <use x=\"220.3125\" xlink:href=\"#MalgunGothic-49\"/>\r\n       <use x=\"275.390625\" xlink:href=\"#MalgunGothic-50\"/>\r\n      </g>\r\n     </g>\r\n    </g>\r\n    <g id=\"xtick_13\">\r\n     <g id=\"line2d_13\">\r\n      <g>\r\n       <use style=\"stroke:#000000;stroke-width:0.8;\" x=\"162.403125\" xlink:href=\"#mb8335691eb\" y=\"239.750625\"/>\r\n      </g>\r\n     </g>\r\n     <g id=\"text_13\">\r\n      <!-- 202001 -->\r\n      <g transform=\"translate(165.017188 279.7975)rotate(-90)scale(0.1 -0.1)\">\r\n       <use xlink:href=\"#MalgunGothic-50\"/>\r\n       <use x=\"55.078125\" xlink:href=\"#MalgunGothic-48\"/>\r\n       <use x=\"110.15625\" xlink:href=\"#MalgunGothic-50\"/>\r\n       <use x=\"165.234375\" xlink:href=\"#MalgunGothic-48\"/>\r\n       <use x=\"220.3125\" xlink:href=\"#MalgunGothic-48\"/>\r\n       <use x=\"275.390625\" xlink:href=\"#MalgunGothic-49\"/>\r\n      </g>\r\n     </g>\r\n    </g>\r\n    <g id=\"xtick_14\">\r\n     <g id=\"line2d_14\">\r\n      <g>\r\n       <use style=\"stroke:#000000;stroke-width:0.8;\" x=\"173.203125\" xlink:href=\"#mb8335691eb\" y=\"239.750625\"/>\r\n      </g>\r\n     </g>\r\n     <g id=\"text_14\">\r\n      <!-- 202002 -->\r\n      <g transform=\"translate(175.817187 279.7975)rotate(-90)scale(0.1 -0.1)\">\r\n       <use xlink:href=\"#MalgunGothic-50\"/>\r\n       <use x=\"55.078125\" xlink:href=\"#MalgunGothic-48\"/>\r\n       <use x=\"110.15625\" xlink:href=\"#MalgunGothic-50\"/>\r\n       <use x=\"165.234375\" xlink:href=\"#MalgunGothic-48\"/>\r\n       <use x=\"220.3125\" xlink:href=\"#MalgunGothic-48\"/>\r\n       <use x=\"275.390625\" xlink:href=\"#MalgunGothic-50\"/>\r\n      </g>\r\n     </g>\r\n    </g>\r\n    <g id=\"xtick_15\">\r\n     <g id=\"line2d_15\">\r\n      <g>\r\n       <use style=\"stroke:#000000;stroke-width:0.8;\" x=\"184.003125\" xlink:href=\"#mb8335691eb\" y=\"239.750625\"/>\r\n      </g>\r\n     </g>\r\n     <g id=\"text_15\">\r\n      <!-- 202003 -->\r\n      <g transform=\"translate(186.617188 279.7975)rotate(-90)scale(0.1 -0.1)\">\r\n       <use xlink:href=\"#MalgunGothic-50\"/>\r\n       <use x=\"55.078125\" xlink:href=\"#MalgunGothic-48\"/>\r\n       <use x=\"110.15625\" xlink:href=\"#MalgunGothic-50\"/>\r\n       <use x=\"165.234375\" xlink:href=\"#MalgunGothic-48\"/>\r\n       <use x=\"220.3125\" xlink:href=\"#MalgunGothic-48\"/>\r\n       <use x=\"275.390625\" xlink:href=\"#MalgunGothic-51\"/>\r\n      </g>\r\n     </g>\r\n    </g>\r\n    <g id=\"xtick_16\">\r\n     <g id=\"line2d_16\">\r\n      <g>\r\n       <use style=\"stroke:#000000;stroke-width:0.8;\" x=\"194.803125\" xlink:href=\"#mb8335691eb\" y=\"239.750625\"/>\r\n      </g>\r\n     </g>\r\n     <g id=\"text_16\">\r\n      <!-- 202004 -->\r\n      <g transform=\"translate(197.417187 279.7975)rotate(-90)scale(0.1 -0.1)\">\r\n       <use xlink:href=\"#MalgunGothic-50\"/>\r\n       <use x=\"55.078125\" xlink:href=\"#MalgunGothic-48\"/>\r\n       <use x=\"110.15625\" xlink:href=\"#MalgunGothic-50\"/>\r\n       <use x=\"165.234375\" xlink:href=\"#MalgunGothic-48\"/>\r\n       <use x=\"220.3125\" xlink:href=\"#MalgunGothic-48\"/>\r\n       <use x=\"275.390625\" xlink:href=\"#MalgunGothic-52\"/>\r\n      </g>\r\n     </g>\r\n    </g>\r\n    <g id=\"xtick_17\">\r\n     <g id=\"line2d_17\">\r\n      <g>\r\n       <use style=\"stroke:#000000;stroke-width:0.8;\" x=\"205.603125\" xlink:href=\"#mb8335691eb\" y=\"239.750625\"/>\r\n      </g>\r\n     </g>\r\n     <g id=\"text_17\">\r\n      <!-- 202005 -->\r\n      <g transform=\"translate(208.217187 279.7975)rotate(-90)scale(0.1 -0.1)\">\r\n       <use xlink:href=\"#MalgunGothic-50\"/>\r\n       <use x=\"55.078125\" xlink:href=\"#MalgunGothic-48\"/>\r\n       <use x=\"110.15625\" xlink:href=\"#MalgunGothic-50\"/>\r\n       <use x=\"165.234375\" xlink:href=\"#MalgunGothic-48\"/>\r\n       <use x=\"220.3125\" xlink:href=\"#MalgunGothic-48\"/>\r\n       <use x=\"275.390625\" xlink:href=\"#MalgunGothic-53\"/>\r\n      </g>\r\n     </g>\r\n    </g>\r\n    <g id=\"xtick_18\">\r\n     <g id=\"line2d_18\">\r\n      <g>\r\n       <use style=\"stroke:#000000;stroke-width:0.8;\" x=\"216.403125\" xlink:href=\"#mb8335691eb\" y=\"239.750625\"/>\r\n      </g>\r\n     </g>\r\n     <g id=\"text_18\">\r\n      <!-- 202006 -->\r\n      <g transform=\"translate(219.017188 279.7975)rotate(-90)scale(0.1 -0.1)\">\r\n       <use xlink:href=\"#MalgunGothic-50\"/>\r\n       <use x=\"55.078125\" xlink:href=\"#MalgunGothic-48\"/>\r\n       <use x=\"110.15625\" xlink:href=\"#MalgunGothic-50\"/>\r\n       <use x=\"165.234375\" xlink:href=\"#MalgunGothic-48\"/>\r\n       <use x=\"220.3125\" xlink:href=\"#MalgunGothic-48\"/>\r\n       <use x=\"275.390625\" xlink:href=\"#MalgunGothic-54\"/>\r\n      </g>\r\n     </g>\r\n    </g>\r\n    <g id=\"xtick_19\">\r\n     <g id=\"line2d_19\">\r\n      <g>\r\n       <use style=\"stroke:#000000;stroke-width:0.8;\" x=\"227.203125\" xlink:href=\"#mb8335691eb\" y=\"239.750625\"/>\r\n      </g>\r\n     </g>\r\n     <g id=\"text_19\">\r\n      <!-- 202007 -->\r\n      <g transform=\"translate(229.817187 279.7975)rotate(-90)scale(0.1 -0.1)\">\r\n       <use xlink:href=\"#MalgunGothic-50\"/>\r\n       <use x=\"55.078125\" xlink:href=\"#MalgunGothic-48\"/>\r\n       <use x=\"110.15625\" xlink:href=\"#MalgunGothic-50\"/>\r\n       <use x=\"165.234375\" xlink:href=\"#MalgunGothic-48\"/>\r\n       <use x=\"220.3125\" xlink:href=\"#MalgunGothic-48\"/>\r\n       <use x=\"275.390625\" xlink:href=\"#MalgunGothic-55\"/>\r\n      </g>\r\n     </g>\r\n    </g>\r\n    <g id=\"xtick_20\">\r\n     <g id=\"line2d_20\">\r\n      <g>\r\n       <use style=\"stroke:#000000;stroke-width:0.8;\" x=\"238.003125\" xlink:href=\"#mb8335691eb\" y=\"239.750625\"/>\r\n      </g>\r\n     </g>\r\n     <g id=\"text_20\">\r\n      <!-- 202008 -->\r\n      <g transform=\"translate(240.617188 279.7975)rotate(-90)scale(0.1 -0.1)\">\r\n       <use xlink:href=\"#MalgunGothic-50\"/>\r\n       <use x=\"55.078125\" xlink:href=\"#MalgunGothic-48\"/>\r\n       <use x=\"110.15625\" xlink:href=\"#MalgunGothic-50\"/>\r\n       <use x=\"165.234375\" xlink:href=\"#MalgunGothic-48\"/>\r\n       <use x=\"220.3125\" xlink:href=\"#MalgunGothic-48\"/>\r\n       <use x=\"275.390625\" xlink:href=\"#MalgunGothic-56\"/>\r\n      </g>\r\n     </g>\r\n    </g>\r\n    <g id=\"xtick_21\">\r\n     <g id=\"line2d_21\">\r\n      <g>\r\n       <use style=\"stroke:#000000;stroke-width:0.8;\" x=\"248.803125\" xlink:href=\"#mb8335691eb\" y=\"239.750625\"/>\r\n      </g>\r\n     </g>\r\n     <g id=\"text_21\">\r\n      <!-- 202009 -->\r\n      <g transform=\"translate(251.417187 279.7975)rotate(-90)scale(0.1 -0.1)\">\r\n       <use xlink:href=\"#MalgunGothic-50\"/>\r\n       <use x=\"55.078125\" xlink:href=\"#MalgunGothic-48\"/>\r\n       <use x=\"110.15625\" xlink:href=\"#MalgunGothic-50\"/>\r\n       <use x=\"165.234375\" xlink:href=\"#MalgunGothic-48\"/>\r\n       <use x=\"220.3125\" xlink:href=\"#MalgunGothic-48\"/>\r\n       <use x=\"275.390625\" xlink:href=\"#MalgunGothic-57\"/>\r\n      </g>\r\n     </g>\r\n    </g>\r\n    <g id=\"xtick_22\">\r\n     <g id=\"line2d_22\">\r\n      <g>\r\n       <use style=\"stroke:#000000;stroke-width:0.8;\" x=\"259.603125\" xlink:href=\"#mb8335691eb\" y=\"239.750625\"/>\r\n      </g>\r\n     </g>\r\n     <g id=\"text_22\">\r\n      <!-- 202010 -->\r\n      <g transform=\"translate(262.217188 279.7975)rotate(-90)scale(0.1 -0.1)\">\r\n       <use xlink:href=\"#MalgunGothic-50\"/>\r\n       <use x=\"55.078125\" xlink:href=\"#MalgunGothic-48\"/>\r\n       <use x=\"110.15625\" xlink:href=\"#MalgunGothic-50\"/>\r\n       <use x=\"165.234375\" xlink:href=\"#MalgunGothic-48\"/>\r\n       <use x=\"220.3125\" xlink:href=\"#MalgunGothic-49\"/>\r\n       <use x=\"275.390625\" xlink:href=\"#MalgunGothic-48\"/>\r\n      </g>\r\n     </g>\r\n    </g>\r\n    <g id=\"xtick_23\">\r\n     <g id=\"line2d_23\">\r\n      <g>\r\n       <use style=\"stroke:#000000;stroke-width:0.8;\" x=\"270.403125\" xlink:href=\"#mb8335691eb\" y=\"239.750625\"/>\r\n      </g>\r\n     </g>\r\n     <g id=\"text_23\">\r\n      <!-- 202011 -->\r\n      <g transform=\"translate(273.017188 279.7975)rotate(-90)scale(0.1 -0.1)\">\r\n       <use xlink:href=\"#MalgunGothic-50\"/>\r\n       <use x=\"55.078125\" xlink:href=\"#MalgunGothic-48\"/>\r\n       <use x=\"110.15625\" xlink:href=\"#MalgunGothic-50\"/>\r\n       <use x=\"165.234375\" xlink:href=\"#MalgunGothic-48\"/>\r\n       <use x=\"220.3125\" xlink:href=\"#MalgunGothic-49\"/>\r\n       <use x=\"275.390625\" xlink:href=\"#MalgunGothic-49\"/>\r\n      </g>\r\n     </g>\r\n    </g>\r\n    <g id=\"xtick_24\">\r\n     <g id=\"line2d_24\">\r\n      <g>\r\n       <use style=\"stroke:#000000;stroke-width:0.8;\" x=\"281.203125\" xlink:href=\"#mb8335691eb\" y=\"239.750625\"/>\r\n      </g>\r\n     </g>\r\n     <g id=\"text_24\">\r\n      <!-- 202012 -->\r\n      <g transform=\"translate(283.817187 279.7975)rotate(-90)scale(0.1 -0.1)\">\r\n       <use xlink:href=\"#MalgunGothic-50\"/>\r\n       <use x=\"55.078125\" xlink:href=\"#MalgunGothic-48\"/>\r\n       <use x=\"110.15625\" xlink:href=\"#MalgunGothic-50\"/>\r\n       <use x=\"165.234375\" xlink:href=\"#MalgunGothic-48\"/>\r\n       <use x=\"220.3125\" xlink:href=\"#MalgunGothic-49\"/>\r\n       <use x=\"275.390625\" xlink:href=\"#MalgunGothic-50\"/>\r\n      </g>\r\n     </g>\r\n    </g>\r\n    <g id=\"xtick_25\">\r\n     <g id=\"line2d_25\">\r\n      <g>\r\n       <use style=\"stroke:#000000;stroke-width:0.8;\" x=\"292.003125\" xlink:href=\"#mb8335691eb\" y=\"239.750625\"/>\r\n      </g>\r\n     </g>\r\n     <g id=\"text_25\">\r\n      <!-- 202101 -->\r\n      <g transform=\"translate(294.617188 279.7975)rotate(-90)scale(0.1 -0.1)\">\r\n       <use xlink:href=\"#MalgunGothic-50\"/>\r\n       <use x=\"55.078125\" xlink:href=\"#MalgunGothic-48\"/>\r\n       <use x=\"110.15625\" xlink:href=\"#MalgunGothic-50\"/>\r\n       <use x=\"165.234375\" xlink:href=\"#MalgunGothic-49\"/>\r\n       <use x=\"220.3125\" xlink:href=\"#MalgunGothic-48\"/>\r\n       <use x=\"275.390625\" xlink:href=\"#MalgunGothic-49\"/>\r\n      </g>\r\n     </g>\r\n    </g>\r\n    <g id=\"xtick_26\">\r\n     <g id=\"line2d_26\">\r\n      <g>\r\n       <use style=\"stroke:#000000;stroke-width:0.8;\" x=\"302.803125\" xlink:href=\"#mb8335691eb\" y=\"239.750625\"/>\r\n      </g>\r\n     </g>\r\n     <g id=\"text_26\">\r\n      <!-- 202102 -->\r\n      <g transform=\"translate(305.417188 279.7975)rotate(-90)scale(0.1 -0.1)\">\r\n       <use xlink:href=\"#MalgunGothic-50\"/>\r\n       <use x=\"55.078125\" xlink:href=\"#MalgunGothic-48\"/>\r\n       <use x=\"110.15625\" xlink:href=\"#MalgunGothic-50\"/>\r\n       <use x=\"165.234375\" xlink:href=\"#MalgunGothic-49\"/>\r\n       <use x=\"220.3125\" xlink:href=\"#MalgunGothic-48\"/>\r\n       <use x=\"275.390625\" xlink:href=\"#MalgunGothic-50\"/>\r\n      </g>\r\n     </g>\r\n    </g>\r\n    <g id=\"xtick_27\">\r\n     <g id=\"line2d_27\">\r\n      <g>\r\n       <use style=\"stroke:#000000;stroke-width:0.8;\" x=\"313.603125\" xlink:href=\"#mb8335691eb\" y=\"239.750625\"/>\r\n      </g>\r\n     </g>\r\n     <g id=\"text_27\">\r\n      <!-- 202103 -->\r\n      <g transform=\"translate(316.217188 279.7975)rotate(-90)scale(0.1 -0.1)\">\r\n       <use xlink:href=\"#MalgunGothic-50\"/>\r\n       <use x=\"55.078125\" xlink:href=\"#MalgunGothic-48\"/>\r\n       <use x=\"110.15625\" xlink:href=\"#MalgunGothic-50\"/>\r\n       <use x=\"165.234375\" xlink:href=\"#MalgunGothic-49\"/>\r\n       <use x=\"220.3125\" xlink:href=\"#MalgunGothic-48\"/>\r\n       <use x=\"275.390625\" xlink:href=\"#MalgunGothic-51\"/>\r\n      </g>\r\n     </g>\r\n    </g>\r\n    <g id=\"xtick_28\">\r\n     <g id=\"line2d_28\">\r\n      <g>\r\n       <use style=\"stroke:#000000;stroke-width:0.8;\" x=\"324.403125\" xlink:href=\"#mb8335691eb\" y=\"239.750625\"/>\r\n      </g>\r\n     </g>\r\n     <g id=\"text_28\">\r\n      <!-- 202104 -->\r\n      <g transform=\"translate(327.017188 279.7975)rotate(-90)scale(0.1 -0.1)\">\r\n       <use xlink:href=\"#MalgunGothic-50\"/>\r\n       <use x=\"55.078125\" xlink:href=\"#MalgunGothic-48\"/>\r\n       <use x=\"110.15625\" xlink:href=\"#MalgunGothic-50\"/>\r\n       <use x=\"165.234375\" xlink:href=\"#MalgunGothic-49\"/>\r\n       <use x=\"220.3125\" xlink:href=\"#MalgunGothic-48\"/>\r\n       <use x=\"275.390625\" xlink:href=\"#MalgunGothic-52\"/>\r\n      </g>\r\n     </g>\r\n    </g>\r\n    <g id=\"xtick_29\">\r\n     <g id=\"line2d_29\">\r\n      <g>\r\n       <use style=\"stroke:#000000;stroke-width:0.8;\" x=\"335.203125\" xlink:href=\"#mb8335691eb\" y=\"239.750625\"/>\r\n      </g>\r\n     </g>\r\n     <g id=\"text_29\">\r\n      <!-- 202105 -->\r\n      <g transform=\"translate(337.817188 279.7975)rotate(-90)scale(0.1 -0.1)\">\r\n       <use xlink:href=\"#MalgunGothic-50\"/>\r\n       <use x=\"55.078125\" xlink:href=\"#MalgunGothic-48\"/>\r\n       <use x=\"110.15625\" xlink:href=\"#MalgunGothic-50\"/>\r\n       <use x=\"165.234375\" xlink:href=\"#MalgunGothic-49\"/>\r\n       <use x=\"220.3125\" xlink:href=\"#MalgunGothic-48\"/>\r\n       <use x=\"275.390625\" xlink:href=\"#MalgunGothic-53\"/>\r\n      </g>\r\n     </g>\r\n    </g>\r\n    <g id=\"xtick_30\">\r\n     <g id=\"line2d_30\">\r\n      <g>\r\n       <use style=\"stroke:#000000;stroke-width:0.8;\" x=\"346.003125\" xlink:href=\"#mb8335691eb\" y=\"239.750625\"/>\r\n      </g>\r\n     </g>\r\n     <g id=\"text_30\">\r\n      <!-- 202106 -->\r\n      <g transform=\"translate(348.617188 279.7975)rotate(-90)scale(0.1 -0.1)\">\r\n       <use xlink:href=\"#MalgunGothic-50\"/>\r\n       <use x=\"55.078125\" xlink:href=\"#MalgunGothic-48\"/>\r\n       <use x=\"110.15625\" xlink:href=\"#MalgunGothic-50\"/>\r\n       <use x=\"165.234375\" xlink:href=\"#MalgunGothic-49\"/>\r\n       <use x=\"220.3125\" xlink:href=\"#MalgunGothic-48\"/>\r\n       <use x=\"275.390625\" xlink:href=\"#MalgunGothic-54\"/>\r\n      </g>\r\n     </g>\r\n    </g>\r\n    <g id=\"xtick_31\">\r\n     <g id=\"line2d_31\">\r\n      <g>\r\n       <use style=\"stroke:#000000;stroke-width:0.8;\" x=\"356.803125\" xlink:href=\"#mb8335691eb\" y=\"239.750625\"/>\r\n      </g>\r\n     </g>\r\n     <g id=\"text_31\">\r\n      <!-- 202107 -->\r\n      <g transform=\"translate(359.417188 279.7975)rotate(-90)scale(0.1 -0.1)\">\r\n       <use xlink:href=\"#MalgunGothic-50\"/>\r\n       <use x=\"55.078125\" xlink:href=\"#MalgunGothic-48\"/>\r\n       <use x=\"110.15625\" xlink:href=\"#MalgunGothic-50\"/>\r\n       <use x=\"165.234375\" xlink:href=\"#MalgunGothic-49\"/>\r\n       <use x=\"220.3125\" xlink:href=\"#MalgunGothic-48\"/>\r\n       <use x=\"275.390625\" xlink:href=\"#MalgunGothic-55\"/>\r\n      </g>\r\n     </g>\r\n    </g>\r\n    <g id=\"text_32\">\r\n     <!-- year -->\r\n     <g transform=\"translate(185.321094 291.336562)scale(0.1 -0.1)\">\r\n      <defs>\r\n       <path d=\"M 48.734375 51.3125 \r\nL 24.953125 -8.5 \r\nQ 18.703125 -24.171875 7.515625 -24.171875 \r\nQ 4.890625 -24.171875 2.4375 -23.578125 \r\nL 2.4375 -16.5 \r\nQ 4.9375 -17.328125 7.171875 -17.328125 \r\nQ 13.421875 -17.328125 16.546875 -9.8125 \r\nL 20.75 0.09375 \r\nL 0.734375 51.3125 \r\nL 9.328125 51.3125 \r\nL 23.484375 11.28125 \r\nQ 23.640625 10.890625 24.5625 7.625 \r\nL 24.8125 7.625 \r\nL 25.78125 11.1875 \r\nL 40.671875 51.3125 \r\nz\r\n\" id=\"MalgunGothic-121\"/>\r\n       <path d=\"M 49.3125 23.734375 \r\nL 12.9375 23.734375 \r\nQ 13.1875 14.84375 17.703125 10.125 \r\nQ 22.21875 5.421875 29.828125 5.421875 \r\nQ 38.625 5.421875 45.84375 11.234375 \r\nL 45.84375 3.8125 \r\nQ 38.96875 -1.21875 28.03125 -1.21875 \r\nQ 17.1875 -1.21875 11.0625 5.875 \r\nQ 4.9375 12.984375 4.9375 25.53125 \r\nQ 4.9375 37.203125 11.671875 44.84375 \r\nQ 18.40625 52.484375 28.375 52.484375 \r\nQ 38.328125 52.484375 43.8125 45.96875 \r\nQ 49.3125 39.453125 49.3125 27.9375 \r\nz\r\nM 41.3125 30.5625 \r\nQ 41.3125 37.75 37.859375 41.796875 \r\nQ 34.421875 45.84375 28.265625 45.84375 \r\nQ 22.46875 45.84375 18.265625 41.671875 \r\nQ 14.0625 37.5 13.03125 30.5625 \r\nz\r\n\" id=\"MalgunGothic-101\"/>\r\n       <path d=\"M 9.625 47.65625 \r\nQ 17.140625 52.484375 26.90625 52.484375 \r\nQ 44.78125 52.484375 44.78125 33.546875 \r\nL 44.78125 0 \r\nL 37.015625 0 \r\nL 37.015625 8.0625 \r\nL 36.71875 8.0625 \r\nQ 31.390625 -1.21875 20.953125 -1.21875 \r\nQ 13.421875 -1.21875 9 2.8125 \r\nQ 4.59375 6.84375 4.59375 13.578125 \r\nQ 4.59375 27.875 21.484375 30.21875 \r\nL 36.96875 32.46875 \r\nQ 36.96875 45.84375 26.3125 45.84375 \r\nQ 16.9375 45.84375 9.625 39.453125 \r\nz\r\nM 24.421875 24.359375 \r\nQ 18.40625 23.578125 15.515625 21.421875 \r\nQ 12.640625 19.28125 12.640625 14.109375 \r\nQ 12.640625 10.203125 15.40625 7.8125 \r\nQ 18.171875 5.421875 22.65625 5.421875 \r\nQ 28.859375 5.421875 32.90625 9.8125 \r\nQ 36.96875 14.203125 36.96875 20.84375 \r\nL 36.96875 26.03125 \r\nz\r\n\" id=\"MalgunGothic-97\"/>\r\n       <path d=\"M 34.765625 43.359375 \r\nQ 32.5625 45.015625 28.5625 45.015625 \r\nQ 23.296875 45.015625 19.71875 39.890625 \r\nQ 16.15625 34.765625 16.15625 26.265625 \r\nL 16.15625 0 \r\nL 8.40625 0 \r\nL 8.40625 51.3125 \r\nL 16.15625 51.3125 \r\nL 16.15625 40.671875 \r\nL 16.359375 40.671875 \r\nQ 18.109375 46.09375 21.703125 49.140625 \r\nQ 25.296875 52.203125 29.734375 52.203125 \r\nQ 32.953125 52.203125 34.765625 51.515625 \r\nz\r\n\" id=\"MalgunGothic-114\"/>\r\n      </defs>\r\n      <use xlink:href=\"#MalgunGothic-121\"/>\r\n      <use x=\"48.767578\" xlink:href=\"#MalgunGothic-101\"/>\r\n      <use x=\"102.283203\" xlink:href=\"#MalgunGothic-97\"/>\r\n      <use x=\"154.285156\" xlink:href=\"#MalgunGothic-114\"/>\r\n     </g>\r\n    </g>\r\n   </g>\r\n   <g id=\"matplotlib.axis_2\">\r\n    <g id=\"ytick_1\">\r\n     <g id=\"line2d_32\">\r\n      <defs>\r\n       <path d=\"M 0 0 \r\nL -3.5 0 \r\n\" id=\"m9669e0d8e4\" style=\"stroke:#000000;stroke-width:0.8;\"/>\r\n      </defs>\r\n      <g>\r\n       <use style=\"stroke:#000000;stroke-width:0.8;\" x=\"27.403125\" xlink:href=\"#m9669e0d8e4\" y=\"239.750625\"/>\r\n      </g>\r\n     </g>\r\n     <g id=\"text_33\">\r\n      <!-- 0.0 -->\r\n      <g transform=\"translate(7.2 243.546719)scale(0.1 -0.1)\">\r\n       <defs>\r\n        <path d=\"M 5.5625 4.296875 \r\nQ 5.5625 6.59375 7.171875 8.171875 \r\nQ 8.796875 9.765625 10.9375 9.765625 \r\nQ 13.09375 9.765625 14.703125 8.171875 \r\nQ 16.3125 6.59375 16.3125 4.296875 \r\nQ 16.3125 2.15625 14.71875 0.515625 \r\nQ 13.140625 -1.125 10.9375 -1.125 \r\nQ 8.734375 -1.125 7.140625 0.453125 \r\nQ 5.5625 2.046875 5.5625 4.296875 \r\nz\r\n\" id=\"MalgunGothic-46\"/>\r\n       </defs>\r\n       <use xlink:href=\"#MalgunGothic-48\"/>\r\n       <use x=\"55.078125\" xlink:href=\"#MalgunGothic-46\"/>\r\n       <use x=\"76.953125\" xlink:href=\"#MalgunGothic-48\"/>\r\n      </g>\r\n     </g>\r\n    </g>\r\n    <g id=\"ytick_2\">\r\n     <g id=\"line2d_33\">\r\n      <g>\r\n       <use style=\"stroke:#000000;stroke-width:0.8;\" x=\"27.403125\" xlink:href=\"#m9669e0d8e4\" y=\"211.6622\"/>\r\n      </g>\r\n     </g>\r\n     <g id=\"text_34\">\r\n      <!-- 0.2 -->\r\n      <g transform=\"translate(7.2 215.458293)scale(0.1 -0.1)\">\r\n       <use xlink:href=\"#MalgunGothic-48\"/>\r\n       <use x=\"55.078125\" xlink:href=\"#MalgunGothic-46\"/>\r\n       <use x=\"76.953125\" xlink:href=\"#MalgunGothic-50\"/>\r\n      </g>\r\n     </g>\r\n    </g>\r\n    <g id=\"ytick_3\">\r\n     <g id=\"line2d_34\">\r\n      <g>\r\n       <use style=\"stroke:#000000;stroke-width:0.8;\" x=\"27.403125\" xlink:href=\"#m9669e0d8e4\" y=\"183.573774\"/>\r\n      </g>\r\n     </g>\r\n     <g id=\"text_35\">\r\n      <!-- 0.4 -->\r\n      <g transform=\"translate(7.2 187.369868)scale(0.1 -0.1)\">\r\n       <use xlink:href=\"#MalgunGothic-48\"/>\r\n       <use x=\"55.078125\" xlink:href=\"#MalgunGothic-46\"/>\r\n       <use x=\"76.953125\" xlink:href=\"#MalgunGothic-52\"/>\r\n      </g>\r\n     </g>\r\n    </g>\r\n    <g id=\"ytick_4\">\r\n     <g id=\"line2d_35\">\r\n      <g>\r\n       <use style=\"stroke:#000000;stroke-width:0.8;\" x=\"27.403125\" xlink:href=\"#m9669e0d8e4\" y=\"155.485349\"/>\r\n      </g>\r\n     </g>\r\n     <g id=\"text_36\">\r\n      <!-- 0.6 -->\r\n      <g transform=\"translate(7.2 159.281442)scale(0.1 -0.1)\">\r\n       <use xlink:href=\"#MalgunGothic-48\"/>\r\n       <use x=\"55.078125\" xlink:href=\"#MalgunGothic-46\"/>\r\n       <use x=\"76.953125\" xlink:href=\"#MalgunGothic-54\"/>\r\n      </g>\r\n     </g>\r\n    </g>\r\n    <g id=\"ytick_5\">\r\n     <g id=\"line2d_36\">\r\n      <g>\r\n       <use style=\"stroke:#000000;stroke-width:0.8;\" x=\"27.403125\" xlink:href=\"#m9669e0d8e4\" y=\"127.396923\"/>\r\n      </g>\r\n     </g>\r\n     <g id=\"text_37\">\r\n      <!-- 0.8 -->\r\n      <g transform=\"translate(7.2 131.193017)scale(0.1 -0.1)\">\r\n       <use xlink:href=\"#MalgunGothic-48\"/>\r\n       <use x=\"55.078125\" xlink:href=\"#MalgunGothic-46\"/>\r\n       <use x=\"76.953125\" xlink:href=\"#MalgunGothic-56\"/>\r\n      </g>\r\n     </g>\r\n    </g>\r\n    <g id=\"ytick_6\">\r\n     <g id=\"line2d_37\">\r\n      <g>\r\n       <use style=\"stroke:#000000;stroke-width:0.8;\" x=\"27.403125\" xlink:href=\"#m9669e0d8e4\" y=\"99.308498\"/>\r\n      </g>\r\n     </g>\r\n     <g id=\"text_38\">\r\n      <!-- 1.0 -->\r\n      <g transform=\"translate(7.2 103.104591)scale(0.1 -0.1)\">\r\n       <use xlink:href=\"#MalgunGothic-49\"/>\r\n       <use x=\"55.078125\" xlink:href=\"#MalgunGothic-46\"/>\r\n       <use x=\"76.953125\" xlink:href=\"#MalgunGothic-48\"/>\r\n      </g>\r\n     </g>\r\n    </g>\r\n    <g id=\"ytick_7\">\r\n     <g id=\"line2d_38\">\r\n      <g>\r\n       <use style=\"stroke:#000000;stroke-width:0.8;\" x=\"27.403125\" xlink:href=\"#m9669e0d8e4\" y=\"71.220072\"/>\r\n      </g>\r\n     </g>\r\n     <g id=\"text_39\">\r\n      <!-- 1.2 -->\r\n      <g transform=\"translate(7.2 75.016166)scale(0.1 -0.1)\">\r\n       <use xlink:href=\"#MalgunGothic-49\"/>\r\n       <use x=\"55.078125\" xlink:href=\"#MalgunGothic-46\"/>\r\n       <use x=\"76.953125\" xlink:href=\"#MalgunGothic-50\"/>\r\n      </g>\r\n     </g>\r\n    </g>\r\n    <g id=\"ytick_8\">\r\n     <g id=\"line2d_39\">\r\n      <g>\r\n       <use style=\"stroke:#000000;stroke-width:0.8;\" x=\"27.403125\" xlink:href=\"#m9669e0d8e4\" y=\"43.131647\"/>\r\n      </g>\r\n     </g>\r\n     <g id=\"text_40\">\r\n      <!-- 1.4 -->\r\n      <g transform=\"translate(7.2 46.927741)scale(0.1 -0.1)\">\r\n       <use xlink:href=\"#MalgunGothic-49\"/>\r\n       <use x=\"55.078125\" xlink:href=\"#MalgunGothic-46\"/>\r\n       <use x=\"76.953125\" xlink:href=\"#MalgunGothic-52\"/>\r\n      </g>\r\n     </g>\r\n    </g>\r\n    <g id=\"text_41\">\r\n     <!-- 1e8 -->\r\n     <g transform=\"translate(27.403125 19.310625)scale(0.1 -0.1)\">\r\n      <use xlink:href=\"#MalgunGothic-49\"/>\r\n      <use x=\"55.078125\" xlink:href=\"#MalgunGothic-101\"/>\r\n      <use x=\"108.59375\" xlink:href=\"#MalgunGothic-56\"/>\r\n     </g>\r\n    </g>\r\n   </g>\r\n   <g id=\"patch_65\">\r\n    <path d=\"M 27.403125 239.750625 \r\nL 27.403125 22.310625 \r\n\" style=\"fill:none;stroke:#000000;stroke-linecap:square;stroke-linejoin:miter;stroke-width:0.8;\"/>\r\n   </g>\r\n   <g id=\"patch_66\">\r\n    <path d=\"M 362.203125 239.750625 \r\nL 362.203125 22.310625 \r\n\" style=\"fill:none;stroke:#000000;stroke-linecap:square;stroke-linejoin:miter;stroke-width:0.8;\"/>\r\n   </g>\r\n   <g id=\"patch_67\">\r\n    <path d=\"M 27.403125 239.750625 \r\nL 362.203125 239.750625 \r\n\" style=\"fill:none;stroke:#000000;stroke-linecap:square;stroke-linejoin:miter;stroke-width:0.8;\"/>\r\n   </g>\r\n   <g id=\"patch_68\">\r\n    <path d=\"M 27.403125 22.310625 \r\nL 362.203125 22.310625 \r\n\" style=\"fill:none;stroke:#000000;stroke-linecap:square;stroke-linejoin:miter;stroke-width:0.8;\"/>\r\n   </g>\r\n   <g id=\"text_42\">\r\n    <!-- 월별 버스이용객 현황 -->\r\n    <g transform=\"translate(136.584375 16.310625)scale(0.12 -0.12)\">\r\n     <defs>\r\n      <path d=\"M 77.875 29.5 \r\nL 77.875 33.203125 \r\nL 57.90625 33.203125 \r\nL 57.90625 39.203125 \r\nL 77.875 39.203125 \r\nL 77.875 85.40625 \r\nL 85.203125 85.40625 \r\nL 85.203125 29.5 \r\nz\r\nM 40.484375 54.890625 \r\nQ 29.59375 54.890625 23.296875 58.890625 \r\nQ 17 62.890625 17 69.921875 \r\nQ 17 76.953125 23.34375 80.921875 \r\nQ 29.6875 84.90625 40.484375 84.90625 \r\nQ 51.265625 84.90625 57.640625 80.953125 \r\nQ 64.015625 77 64.015625 69.921875 \r\nQ 64.015625 62.796875 57.6875 58.84375 \r\nQ 51.375 54.890625 40.484375 54.890625 \r\nz\r\nM 40.484375 79 \r\nQ 33.015625 79 28.65625 76.53125 \r\nQ 24.3125 74.078125 24.3125 69.921875 \r\nQ 24.3125 65.71875 28.6875 63.25 \r\nQ 33.0625 60.796875 40.484375 60.796875 \r\nQ 47.953125 60.796875 52.359375 63.234375 \r\nQ 56.78125 65.671875 56.78125 69.921875 \r\nQ 56.78125 74.078125 52.390625 76.53125 \r\nQ 48 79 40.484375 79 \r\nz\r\nM 70.703125 44.828125 \r\nQ 52.203125 43.609375 44.09375 43.5 \r\nL 44.09375 29.890625 \r\nL 36.921875 29.890625 \r\nL 36.921875 43.21875 \r\nL 10.203125 42.28125 \r\nL 9.078125 48.78125 \r\nQ 30.859375 48.78125 70.21875 50.875 \r\nz\r\nM 24.515625 -6.984375 \r\nL 24.515625 12.59375 \r\nL 78.078125 12.59375 \r\nL 78.078125 19.1875 \r\nL 24.515625 19.1875 \r\nL 24.515625 25.59375 \r\nL 85.296875 25.59375 \r\nL 85.296875 6.5 \r\nL 31.6875 6.5 \r\nL 31.6875 -0.59375 \r\nL 87.796875 -0.59375 \r\nL 87.796875 -6.984375 \r\nz\r\n\" id=\"MalgunGothic-50900\"/>\r\n      <path d=\"M 16.21875 40.28125 \r\nL 16.21875 82.625 \r\nL 23.390625 82.625 \r\nL 23.390625 67.09375 \r\nL 52.59375 67.09375 \r\nL 52.59375 82.625 \r\nL 59.8125 82.625 \r\nL 59.8125 72.90625 \r\nL 77.296875 72.90625 \r\nL 77.296875 85.40625 \r\nL 84.625 85.40625 \r\nL 84.625 35.296875 \r\nL 77.296875 35.296875 \r\nL 77.296875 48.875 \r\nL 59.8125 48.875 \r\nL 59.8125 40.28125 \r\nz\r\nM 59.8125 66.609375 \r\nL 59.8125 55.078125 \r\nL 77.296875 55.078125 \r\nL 77.296875 66.609375 \r\nz\r\nM 52.59375 60.6875 \r\nL 23.390625 60.6875 \r\nL 23.390625 46.78125 \r\nL 52.59375 46.78125 \r\nz\r\nM 27 -7.625 \r\nL 27 14.796875 \r\nL 77.390625 14.796875 \r\nL 77.390625 23.6875 \r\nL 27 23.6875 \r\nL 27 30.078125 \r\nL 84.625 30.078125 \r\nL 84.625 8.59375 \r\nL 34.28125 8.59375 \r\nL 34.28125 -1.125 \r\nL 87.203125 -1.125 \r\nL 87.203125 -7.625 \r\nz\r\n\" id=\"MalgunGothic-48324\"/>\r\n      <path id=\"MalgunGothic-32\"/>\r\n      <path d=\"M 12.59375 16.5 \r\nL 12.59375 78.328125 \r\nL 19.921875 78.328125 \r\nL 19.921875 52.78125 \r\nL 50.09375 52.78125 \r\nL 50.09375 78.328125 \r\nL 57.421875 78.328125 \r\nL 57.421875 50.390625 \r\nL 76.515625 50.390625 \r\nL 76.515625 85.40625 \r\nL 83.796875 85.40625 \r\nL 83.796875 -8.796875 \r\nL 76.515625 -8.796875 \r\nL 76.515625 43.796875 \r\nL 57.421875 43.796875 \r\nL 57.421875 16.5 \r\nz\r\nM 50.09375 46.296875 \r\nL 19.921875 46.296875 \r\nL 19.921875 22.90625 \r\nL 50.09375 22.90625 \r\nz\r\n\" id=\"MalgunGothic-48260\"/>\r\n      <path d=\"M 49.90625 60.890625 \r\nQ 46.390625 53.375 36.375 45.78125 \r\nQ 26.375 38.1875 14.984375 35.109375 \r\nL 10.015625 40.921875 \r\nQ 26.609375 44.390625 36.390625 54.25 \r\nQ 46.1875 64.109375 46.1875 72.796875 \r\nL 46.1875 77.78125 \r\nL 53.71875 77.78125 \r\nL 53.71875 72.796875 \r\nQ 53.71875 63.96875 63.640625 54.3125 \r\nQ 73.578125 44.671875 89.984375 41.015625 \r\nL 84.8125 35.203125 \r\nQ 73.34375 38.765625 63.40625 46.1875 \r\nQ 53.46875 53.609375 49.90625 60.890625 \r\nz\r\nM 93.703125 6.984375 \r\nL 6.296875 6.984375 \r\nL 6.296875 13.484375 \r\nL 93.703125 13.484375 \r\nz\r\n\" id=\"MalgunGothic-49828\"/>\r\n      <path d=\"M 77.296875 -8.796875 \r\nL 77.296875 85.40625 \r\nL 84.625 85.40625 \r\nL 84.625 -8.796875 \r\nz\r\nM 35.6875 14.984375 \r\nQ 24.953125 14.984375 18.328125 23.65625 \r\nQ 11.71875 32.328125 11.71875 47.125 \r\nQ 11.71875 62.109375 18.265625 70.65625 \r\nQ 24.8125 79.203125 35.6875 79.203125 \r\nQ 46.53125 79.203125 53.171875 70.65625 \r\nQ 59.8125 62.109375 59.8125 47.125 \r\nQ 59.8125 32.234375 53.140625 23.609375 \r\nQ 46.484375 14.984375 35.6875 14.984375 \r\nz\r\nM 35.6875 72.703125 \r\nQ 28.171875 72.703125 23.484375 65.6875 \r\nQ 18.796875 58.6875 18.796875 47.125 \r\nQ 18.796875 35.59375 23.53125 28.53125 \r\nQ 28.265625 21.484375 35.6875 21.484375 \r\nQ 43.0625 21.484375 47.828125 28.5625 \r\nQ 52.59375 35.640625 52.59375 47.125 \r\nQ 52.59375 58.734375 47.921875 65.71875 \r\nQ 43.265625 72.703125 35.6875 72.703125 \r\nz\r\n\" id=\"MalgunGothic-51060\"/>\r\n      <path d=\"M 29.6875 52.78125 \r\nQ 20.125 57.46875 20.125 66.703125 \r\nQ 20.125 75.046875 27.875 79.609375 \r\nQ 35.640625 84.1875 50 84.1875 \r\nQ 64.359375 84.1875 72.125 79.609375 \r\nQ 79.890625 75.046875 79.890625 66.703125 \r\nQ 79.890625 57.328125 70.21875 52.78125 \r\nL 70.21875 39.40625 \r\nL 93.703125 39.40625 \r\nL 93.703125 32.90625 \r\nL 6.296875 32.90625 \r\nL 6.296875 39.40625 \r\nL 29.6875 39.40625 \r\nz\r\nM 50 77.984375 \r\nQ 27.6875 77.984375 27.6875 66.703125 \r\nQ 27.6875 61.375 33.21875 58.390625 \r\nQ 38.765625 55.421875 50 55.421875 \r\nQ 61.234375 55.421875 66.765625 58.390625 \r\nQ 72.3125 61.375 72.3125 66.703125 \r\nQ 72.3125 77.984375 50 77.984375 \r\nz\r\nM 37.015625 39.40625 \r\nL 62.890625 39.40625 \r\nL 62.890625 50.390625 \r\nQ 57.46875 49.21875 50 49.21875 \r\nQ 43.0625 49.21875 37.015625 50.484375 \r\nz\r\nM 50 -8.296875 \r\nQ 35.296875 -8.296875 27.5625 -3.65625 \r\nQ 19.828125 0.984375 19.828125 9.078125 \r\nQ 19.828125 17.28125 27.609375 21.9375 \r\nQ 35.40625 26.609375 50 26.609375 \r\nQ 64.59375 26.609375 72.375 21.9375 \r\nQ 80.171875 17.28125 80.171875 9.078125 \r\nQ 80.171875 0.984375 72.4375 -3.65625 \r\nQ 64.703125 -8.296875 50 -8.296875 \r\nz\r\nM 50 20.40625 \r\nQ 38.8125 20.40625 33.09375 17.375 \r\nQ 27.390625 14.359375 27.390625 9.078125 \r\nQ 27.390625 3.8125 33.078125 0.859375 \r\nQ 38.765625 -2.09375 50 -2.09375 \r\nQ 61.1875 -2.09375 66.890625 0.859375 \r\nQ 72.609375 3.8125 72.609375 9.078125 \r\nQ 72.609375 14.40625 66.875 17.40625 \r\nQ 61.140625 20.40625 50 20.40625 \r\nz\r\n\" id=\"MalgunGothic-50857\"/>\r\n      <path d=\"M 79 31.78125 \r\nL 79 53.71875 \r\nL 68.015625 53.71875 \r\nL 68.015625 31.78125 \r\nL 60.796875 31.78125 \r\nL 60.796875 83.5 \r\nL 68.015625 83.5 \r\nL 68.015625 60.296875 \r\nL 79 60.296875 \r\nL 79 85.40625 \r\nL 86.28125 85.40625 \r\nL 86.28125 31.78125 \r\nz\r\nM 50.390625 80.515625 \r\nQ 49.5625 49.265625 13.8125 30.90625 \r\nL 8.5 36.53125 \r\nQ 23.1875 42.78125 32.078125 52.609375 \r\nQ 40.96875 62.453125 42.484375 74.03125 \r\nL 12.703125 74.03125 \r\nL 12.703125 80.515625 \r\nz\r\nM 79 -8.796875 \r\nL 79 20.015625 \r\nL 24.703125 20.015625 \r\nL 24.703125 26.609375 \r\nL 86.28125 26.609375 \r\nL 86.28125 -8.796875 \r\nz\r\n\" id=\"MalgunGothic-44061\"/>\r\n      <path d=\"M 61.71875 31 \r\nL 61.71875 37.3125 \r\nL 77.296875 37.3125 \r\nL 77.296875 51.3125 \r\nL 61.71875 51.3125 \r\nL 61.71875 57.71875 \r\nL 77.296875 57.71875 \r\nL 77.296875 85.40625 \r\nL 84.625 85.40625 \r\nL 84.625 14.890625 \r\nL 77.296875 14.890625 \r\nL 77.296875 31 \r\nz\r\nM 7.71875 65.828125 \r\nL 7.71875 72.3125 \r\nL 31.6875 72.3125 \r\nL 31.6875 84.71875 \r\nL 38.921875 84.71875 \r\nL 38.921875 72.3125 \r\nL 62.890625 72.3125 \r\nL 62.890625 65.828125 \r\nz\r\nM 35.203125 27.09375 \r\nQ 24.65625 27.09375 18.578125 32.046875 \r\nQ 12.5 37.015625 12.5 44.09375 \r\nQ 12.5 51.171875 18.625 56.078125 \r\nQ 24.75 60.984375 35.296875 60.984375 \r\nQ 45.75 60.984375 51.875 56.078125 \r\nQ 58.015625 51.171875 58.015625 44.09375 \r\nQ 58.015625 37.015625 51.921875 32.046875 \r\nQ 45.84375 27.09375 35.203125 27.09375 \r\nz\r\nM 35.296875 54.78125 \r\nQ 28.171875 54.78125 24 51.734375 \r\nQ 19.828125 48.6875 19.828125 44.09375 \r\nQ 19.828125 39.453125 24.046875 36.375 \r\nQ 28.265625 33.296875 35.296875 33.296875 \r\nQ 42.390625 33.296875 46.53125 36.390625 \r\nQ 50.6875 39.5 50.6875 44.09375 \r\nQ 50.6875 48.640625 46.5625 51.703125 \r\nQ 42.4375 54.78125 35.296875 54.78125 \r\nz\r\nM 24.703125 -6.203125 \r\nL 24.703125 19.578125 \r\nL 31.890625 19.578125 \r\nL 31.890625 0.203125 \r\nL 87.109375 0.203125 \r\nL 87.109375 -6.203125 \r\nz\r\n\" id=\"MalgunGothic-54788\"/>\r\n      <path d=\"M 9.515625 70.21875 \r\nL 9.515625 76.609375 \r\nL 33.6875 76.609375 \r\nL 33.6875 86.1875 \r\nL 40.921875 86.1875 \r\nL 40.921875 76.609375 \r\nL 64.984375 76.609375 \r\nL 64.984375 70.21875 \r\nz\r\nM 81.5 48.296875 \r\nL 81.5 23 \r\nL 74.3125 23 \r\nL 74.3125 85.40625 \r\nL 81.5 85.40625 \r\nL 81.5 54.78125 \r\nL 95.609375 54.78125 \r\nL 95.609375 48.296875 \r\nz\r\nM 67.921875 28.328125 \r\nQ 56.6875 27.484375 36.453125 27 \r\nQ 16.21875 26.515625 7.421875 26.515625 \r\nL 6.6875 32.8125 \r\nQ 17.046875 32.8125 33.59375 33.203125 \r\nL 33.59375 39.890625 \r\nQ 23.734375 40.53125 18.828125 44.140625 \r\nQ 13.921875 47.75 13.921875 53.421875 \r\nQ 13.921875 59.859375 20.0625 63.421875 \r\nQ 26.21875 67 37.3125 67 \r\nQ 48.25 67 54.421875 63.25 \r\nQ 60.59375 59.515625 60.59375 53.421875 \r\nQ 60.59375 47.75 55.640625 44.140625 \r\nQ 50.6875 40.53125 40.828125 39.890625 \r\nL 40.828125 33.296875 \r\nQ 57.171875 33.6875 67.484375 34.421875 \r\nz\r\nM 37.3125 61.078125 \r\nQ 21.09375 61.078125 21.09375 53.421875 \r\nQ 21.09375 45.796875 37.3125 45.796875 \r\nQ 53.421875 45.796875 53.421875 53.421875 \r\nQ 53.421875 61.078125 37.3125 61.078125 \r\nz\r\nM 51.609375 -8.015625 \r\nQ 36.46875 -8.015625 28.484375 -4.046875 \r\nQ 20.515625 -0.09375 20.515625 7.171875 \r\nQ 20.515625 14.546875 28.375 18.53125 \r\nQ 36.234375 22.515625 51.609375 22.515625 \r\nQ 67 22.515625 74.859375 18.53125 \r\nQ 82.71875 14.546875 82.71875 7.171875 \r\nQ 82.71875 -0.09375 74.734375 -4.046875 \r\nQ 66.75 -8.015625 51.609375 -8.015625 \r\nz\r\nM 51.609375 16.21875 \r\nQ 28.21875 16.21875 28.21875 7.171875 \r\nQ 28.21875 3.03125 34.15625 0.65625 \r\nQ 40.09375 -1.703125 51.609375 -1.703125 \r\nQ 63.09375 -1.703125 69.046875 0.65625 \r\nQ 75 3.03125 75 7.171875 \r\nQ 75 16.21875 51.609375 16.21875 \r\nz\r\n\" id=\"MalgunGothic-54889\"/>\r\n     </defs>\r\n     <use xlink:href=\"#MalgunGothic-50900\"/>\r\n     <use x=\"100\" xlink:href=\"#MalgunGothic-48324\"/>\r\n     <use x=\"200\" xlink:href=\"#MalgunGothic-32\"/>\r\n     <use x=\"235.15625\" xlink:href=\"#MalgunGothic-48260\"/>\r\n     <use x=\"335.15625\" xlink:href=\"#MalgunGothic-49828\"/>\r\n     <use x=\"435.15625\" xlink:href=\"#MalgunGothic-51060\"/>\r\n     <use x=\"535.15625\" xlink:href=\"#MalgunGothic-50857\"/>\r\n     <use x=\"635.15625\" xlink:href=\"#MalgunGothic-44061\"/>\r\n     <use x=\"735.15625\" xlink:href=\"#MalgunGothic-32\"/>\r\n     <use x=\"770.3125\" xlink:href=\"#MalgunGothic-54788\"/>\r\n     <use x=\"870.3125\" xlink:href=\"#MalgunGothic-54889\"/>\r\n    </g>\r\n   </g>\r\n   <g id=\"legend_1\">\r\n    <g id=\"patch_69\">\r\n     <path d=\"M 293.203125 60.223125 \r\nL 355.203125 60.223125 \r\nQ 357.203125 60.223125 357.203125 58.223125 \r\nL 357.203125 29.310625 \r\nQ 357.203125 27.310625 355.203125 27.310625 \r\nL 293.203125 27.310625 \r\nQ 291.203125 27.310625 291.203125 29.310625 \r\nL 291.203125 58.223125 \r\nQ 291.203125 60.223125 293.203125 60.223125 \r\nz\r\n\" style=\"fill:#ffffff;opacity:0.8;stroke:#cccccc;stroke-linejoin:miter;\"/>\r\n    </g>\r\n    <g id=\"patch_70\">\r\n     <path d=\"M 295.203125 38.902812 \r\nL 315.203125 38.902812 \r\nL 315.203125 31.902812 \r\nL 295.203125 31.902812 \r\nz\r\n\" style=\"fill:#1f77b4;\"/>\r\n    </g>\r\n    <g id=\"text_43\">\r\n     <!-- 승하객 -->\r\n     <g transform=\"translate(323.203125 38.902812)scale(0.1 -0.1)\">\r\n      <defs>\r\n       <path d=\"M 85.296875 51.609375 \r\nQ 73.96875 53.265625 64 58.921875 \r\nQ 54.046875 64.59375 50.09375 70.796875 \r\nQ 46.4375 65.046875 36.296875 59.15625 \r\nQ 26.171875 53.265625 15.1875 51.703125 \r\nL 10.890625 57.625 \r\nQ 25.78125 58.890625 36.078125 66.203125 \r\nQ 46.390625 73.53125 46.390625 80.515625 \r\nL 46.390625 83.6875 \r\nL 53.609375 83.6875 \r\nL 53.609375 80.515625 \r\nQ 53.609375 73.390625 63.90625 66.03125 \r\nQ 74.21875 58.6875 89.109375 57.515625 \r\nz\r\nM 6.296875 36.375 \r\nL 6.296875 42.921875 \r\nL 93.703125 42.921875 \r\nL 93.703125 36.375 \r\nz\r\nM 50 -7.8125 \r\nQ 35.359375 -7.8125 27.59375 -3.125 \r\nQ 19.828125 1.5625 19.828125 9.8125 \r\nQ 19.828125 17.875 27.609375 22.53125 \r\nQ 35.40625 27.203125 50 27.203125 \r\nQ 64.59375 27.203125 72.375 22.53125 \r\nQ 80.171875 17.875 80.171875 9.8125 \r\nQ 80.171875 1.5625 72.40625 -3.125 \r\nQ 64.65625 -7.8125 50 -7.8125 \r\nz\r\nM 50 21 \r\nQ 38.765625 21 33.078125 18.046875 \r\nQ 27.390625 15.09375 27.390625 9.8125 \r\nQ 27.390625 4.4375 33.171875 1.40625 \r\nQ 38.96875 -1.609375 50 -1.609375 \r\nQ 60.984375 -1.609375 66.796875 1.40625 \r\nQ 72.609375 4.4375 72.609375 9.8125 \r\nQ 72.609375 15.09375 66.890625 18.046875 \r\nQ 61.1875 21 50 21 \r\nz\r\n\" id=\"MalgunGothic-49849\"/>\r\n       <path d=\"M 79.59375 35.59375 \r\nL 79.59375 -8.796875 \r\nL 72.3125 -8.796875 \r\nL 72.3125 85.40625 \r\nL 79.59375 85.40625 \r\nL 79.59375 42.09375 \r\nL 95.515625 42.09375 \r\nL 95.515625 35.59375 \r\nz\r\nM 7.328125 63.8125 \r\nL 7.328125 70.40625 \r\nL 31.59375 70.40625 \r\nL 31.59375 85.40625 \r\nL 38.921875 85.40625 \r\nL 38.921875 70.40625 \r\nL 63.28125 70.40625 \r\nL 63.28125 63.8125 \r\nz\r\nM 35.203125 14.59375 \r\nQ 24.8125 14.59375 18.21875 20.59375 \r\nQ 11.625 26.609375 11.625 35.5 \r\nQ 11.625 44.53125 18.21875 50.515625 \r\nQ 24.8125 56.5 35.296875 56.5 \r\nQ 45.75 56.5 52.359375 50.484375 \r\nQ 58.984375 44.484375 58.984375 35.40625 \r\nQ 58.984375 26.46875 52.359375 20.53125 \r\nQ 45.75 14.59375 35.203125 14.59375 \r\nz\r\nM 35.296875 50.296875 \r\nQ 28.078125 50.296875 23.4375 45.953125 \r\nQ 18.796875 41.609375 18.796875 35.5 \r\nQ 18.796875 29.4375 23.453125 25.109375 \r\nQ 28.125 20.796875 35.296875 20.796875 \r\nQ 42.484375 20.796875 47.140625 25.109375 \r\nQ 51.8125 29.4375 51.8125 35.5 \r\nQ 51.8125 41.609375 47.171875 45.953125 \r\nQ 42.53125 50.296875 35.296875 50.296875 \r\nz\r\n\" id=\"MalgunGothic-54616\"/>\r\n      </defs>\r\n      <use xlink:href=\"#MalgunGothic-49849\"/>\r\n      <use x=\"100\" xlink:href=\"#MalgunGothic-54616\"/>\r\n      <use x=\"200\" xlink:href=\"#MalgunGothic-44061\"/>\r\n     </g>\r\n    </g>\r\n    <g id=\"patch_71\">\r\n     <path d=\"M 295.203125 53.859062 \r\nL 315.203125 53.859062 \r\nL 315.203125 46.859062 \r\nL 295.203125 46.859062 \r\nz\r\n\" style=\"fill:#ff7f0e;\"/>\r\n    </g>\r\n    <g id=\"text_44\">\r\n     <!-- 하차객 -->\r\n     <g transform=\"translate(323.203125 53.859062)scale(0.1 -0.1)\">\r\n      <defs>\r\n       <path d=\"M 59.421875 15.1875 \r\nQ 51.375 19.875 44.5 27.6875 \r\nQ 37.640625 35.5 35.40625 41.609375 \r\nQ 33.5 35.59375 26.4375 26.796875 \r\nQ 19.390625 18.015625 12.109375 13.28125 \r\nL 6.6875 18.703125 \r\nQ 16.9375 23.640625 24.359375 34.734375 \r\nQ 31.78125 45.84375 31.78125 56.203125 \r\nL 31.78125 65.71875 \r\nL 8.796875 65.71875 \r\nL 8.796875 72.21875 \r\nL 31.6875 72.21875 \r\nL 31.6875 85.40625 \r\nL 38.921875 85.40625 \r\nL 38.921875 72.21875 \r\nL 61.8125 72.21875 \r\nL 61.8125 65.71875 \r\nL 38.921875 65.71875 \r\nL 38.921875 55.90625 \r\nQ 38.921875 45.90625 46.34375 35.640625 \r\nQ 53.765625 25.390625 64.40625 20.90625 \r\nz\r\nM 79.59375 39.015625 \r\nL 79.59375 -8.796875 \r\nL 72.3125 -8.796875 \r\nL 72.3125 85.40625 \r\nL 79.59375 85.40625 \r\nL 79.59375 45.609375 \r\nL 95.015625 45.609375 \r\nL 95.015625 39.015625 \r\nz\r\n\" id=\"MalgunGothic-52264\"/>\r\n      </defs>\r\n      <use xlink:href=\"#MalgunGothic-54616\"/>\r\n      <use x=\"100\" xlink:href=\"#MalgunGothic-52264\"/>\r\n      <use x=\"200\" xlink:href=\"#MalgunGothic-44061\"/>\r\n     </g>\r\n    </g>\r\n   </g>\r\n  </g>\r\n </g>\r\n <defs>\r\n  <clipPath id=\"pac27330846\">\r\n   <rect height=\"217.44\" width=\"334.8\" x=\"27.403125\" y=\"22.310625\"/>\r\n  </clipPath>\r\n </defs>\r\n</svg>\r\n",
      "image/png": "[encoded data removed]"
     },
     "metadata": {
      "needs_background": "light"
     }
    }
   ],
   "metadata": {}
  },
  {
   "cell_type": "markdown",
   "source": [
    "    3.거리두기 단계에 따른 교통량 증감량  \r\n",
    "    - 시각화\r\n"
   ],
   "metadata": {}
  },
  {
   "cell_type": "code",
   "execution_count": null,
   "source": [],
   "outputs": [],
   "metadata": {}
  },
  {
   "cell_type": "markdown",
   "source": [
    "    4.대체 교통수단(==자전거) 단계별 증감량\r\n",
    "     - 시각화\r\n"
   ],
   "metadata": {}
  },
  {
   "cell_type": "code",
   "execution_count": null,
   "source": [],
   "outputs": [],
   "metadata": {}
  },
  {
   "cell_type": "markdown",
   "source": [
    "## 3.결론\r\n",
    "    - 가설 검증\r\n",
    "     * 가설1 : 단계별 거리두기를 시행하였을때, 높은 단계일수록 대중교통 이용량이  줄어들 것이다.(통계자료 토대로 결과 도출)\r\n",
    "     * 가설2 : 단계별 거리두기를 시행 하였을때, 유동인구 수가 많은 지역에 코로나 감염자 수도 많을 것이다.\r\n",
    "     * 가설3 : 단계별 거리두기를 시행하였을때, 높은 단계일수록 증감률 감소할 것이다. \r\n",
    "     * 가설4 : 연령별 대중교통 이용량 변화 \r\n",
    "      - ex) 거리두기 단계가 올라갔을때 어떤한 연령층의 이용량이 증가하고 감소하였지 비교.\r\n",
    "     * 추가적으로 알아낸 것 \r\n",
    "      - ex) 여성이 코로나 더 걸린다 ?"
   ],
   "metadata": {}
  },
  {
   "cell_type": "code",
   "execution_count": null,
   "source": [],
   "outputs": [],
   "metadata": {}
  },
  {
   "cell_type": "code",
   "execution_count": null,
   "source": [],
   "outputs": [],
   "metadata": {}
  },
  {
   "cell_type": "code",
   "execution_count": null,
   "source": [],
   "outputs": [],
   "metadata": {}
  },
  {
   "cell_type": "code",
   "execution_count": null,
   "source": [],
   "outputs": [],
   "metadata": {}
  },
  {
   "cell_type": "code",
   "execution_count": null,
   "source": [],
   "outputs": [],
   "metadata": {}
  },
  {
   "cell_type": "code",
   "execution_count": null,
   "source": [],
   "outputs": [],
   "metadata": {}
  },
  {
   "cell_type": "code",
   "execution_count": null,
   "source": [],
   "outputs": [],
   "metadata": {}
  },
  {
   "cell_type": "code",
   "execution_count": null,
   "source": [],
   "outputs": [],
   "metadata": {}
  },
  {
   "cell_type": "code",
   "execution_count": null,
   "source": [],
   "outputs": [],
   "metadata": {}
  },
  {
   "cell_type": "code",
   "execution_count": null,
   "source": [],
   "outputs": [],
   "metadata": {}
  },
  {
   "cell_type": "code",
   "execution_count": null,
   "source": [],
   "outputs": [],
   "metadata": {}
  },
  {
   "cell_type": "code",
   "execution_count": null,
   "source": [],
   "outputs": [],
   "metadata": {}
  },
  {
   "cell_type": "code",
   "execution_count": null,
   "source": [],
   "outputs": [],
   "metadata": {}
  }
 ],
 "metadata": {
  "orig_nbformat": 4,
  "language_info": {
   "name": "python",
   "version": "3.8.8",
   "mimetype": "text/x-python",
   "codemirror_mode": {
    "name": "ipython",
    "version": 3
   },
   "pygments_lexer": "ipython3",
   "nbconvert_exporter": "python",
   "file_extension": ".py"
  },
  "kernelspec": {
   "name": "python3",
   "display_name": "Python 3.8.8 64-bit ('base': conda)"
  },
  "interpreter": {
   "hash": "6d46af94c2bbce495f1e668725902fa517c90b1782bcfe2fce0dd9868df553d3"
  }
 },
 "nbformat": 4,
 "nbformat_minor": 2
}