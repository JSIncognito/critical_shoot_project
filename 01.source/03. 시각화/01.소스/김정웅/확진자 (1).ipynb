{
 "cells": [
  {
   "cell_type": "code",
   "execution_count": 2,
   "id": "0ca15672",
   "metadata": {},
   "outputs": [],
   "source": [
    "import pandas as pd"
   ]
  },
  {
   "cell_type": "code",
   "execution_count": 12,
   "id": "ece9ac7a",
   "metadata": {},
   "outputs": [],
   "source": [
    "covid_19=pd.read_excel('./data2/pdata/s_covid_19.xlsx')"
   ]
  },
  {
   "cell_type": "code",
   "execution_count": 33,
   "id": "58f81fd2",
   "metadata": {},
   "outputs": [
    {
     "name": "stdout",
     "output_type": "stream",
     "text": [
      "[7, 80, 391, 156, 229, 459, 281, 2415, 1306, 733, 2904, 10432]\n",
      "[4878, 4060, 3898, 5803, 6030, 6258, 14507, 5004, 0, 0, 0, 0]\n"
     ]
    }
   ],
   "source": [
    "covid_20 = []\n",
    "covid_21 = []\n",
    "covid20=covid_19[covid_19['확진일'].dt.year == 2020]\n",
    "for i in range(1, 13):\n",
    "    covid_20.append(len(covid20[covid20['확진일'].dt.month == i]))\n",
    "covid21 = covid_19[covid_19['확진일'].dt.year==2021]\n",
    "for i in range(1, 13):\n",
    "    covid_21.append(len(covid21[covid21['확진일'].dt.month == i]))\n",
    "\n",
    "print(covid_20)\n",
    "print(covid_21)"
   ]
  },
  {
   "cell_type": "code",
   "execution_count": 34,
   "id": "ee7abc55",
   "metadata": {},
   "outputs": [
    {
     "name": "stdout",
     "output_type": "stream",
     "text": [
      "[7, 80, 391, 156, 229, 459, 281, 2415, 1306, 733, 2904, 10432, 19393]\n",
      "[4878, 4060, 3898, 5803, 6030, 6258, 14507, 5004, 0, 0, 0, 0, 50438]\n"
     ]
    }
   ],
   "source": [
    "r2020=0\n",
    "r2021=0\n",
    "for i in covid_20:\n",
    "    r2020 += i\n",
    "covid_20.append(r2020)\n",
    "\n",
    "for i in covid_21:\n",
    "    r2021 += i\n",
    "covid_21.append(r2021)\n",
    "print(covid_20)\n",
    "print(covid_21)"
   ]
  },
  {
   "cell_type": "code",
   "execution_count": 40,
   "id": "44036139",
   "metadata": {
    "scrolled": true
   },
   "outputs": [
    {
     "data": {
      "text/html": [
       "<div>\n",
       "<style scoped>\n",
       "    .dataframe tbody tr th:only-of-type {\n",
       "        vertical-align: middle;\n",
       "    }\n",
       "\n",
       "    .dataframe tbody tr th {\n",
       "        vertical-align: top;\n",
       "    }\n",
       "\n",
       "    .dataframe thead th {\n",
       "        text-align: right;\n",
       "    }\n",
       "</style>\n",
       "<table border=\"1\" class=\"dataframe\">\n",
       "  <thead>\n",
       "    <tr style=\"text-align: right;\">\n",
       "      <th></th>\n",
       "      <th>1월</th>\n",
       "      <th>2월</th>\n",
       "      <th>3월</th>\n",
       "      <th>4월</th>\n",
       "      <th>5월</th>\n",
       "      <th>6월</th>\n",
       "      <th>7월</th>\n",
       "      <th>8월</th>\n",
       "      <th>9월</th>\n",
       "      <th>10월</th>\n",
       "      <th>11월</th>\n",
       "      <th>12월</th>\n",
       "      <th>총합</th>\n",
       "    </tr>\n",
       "  </thead>\n",
       "  <tbody>\n",
       "    <tr>\n",
       "      <th>2020</th>\n",
       "      <td>7</td>\n",
       "      <td>80</td>\n",
       "      <td>391</td>\n",
       "      <td>156</td>\n",
       "      <td>229</td>\n",
       "      <td>459</td>\n",
       "      <td>281</td>\n",
       "      <td>2415</td>\n",
       "      <td>1306</td>\n",
       "      <td>733</td>\n",
       "      <td>2904</td>\n",
       "      <td>10432</td>\n",
       "      <td>19393</td>\n",
       "    </tr>\n",
       "    <tr>\n",
       "      <th>2021</th>\n",
       "      <td>4878</td>\n",
       "      <td>4060</td>\n",
       "      <td>3898</td>\n",
       "      <td>5803</td>\n",
       "      <td>6030</td>\n",
       "      <td>6258</td>\n",
       "      <td>14507</td>\n",
       "      <td>5004</td>\n",
       "      <td>0</td>\n",
       "      <td>0</td>\n",
       "      <td>0</td>\n",
       "      <td>0</td>\n",
       "      <td>50438</td>\n",
       "    </tr>\n",
       "  </tbody>\n",
       "</table>\n",
       "</div>"
      ],
      "text/plain": [
       "        1월    2월    3월    4월    5월    6월     7월    8월    9월  10월   11월    12월  \\\n",
       "2020     7    80   391   156   229   459    281  2415  1306  733  2904  10432   \n",
       "2021  4878  4060  3898  5803  6030  6258  14507  5004     0    0     0      0   \n",
       "\n",
       "         총합  \n",
       "2020  19393  \n",
       "2021  50438  "
      ]
     },
     "execution_count": 40,
     "metadata": {},
     "output_type": "execute_result"
    }
   ],
   "source": [
    "df = pd.DataFrame({'2020':covid_20, '2021':covid_21},index=['1월','2월','3월','4월','5월','6월','7월','8월','9월','10월','11월','12월','총합'])\n",
    "df=df.T\n",
    "df"
   ]
  },
  {
   "cell_type": "code",
   "execution_count": 41,
   "id": "320d1eaf",
   "metadata": {},
   "outputs": [],
   "source": [
    "df.to_excel(\"covid_19(월별확진자).xlsx\")"
   ]
  },
  {
   "cell_type": "code",
   "execution_count": 42,
   "id": "5e8aa4bc",
   "metadata": {},
   "outputs": [],
   "source": [
    "co1 = 0 # 3~8 1단계\n",
    "co2 = 0 # 9월 2단계\n",
    "co3 = 0 # 10 ~ 11 1단계\n",
    "co4 = 0 # 12 ~ 21.02  2.5단계\n",
    "co5 = 0 # 3 ~ 6 2단계\n",
    "for i in range(1, 13):\n",
    "    if i >= 3 and i<=8:\n",
    "        co1 += (len(covid20[covid20['확진일'].dt.month == i]))\n",
    "    elif i == 9:\n",
    "        co2 += (len(covid20[covid20['확진일'].dt.month == i]))\n",
    "    elif i >= 10 and i<=11:\n",
    "        co3 += (len(covid20[covid20['확진일'].dt.month == i]))\n",
    "    elif i == 12:\n",
    "        co4 += (len(covid20[covid20['확진일'].dt.month == i]))\n",
    "for i in range(1, 13):\n",
    "    if i == 1 or i == 2:\n",
    "        co4 += len(covid21[covid21['확진일'].dt.month == i])\n",
    "    elif i > 2 and i<7:\n",
    "        co5 +=len (covid21[covid21['확진일'].dt.month == i])"
   ]
  },
  {
   "cell_type": "code",
   "execution_count": 43,
   "id": "a807db0a",
   "metadata": {},
   "outputs": [
    {
     "name": "stdout",
     "output_type": "stream",
     "text": [
      "3931\n",
      "1306\n",
      "3637\n",
      "19370\n",
      "21989\n"
     ]
    }
   ],
   "source": [
    "print(co1)\n",
    "print(co2)\n",
    "print(co3)\n",
    "print(co4)\n",
    "print(co5)"
   ]
  },
  {
   "cell_type": "code",
   "execution_count": 53,
   "id": "5994f9e7",
   "metadata": {
    "scrolled": false
   },
   "outputs": [],
   "source": [
    "df=pd.DataFrame({\"1단계(20.3~20.8)\" : co1,\"2단계(20.9)\" : co2,\"1단계(20.10-20.11)\" : co3,\"2.5단계(20.12-21.2)\": co4,\"2단계(21.3-21.6)\" : co5 }, index=[\"확진자\"])\n",
    "df.to_excel(\"단계별확진자.xlsx\")"
   ]
  }
 ],
 "metadata": {
  "kernelspec": {
   "display_name": "Python 3",
   "language": "python",
   "name": "python3"
  },
  "language_info": {
   "codemirror_mode": {
    "name": "ipython",
    "version": 3
   },
   "file_extension": ".py",
   "mimetype": "text/x-python",
   "name": "python",
   "nbconvert_exporter": "python",
   "pygments_lexer": "ipython3",
   "version": "3.8.8"
  }
 },
 "nbformat": 4,
 "nbformat_minor": 5
}
