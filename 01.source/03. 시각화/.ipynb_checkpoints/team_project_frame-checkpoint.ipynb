{
 "cells": [
  {
   "cell_type": "markdown",
   "metadata": {},
   "source": [
    "# 팀 미니프로젝트 \n",
    "\n",
    " (연령별 코로나 확진자 수) \n",
    "-> 단계별 거리두기 증감량 \n",
    "-> 코로나 전후 교통량 변화 \n",
    "-> 거리두기 단계에 따른 교통량 증감량 \n",
    "-> 대체 교통수단(==자전거) 단계별 증감량\n",
    "\n",
    "ex) 코로나 증가 -> (버스,지하철) 감소 || 대체 교통수단(자전거) 증가\n"
   ]
  },
  {
   "cell_type": "markdown",
   "metadata": {},
   "source": [
    "# 목차 \n",
    "\n",
    "### * 코로나 단계별 거리두기, 모두의 안전을 위한 서울시 자치구 및 대중교통 분석\n",
    "    - 소상공인 시위를 보면서 실제 코로나 단계별 거리두기를 시행했을때, 미치는 영향에 대해서 분석을 하고 싶었다.\n",
    "\n",
    "#### 1. 데이터 분석을 통한 연령별 코로나 치명성 검증\n",
    "    - 연령별 코로나 확진자 수\n",
    "#### 2. 단계별 거리두기 시행에 따른 서울시 대중교통에 미치는 영향\n",
    "    * 단계별 거리두기 증감량 \n",
    "    * 코로나 전후 교통량 변화  \n",
    "    * 거리두기 단계에 따른 교통량 증감량  \n",
    "    * 대체 교통수단(==자전거) 단계별 증감량\n",
    "#### 3.결론\n",
    "    * 가설 검증\n",
    "     * 가설1 : 단계별 거리두기를 시행하였을때, 높은 단계일수록 대중교통 이용량이  줄어들 것이다.(통계자료 토대로 결과 도출)\n",
    "     * 가설2 : 단계별 거리두기를 시행 하였을때, 유동인구 수가 많은 지역에 코로나 감염자 수도 많을 것이다.\n",
    "     * 가설3 : 단계별 거리두기를 시행하였을때, 높은 단계일수록 증감률 감소할 것이다. \n",
    "     * 가설4 : 연령별 대중교통 이용량 변화 \n",
    "      - ex) 거리두기 단계가 올라갔을때 어떤한 연령층의 이용량이 증가하고 감소하였지 비교.\n",
    "     *추가적으로 알아낸 것 \n",
    "      - ex) 여성이 코로나 더 걸린다 ?"
   ]
  },
  {
   "cell_type": "code",
   "execution_count": 2,
   "metadata": {},
   "outputs": [],
   "source": [
    "# 주제선정 이유\n",
    "# 1.작년부터 핫 이슈였던 코로나로 인하여 인구이동 감소 및 대중교통량 감소가 심한지에 대하여 알아보고 싶었음\n"
   ]
  },
  {
   "cell_type": "markdown",
   "metadata": {},
   "source": [
    "## 1. 데이터 분석을 통한 연령별 코로나 치명성 검증\n",
    "    1. 연령별 코로나 확진자 수\n",
    "     - 시각화\n"
   ]
  },
  {
   "cell_type": "code",
   "execution_count": null,
   "metadata": {},
   "outputs": [],
   "source": []
  },
  {
   "cell_type": "markdown",
   "metadata": {},
   "source": [
    "## 2.단계별 거리두기 시행에 따른 서울시 대중교통에 미치는 영향\n",
    "\t1.단계별 거리두기 증감량 \n",
    "\t - 시각화\n"
   ]
  },
  {
   "cell_type": "code",
   "execution_count": null,
   "metadata": {},
   "outputs": [],
   "source": []
  },
  {
   "cell_type": "markdown",
   "metadata": {},
   "source": [
    "\t2.코로나 전후 교통량 변화  \n",
    "\t - 시각화\n"
   ]
  },
  {
   "cell_type": "code",
   "execution_count": null,
   "metadata": {},
   "outputs": [],
   "source": []
  },
  {
   "cell_type": "markdown",
   "metadata": {},
   "source": [
    "    3.거리두기 단계에 따른 교통량 증감량  \n",
    "    - 시각화\n"
   ]
  },
  {
   "cell_type": "code",
   "execution_count": null,
   "metadata": {},
   "outputs": [],
   "source": []
  },
  {
   "cell_type": "markdown",
   "metadata": {},
   "source": [
    "    4.대체 교통수단(==자전거) 단계별 증감량\n",
    "     - 시각화\n"
   ]
  },
  {
   "cell_type": "code",
   "execution_count": null,
   "metadata": {},
   "outputs": [],
   "source": []
  },
  {
   "cell_type": "markdown",
   "metadata": {},
   "source": [
    "## 3.결론\n",
    "    - 가설 검증\n",
    "     * 가설1 : 단계별 거리두기를 시행하였을때, 높은 단계일수록 대중교통 이용량이  줄어들 것이다.(통계자료 토대로 결과 도출)\n",
    "     * 가설2 : 단계별 거리두기를 시행 하였을때, 유동인구 수가 많은 지역에 코로나 감염자 수도 많을 것이다.\n",
    "     * 가설3 : 단계별 거리두기를 시행하였을때, 높은 단계일수록 증감률 감소할 것이다. \n",
    "     * 가설4 : 연령별 대중교통 이용량 변화 \n",
    "      - ex) 거리두기 단계가 올라갔을때 어떤한 연령층의 이용량이 증가하고 감소하였지 비교.\n",
    "     * 추가적으로 알아낸 것 \n",
    "      - ex) 여성이 코로나 더 걸린다 ?"
   ]
  },
  {
   "cell_type": "code",
   "execution_count": null,
   "metadata": {},
   "outputs": [],
   "source": []
  },
  {
   "cell_type": "code",
   "execution_count": null,
   "metadata": {},
   "outputs": [],
   "source": []
  },
  {
   "cell_type": "code",
   "execution_count": null,
   "metadata": {},
   "outputs": [],
   "source": []
  },
  {
   "cell_type": "code",
   "execution_count": null,
   "metadata": {},
   "outputs": [],
   "source": []
  },
  {
   "cell_type": "code",
   "execution_count": null,
   "metadata": {},
   "outputs": [],
   "source": []
  },
  {
   "cell_type": "code",
   "execution_count": null,
   "metadata": {},
   "outputs": [],
   "source": []
  },
  {
   "cell_type": "code",
   "execution_count": null,
   "metadata": {},
   "outputs": [],
   "source": []
  },
  {
   "cell_type": "code",
   "execution_count": null,
   "metadata": {},
   "outputs": [],
   "source": []
  },
  {
   "cell_type": "code",
   "execution_count": null,
   "metadata": {},
   "outputs": [],
   "source": []
  },
  {
   "cell_type": "code",
   "execution_count": null,
   "metadata": {},
   "outputs": [],
   "source": []
  },
  {
   "cell_type": "code",
   "execution_count": null,
   "metadata": {},
   "outputs": [],
   "source": []
  },
  {
   "cell_type": "code",
   "execution_count": null,
   "metadata": {},
   "outputs": [],
   "source": []
  },
  {
   "cell_type": "code",
   "execution_count": null,
   "metadata": {},
   "outputs": [],
   "source": []
  }
 ],
 "metadata": {
  "interpreter": {
   "hash": "74ac2c347abb782a3d2f694c8d9341193b1005c179381ae3abf4a67743d7a946"
  },
  "kernelspec": {
   "display_name": "Python 3",
   "language": "python",
   "name": "python3"
  },
  "language_info": {
   "codemirror_mode": {
    "name": "ipython",
    "version": 3
   },
   "file_extension": ".py",
   "mimetype": "text/x-python",
   "name": "python",
   "nbconvert_exporter": "python",
   "pygments_lexer": "ipython3",
   "version": "3.8.8"
  }
 },
 "nbformat": 4,
 "nbformat_minor": 2
}
