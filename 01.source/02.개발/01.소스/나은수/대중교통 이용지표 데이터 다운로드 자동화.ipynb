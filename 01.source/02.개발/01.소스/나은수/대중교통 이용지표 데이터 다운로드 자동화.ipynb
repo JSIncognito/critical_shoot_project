{
 "cells": [
  {
   "cell_type": "code",
   "execution_count": 100,
   "id": "c693d47d",
   "metadata": {},
   "outputs": [],
   "source": [
    "import urllib.request as req\n",
    "from bs4 import BeautifulSoup\n",
    "from selenium import webdriver\n",
    "import calendar\n",
    "import time"
   ]
  },
  {
   "cell_type": "code",
   "execution_count": 86,
   "id": "ce7da066",
   "metadata": {},
   "outputs": [],
   "source": [
    "driver = webdriver.Chrome(\"chromedriver.exe\")"
   ]
  },
  {
   "cell_type": "code",
   "execution_count": 87,
   "id": "a90b0ac6",
   "metadata": {},
   "outputs": [],
   "source": [
    "url = \"https://stcis.go.kr/pivotIndi/wpsPivotIndicator.do?siteGb=P&indiClss=IC05&indiSel=IC0507#\"\n",
    "driver.get(url)"
   ]
  },
  {
   "cell_type": "code",
   "execution_count": 96,
   "id": "9c17cb8a",
   "metadata": {},
   "outputs": [],
   "source": [
    "# 월별 일수 range객체 생성\n",
    "import calendar\n",
    "lastDay = []\n",
    "\n",
    "for i in range(2,8): # 원하는 월 범위 => 1 ~ 6월\n",
    "    lastDay.append([i,range(1,calendar.monthrange(2021, i)[1]+1)]) # 원하는 년도 => 2020"
   ]
  },
  {
   "cell_type": "code",
   "execution_count": 89,
   "id": "f4c4aedd",
   "metadata": {
    "scrolled": false
   },
   "outputs": [],
   "source": [
    "# 서울 선택\n",
    "\n",
    "selec_city = driver.find_element_by_css_selector(\"#searchAreaGubun1\")\n",
    "selec_city.click()\n",
    "selec_seoul = driver.find_element_by_css_selector(\"#chkZoneSd_1\")\n",
    "selec_seoul.click()\n",
    "selec_add = driver.find_element_by_css_selector(\"#divAreaSelBox > div > div.area_select_wrap > div.area_select_btn > button\")\n",
    "selec_add.click()"
   ]
  },
  {
   "cell_type": "code",
   "execution_count": 90,
   "id": "a13200ab",
   "metadata": {},
   "outputs": [],
   "source": [
    "# 달력선택\n",
    "\n",
    "calendar = driver.find_element_by_css_selector(\"#leftWrap > div.leftWrap_scroll > div.inquiry_wrap > div > div.term_box > div.date_wrap > li > img\")\n",
    "calendar.click()"
   ]
  },
  {
   "cell_type": "code",
   "execution_count": 60,
   "id": "5591c270",
   "metadata": {},
   "outputs": [],
   "source": [
    "#ui-datepicker-div > div > div > select.ui-datepicker-year > option:nth-child(2)"
   ]
  },
  {
   "cell_type": "code",
   "execution_count": 61,
   "id": "14075f58",
   "metadata": {},
   "outputs": [],
   "source": [
    "# 년, 월, 일 선택\n",
    "\n",
    "selec_year = driver.find_element_by_css_selector(\"#ui-datepicker-div > div > div > select.ui-datepicker-year > option:nth-child(2)\")\n",
    "selec_year.click()"
   ]
  },
  {
   "cell_type": "code",
   "execution_count": null,
   "id": "35cb3ba4",
   "metadata": {},
   "outputs": [],
   "source": []
  },
  {
   "cell_type": "code",
   "execution_count": 97,
   "id": "c43940f2",
   "metadata": {},
   "outputs": [
    {
     "name": "stdout",
     "output_type": "stream",
     "text": [
      "7\n"
     ]
    }
   ],
   "source": [
    " try:\n",
    "    # 월 반복문\n",
    "    for mon,day in lastDay:\n",
    "        selec_month = driver.find_element_by_css_selector(\"#ui-datepicker-div > div > div > select.ui-datepicker-month > option:nth-child({})\".format(mon))\n",
    "        selec_month.click()\n",
    "\n",
    "        # 일 반복문\n",
    "        for d in day:\n",
    "            time.sleep(2.5)\n",
    "            selec_day = driver.find_element_by_link_text(\"{}\".format(d))\n",
    "            selec_day.click()\n",
    "\n",
    "            # 검색 버튼 클릭\n",
    "            selec_search = driver.find_element_by_css_selector(\"#search_btn > button\")\n",
    "            selec_search.click()\n",
    "            time.sleep(2.5)\n",
    "\n",
    "            # 다운로드\n",
    "            selec_down = driver.find_element_by_css_selector(\"#btnExport\")\n",
    "            selec_down.click()\n",
    "\n",
    "            # 되돌아가기\n",
    "            selec_view = driver.find_element_by_css_selector(\"#leftWrap > div.leftWrap_scroll > div.tab_nav_box > ul > li.inquiry_tab > a\")\n",
    "            selec_view.click()\n",
    "\n",
    "            # 달력 선택\n",
    "            calendar = driver.find_element_by_css_selector(\"#leftWrap > div.leftWrap_scroll > div.inquiry_wrap > div > div.term_box > div.date_wrap > li > img\")\n",
    "            calendar.click()\n",
    "except:\n",
    "    print(d)"
   ]
  },
  {
   "cell_type": "markdown",
   "id": "8bae62b6",
   "metadata": {},
   "source": [
    "=================작업 중단 시 특정 월,일 부터 다시 시작하는 코드==========================="
   ]
  },
  {
   "cell_type": "code",
   "execution_count": 116,
   "id": "774d1d13",
   "metadata": {},
   "outputs": [],
   "source": [
    "# 월별 일수 range객체 생성\n",
    "import calendar\n",
    "lastDay = []\n",
    "\n",
    "for i in range(3,8): # 원하는 월 범위 => 1 ~ 6월\n",
    "    lastDay.append([i,range(1,calendar.monthrange(2020, i)[1]+1)]) # 원하는 년도 => 2020"
   ]
  },
  {
   "cell_type": "code",
   "execution_count": 118,
   "id": "776a12aa",
   "metadata": {},
   "outputs": [],
   "source": [
    " try:\n",
    "    # 월 반복문\n",
    "    for mon,day in lastDay:\n",
    "        selec_month = driver.find_element_by_css_selector(\"#ui-datepicker-div > div > div > select.ui-datepicker-month > option:nth-child({})\".format(mon))\n",
    "        selec_month.click()\n",
    "        \n",
    "        if mon==3:\n",
    "            for d in day[7:]:\n",
    "                            time.sleep(2.5)\n",
    "                            selec_day = driver.find_element_by_link_text(\"{}\".format(d))\n",
    "                            selec_day.click()\n",
    "\n",
    "                                             # 검색 버튼 클릭\n",
    "                            selec_search = driver.find_element_by_css_selector(\"#search_btn > button\")\n",
    "                            selec_search.click()\n",
    "                            time.sleep(2.5)\n",
    "\n",
    "                            # 다운로드\n",
    "                            selec_down = driver.find_element_by_css_selector(\"#btnExport\")\n",
    "                            selec_down.click()\n",
    "\n",
    "                            # 되돌아가기\n",
    "                            selec_view = driver.find_element_by_css_selector(\"#leftWrap > div.leftWrap_scroll > div.tab_nav_box > ul > li.inquiry_tab > a\")\n",
    "                            selec_view.click()\n",
    "\n",
    "                            # 달력 선택\n",
    "                            calendar = driver.find_element_by_css_selector(\"#leftWrap > div.leftWrap_scroll > div.inquiry_wrap > div > div.term_box > div.date_wrap > li > img\")\n",
    "                            calendar.click()\n",
    "\n",
    "        else:\n",
    "            # 일 반복문\n",
    "            for d in day:\n",
    "                    time.sleep(2.5)\n",
    "                    selec_day = driver.find_element_by_link_text(\"{}\".format(d))\n",
    "                    selec_day.click()\n",
    "\n",
    "                    # 검색 버튼 클릭\n",
    "                    selec_search = driver.find_element_by_css_selector(\"#search_btn > button\")\n",
    "                    selec_search.click()\n",
    "                    time.sleep(2.5)\n",
    "\n",
    "                    # 다운로드\n",
    "                    selec_down = driver.find_element_by_css_selector(\"#btnExport\")\n",
    "                    selec_down.click()\n",
    "\n",
    "                    # 되돌아가기\n",
    "                    selec_view = driver.find_element_by_css_selector(\"#leftWrap > div.leftWrap_scroll > div.tab_nav_box > ul > li.inquiry_tab > a\")\n",
    "                    selec_view.click()\n",
    "\n",
    "                    # 달력 선택\n",
    "                    calendar = driver.find_element_by_css_selector(\"#leftWrap > div.leftWrap_scroll > div.inquiry_wrap > div > div.term_box > div.date_wrap > li > img\")\n",
    "                    calendar.click()\n",
    "except:\n",
    "    print(d)"
   ]
  },
  {
   "cell_type": "code",
   "execution_count": null,
   "id": "843ef726",
   "metadata": {},
   "outputs": [],
   "source": []
  },
  {
   "cell_type": "code",
   "execution_count": null,
   "id": "d48f993d",
   "metadata": {},
   "outputs": [],
   "source": []
  },
  {
   "cell_type": "code",
   "execution_count": null,
   "id": "ef80912b",
   "metadata": {},
   "outputs": [],
   "source": []
  },
  {
   "cell_type": "code",
   "execution_count": null,
   "id": "f54955ac",
   "metadata": {},
   "outputs": [],
   "source": []
  },
  {
   "cell_type": "code",
   "execution_count": null,
   "id": "d7e62169",
   "metadata": {},
   "outputs": [],
   "source": []
  },
  {
   "cell_type": "code",
   "execution_count": null,
   "id": "5ab7156c",
   "metadata": {},
   "outputs": [],
   "source": []
  },
  {
   "cell_type": "code",
   "execution_count": null,
   "id": "3d51fe1b",
   "metadata": {},
   "outputs": [],
   "source": []
  },
  {
   "cell_type": "code",
   "execution_count": null,
   "id": "c0f34cfd",
   "metadata": {},
   "outputs": [],
   "source": []
  },
  {
   "cell_type": "markdown",
   "id": "f43d4f68",
   "metadata": {},
   "source": [
    "====================이 밑은 연습용==================================="
   ]
  },
  {
   "cell_type": "code",
   "execution_count": 114,
   "id": "5c1b40d3",
   "metadata": {},
   "outputs": [
    {
     "name": "stdout",
     "output_type": "stream",
     "text": [
      "21 3\n",
      "22 3\n",
      "23 3\n",
      "24 3\n",
      "25 3\n",
      "26 3\n",
      "27 3\n",
      "28 3\n",
      "29 3\n",
      "30 3\n",
      "31 3\n",
      "1 4\n",
      "2 4\n",
      "3 4\n",
      "4 4\n",
      "5 4\n",
      "6 4\n",
      "7 4\n",
      "8 4\n",
      "9 4\n",
      "10 4\n",
      "11 4\n",
      "12 4\n",
      "13 4\n",
      "14 4\n",
      "15 4\n",
      "16 4\n",
      "17 4\n",
      "18 4\n",
      "19 4\n",
      "20 4\n",
      "21 4\n",
      "22 4\n",
      "23 4\n",
      "24 4\n",
      "25 4\n",
      "26 4\n",
      "27 4\n",
      "28 4\n",
      "29 4\n",
      "30 4\n",
      "1 5\n",
      "2 5\n",
      "3 5\n",
      "4 5\n",
      "5 5\n",
      "6 5\n",
      "7 5\n",
      "8 5\n",
      "9 5\n",
      "10 5\n",
      "11 5\n",
      "12 5\n",
      "13 5\n",
      "14 5\n",
      "15 5\n",
      "16 5\n",
      "17 5\n",
      "18 5\n",
      "19 5\n",
      "20 5\n",
      "21 5\n",
      "22 5\n",
      "23 5\n",
      "24 5\n",
      "25 5\n",
      "26 5\n",
      "27 5\n",
      "28 5\n",
      "29 5\n",
      "30 5\n",
      "31 5\n",
      "1 6\n",
      "2 6\n",
      "3 6\n",
      "4 6\n",
      "5 6\n",
      "6 6\n",
      "7 6\n",
      "8 6\n",
      "9 6\n",
      "10 6\n",
      "11 6\n",
      "12 6\n",
      "13 6\n",
      "14 6\n",
      "15 6\n",
      "16 6\n",
      "17 6\n",
      "18 6\n",
      "19 6\n",
      "20 6\n",
      "21 6\n",
      "22 6\n",
      "23 6\n",
      "24 6\n",
      "25 6\n",
      "26 6\n",
      "27 6\n",
      "28 6\n",
      "29 6\n",
      "30 6\n",
      "1 7\n",
      "2 7\n",
      "3 7\n",
      "4 7\n",
      "5 7\n",
      "6 7\n",
      "7 7\n",
      "8 7\n",
      "9 7\n",
      "10 7\n",
      "11 7\n",
      "12 7\n",
      "13 7\n",
      "14 7\n",
      "15 7\n",
      "16 7\n",
      "17 7\n",
      "18 7\n",
      "19 7\n",
      "20 7\n",
      "21 7\n",
      "22 7\n",
      "23 7\n",
      "24 7\n",
      "25 7\n",
      "26 7\n",
      "27 7\n",
      "28 7\n",
      "29 7\n",
      "30 7\n",
      "31 7\n"
     ]
    }
   ],
   "source": [
    "for mon,day in lastDay:\n",
    "    if mon==3:\n",
    "            for d in day[20:]:\n",
    "                print(d,mon)\n",
    "    else:\n",
    "        for d in day:\n",
    "            print(d,mon)\n",
    "    #     print(mon,d)"
   ]
  },
  {
   "cell_type": "code",
   "execution_count": 24,
   "id": "e9fe0968",
   "metadata": {},
   "outputs": [],
   "source": [
    "calendar = driver.find_element_by_css_selector(\"#leftWrap > div.leftWrap_scroll > div.inquiry_wrap > div > div.term_box > div.date_wrap > li > img\")\n",
    "calendar.click()"
   ]
  },
  {
   "cell_type": "code",
   "execution_count": null,
   "id": "ee8e0523",
   "metadata": {},
   "outputs": [],
   "source": []
  },
  {
   "cell_type": "code",
   "execution_count": 25,
   "id": "8dd2ca15",
   "metadata": {},
   "outputs": [],
   "source": [
    "#ui-datepicker-div > div > div > select.ui-datepicker-year"
   ]
  },
  {
   "cell_type": "code",
   "execution_count": 26,
   "id": "07c2411a",
   "metadata": {},
   "outputs": [],
   "source": [
    "#ui-datepicker-div > div > div > select.ui-datepicker-year > option:nth-child(3)"
   ]
  },
  {
   "cell_type": "code",
   "execution_count": 27,
   "id": "c3d24582",
   "metadata": {},
   "outputs": [],
   "source": [
    "selec_year = driver.find_element_by_css_selector(\"#ui-datepicker-div > div > div > select.ui-datepicker-year > option:nth-child(3)\")\n",
    "selec_year.click()"
   ]
  },
  {
   "cell_type": "code",
   "execution_count": 28,
   "id": "613885c3",
   "metadata": {},
   "outputs": [],
   "source": [
    "selec_month = driver.find_element_by_css_selector(\"#ui-datepicker-div > div > div > select.ui-datepicker-month > option:nth-child(1)\")\n",
    "selec_month.click()"
   ]
  },
  {
   "cell_type": "code",
   "execution_count": 66,
   "id": "0a8aeaa5",
   "metadata": {},
   "outputs": [],
   "source": [
    "selec_month = driver.find_element_by_css_selector(\"#ui-datepicker-div > div > div > select.ui-datepicker-month > option:nth-child(3)\")\n",
    "selec_month.click()"
   ]
  },
  {
   "cell_type": "code",
   "execution_count": null,
   "id": "89af7bb1",
   "metadata": {},
   "outputs": [],
   "source": []
  },
  {
   "cell_type": "code",
   "execution_count": 29,
   "id": "3ea69e0e",
   "metadata": {},
   "outputs": [],
   "source": [
    "selec_day = driver.find_element_by_css_selector(\"#ui-datepicker-div > table > tbody > tr:nth-child(1) > td:nth-child(4) > a\")\n",
    "selec_day.click()"
   ]
  },
  {
   "cell_type": "code",
   "execution_count": 35,
   "id": "cc282d93",
   "metadata": {},
   "outputs": [
    {
     "ename": "ElementNotInteractableException",
     "evalue": "Message: element not interactable\n  (Session info: chrome=92.0.4515.131)\n",
     "output_type": "error",
     "traceback": [
      "\u001b[1;31m---------------------------------------------------------------------------\u001b[0m",
      "\u001b[1;31mElementNotInteractableException\u001b[0m           Traceback (most recent call last)",
      "\u001b[1;32m<ipython-input-35-047181f02360>\u001b[0m in \u001b[0;36m<module>\u001b[1;34m\u001b[0m\n\u001b[0;32m      1\u001b[0m \u001b[0mselec_city\u001b[0m \u001b[1;33m=\u001b[0m \u001b[0mdriver\u001b[0m\u001b[1;33m.\u001b[0m\u001b[0mfind_element_by_css_selector\u001b[0m\u001b[1;33m(\u001b[0m\u001b[1;34m\"#searchAreaGubun1\"\u001b[0m\u001b[1;33m)\u001b[0m\u001b[1;33m\u001b[0m\u001b[1;33m\u001b[0m\u001b[0m\n\u001b[1;32m----> 2\u001b[1;33m \u001b[0mselec_city\u001b[0m\u001b[1;33m.\u001b[0m\u001b[0mclick\u001b[0m\u001b[1;33m(\u001b[0m\u001b[1;33m)\u001b[0m\u001b[1;33m\u001b[0m\u001b[1;33m\u001b[0m\u001b[0m\n\u001b[0m\u001b[0;32m      3\u001b[0m \u001b[0mselec_seoul\u001b[0m \u001b[1;33m=\u001b[0m \u001b[0mdriver\u001b[0m\u001b[1;33m.\u001b[0m\u001b[0mfind_element_by_css_selector\u001b[0m\u001b[1;33m(\u001b[0m\u001b[1;34m\"#chkZoneSd_1\"\u001b[0m\u001b[1;33m)\u001b[0m\u001b[1;33m\u001b[0m\u001b[1;33m\u001b[0m\u001b[0m\n\u001b[0;32m      4\u001b[0m \u001b[0mselec_seoul\u001b[0m\u001b[1;33m.\u001b[0m\u001b[0mclick\u001b[0m\u001b[1;33m(\u001b[0m\u001b[1;33m)\u001b[0m\u001b[1;33m\u001b[0m\u001b[1;33m\u001b[0m\u001b[0m\n\u001b[0;32m      5\u001b[0m \u001b[0mselec_add\u001b[0m \u001b[1;33m=\u001b[0m \u001b[0mdriver\u001b[0m\u001b[1;33m.\u001b[0m\u001b[0mfind_element_by_css_selector\u001b[0m\u001b[1;33m(\u001b[0m\u001b[1;34m\"#divAreaSelBox > div > div.area_select_wrap > div.area_select_btn > button\"\u001b[0m\u001b[1;33m)\u001b[0m\u001b[1;33m\u001b[0m\u001b[1;33m\u001b[0m\u001b[0m\n",
      "\u001b[1;32m~\\anaconda3\\lib\\site-packages\\selenium\\webdriver\\remote\\webelement.py\u001b[0m in \u001b[0;36mclick\u001b[1;34m(self)\u001b[0m\n\u001b[0;32m     78\u001b[0m     \u001b[1;32mdef\u001b[0m \u001b[0mclick\u001b[0m\u001b[1;33m(\u001b[0m\u001b[0mself\u001b[0m\u001b[1;33m)\u001b[0m\u001b[1;33m:\u001b[0m\u001b[1;33m\u001b[0m\u001b[1;33m\u001b[0m\u001b[0m\n\u001b[0;32m     79\u001b[0m         \u001b[1;34m\"\"\"Clicks the element.\"\"\"\u001b[0m\u001b[1;33m\u001b[0m\u001b[1;33m\u001b[0m\u001b[0m\n\u001b[1;32m---> 80\u001b[1;33m         \u001b[0mself\u001b[0m\u001b[1;33m.\u001b[0m\u001b[0m_execute\u001b[0m\u001b[1;33m(\u001b[0m\u001b[0mCommand\u001b[0m\u001b[1;33m.\u001b[0m\u001b[0mCLICK_ELEMENT\u001b[0m\u001b[1;33m)\u001b[0m\u001b[1;33m\u001b[0m\u001b[1;33m\u001b[0m\u001b[0m\n\u001b[0m\u001b[0;32m     81\u001b[0m \u001b[1;33m\u001b[0m\u001b[0m\n\u001b[0;32m     82\u001b[0m     \u001b[1;32mdef\u001b[0m \u001b[0msubmit\u001b[0m\u001b[1;33m(\u001b[0m\u001b[0mself\u001b[0m\u001b[1;33m)\u001b[0m\u001b[1;33m:\u001b[0m\u001b[1;33m\u001b[0m\u001b[1;33m\u001b[0m\u001b[0m\n",
      "\u001b[1;32m~\\anaconda3\\lib\\site-packages\\selenium\\webdriver\\remote\\webelement.py\u001b[0m in \u001b[0;36m_execute\u001b[1;34m(self, command, params)\u001b[0m\n\u001b[0;32m    631\u001b[0m             \u001b[0mparams\u001b[0m \u001b[1;33m=\u001b[0m \u001b[1;33m{\u001b[0m\u001b[1;33m}\u001b[0m\u001b[1;33m\u001b[0m\u001b[1;33m\u001b[0m\u001b[0m\n\u001b[0;32m    632\u001b[0m         \u001b[0mparams\u001b[0m\u001b[1;33m[\u001b[0m\u001b[1;34m'id'\u001b[0m\u001b[1;33m]\u001b[0m \u001b[1;33m=\u001b[0m \u001b[0mself\u001b[0m\u001b[1;33m.\u001b[0m\u001b[0m_id\u001b[0m\u001b[1;33m\u001b[0m\u001b[1;33m\u001b[0m\u001b[0m\n\u001b[1;32m--> 633\u001b[1;33m         \u001b[1;32mreturn\u001b[0m \u001b[0mself\u001b[0m\u001b[1;33m.\u001b[0m\u001b[0m_parent\u001b[0m\u001b[1;33m.\u001b[0m\u001b[0mexecute\u001b[0m\u001b[1;33m(\u001b[0m\u001b[0mcommand\u001b[0m\u001b[1;33m,\u001b[0m \u001b[0mparams\u001b[0m\u001b[1;33m)\u001b[0m\u001b[1;33m\u001b[0m\u001b[1;33m\u001b[0m\u001b[0m\n\u001b[0m\u001b[0;32m    634\u001b[0m \u001b[1;33m\u001b[0m\u001b[0m\n\u001b[0;32m    635\u001b[0m     \u001b[1;32mdef\u001b[0m \u001b[0mfind_element\u001b[0m\u001b[1;33m(\u001b[0m\u001b[0mself\u001b[0m\u001b[1;33m,\u001b[0m \u001b[0mby\u001b[0m\u001b[1;33m=\u001b[0m\u001b[0mBy\u001b[0m\u001b[1;33m.\u001b[0m\u001b[0mID\u001b[0m\u001b[1;33m,\u001b[0m \u001b[0mvalue\u001b[0m\u001b[1;33m=\u001b[0m\u001b[1;32mNone\u001b[0m\u001b[1;33m)\u001b[0m\u001b[1;33m:\u001b[0m\u001b[1;33m\u001b[0m\u001b[1;33m\u001b[0m\u001b[0m\n",
      "\u001b[1;32m~\\anaconda3\\lib\\site-packages\\selenium\\webdriver\\remote\\webdriver.py\u001b[0m in \u001b[0;36mexecute\u001b[1;34m(self, driver_command, params)\u001b[0m\n\u001b[0;32m    319\u001b[0m         \u001b[0mresponse\u001b[0m \u001b[1;33m=\u001b[0m \u001b[0mself\u001b[0m\u001b[1;33m.\u001b[0m\u001b[0mcommand_executor\u001b[0m\u001b[1;33m.\u001b[0m\u001b[0mexecute\u001b[0m\u001b[1;33m(\u001b[0m\u001b[0mdriver_command\u001b[0m\u001b[1;33m,\u001b[0m \u001b[0mparams\u001b[0m\u001b[1;33m)\u001b[0m\u001b[1;33m\u001b[0m\u001b[1;33m\u001b[0m\u001b[0m\n\u001b[0;32m    320\u001b[0m         \u001b[1;32mif\u001b[0m \u001b[0mresponse\u001b[0m\u001b[1;33m:\u001b[0m\u001b[1;33m\u001b[0m\u001b[1;33m\u001b[0m\u001b[0m\n\u001b[1;32m--> 321\u001b[1;33m             \u001b[0mself\u001b[0m\u001b[1;33m.\u001b[0m\u001b[0merror_handler\u001b[0m\u001b[1;33m.\u001b[0m\u001b[0mcheck_response\u001b[0m\u001b[1;33m(\u001b[0m\u001b[0mresponse\u001b[0m\u001b[1;33m)\u001b[0m\u001b[1;33m\u001b[0m\u001b[1;33m\u001b[0m\u001b[0m\n\u001b[0m\u001b[0;32m    322\u001b[0m             response['value'] = self._unwrap_value(\n\u001b[0;32m    323\u001b[0m                 response.get('value', None))\n",
      "\u001b[1;32m~\\anaconda3\\lib\\site-packages\\selenium\\webdriver\\remote\\errorhandler.py\u001b[0m in \u001b[0;36mcheck_response\u001b[1;34m(self, response)\u001b[0m\n\u001b[0;32m    240\u001b[0m                 \u001b[0malert_text\u001b[0m \u001b[1;33m=\u001b[0m \u001b[0mvalue\u001b[0m\u001b[1;33m[\u001b[0m\u001b[1;34m'alert'\u001b[0m\u001b[1;33m]\u001b[0m\u001b[1;33m.\u001b[0m\u001b[0mget\u001b[0m\u001b[1;33m(\u001b[0m\u001b[1;34m'text'\u001b[0m\u001b[1;33m)\u001b[0m\u001b[1;33m\u001b[0m\u001b[1;33m\u001b[0m\u001b[0m\n\u001b[0;32m    241\u001b[0m             \u001b[1;32mraise\u001b[0m \u001b[0mexception_class\u001b[0m\u001b[1;33m(\u001b[0m\u001b[0mmessage\u001b[0m\u001b[1;33m,\u001b[0m \u001b[0mscreen\u001b[0m\u001b[1;33m,\u001b[0m \u001b[0mstacktrace\u001b[0m\u001b[1;33m,\u001b[0m \u001b[0malert_text\u001b[0m\u001b[1;33m)\u001b[0m\u001b[1;33m\u001b[0m\u001b[1;33m\u001b[0m\u001b[0m\n\u001b[1;32m--> 242\u001b[1;33m         \u001b[1;32mraise\u001b[0m \u001b[0mexception_class\u001b[0m\u001b[1;33m(\u001b[0m\u001b[0mmessage\u001b[0m\u001b[1;33m,\u001b[0m \u001b[0mscreen\u001b[0m\u001b[1;33m,\u001b[0m \u001b[0mstacktrace\u001b[0m\u001b[1;33m)\u001b[0m\u001b[1;33m\u001b[0m\u001b[1;33m\u001b[0m\u001b[0m\n\u001b[0m\u001b[0;32m    243\u001b[0m \u001b[1;33m\u001b[0m\u001b[0m\n\u001b[0;32m    244\u001b[0m     \u001b[1;32mdef\u001b[0m \u001b[0m_value_or_default\u001b[0m\u001b[1;33m(\u001b[0m\u001b[0mself\u001b[0m\u001b[1;33m,\u001b[0m \u001b[0mobj\u001b[0m\u001b[1;33m,\u001b[0m \u001b[0mkey\u001b[0m\u001b[1;33m,\u001b[0m \u001b[0mdefault\u001b[0m\u001b[1;33m)\u001b[0m\u001b[1;33m:\u001b[0m\u001b[1;33m\u001b[0m\u001b[1;33m\u001b[0m\u001b[0m\n",
      "\u001b[1;31mElementNotInteractableException\u001b[0m: Message: element not interactable\n  (Session info: chrome=92.0.4515.131)\n"
     ]
    }
   ],
   "source": [
    "selec_city = driver.find_element_by_css_selector(\"#searchAreaGubun1\")\n",
    "selec_city.click()\n",
    "selec_seoul = driver.find_element_by_css_selector(\"#chkZoneSd_1\")\n",
    "selec_seoul.click()\n",
    "selec_add = driver.find_element_by_css_selector(\"#divAreaSelBox > div > div.area_select_wrap > div.area_select_btn > button\")\n",
    "selec_add.click()\n",
    "selec_search = driver.find_element_by_css_selector(\"#search_btn > button\")\n",
    "selec_search.click()"
   ]
  },
  {
   "cell_type": "code",
   "execution_count": 36,
   "id": "39289d05",
   "metadata": {},
   "outputs": [],
   "source": [
    "selec_down = driver.find_element_by_css_selector(\"#btnExport\")\n",
    "selec_down.click()"
   ]
  },
  {
   "cell_type": "code",
   "execution_count": 69,
   "id": "e0efe654",
   "metadata": {},
   "outputs": [],
   "source": [
    "selec_view = driver.find_element_by_css_selector(\"#leftWrap > div.leftWrap_scroll > div.tab_nav_box > ul > li.inquiry_tab > a\")\n",
    "selec_view.click()"
   ]
  },
  {
   "cell_type": "code",
   "execution_count": 44,
   "id": "dd1fda9c",
   "metadata": {},
   "outputs": [
    {
     "data": {
      "text/plain": [
       "(0, 30)"
      ]
     },
     "execution_count": 44,
     "metadata": {},
     "output_type": "execute_result"
    }
   ],
   "source": [
    "calendar.monthrange(2020,1)\n",
    "calendar.monthrange(2020,2)\n",
    "calendar.monthrange(2020,3)\n",
    "calendar.monthrange(2020,4)\n",
    "calendar.monthrange(2020,5)\n",
    "calendar.monthrange(2020,6)"
   ]
  },
  {
   "cell_type": "code",
   "execution_count": 51,
   "id": "0af99440",
   "metadata": {},
   "outputs": [
    {
     "data": {
      "text/plain": [
       "range(1, 32)"
      ]
     },
     "execution_count": 51,
     "metadata": {},
     "output_type": "execute_result"
    }
   ],
   "source": [
    "range(1,calendar.monthrange(2020,1)[1]+1)"
   ]
  },
  {
   "cell_type": "code",
   "execution_count": 61,
   "id": "a2b03b9f",
   "metadata": {},
   "outputs": [],
   "source": [
    "# 월별 일수 range객체 생성\n",
    "\n",
    "lastDay = []\n",
    "\n",
    "for i in range(1,7):\n",
    "    lastDay.append([i,range(1,calendar.monthrange(2020, i)[1]+1)])"
   ]
  },
  {
   "cell_type": "code",
   "execution_count": 76,
   "id": "13c920a5",
   "metadata": {},
   "outputs": [
    {
     "data": {
      "text/plain": [
       "[[1, range(1, 32)],\n",
       " [2, range(1, 30)],\n",
       " [3, range(1, 32)],\n",
       " [4, range(1, 31)],\n",
       " [5, range(1, 32)],\n",
       " [6, range(1, 31)]]"
      ]
     },
     "execution_count": 76,
     "metadata": {},
     "output_type": "execute_result"
    }
   ],
   "source": [
    "lastDay"
   ]
  },
  {
   "cell_type": "code",
   "execution_count": 65,
   "id": "055ca1b6",
   "metadata": {},
   "outputs": [
    {
     "name": "stdout",
     "output_type": "stream",
     "text": [
      "1\n",
      "range(1, 32)\n",
      "2\n",
      "range(1, 30)\n",
      "3\n",
      "range(1, 32)\n",
      "4\n",
      "range(1, 31)\n",
      "5\n",
      "range(1, 32)\n",
      "6\n",
      "range(1, 31)\n"
     ]
    }
   ],
   "source": [
    "for mon, day in lastDay:\n",
    "    print(mon)\n",
    "    print(day)"
   ]
  },
  {
   "cell_type": "code",
   "execution_count": null,
   "id": "a0b1ae47",
   "metadata": {},
   "outputs": [],
   "source": []
  },
  {
   "cell_type": "code",
   "execution_count": null,
   "id": "55be12b3",
   "metadata": {},
   "outputs": [],
   "source": []
  },
  {
   "cell_type": "code",
   "execution_count": null,
   "id": "df9d0f8d",
   "metadata": {},
   "outputs": [],
   "source": []
  },
  {
   "cell_type": "code",
   "execution_count": null,
   "id": "93bdcfbb",
   "metadata": {},
   "outputs": [],
   "source": [
    "# 달력 버튼 클릭\n",
    "\n",
    "calendar = driver.find_element_by_css_selector(\"#leftWrap > div.leftWrap_scroll > div.inquiry_wrap > div > div.term_box > div.date_wrap > li > img\")\n",
    "calendar.click()\n",
    "\n",
    "# 서울 선택\n",
    "\n",
    "selec_city = driver.find_element_by_css_selector(\"#searchAreaGubun1\")\n",
    "selec_city.click()\n",
    "selec_seoul = driver.find_element_by_css_selector(\"#chkZoneSd_1\")\n",
    "selec_seoul.click()\n",
    "selec_add = driver.find_element_by_css_selector(\"#divAreaSelBox > div > div.area_select_wrap > div.area_select_btn > button\")\n",
    "selec_add.click()\n",
    "\n",
    "# 년, 월, 일 선택\n",
    "\n",
    "selec_year = driver.find_element_by_css_selector(\"#ui-datepicker-div > div > div > select.ui-datepicker-year > option:nth-child(3)\")\n",
    "selec_year.click()\n",
    "\n",
    "# 월 반복문\n",
    "for mon,day in lastDay:\n",
    "    selec_month = driver.find_element_by_css_selector(\"#ui-datepicker-div > div > div > select.ui-datepicker-month > option:nth-child({})\".format(mon))\n",
    "    selec_month.click()\n",
    "    \n",
    "    # 일 반복문\n",
    "    for d in day:\n",
    "        selec_day = driver.find_element_by_css_selector(\"#ui-datepicker-div > table > tbody > tr:nth-child(1) > td:nth-child({}) > a\".format(d))\n",
    "        selec_day.click()\n",
    "        \n",
    "        # 검색 버튼 클릭\n",
    "        selec_search = driver.find_element_by_css_selector(\"#search_btn > button\")\n",
    "        selec_search.click()\n",
    "        \n",
    "        # 다운로드\n",
    "        selec_down = driver.find_element_by_css_selector(\"#btnExport\")\n",
    "        selec_down.click()\n",
    "        \n",
    "        # 되돌아가기\n",
    "        selec_view = driver.find_element_by_css_selector(\"#leftWrap > div.leftWrap_scroll > div.tab_nav_box > ul > li.inquiry_tab > a\")\n",
    "        selec_view.click()\n",
    "        "
   ]
  },
  {
   "cell_type": "code",
   "execution_count": null,
   "id": "6fc83b59",
   "metadata": {},
   "outputs": [],
   "source": [
    "//*[@id=\"ui-datepicker-div\"]/table/tbody/tr[2]/td[6]/a"
   ]
  },
  {
   "cell_type": "code",
   "execution_count": 134,
   "id": "f1960663",
   "metadata": {},
   "outputs": [],
   "source": [
    "selec_day = driver.find_element_by_css_selector(\"a.ui-state-default\")\n",
    "selec_day.click()"
   ]
  },
  {
   "cell_type": "code",
   "execution_count": 163,
   "id": "b1484810",
   "metadata": {},
   "outputs": [],
   "source": [
    "s = driver.find_element_by_link_text(\"29\")\n",
    "s.click()"
   ]
  },
  {
   "cell_type": "code",
   "execution_count": null,
   "id": "e2a47c4d",
   "metadata": {},
   "outputs": [],
   "source": [
    "<a class=\"ui-state-default\" href=\"#\">9</a>"
   ]
  },
  {
   "cell_type": "code",
   "execution_count": 132,
   "id": "1240cb06",
   "metadata": {},
   "outputs": [],
   "source": [
    "selec_day = driver.find_element_by_css_selector(\"#ui-datepicker-div > table > tbody > tr:nth-child(3) > td:nth-child(7) > a\")\n",
    "selec_day.click()"
   ]
  },
  {
   "cell_type": "code",
   "execution_count": 113,
   "id": "207bd06e",
   "metadata": {},
   "outputs": [
    {
     "data": {
      "text/plain": [
       "<selenium.webdriver.remote.webelement.WebElement (session=\"0659e53414c53d6f8f5237588a03c5fd\", element=\"8dac7da2-caef-40b5-9471-f48157770c7b\")>"
      ]
     },
     "execution_count": 113,
     "metadata": {},
     "output_type": "execute_result"
    }
   ],
   "source": [
    "selec_day"
   ]
  },
  {
   "cell_type": "code",
   "execution_count": null,
   "id": "99220105",
   "metadata": {},
   "outputs": [],
   "source": [
    "#ui-datepicker-div > table > tbody > tr:nth-child(1) > td.ui-datepicker-days-cell-over.ui-datepicker-current-day"
   ]
  },
  {
   "cell_type": "code",
   "execution_count": null,
   "id": "51d44877",
   "metadata": {},
   "outputs": [],
   "source": [
    "#ui-datepicker-div > table > tbody > tr:nth-child(1) > td:nth-child(5)"
   ]
  }
 ],
 "metadata": {
  "kernelspec": {
   "display_name": "Python 3",
   "language": "python",
   "name": "python3"
  },
  "language_info": {
   "codemirror_mode": {
    "name": "ipython",
    "version": 3
   },
   "file_extension": ".py",
   "mimetype": "text/x-python",
   "name": "python",
   "nbconvert_exporter": "python",
   "pygments_lexer": "ipython3",
   "version": "3.8.8"
  }
 },
 "nbformat": 4,
 "nbformat_minor": 5
}
