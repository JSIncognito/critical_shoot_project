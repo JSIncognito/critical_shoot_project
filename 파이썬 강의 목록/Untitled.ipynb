{
 "cells": [
  {
   "cell_type": "code",
   "execution_count": 20,
   "id": "d2fa0d9f",
   "metadata": {},
   "outputs": [
    {
     "name": "stdout",
     "output_type": "stream",
     "text": [
      "<tr albumid=\"4057104\" artistid=\"80110450\" multiartist=\"N\" mvid=\"599009\" rowtype=\"track\" trackid=\"6120263\">\n",
      "<input name=\"_isStream\" type=\"hidden\" value=\"6120263\">\n",
      "<input name=\"_isDown\" type=\"hidden\" value=\"6120263\">\n",
      "<td class=\"check\"><input buyminquality=\"T\" disc_id=\"1\" name=\"check\" title=\"고백\" type=\"checkbox\" value=\"6120263\"/></td>\n",
      "<td>\n",
      "<div class=\"ranking\">\n",
      "<strong>2</strong>\n",
      "<p class=\"change down\"><span class=\"arrow\"></span> <em>1</em> <span>계단 하락</span></p>\n",
      "</div>\n",
      "</td>\n",
      "<td>\n",
      "<a class=\"thumbnail\" href=\"https://music.bugs.co.kr/album/4057104?wl_ref=list_tr_07_chart\" onclick=\"\r\n",
      "\">\n",
      "<span class=\"mask\"></span>\n",
      "<img alt=\"첫 번째 '고백' 대표이미지\" onerror=\"bugs.utils.imgError(this);\" src=\"https://image.bugsm.co.kr/album/images/50/40571/4057104.jpg?version=20210720063607.0\"/>\n",
      "</a>\n",
      "</td>\n",
      "<td>\n",
      "<a class=\"trackInfo\" href=\"https://music.bugs.co.kr/track/6120263?wl_ref=list_tr_08_chart\" onclick=\"\r\n",
      "\">곡정보</a>\n",
      "</td>\n",
      "<th scope=\"row\">\n",
      "<p adult_yn=\"N\" class=\"title\">\n",
      "<a adultcheckval=\"1\" aria-label=\"새창\" href=\"javascript:;\" onclick=\"bugs.wiselog.area('list_tr_09_chart');bugs.music.listen('6120263',true);\r\n",
      "\" title=\"고백\">고백</a>\n",
      "</p>\n",
      "</th>\n",
      "<td class=\"left\">\n",
      "<p class=\"artist\">\n",
      "<a href=\"https://music.bugs.co.kr/artist/80110450?wl_ref=list_tr_10_chart\" onclick=\"\r\n",
      "\" title=\"장범준\">장범준</a>\n",
      "</p>\n",
      "</td>\n",
      "<td class=\"left\">\n",
      "<a class=\"album\" href=\"https://music.bugs.co.kr/album/4057104?wl_ref=list_tr_11_chart\" onclick=\"\r\n",
      "\" title=\"첫 번째 '고백'\">첫 번째 '고백'</a>\n",
      "</td>\n",
      "<td>\n",
      "<a adultcheckval=\"1\" aria-label=\"새창\" class=\"btn play\" href=\"javascript:;\" onclick=\"bugs.wiselog.area('list_tr_12_chart');bugs.music.listen('6120263',true);\r\n",
      "\">듣기</a>\n",
      "</td>\n",
      "<td>\n",
      "<a adultcheckval=\"1\" aria-label=\"새창\" class=\"btn addPlaylist\" href=\"javascript:;\" onclick=\"bugs.wiselog.area('list_tr_13_chart');bugs.music.listen('6120263');\r\n",
      "\">재생목록에 추가</a>\n",
      "</td>\n",
      "<td>\n",
      "<a class=\"btn addAlbum\" href=\"javascript:;\" onclick=\"bugs.wiselog.area('list_tr_14_chart');bugs.music.addTrackToMyAlbum(this,'6120263');\r\n",
      "\" track_title=\"고백\">내 앨범에 담기</a>\n",
      "</td>\n",
      "<td>\n",
      "<a adultcheckval=\"1\" aria-label=\"새창\" class=\"btn download\" href=\"javascript:;\" onclick=\"bugs.wiselog.area('list_tr_15_chart');bugs.layermenu.down(this,'6120263','true','false','44.1','false','48', null );\r\n",
      "\">다운로드</a>\n",
      "</td>\n",
      "<td>\n",
      "<a aria-label=\"새창\" class=\"btn viewMV\" href=\"javascript:;\" onclick=\"bugs.wiselog.area('list_tr_16_chart');\r\n",
      "bugs.layermenu.mv(this,6120263, 599009, 'Y', 'Y', 'Y', 'Y', 6120263, 'N','ALL', 'Y');\r\n",
      "\">영상 재생</a>\n",
      "</td>\n",
      "<td>\n",
      "<a artist_disp_nm=\"장범준\" artist_id=\"80110450\" class=\"btnActions\" href=\"javascript:;\" layer_type=\"CHART\" layerpositiontarget=\"td\" onclick=\"bugs.wiselog.area('list_tr_17_chart');\r\n",
      "bugs.layermenu.trackMoreAction(this,'6120263','0','4057104','bugs.music.listenRadioFromSeed(\\'6120263\\',\\'track\\');','N', 'Y', '_chart');\r\n",
      "\" track_title=\"고백\">기타 기능</a>\n",
      "</td>\n",
      "</input></input></tr>\n"
     ]
    }
   ],
   "source": [
    "import urllib.request as req\n",
    "from bs4 import BeautifulSoup\n",
    "\n",
    "url = 'https://music.bugs.co.kr/chart'\n",
    "res = req.urlopen(url)\n",
    "soup = BeautifulSoup(res,'html.parser')\n",
    "alist = soup.select('#CHARTrealtime > table > tbody > tr')\n",
    "print(alist[1])"
   ]
  },
  {
   "cell_type": "code",
   "execution_count": 19,
   "id": "19e99f4b",
   "metadata": {},
   "outputs": [
    {
     "name": "stdout",
     "output_type": "stream",
     "text": [
      "['Permission to Dance', '고백', '좋아좋아', 'Weekend', '바라만 본다', 'Next Level', 'Butter', 'Bad Habits', '신호등', '치맛바람 (Chi Mat Ba Ram)']\n"
     ]
    }
   ],
   "source": [
    "title_list = []\n",
    "for i in alist[:10]:\n",
    "    temp = i.select_one('.title > a').string\n",
    "    title_list.append(temp)\n",
    "print(title_list)"
   ]
  }
 ],
 "metadata": {
  "kernelspec": {
   "display_name": "Python 3",
   "language": "python",
   "name": "python3"
  },
  "language_info": {
   "codemirror_mode": {
    "name": "ipython",
    "version": 3
   },
   "file_extension": ".py",
   "mimetype": "text/x-python",
   "name": "python",
   "nbconvert_exporter": "python",
   "pygments_lexer": "ipython3",
   "version": "3.8.8"
  }
 },
 "nbformat": 4,
 "nbformat_minor": 5
}
